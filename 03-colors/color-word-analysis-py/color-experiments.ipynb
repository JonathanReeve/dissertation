{
 "cells": [
  {
   "cell_type": "code",
   "execution_count": 1,
   "metadata": {},
   "outputs": [
    {
     "output_type": "display_data",
     "data": {
      "text/html": "        <script type=\"text/javascript\">\n        window.PlotlyConfig = {MathJaxConfig: 'local'};\n        if (window.MathJax) {MathJax.Hub.Config({SVG: {font: \"STIX-Web\"}});}\n        if (typeof require !== 'undefined') {\n        require.undef(\"plotly\");\n        requirejs.config({\n            paths: {\n                'plotly': ['https://cdn.plot.ly/plotly-latest.min']\n            }\n        });\n        require(['plotly'], function(Plotly) {\n            window._Plotly = Plotly;\n        });\n        }\n        </script>\n        "
     },
     "metadata": {}
    }
   ],
   "source": [
    "import altair as alt\n",
    "import pandas as pd\n",
    "import cufflinks as cf\n",
    "import findColors\n",
    "from colorMaps import xkcdMap\n",
    "import categorizeColors\n",
    "from IPython.display import display,HTML\n",
    "from glob import glob\n",
    "import plotly.express as px\n",
    "%matplotlib inline"
   ]
  },
  {
   "cell_type": "code",
   "execution_count": 3,
   "metadata": {},
   "outputs": [
    {
     "output_type": "display_data",
     "data": {
      "text/html": "        <script type=\"text/javascript\">\n        window.PlotlyConfig = {MathJaxConfig: 'local'};\n        if (window.MathJax) {MathJax.Hub.Config({SVG: {font: \"STIX-Web\"}});}\n        if (typeof require !== 'undefined') {\n        require.undef(\"plotly\");\n        requirejs.config({\n            paths: {\n                'plotly': ['https://cdn.plot.ly/plotly-latest.min']\n            }\n        });\n        require(['plotly'], function(Plotly) {\n            window._Plotly = Plotly;\n        });\n        }\n        </script>\n        "
     },
     "metadata": {}
    }
   ],
   "source": [
    "cf.set_config_file(offline=True)\n",
    ""
   ]
  },
  {
   "cell_type": "code",
   "execution_count": 2,
   "metadata": {},
   "outputs": [],
   "source": [
    "fileNames = ['../data/text/lighthouse-small.txt', '../data/text/pride-smaller.txt']"
   ]
  },
  {
   "cell_type": "code",
   "execution_count": 3,
   "metadata": {},
   "outputs": [],
   "source": [
    "cenlabFilenames = glob('/home/jon/Dropbox/Research/Corpora/cenlab/texts/*.txt')"
   ]
  },
  {
   "cell_type": "code",
   "execution_count": 4,
   "metadata": {},
   "outputs": [],
   "source": [
    "fileNames = sorted(cenlabFilenames)[-30:]"
   ]
  },
  {
   "cell_type": "code",
   "execution_count": 5,
   "metadata": {},
   "outputs": [],
   "source": [
    "objs = [findColors.ColorText(fn, open(fn, errors='ignore').read(), fn, xkcdMap, 20, 20) for fn in fileNames]"
   ]
  },
  {
   "cell_type": "code",
   "execution_count": 6,
   "metadata": {},
   "outputs": [],
   "source": [
    "parentDists = {obj.filename: obj.parentDist / obj.textLength for obj in objs}"
   ]
  },
  {
   "cell_type": "code",
   "execution_count": 7,
   "metadata": {},
   "outputs": [],
   "source": [
    "df = pd.DataFrame(parentDists)"
   ]
  },
  {
   "cell_type": "code",
   "execution_count": 8,
   "metadata": {},
   "outputs": [],
   "source": [
    "df.columns = df.columns.str.strip('/home/jon/Dropbox/Research/Corpora/cenlab/texts')"
   ]
  },
  {
   "cell_type": "code",
   "execution_count": 9,
   "metadata": {},
   "outputs": [],
   "source": [
    "df.columns = [col[:15] for col in df.columns]"
   ]
  },
  {
   "cell_type": "code",
   "execution_count": 31,
   "metadata": {},
   "outputs": [
    {
     "output_type": "display_data",
     "data": {
      "application/vnd.plotly.v1+json": {
       "config": {
        "linkText": "Export to plot.ly",
        "plotlyServerURL": "https://plot.ly",
        "showLink": true
       },
       "data": [
        {
         "marker": {
          "color": "rgba(255, 153, 51, 0.6)",
          "line": {
           "color": "rgba(255, 153, 51, 1.0)",
           "width": 1
          }
         },
         "name": "black",
         "orientation": "v",
         "text": "",
         "type": "bar",
         "x": [
          "1917 the light ",
          "1917 the major.",
          "1917_Cahan_Abra",
          "1917_Lewis_Sinc",
          "1917_Webb_Mary_",
          "1918 the passin",
          "1918 the white ",
          "1918 the world ",
          "1918 wild youth",
          "1918_Lewis_Sinc",
          "1919 all roads ",
          "1919 the avalan",
          "1920 the white ",
          "1920_DosPassos_",
          "1920_Fitzgerald",
          "1920_Wharton_Ed",
          "1921 no defence",
          "1921 the secret",
          "1921 the sister",
          "1921 to him tha",
          "1922 in the day",
          "1922 sleeping f",
          "1922 the covere",
          "1922 the glimps",
          "1922_Fitzgerald",
          "1922_Joyce_Jame",
          "1925_Woolf_Virg",
          "1927_Woolf_Virg",
          "1928_Woolf_Virg",
          "1930_Mansfield_",
          "name"
         ],
         "y": [
          0.00011951715071112705,
          0.00012085249348907191,
          0.0000997586484312148,
          0.00009167277818521235,
          0.0002678828110707472,
          0.00006890713287263993,
          0.00010143016533116949,
          0.00015820056632247676,
          0.00011795327477608536,
          0.00015363780172757173,
          0.00006809126564153645,
          0.00016729622879080048,
          0.00036637892516933854,
          0.0003540416401247192,
          0.0001835518244085284,
          0.0001115307335805312,
          0.0002738872777150733,
          0.0001781820829293901,
          0.00015249980540389414,
          0.000059904817900447064,
          0.0001805247005684686,
          0.00010607538195691971,
          0.00021050415745710977,
          0.00006183474344978165,
          0.00016296001679316782,
          0.0002030678358291838,
          0.00012088011714382262,
          0.00011626795370985203,
          0.00022209933732809963,
          0.00043248069531735014,
          "black"
         ]
        },
        {
         "marker": {
          "color": "rgba(55, 128, 191, 0.6)",
          "line": {
           "color": "rgba(55, 128, 191, 1.0)",
           "width": 1
          }
         },
         "name": "blue",
         "orientation": "v",
         "text": "",
         "type": "bar",
         "x": [
          "1917 the light ",
          "1917 the major.",
          "1917_Cahan_Abra",
          "1917_Lewis_Sinc",
          "1917_Webb_Mary_",
          "1918 the passin",
          "1918 the white ",
          "1918 the world ",
          "1918 wild youth",
          "1918_Lewis_Sinc",
          "1919 all roads ",
          "1919 the avalan",
          "1920 the white ",
          "1920_DosPassos_",
          "1920_Fitzgerald",
          "1920_Wharton_Ed",
          "1921 no defence",
          "1921 the secret",
          "1921 the sister",
          "1921 to him tha",
          "1922 in the day",
          "1922 sleeping f",
          "1922 the covere",
          "1922 the glimps",
          "1922_Fitzgerald",
          "1922_Joyce_Jame",
          "1925_Woolf_Virg",
          "1927_Woolf_Virg",
          "1928_Woolf_Virg",
          "1930_Mansfield_",
          "name"
         ],
         "y": [
          0.00006080697141443306,
          0.00006797952758760295,
          0.000036470903727540896,
          0.00007500500033335555,
          0.00012849663295263483,
          0.000039375504498651386,
          0.00006406115705126495,
          0.000028440551248984582,
          0.00007470374069152074,
          0.00008725109727738642,
          0.00002918197098922991,
          0.000052830388039200145,
          0.00008042464211034261,
          0.00019445468870486472,
          0.00012317293480045984,
          0.0000686342975880192,
          0.00007509812453477817,
          0.00013411554629093878,
          0.00005401034774721251,
          0.00004659263614479216,
          0.00005342057465801622,
          0.00007870108983900495,
          0.00006736133038627514,
          0.00003624795305676856,
          0.00008976611094538906,
          0.00011040581365470188,
          0.0000769237109097053,
          0.00009301436296788162,
          0.00009745175005212535,
          0.00009765693120069197,
          "blue"
         ]
        },
        {
         "marker": {
          "color": "rgba(50, 171, 96, 0.6)",
          "line": {
           "color": "rgba(50, 171, 96, 1.0)",
           "width": 1
          }
         },
         "name": "brown",
         "orientation": "v",
         "text": "",
         "type": "bar",
         "x": [
          "1917 the light ",
          "1917 the major.",
          "1917_Cahan_Abra",
          "1917_Lewis_Sinc",
          "1917_Webb_Mary_",
          "1918 the passin",
          "1918 the white ",
          "1918 the world ",
          "1918 wild youth",
          "1918_Lewis_Sinc",
          "1919 all roads ",
          "1919 the avalan",
          "1920 the white ",
          "1920_DosPassos_",
          "1920_Fitzgerald",
          "1920_Wharton_Ed",
          "1921 no defence",
          "1921 the secret",
          "1921 the sister",
          "1921 to him tha",
          "1922 in the day",
          "1922 sleeping f",
          "1922 the covere",
          "1922 the glimps",
          "1922_Fitzgerald",
          "1922_Joyce_Jame",
          "1925_Woolf_Virg",
          "1927_Woolf_Virg",
          "1928_Woolf_Virg",
          "1930_Mansfield_",
          "name"
         ],
         "y": [
          0.0000650005556499112,
          0.00021149186360587584,
          0.00005577902923035666,
          0.00007500500033335555,
          0.0019013145858923764,
          0.000059063256747977086,
          0.00006939958680553701,
          0.00011553973944899987,
          0.00008256729234325976,
          0.0000853543342930954,
          0.00012061881342215028,
          0.00007044051738560019,
          0.00025020999767662143,
          0.00029101149964796995,
          0.00006520920077671404,
          0.00007035015502771968,
          0.00009055950311546778,
          0.00005939402764313003,
          0.00011119777477367282,
          0.00003993654526696471,
          0.0000939465278468561,
          0.00010265359544218037,
          0.00010946216187769708,
          0.000027719022925764192,
          0.00005524068365870096,
          0.00010514839395685893,
          0.0000686818847408083,
          0.00007751196913990136,
          0.0000929191105148172,
          0.0002301913378302025,
          "brown"
         ]
        },
        {
         "marker": {
          "color": "rgba(128, 0, 128, 0.6)",
          "line": {
           "color": "rgba(128, 0, 128, 1.0)",
           "width": 1
          }
         },
         "name": "green",
         "orientation": "v",
         "text": "",
         "type": "bar",
         "x": [
          "1917 the light ",
          "1917 the major.",
          "1917_Cahan_Abra",
          "1917_Lewis_Sinc",
          "1917_Webb_Mary_",
          "1918 the passin",
          "1918 the white ",
          "1918 the world ",
          "1918 wild youth",
          "1918_Lewis_Sinc",
          "1919 all roads ",
          "1919 the avalan",
          "1920 the white ",
          "1920_DosPassos_",
          "1920_Fitzgerald",
          "1920_Wharton_Ed",
          "1921 no defence",
          "1921 the secret",
          "1921 the sister",
          "1921 to him tha",
          "1922 in the day",
          "1922 sleeping f",
          "1922 the covere",
          "1922 the glimps",
          "1922_Fitzgerald",
          "1922_Joyce_Jame",
          "1925_Woolf_Virg",
          "1927_Woolf_Virg",
          "1928_Woolf_Virg",
          "1930_Mansfield_",
          "name"
         ],
         "y": [
          0.00016774336941912567,
          0.00006495821525037615,
          0.00006757843925985518,
          0.0005000333355557038,
          0.00036153289949385393,
          0.00007382907093497136,
          0.00003736900827990455,
          0.000058658636951030703,
          0.0000629084132139122,
          0.0001043219641360055,
          0.00006809126564153645,
          0.00004402532336600012,
          0.00025914606902221506,
          0.00032856137057028865,
          0.00007245466752968227,
          0.0000686342975880192,
          0.00006405428269142843,
          0.00004406653663845131,
          0.00014773418648502244,
          0.0000510300300633438,
          0.00012710412591045237,
          0.00006843573029478691,
          0.00022523944847910746,
          0.00006183474344978165,
          0.00007457492293924629,
          0.0001577225909352884,
          0.00020055110344316024,
          0.00021961724589638718,
          0.00023116461640271596,
          0.0004673581707461687,
          "green"
         ]
        },
        {
         "marker": {
          "color": "rgba(219, 64, 82, 0.6)",
          "line": {
           "color": "rgba(219, 64, 82, 1.0)",
           "width": 1
          }
         },
         "name": "grey",
         "orientation": "v",
         "text": "",
         "type": "bar",
         "x": [
          "1917 the light ",
          "1917 the major.",
          "1917_Cahan_Abra",
          "1917_Lewis_Sinc",
          "1917_Webb_Mary_",
          "1918 the passin",
          "1918 the white ",
          "1918 the world ",
          "1918 wild youth",
          "1918_Lewis_Sinc",
          "1919 all roads ",
          "1919 the avalan",
          "1920 the white ",
          "1920_DosPassos_",
          "1920_Fitzgerald",
          "1920_Wharton_Ed",
          "1921 no defence",
          "1921 the secret",
          "1921 the sister",
          "1921 to him tha",
          "1922 in the day",
          "1922 sleeping f",
          "1922 the covere",
          "1922 the glimps",
          "1922_Fitzgerald",
          "1922_Joyce_Jame",
          "1925_Woolf_Virg",
          "1927_Woolf_Virg",
          "1928_Woolf_Virg",
          "1930_Mansfield_",
          "name"
         ],
         "y": [
          0.00009016206106278006,
          0.00006344755908176276,
          0.00003432555644945025,
          0.0001750116674444963,
          0.000198189722011691,
          0.00009351682318429704,
          0.00008007644631408118,
          0.00012976001507349216,
          0.00009043084399499878,
          0.0001081154901045875,
          0.00011672788395691963,
          0.00014088103477120039,
          0.00017872142691187246,
          0.0005538605961042009,
          0.00009419106778858694,
          0.00010809901870113024,
          0.0001877453113369454,
          0.0002605673470795382,
          0.00010166653693592943,
          0.00007987309053392942,
          0.00011973577078520876,
          0.00013002788756009512,
          0.0001768234922639722,
          0.000057570278384279475,
          0.00010495729895153183,
          0.00021423985268710007,
          0.0002967057420802919,
          0.0003384689319109026,
          0.00025836045362656487,
          0.00027204430834478475,
          "grey"
         ]
        },
        {
         "marker": {
          "color": "rgba(0, 128, 128, 0.6)",
          "line": {
           "color": "rgba(0, 128, 128, 1.0)",
           "width": 1
          }
         },
         "name": "orange",
         "orientation": "v",
         "text": "",
         "type": "bar",
         "x": [
          "1917 the light ",
          "1917 the major.",
          "1917_Cahan_Abra",
          "1917_Lewis_Sinc",
          "1917_Webb_Mary_",
          "1918 the passin",
          "1918 the white ",
          "1918 the world ",
          "1918 wild youth",
          "1918_Lewis_Sinc",
          "1919 all roads ",
          "1919 the avalan",
          "1920 the white ",
          "1920_DosPassos_",
          "1920_Fitzgerald",
          "1920_Wharton_Ed",
          "1921 no defence",
          "1921 the secret",
          "1921 the sister",
          "1921 to him tha",
          "1922 in the day",
          "1922 sleeping f",
          "1922 the covere",
          "1922 the glimps",
          "1922_Fitzgerald",
          "1922_Joyce_Jame",
          "1925_Woolf_Virg",
          "1927_Woolf_Virg",
          "1928_Woolf_Virg",
          "1930_Mansfield_",
          "name"
         ],
         "y": [
          0.00006290376353217213,
          0.000009063937011680394,
          0.000009654062751407883,
          0.00010417361157410494,
          0.00002613490839714607,
          0.0000836729470596342,
          0.00004270743803417663,
          0.00007998905038776913,
          0.00001965887912934756,
          0.00006448994146589431,
          0.00001556371786092262,
          0.000013207597009800036,
          0.000017872142691187246,
          0.00011264961276695611,
          0.000031397022596195644,
          0.00006348672526891775,
          0.00003754906226738908,
          0.00003640279113611195,
          0.00003018225315285405,
          0.00000887478783710327,
          0.000005526266343932712,
          0.00003421786514739346,
          0.000050520997789706345,
          0.000053305813318777295,
          0.00012843458950647973,
          0.00009003331232556046,
          0.0000686818847408083,
          0.000054258378397930944,
          0.00007025591282827642,
          0.00006975495085763712,
          "orange"
         ]
        },
        {
         "marker": {
          "color": "rgba(255, 255, 51, 0.6)",
          "line": {
           "color": "rgba(255, 255, 51, 1.0)",
           "width": 1
          }
         },
         "name": "red",
         "orientation": "v",
         "text": "",
         "type": "bar",
         "x": [
          "1917 the light ",
          "1917 the major.",
          "1917_Cahan_Abra",
          "1917_Lewis_Sinc",
          "1917_Webb_Mary_",
          "1918 the passin",
          "1918 the white ",
          "1918 the world ",
          "1918 wild youth",
          "1918_Lewis_Sinc",
          "1919 all roads ",
          "1919 the avalan",
          "1920 the white ",
          "1920_DosPassos_",
          "1920_Fitzgerald",
          "1920_Wharton_Ed",
          "1921 no defence",
          "1921 the secret",
          "1921 the sister",
          "1921 to him tha",
          "1922 in the day",
          "1922 sleeping f",
          "1922 the covere",
          "1922 the glimps",
          "1922_Fitzgerald",
          "1922_Joyce_Jame",
          "1925_Woolf_Virg",
          "1927_Woolf_Virg",
          "1928_Woolf_Virg",
          "1930_Mansfield_",
          "name"
         ],
         "y": [
          0.0002243567565980806,
          0.00011027790030877812,
          0.00007401448109412711,
          0.0002125141676111741,
          0.0002918398104347978,
          0.00013781426574527986,
          0.00011210702483971365,
          0.00012442741171430756,
          0.00008256729234325976,
          0.00014605074979040768,
          0.00011867334868953496,
          0.0002861646018790008,
          0.00016084928422068523,
          0.00048814832199014314,
          0.00011109715687884613,
          0.0001527113121333427,
          0.00011706472353950713,
          0.00023566017419693528,
          0.00015249980540389414,
          0.00011980963580089413,
          0.00016578799031798138,
          0.00010949716847165905,
          0.00022734449005367856,
          0.0002452067412663755,
          0.00011738645277473954,
          0.00022081162730940376,
          0.0002142874803913219,
          0.00024287083663835756,
          0.0002991542094623383,
          0.00037667673463124044,
          "red"
         ]
        },
        {
         "marker": {
          "color": "rgba(128, 128, 0, 0.6)",
          "line": {
           "color": "rgba(128, 128, 0, 1.0)",
           "width": 1
          }
         },
         "name": "violet",
         "orientation": "v",
         "text": "",
         "type": "bar",
         "x": [
          "1917 the light ",
          "1917 the major.",
          "1917_Cahan_Abra",
          "1917_Lewis_Sinc",
          "1917_Webb_Mary_",
          "1918 the passin",
          "1918 the white ",
          "1918 the world ",
          "1918 wild youth",
          "1918_Lewis_Sinc",
          "1919 all roads ",
          "1919 the avalan",
          "1920 the white ",
          "1920_DosPassos_",
          "1920_Fitzgerald",
          "1920_Wharton_Ed",
          "1921 no defence",
          "1921 the secret",
          "1921 the sister",
          "1921 to him tha",
          "1922 in the day",
          "1922 sleeping f",
          "1922 the covere",
          "1922 the glimps",
          "1922_Fitzgerald",
          "1922_Joyce_Jame",
          "1925_Woolf_Virg",
          "1927_Woolf_Virg",
          "1928_Woolf_Virg",
          "1930_Mansfield_",
          "name"
         ],
         "y": [
          0.000012580752706434426,
          0.000007553280843066995,
          0.00002145347278090641,
          0.00001666777785185679,
          0.00009800590648929775,
          "",
          0.000026692148771360392,
          0.00010665206718369218,
          0.000023590654955217075,
          0.000026554681780074125,
          0.000019454647326153272,
          0.000035220258692800097,
          0.00006255249941915536,
          0.0001770208200623596,
          0.000031397022596195644,
          0.00005833915294981632,
          0.00007730689290344811,
          0.000024907172882602914,
          0.000042890570269845226,
          0.0000022186969592758173,
          0.00003131550928228537,
          0.00006501394378004756,
          0.000010525207872855488,
          0.00010447939410480349,
          0.000026239324737882957,
          0.00006177468144965462,
          0.000032967304675587986,
          0.000054258378397930944,
          0.00011784862797001205,
          0.00012555891154374682,
          "violet"
         ]
        },
        {
         "marker": {
          "color": "rgba(251, 128, 114, 0.6)",
          "line": {
           "color": "rgba(251, 128, 114, 1.0)",
           "width": 1
          }
         },
         "name": "white",
         "orientation": "v",
         "text": "",
         "type": "bar",
         "x": [
          "1917 the light ",
          "1917 the major.",
          "1917_Cahan_Abra",
          "1917_Lewis_Sinc",
          "1917_Webb_Mary_",
          "1918 the passin",
          "1918 the white ",
          "1918 the world ",
          "1918 wild youth",
          "1918_Lewis_Sinc",
          "1919 all roads ",
          "1919 the avalan",
          "1920 the white ",
          "1920_DosPassos_",
          "1920_Fitzgerald",
          "1920_Wharton_Ed",
          "1921 no defence",
          "1921 the secret",
          "1921 the sister",
          "1921 to him tha",
          "1922 in the day",
          "1922 sleeping f",
          "1922 the covere",
          "1922 the glimps",
          "1922_Fitzgerald",
          "1922_Joyce_Jame",
          "1925_Woolf_Virg",
          "1927_Woolf_Virg",
          "1928_Woolf_Virg",
          "1930_Mansfield_",
          "name"
         ],
         "y": [
          0.00016145299306590848,
          0.0001344483990065925,
          0.000083668543845535,
          0.0001666777785185679,
          0.0003484654452952809,
          0.00014273620380761127,
          0.00011210702483971365,
          0.00015997810077553827,
          0.00011795327477608536,
          0.00021054069125630198,
          0.0001225642781547656,
          0.00009245317906860026,
          0.00040212321055171305,
          0.000442552050155899,
          0.0001666457353182692,
          0.00019217603324645375,
          0.00016124009091290605,
          0.00042342193900424957,
          0.00016203104324163752,
          0.00011315354492306668,
          0.00024683989669566114,
          0.00009238823589796232,
          0.0002904957372908115,
          0.00008742153384279476,
          0.00014914984587849258,
          0.00016495154301982245,
          0.0003324203221455122,
          0.0001808612613264365,
          0.00035581220367869023,
          0.000606868072461443,
          "white"
         ]
        },
        {
         "marker": {
          "color": "rgba(128, 177, 211, 0.6)",
          "line": {
           "color": "rgba(128, 177, 211, 1.0)",
           "width": 1
          }
         },
         "name": "yellow",
         "orientation": "v",
         "text": "",
         "type": "bar",
         "x": [
          "1917 the light ",
          "1917 the major.",
          "1917_Cahan_Abra",
          "1917_Lewis_Sinc",
          "1917_Webb_Mary_",
          "1918 the passin",
          "1918 the white ",
          "1918 the world ",
          "1918 wild youth",
          "1918_Lewis_Sinc",
          "1919 all roads ",
          "1919 the avalan",
          "1920 the white ",
          "1920_DosPassos_",
          "1920_Fitzgerald",
          "1920_Wharton_Ed",
          "1921 no defence",
          "1921 the secret",
          "1921 the sister",
          "1921 to him tha",
          "1922 in the day",
          "1922 sleeping f",
          "1922 the covere",
          "1922 the glimps",
          "1922_Fitzgerald",
          "1922_Joyce_Jame",
          "1925_Woolf_Virg",
          "1927_Woolf_Virg",
          "1928_Woolf_Virg",
          "1930_Mansfield_",
          "name"
         ],
         "y": [
          0.00015725940883043032,
          0.00005740493440730916,
          0.00006436041834271923,
          0.00020418027868524568,
          0.00017858854071383146,
          0.0002510188411789026,
          0.000016015289262816237,
          0.00006043617140409224,
          0.00008649906816912926,
          0.0003622817299995827,
          0.00004085475938492187,
          0.00007484304972220021,
          0.00010723285614712348,
          0.0002990579005598954,
          0.00010626684571020066,
          0.00012354173565843455,
          0.0000861419663781279,
          0.00015327491004678718,
          0.00006195304594533199,
          0.000013312181755654903,
          0.00009763070540947791,
          0.00011976252801587708,
          0.0002820755709925271,
          0.00004904134825327511,
          0.00011324340150033696,
          0.0002201544498471734,
          0.0001263746679230873,
          0.00018861245824042662,
          0.0002062350989475211,
          0.00029994628868783963,
          "yellow"
         ]
        },
        {
         "marker": {
          "color": "rgba(128, 177, 211, 0.6)",
          "line": {
           "color": "rgba(128, 177, 211, 0.8999999999999999)",
           "width": 1
          }
         },
         "name": "name",
         "orientation": "v",
         "text": "",
         "type": "bar",
         "x": [
          "1917 the light ",
          "1917 the major.",
          "1917_Cahan_Abra",
          "1917_Lewis_Sinc",
          "1917_Webb_Mary_",
          "1918 the passin",
          "1918 the white ",
          "1918 the world ",
          "1918 wild youth",
          "1918_Lewis_Sinc",
          "1919 all roads ",
          "1919 the avalan",
          "1920 the white ",
          "1920_DosPassos_",
          "1920_Fitzgerald",
          "1920_Wharton_Ed",
          "1921 no defence",
          "1921 the secret",
          "1921 the sister",
          "1921 to him tha",
          "1922 in the day",
          "1922 sleeping f",
          "1922 the covere",
          "1922 the glimps",
          "1922_Fitzgerald",
          "1922_Joyce_Jame",
          "1925_Woolf_Virg",
          "1927_Woolf_Virg",
          "1928_Woolf_Virg",
          "1930_Mansfield_",
          "name"
         ],
         "y": [
          "1917 the light ",
          "1917 the major.",
          "1917_Cahan_Abra",
          "1917_Lewis_Sinc",
          "1917_Webb_Mary_",
          "1918 the passin",
          "1918 the white ",
          "1918 the world ",
          "1918 wild youth",
          "1918_Lewis_Sinc",
          "1919 all roads ",
          "1919 the avalan",
          "1920 the white ",
          "1920_DosPassos_",
          "1920_Fitzgerald",
          "1920_Wharton_Ed",
          "1921 no defence",
          "1921 the secret",
          "1921 the sister",
          "1921 to him tha",
          "1922 in the day",
          "1922 sleeping f",
          "1922 the covere",
          "1922 the glimps",
          "1922_Fitzgerald",
          "1922_Joyce_Jame",
          "1925_Woolf_Virg",
          "1927_Woolf_Virg",
          "1928_Woolf_Virg",
          "1930_Mansfield_",
          "name"
         ]
        }
       ],
       "layout": {
        "barmode": "stack",
        "legend": {
         "bgcolor": "#F5F6F9",
         "font": {
          "color": "#4D5663"
         },
         "traceorder": "normal"
        },
        "paper_bgcolor": "#F5F6F9",
        "plot_bgcolor": "#F5F6F9",
        "template": {
         "data": {
          "bar": [
           {
            "error_x": {
             "color": "#2a3f5f"
            },
            "error_y": {
             "color": "#2a3f5f"
            },
            "marker": {
             "line": {
              "color": "#E5ECF6",
              "width": 0.5
             }
            },
            "type": "bar"
           }
          ],
          "barpolar": [
           {
            "marker": {
             "line": {
              "color": "#E5ECF6",
              "width": 0.5
             }
            },
            "type": "barpolar"
           }
          ],
          "carpet": [
           {
            "aaxis": {
             "endlinecolor": "#2a3f5f",
             "gridcolor": "white",
             "linecolor": "white",
             "minorgridcolor": "white",
             "startlinecolor": "#2a3f5f"
            },
            "baxis": {
             "endlinecolor": "#2a3f5f",
             "gridcolor": "white",
             "linecolor": "white",
             "minorgridcolor": "white",
             "startlinecolor": "#2a3f5f"
            },
            "type": "carpet"
           }
          ],
          "choropleth": [
           {
            "colorbar": {
             "outlinewidth": 0,
             "ticks": ""
            },
            "type": "choropleth"
           }
          ],
          "contour": [
           {
            "colorbar": {
             "outlinewidth": 0,
             "ticks": ""
            },
            "colorscale": [
             [
              0,
              "#0d0887"
             ],
             [
              0.1111111111111111,
              "#46039f"
             ],
             [
              0.2222222222222222,
              "#7201a8"
             ],
             [
              0.3333333333333333,
              "#9c179e"
             ],
             [
              0.4444444444444444,
              "#bd3786"
             ],
             [
              0.5555555555555556,
              "#d8576b"
             ],
             [
              0.6666666666666666,
              "#ed7953"
             ],
             [
              0.7777777777777778,
              "#fb9f3a"
             ],
             [
              0.8888888888888888,
              "#fdca26"
             ],
             [
              1,
              "#f0f921"
             ]
            ],
            "type": "contour"
           }
          ],
          "contourcarpet": [
           {
            "colorbar": {
             "outlinewidth": 0,
             "ticks": ""
            },
            "type": "contourcarpet"
           }
          ],
          "heatmap": [
           {
            "colorbar": {
             "outlinewidth": 0,
             "ticks": ""
            },
            "colorscale": [
             [
              0,
              "#0d0887"
             ],
             [
              0.1111111111111111,
              "#46039f"
             ],
             [
              0.2222222222222222,
              "#7201a8"
             ],
             [
              0.3333333333333333,
              "#9c179e"
             ],
             [
              0.4444444444444444,
              "#bd3786"
             ],
             [
              0.5555555555555556,
              "#d8576b"
             ],
             [
              0.6666666666666666,
              "#ed7953"
             ],
             [
              0.7777777777777778,
              "#fb9f3a"
             ],
             [
              0.8888888888888888,
              "#fdca26"
             ],
             [
              1,
              "#f0f921"
             ]
            ],
            "type": "heatmap"
           }
          ],
          "heatmapgl": [
           {
            "colorbar": {
             "outlinewidth": 0,
             "ticks": ""
            },
            "colorscale": [
             [
              0,
              "#0d0887"
             ],
             [
              0.1111111111111111,
              "#46039f"
             ],
             [
              0.2222222222222222,
              "#7201a8"
             ],
             [
              0.3333333333333333,
              "#9c179e"
             ],
             [
              0.4444444444444444,
              "#bd3786"
             ],
             [
              0.5555555555555556,
              "#d8576b"
             ],
             [
              0.6666666666666666,
              "#ed7953"
             ],
             [
              0.7777777777777778,
              "#fb9f3a"
             ],
             [
              0.8888888888888888,
              "#fdca26"
             ],
             [
              1,
              "#f0f921"
             ]
            ],
            "type": "heatmapgl"
           }
          ],
          "histogram": [
           {
            "marker": {
             "colorbar": {
              "outlinewidth": 0,
              "ticks": ""
             }
            },
            "type": "histogram"
           }
          ],
          "histogram2d": [
           {
            "colorbar": {
             "outlinewidth": 0,
             "ticks": ""
            },
            "colorscale": [
             [
              0,
              "#0d0887"
             ],
             [
              0.1111111111111111,
              "#46039f"
             ],
             [
              0.2222222222222222,
              "#7201a8"
             ],
             [
              0.3333333333333333,
              "#9c179e"
             ],
             [
              0.4444444444444444,
              "#bd3786"
             ],
             [
              0.5555555555555556,
              "#d8576b"
             ],
             [
              0.6666666666666666,
              "#ed7953"
             ],
             [
              0.7777777777777778,
              "#fb9f3a"
             ],
             [
              0.8888888888888888,
              "#fdca26"
             ],
             [
              1,
              "#f0f921"
             ]
            ],
            "type": "histogram2d"
           }
          ],
          "histogram2dcontour": [
           {
            "colorbar": {
             "outlinewidth": 0,
             "ticks": ""
            },
            "colorscale": [
             [
              0,
              "#0d0887"
             ],
             [
              0.1111111111111111,
              "#46039f"
             ],
             [
              0.2222222222222222,
              "#7201a8"
             ],
             [
              0.3333333333333333,
              "#9c179e"
             ],
             [
              0.4444444444444444,
              "#bd3786"
             ],
             [
              0.5555555555555556,
              "#d8576b"
             ],
             [
              0.6666666666666666,
              "#ed7953"
             ],
             [
              0.7777777777777778,
              "#fb9f3a"
             ],
             [
              0.8888888888888888,
              "#fdca26"
             ],
             [
              1,
              "#f0f921"
             ]
            ],
            "type": "histogram2dcontour"
           }
          ],
          "mesh3d": [
           {
            "colorbar": {
             "outlinewidth": 0,
             "ticks": ""
            },
            "type": "mesh3d"
           }
          ],
          "parcoords": [
           {
            "line": {
             "colorbar": {
              "outlinewidth": 0,
              "ticks": ""
             }
            },
            "type": "parcoords"
           }
          ],
          "pie": [
           {
            "automargin": true,
            "type": "pie"
           }
          ],
          "scatter": [
           {
            "marker": {
             "colorbar": {
              "outlinewidth": 0,
              "ticks": ""
             }
            },
            "type": "scatter"
           }
          ],
          "scatter3d": [
           {
            "line": {
             "colorbar": {
              "outlinewidth": 0,
              "ticks": ""
             }
            },
            "marker": {
             "colorbar": {
              "outlinewidth": 0,
              "ticks": ""
             }
            },
            "type": "scatter3d"
           }
          ],
          "scattercarpet": [
           {
            "marker": {
             "colorbar": {
              "outlinewidth": 0,
              "ticks": ""
             }
            },
            "type": "scattercarpet"
           }
          ],
          "scattergeo": [
           {
            "marker": {
             "colorbar": {
              "outlinewidth": 0,
              "ticks": ""
             }
            },
            "type": "scattergeo"
           }
          ],
          "scattergl": [
           {
            "marker": {
             "colorbar": {
              "outlinewidth": 0,
              "ticks": ""
             }
            },
            "type": "scattergl"
           }
          ],
          "scattermapbox": [
           {
            "marker": {
             "colorbar": {
              "outlinewidth": 0,
              "ticks": ""
             }
            },
            "type": "scattermapbox"
           }
          ],
          "scatterpolar": [
           {
            "marker": {
             "colorbar": {
              "outlinewidth": 0,
              "ticks": ""
             }
            },
            "type": "scatterpolar"
           }
          ],
          "scatterpolargl": [
           {
            "marker": {
             "colorbar": {
              "outlinewidth": 0,
              "ticks": ""
             }
            },
            "type": "scatterpolargl"
           }
          ],
          "scatterternary": [
           {
            "marker": {
             "colorbar": {
              "outlinewidth": 0,
              "ticks": ""
             }
            },
            "type": "scatterternary"
           }
          ],
          "surface": [
           {
            "colorbar": {
             "outlinewidth": 0,
             "ticks": ""
            },
            "colorscale": [
             [
              0,
              "#0d0887"
             ],
             [
              0.1111111111111111,
              "#46039f"
             ],
             [
              0.2222222222222222,
              "#7201a8"
             ],
             [
              0.3333333333333333,
              "#9c179e"
             ],
             [
              0.4444444444444444,
              "#bd3786"
             ],
             [
              0.5555555555555556,
              "#d8576b"
             ],
             [
              0.6666666666666666,
              "#ed7953"
             ],
             [
              0.7777777777777778,
              "#fb9f3a"
             ],
             [
              0.8888888888888888,
              "#fdca26"
             ],
             [
              1,
              "#f0f921"
             ]
            ],
            "type": "surface"
           }
          ],
          "table": [
           {
            "cells": {
             "fill": {
              "color": "#EBF0F8"
             },
             "line": {
              "color": "white"
             }
            },
            "header": {
             "fill": {
              "color": "#C8D4E3"
             },
             "line": {
              "color": "white"
             }
            },
            "type": "table"
           }
          ]
         },
         "layout": {
          "annotationdefaults": {
           "arrowcolor": "#2a3f5f",
           "arrowhead": 0,
           "arrowwidth": 1
          },
          "coloraxis": {
           "colorbar": {
            "outlinewidth": 0,
            "ticks": ""
           }
          },
          "colorscale": {
           "diverging": [
            [
             0,
             "#8e0152"
            ],
            [
             0.1,
             "#c51b7d"
            ],
            [
             0.2,
             "#de77ae"
            ],
            [
             0.3,
             "#f1b6da"
            ],
            [
             0.4,
             "#fde0ef"
            ],
            [
             0.5,
             "#f7f7f7"
            ],
            [
             0.6,
             "#e6f5d0"
            ],
            [
             0.7,
             "#b8e186"
            ],
            [
             0.8,
             "#7fbc41"
            ],
            [
             0.9,
             "#4d9221"
            ],
            [
             1,
             "#276419"
            ]
           ],
           "sequential": [
            [
             0,
             "#0d0887"
            ],
            [
             0.1111111111111111,
             "#46039f"
            ],
            [
             0.2222222222222222,
             "#7201a8"
            ],
            [
             0.3333333333333333,
             "#9c179e"
            ],
            [
             0.4444444444444444,
             "#bd3786"
            ],
            [
             0.5555555555555556,
             "#d8576b"
            ],
            [
             0.6666666666666666,
             "#ed7953"
            ],
            [
             0.7777777777777778,
             "#fb9f3a"
            ],
            [
             0.8888888888888888,
             "#fdca26"
            ],
            [
             1,
             "#f0f921"
            ]
           ],
           "sequentialminus": [
            [
             0,
             "#0d0887"
            ],
            [
             0.1111111111111111,
             "#46039f"
            ],
            [
             0.2222222222222222,
             "#7201a8"
            ],
            [
             0.3333333333333333,
             "#9c179e"
            ],
            [
             0.4444444444444444,
             "#bd3786"
            ],
            [
             0.5555555555555556,
             "#d8576b"
            ],
            [
             0.6666666666666666,
             "#ed7953"
            ],
            [
             0.7777777777777778,
             "#fb9f3a"
            ],
            [
             0.8888888888888888,
             "#fdca26"
            ],
            [
             1,
             "#f0f921"
            ]
           ]
          },
          "colorway": [
           "#636efa",
           "#EF553B",
           "#00cc96",
           "#ab63fa",
           "#FFA15A",
           "#19d3f3",
           "#FF6692",
           "#B6E880",
           "#FF97FF",
           "#FECB52"
          ],
          "font": {
           "color": "#2a3f5f"
          },
          "geo": {
           "bgcolor": "white",
           "lakecolor": "white",
           "landcolor": "#E5ECF6",
           "showlakes": true,
           "showland": true,
           "subunitcolor": "white"
          },
          "hoverlabel": {
           "align": "left"
          },
          "hovermode": "closest",
          "mapbox": {
           "style": "light"
          },
          "paper_bgcolor": "white",
          "plot_bgcolor": "#E5ECF6",
          "polar": {
           "angularaxis": {
            "gridcolor": "white",
            "linecolor": "white",
            "ticks": ""
           },
           "bgcolor": "#E5ECF6",
           "radialaxis": {
            "gridcolor": "white",
            "linecolor": "white",
            "ticks": ""
           }
          },
          "scene": {
           "xaxis": {
            "backgroundcolor": "#E5ECF6",
            "gridcolor": "white",
            "gridwidth": 2,
            "linecolor": "white",
            "showbackground": true,
            "ticks": "",
            "zerolinecolor": "white"
           },
           "yaxis": {
            "backgroundcolor": "#E5ECF6",
            "gridcolor": "white",
            "gridwidth": 2,
            "linecolor": "white",
            "showbackground": true,
            "ticks": "",
            "zerolinecolor": "white"
           },
           "zaxis": {
            "backgroundcolor": "#E5ECF6",
            "gridcolor": "white",
            "gridwidth": 2,
            "linecolor": "white",
            "showbackground": true,
            "ticks": "",
            "zerolinecolor": "white"
           }
          },
          "shapedefaults": {
           "line": {
            "color": "#2a3f5f"
           }
          },
          "ternary": {
           "aaxis": {
            "gridcolor": "white",
            "linecolor": "white",
            "ticks": ""
           },
           "baxis": {
            "gridcolor": "white",
            "linecolor": "white",
            "ticks": ""
           },
           "bgcolor": "#E5ECF6",
           "caxis": {
            "gridcolor": "white",
            "linecolor": "white",
            "ticks": ""
           }
          },
          "title": {
           "x": 0.05
          },
          "xaxis": {
           "automargin": true,
           "gridcolor": "white",
           "linecolor": "white",
           "ticks": "",
           "title": {
            "standoff": 15
           },
           "zerolinecolor": "white",
           "zerolinewidth": 2
          },
          "yaxis": {
           "automargin": true,
           "gridcolor": "white",
           "linecolor": "white",
           "ticks": "",
           "title": {
            "standoff": 15
           },
           "zerolinecolor": "white",
           "zerolinewidth": 2
          }
         }
        },
        "title": {
         "font": {
          "color": "#4D5663"
         }
        },
        "xaxis": {
         "gridcolor": "#E1E5ED",
         "showgrid": true,
         "tickfont": {
          "color": "#4D5663"
         },
         "title": {
          "font": {
           "color": "#4D5663"
          },
          "text": ""
         },
         "zerolinecolor": "#E1E5ED"
        },
        "yaxis": {
         "gridcolor": "#E1E5ED",
         "showgrid": true,
         "tickfont": {
          "color": "#4D5663"
         },
         "title": {
          "font": {
           "color": "#4D5663"
          },
          "text": ""
         },
         "zerolinecolor": "#E1E5ED"
        }
       }
      },
      "text/html": "<div>\n        \n        \n            <div id=\"03ffc97d-6380-4900-8072-c0d216267620\" class=\"plotly-graph-div\" style=\"height:525px; width:100%;\"></div>\n            <script type=\"text/javascript\">\n                require([\"plotly\"], function(Plotly) {\n                    window.PLOTLYENV=window.PLOTLYENV || {};\n                    window.PLOTLYENV.BASE_URL='https://plot.ly';\n                    \n                if (document.getElementById(\"03ffc97d-6380-4900-8072-c0d216267620\")) {\n                    Plotly.newPlot(\n                        '03ffc97d-6380-4900-8072-c0d216267620',\n                        [{\"marker\": {\"color\": \"rgba(255, 153, 51, 0.6)\", \"line\": {\"color\": \"rgba(255, 153, 51, 1.0)\", \"width\": 1}}, \"name\": \"black\", \"orientation\": \"v\", \"text\": \"\", \"type\": \"bar\", \"x\": [\"1917 the light \", \"1917 the major.\", \"1917_Cahan_Abra\", \"1917_Lewis_Sinc\", \"1917_Webb_Mary_\", \"1918 the passin\", \"1918 the white \", \"1918 the world \", \"1918 wild youth\", \"1918_Lewis_Sinc\", \"1919 all roads \", \"1919 the avalan\", \"1920 the white \", \"1920_DosPassos_\", \"1920_Fitzgerald\", \"1920_Wharton_Ed\", \"1921 no defence\", \"1921 the secret\", \"1921 the sister\", \"1921 to him tha\", \"1922 in the day\", \"1922 sleeping f\", \"1922 the covere\", \"1922 the glimps\", \"1922_Fitzgerald\", \"1922_Joyce_Jame\", \"1925_Woolf_Virg\", \"1927_Woolf_Virg\", \"1928_Woolf_Virg\", \"1930_Mansfield_\", \"name\"], \"y\": [0.00011951715071112705, 0.00012085249348907191, 9.97586484312148e-05, 9.167277818521235e-05, 0.0002678828110707472, 6.890713287263993e-05, 0.00010143016533116949, 0.00015820056632247676, 0.00011795327477608536, 0.00015363780172757173, 6.809126564153645e-05, 0.00016729622879080048, 0.00036637892516933854, 0.0003540416401247192, 0.0001835518244085284, 0.0001115307335805312, 0.0002738872777150733, 0.0001781820829293901, 0.00015249980540389414, 5.9904817900447064e-05, 0.0001805247005684686, 0.00010607538195691971, 0.00021050415745710977, 6.183474344978165e-05, 0.00016296001679316782, 0.0002030678358291838, 0.00012088011714382262, 0.00011626795370985203, 0.00022209933732809963, 0.00043248069531735014, \"black\"]}, {\"marker\": {\"color\": \"rgba(55, 128, 191, 0.6)\", \"line\": {\"color\": \"rgba(55, 128, 191, 1.0)\", \"width\": 1}}, \"name\": \"blue\", \"orientation\": \"v\", \"text\": \"\", \"type\": \"bar\", \"x\": [\"1917 the light \", \"1917 the major.\", \"1917_Cahan_Abra\", \"1917_Lewis_Sinc\", \"1917_Webb_Mary_\", \"1918 the passin\", \"1918 the white \", \"1918 the world \", \"1918 wild youth\", \"1918_Lewis_Sinc\", \"1919 all roads \", \"1919 the avalan\", \"1920 the white \", \"1920_DosPassos_\", \"1920_Fitzgerald\", \"1920_Wharton_Ed\", \"1921 no defence\", \"1921 the secret\", \"1921 the sister\", \"1921 to him tha\", \"1922 in the day\", \"1922 sleeping f\", \"1922 the covere\", \"1922 the glimps\", \"1922_Fitzgerald\", \"1922_Joyce_Jame\", \"1925_Woolf_Virg\", \"1927_Woolf_Virg\", \"1928_Woolf_Virg\", \"1930_Mansfield_\", \"name\"], \"y\": [6.080697141443306e-05, 6.797952758760295e-05, 3.6470903727540896e-05, 7.500500033335555e-05, 0.00012849663295263483, 3.9375504498651386e-05, 6.406115705126495e-05, 2.8440551248984582e-05, 7.470374069152074e-05, 8.725109727738642e-05, 2.918197098922991e-05, 5.2830388039200145e-05, 8.042464211034261e-05, 0.00019445468870486472, 0.00012317293480045984, 6.86342975880192e-05, 7.509812453477817e-05, 0.00013411554629093878, 5.401034774721251e-05, 4.659263614479216e-05, 5.342057465801622e-05, 7.870108983900495e-05, 6.736133038627514e-05, 3.624795305676856e-05, 8.976611094538906e-05, 0.00011040581365470188, 7.69237109097053e-05, 9.301436296788162e-05, 9.745175005212535e-05, 9.765693120069197e-05, \"blue\"]}, {\"marker\": {\"color\": \"rgba(50, 171, 96, 0.6)\", \"line\": {\"color\": \"rgba(50, 171, 96, 1.0)\", \"width\": 1}}, \"name\": \"brown\", \"orientation\": \"v\", \"text\": \"\", \"type\": \"bar\", \"x\": [\"1917 the light \", \"1917 the major.\", \"1917_Cahan_Abra\", \"1917_Lewis_Sinc\", \"1917_Webb_Mary_\", \"1918 the passin\", \"1918 the white \", \"1918 the world \", \"1918 wild youth\", \"1918_Lewis_Sinc\", \"1919 all roads \", \"1919 the avalan\", \"1920 the white \", \"1920_DosPassos_\", \"1920_Fitzgerald\", \"1920_Wharton_Ed\", \"1921 no defence\", \"1921 the secret\", \"1921 the sister\", \"1921 to him tha\", \"1922 in the day\", \"1922 sleeping f\", \"1922 the covere\", \"1922 the glimps\", \"1922_Fitzgerald\", \"1922_Joyce_Jame\", \"1925_Woolf_Virg\", \"1927_Woolf_Virg\", \"1928_Woolf_Virg\", \"1930_Mansfield_\", \"name\"], \"y\": [6.50005556499112e-05, 0.00021149186360587584, 5.577902923035666e-05, 7.500500033335555e-05, 0.0019013145858923764, 5.9063256747977086e-05, 6.939958680553701e-05, 0.00011553973944899987, 8.256729234325976e-05, 8.53543342930954e-05, 0.00012061881342215028, 7.044051738560019e-05, 0.00025020999767662143, 0.00029101149964796995, 6.520920077671404e-05, 7.035015502771968e-05, 9.055950311546778e-05, 5.939402764313003e-05, 0.00011119777477367282, 3.993654526696471e-05, 9.39465278468561e-05, 0.00010265359544218037, 0.00010946216187769708, 2.7719022925764192e-05, 5.524068365870096e-05, 0.00010514839395685893, 6.86818847408083e-05, 7.751196913990136e-05, 9.29191105148172e-05, 0.0002301913378302025, \"brown\"]}, {\"marker\": {\"color\": \"rgba(128, 0, 128, 0.6)\", \"line\": {\"color\": \"rgba(128, 0, 128, 1.0)\", \"width\": 1}}, \"name\": \"green\", \"orientation\": \"v\", \"text\": \"\", \"type\": \"bar\", \"x\": [\"1917 the light \", \"1917 the major.\", \"1917_Cahan_Abra\", \"1917_Lewis_Sinc\", \"1917_Webb_Mary_\", \"1918 the passin\", \"1918 the white \", \"1918 the world \", \"1918 wild youth\", \"1918_Lewis_Sinc\", \"1919 all roads \", \"1919 the avalan\", \"1920 the white \", \"1920_DosPassos_\", \"1920_Fitzgerald\", \"1920_Wharton_Ed\", \"1921 no defence\", \"1921 the secret\", \"1921 the sister\", \"1921 to him tha\", \"1922 in the day\", \"1922 sleeping f\", \"1922 the covere\", \"1922 the glimps\", \"1922_Fitzgerald\", \"1922_Joyce_Jame\", \"1925_Woolf_Virg\", \"1927_Woolf_Virg\", \"1928_Woolf_Virg\", \"1930_Mansfield_\", \"name\"], \"y\": [0.00016774336941912567, 6.495821525037615e-05, 6.757843925985518e-05, 0.0005000333355557038, 0.00036153289949385393, 7.382907093497136e-05, 3.736900827990455e-05, 5.8658636951030703e-05, 6.29084132139122e-05, 0.0001043219641360055, 6.809126564153645e-05, 4.402532336600012e-05, 0.00025914606902221506, 0.00032856137057028865, 7.245466752968227e-05, 6.86342975880192e-05, 6.405428269142843e-05, 4.406653663845131e-05, 0.00014773418648502244, 5.10300300633438e-05, 0.00012710412591045237, 6.843573029478691e-05, 0.00022523944847910746, 6.183474344978165e-05, 7.457492293924629e-05, 0.0001577225909352884, 0.00020055110344316024, 0.00021961724589638718, 0.00023116461640271596, 0.0004673581707461687, \"green\"]}, {\"marker\": {\"color\": \"rgba(219, 64, 82, 0.6)\", \"line\": {\"color\": \"rgba(219, 64, 82, 1.0)\", \"width\": 1}}, \"name\": \"grey\", \"orientation\": \"v\", \"text\": \"\", \"type\": \"bar\", \"x\": [\"1917 the light \", \"1917 the major.\", \"1917_Cahan_Abra\", \"1917_Lewis_Sinc\", \"1917_Webb_Mary_\", \"1918 the passin\", \"1918 the white \", \"1918 the world \", \"1918 wild youth\", \"1918_Lewis_Sinc\", \"1919 all roads \", \"1919 the avalan\", \"1920 the white \", \"1920_DosPassos_\", \"1920_Fitzgerald\", \"1920_Wharton_Ed\", \"1921 no defence\", \"1921 the secret\", \"1921 the sister\", \"1921 to him tha\", \"1922 in the day\", \"1922 sleeping f\", \"1922 the covere\", \"1922 the glimps\", \"1922_Fitzgerald\", \"1922_Joyce_Jame\", \"1925_Woolf_Virg\", \"1927_Woolf_Virg\", \"1928_Woolf_Virg\", \"1930_Mansfield_\", \"name\"], \"y\": [9.016206106278006e-05, 6.344755908176276e-05, 3.432555644945025e-05, 0.0001750116674444963, 0.000198189722011691, 9.351682318429704e-05, 8.007644631408118e-05, 0.00012976001507349216, 9.043084399499878e-05, 0.0001081154901045875, 0.00011672788395691963, 0.00014088103477120039, 0.00017872142691187246, 0.0005538605961042009, 9.419106778858694e-05, 0.00010809901870113024, 0.0001877453113369454, 0.0002605673470795382, 0.00010166653693592943, 7.987309053392942e-05, 0.00011973577078520876, 0.00013002788756009512, 0.0001768234922639722, 5.7570278384279475e-05, 0.00010495729895153183, 0.00021423985268710007, 0.0002967057420802919, 0.0003384689319109026, 0.00025836045362656487, 0.00027204430834478475, \"grey\"]}, {\"marker\": {\"color\": \"rgba(0, 128, 128, 0.6)\", \"line\": {\"color\": \"rgba(0, 128, 128, 1.0)\", \"width\": 1}}, \"name\": \"orange\", \"orientation\": \"v\", \"text\": \"\", \"type\": \"bar\", \"x\": [\"1917 the light \", \"1917 the major.\", \"1917_Cahan_Abra\", \"1917_Lewis_Sinc\", \"1917_Webb_Mary_\", \"1918 the passin\", \"1918 the white \", \"1918 the world \", \"1918 wild youth\", \"1918_Lewis_Sinc\", \"1919 all roads \", \"1919 the avalan\", \"1920 the white \", \"1920_DosPassos_\", \"1920_Fitzgerald\", \"1920_Wharton_Ed\", \"1921 no defence\", \"1921 the secret\", \"1921 the sister\", \"1921 to him tha\", \"1922 in the day\", \"1922 sleeping f\", \"1922 the covere\", \"1922 the glimps\", \"1922_Fitzgerald\", \"1922_Joyce_Jame\", \"1925_Woolf_Virg\", \"1927_Woolf_Virg\", \"1928_Woolf_Virg\", \"1930_Mansfield_\", \"name\"], \"y\": [6.290376353217213e-05, 9.063937011680394e-06, 9.654062751407883e-06, 0.00010417361157410494, 2.613490839714607e-05, 8.36729470596342e-05, 4.270743803417663e-05, 7.998905038776913e-05, 1.965887912934756e-05, 6.448994146589431e-05, 1.556371786092262e-05, 1.3207597009800036e-05, 1.7872142691187246e-05, 0.00011264961276695611, 3.1397022596195644e-05, 6.348672526891775e-05, 3.754906226738908e-05, 3.640279113611195e-05, 3.018225315285405e-05, 8.87478783710327e-06, 5.526266343932712e-06, 3.421786514739346e-05, 5.0520997789706345e-05, 5.3305813318777295e-05, 0.00012843458950647973, 9.003331232556046e-05, 6.86818847408083e-05, 5.4258378397930944e-05, 7.025591282827642e-05, 6.975495085763712e-05, \"orange\"]}, {\"marker\": {\"color\": \"rgba(255, 255, 51, 0.6)\", \"line\": {\"color\": \"rgba(255, 255, 51, 1.0)\", \"width\": 1}}, \"name\": \"red\", \"orientation\": \"v\", \"text\": \"\", \"type\": \"bar\", \"x\": [\"1917 the light \", \"1917 the major.\", \"1917_Cahan_Abra\", \"1917_Lewis_Sinc\", \"1917_Webb_Mary_\", \"1918 the passin\", \"1918 the white \", \"1918 the world \", \"1918 wild youth\", \"1918_Lewis_Sinc\", \"1919 all roads \", \"1919 the avalan\", \"1920 the white \", \"1920_DosPassos_\", \"1920_Fitzgerald\", \"1920_Wharton_Ed\", \"1921 no defence\", \"1921 the secret\", \"1921 the sister\", \"1921 to him tha\", \"1922 in the day\", \"1922 sleeping f\", \"1922 the covere\", \"1922 the glimps\", \"1922_Fitzgerald\", \"1922_Joyce_Jame\", \"1925_Woolf_Virg\", \"1927_Woolf_Virg\", \"1928_Woolf_Virg\", \"1930_Mansfield_\", \"name\"], \"y\": [0.0002243567565980806, 0.00011027790030877812, 7.401448109412711e-05, 0.0002125141676111741, 0.0002918398104347978, 0.00013781426574527986, 0.00011210702483971365, 0.00012442741171430756, 8.256729234325976e-05, 0.00014605074979040768, 0.00011867334868953496, 0.0002861646018790008, 0.00016084928422068523, 0.00048814832199014314, 0.00011109715687884613, 0.0001527113121333427, 0.00011706472353950713, 0.00023566017419693528, 0.00015249980540389414, 0.00011980963580089413, 0.00016578799031798138, 0.00010949716847165905, 0.00022734449005367856, 0.0002452067412663755, 0.00011738645277473954, 0.00022081162730940376, 0.0002142874803913219, 0.00024287083663835756, 0.0002991542094623383, 0.00037667673463124044, \"red\"]}, {\"marker\": {\"color\": \"rgba(128, 128, 0, 0.6)\", \"line\": {\"color\": \"rgba(128, 128, 0, 1.0)\", \"width\": 1}}, \"name\": \"violet\", \"orientation\": \"v\", \"text\": \"\", \"type\": \"bar\", \"x\": [\"1917 the light \", \"1917 the major.\", \"1917_Cahan_Abra\", \"1917_Lewis_Sinc\", \"1917_Webb_Mary_\", \"1918 the passin\", \"1918 the white \", \"1918 the world \", \"1918 wild youth\", \"1918_Lewis_Sinc\", \"1919 all roads \", \"1919 the avalan\", \"1920 the white \", \"1920_DosPassos_\", \"1920_Fitzgerald\", \"1920_Wharton_Ed\", \"1921 no defence\", \"1921 the secret\", \"1921 the sister\", \"1921 to him tha\", \"1922 in the day\", \"1922 sleeping f\", \"1922 the covere\", \"1922 the glimps\", \"1922_Fitzgerald\", \"1922_Joyce_Jame\", \"1925_Woolf_Virg\", \"1927_Woolf_Virg\", \"1928_Woolf_Virg\", \"1930_Mansfield_\", \"name\"], \"y\": [1.2580752706434426e-05, 7.553280843066995e-06, 2.145347278090641e-05, 1.666777785185679e-05, 9.800590648929775e-05, \"\", 2.6692148771360392e-05, 0.00010665206718369218, 2.3590654955217075e-05, 2.6554681780074125e-05, 1.9454647326153272e-05, 3.5220258692800097e-05, 6.255249941915536e-05, 0.0001770208200623596, 3.1397022596195644e-05, 5.833915294981632e-05, 7.730689290344811e-05, 2.4907172882602914e-05, 4.2890570269845226e-05, 2.2186969592758173e-06, 3.131550928228537e-05, 6.501394378004756e-05, 1.0525207872855488e-05, 0.00010447939410480349, 2.6239324737882957e-05, 6.177468144965462e-05, 3.2967304675587986e-05, 5.4258378397930944e-05, 0.00011784862797001205, 0.00012555891154374682, \"violet\"]}, {\"marker\": {\"color\": \"rgba(251, 128, 114, 0.6)\", \"line\": {\"color\": \"rgba(251, 128, 114, 1.0)\", \"width\": 1}}, \"name\": \"white\", \"orientation\": \"v\", \"text\": \"\", \"type\": \"bar\", \"x\": [\"1917 the light \", \"1917 the major.\", \"1917_Cahan_Abra\", \"1917_Lewis_Sinc\", \"1917_Webb_Mary_\", \"1918 the passin\", \"1918 the white \", \"1918 the world \", \"1918 wild youth\", \"1918_Lewis_Sinc\", \"1919 all roads \", \"1919 the avalan\", \"1920 the white \", \"1920_DosPassos_\", \"1920_Fitzgerald\", \"1920_Wharton_Ed\", \"1921 no defence\", \"1921 the secret\", \"1921 the sister\", \"1921 to him tha\", \"1922 in the day\", \"1922 sleeping f\", \"1922 the covere\", \"1922 the glimps\", \"1922_Fitzgerald\", \"1922_Joyce_Jame\", \"1925_Woolf_Virg\", \"1927_Woolf_Virg\", \"1928_Woolf_Virg\", \"1930_Mansfield_\", \"name\"], \"y\": [0.00016145299306590848, 0.0001344483990065925, 8.3668543845535e-05, 0.0001666777785185679, 0.0003484654452952809, 0.00014273620380761127, 0.00011210702483971365, 0.00015997810077553827, 0.00011795327477608536, 0.00021054069125630198, 0.0001225642781547656, 9.245317906860026e-05, 0.00040212321055171305, 0.000442552050155899, 0.0001666457353182692, 0.00019217603324645375, 0.00016124009091290605, 0.00042342193900424957, 0.00016203104324163752, 0.00011315354492306668, 0.00024683989669566114, 9.238823589796232e-05, 0.0002904957372908115, 8.742153384279476e-05, 0.00014914984587849258, 0.00016495154301982245, 0.0003324203221455122, 0.0001808612613264365, 0.00035581220367869023, 0.000606868072461443, \"white\"]}, {\"marker\": {\"color\": \"rgba(128, 177, 211, 0.6)\", \"line\": {\"color\": \"rgba(128, 177, 211, 1.0)\", \"width\": 1}}, \"name\": \"yellow\", \"orientation\": \"v\", \"text\": \"\", \"type\": \"bar\", \"x\": [\"1917 the light \", \"1917 the major.\", \"1917_Cahan_Abra\", \"1917_Lewis_Sinc\", \"1917_Webb_Mary_\", \"1918 the passin\", \"1918 the white \", \"1918 the world \", \"1918 wild youth\", \"1918_Lewis_Sinc\", \"1919 all roads \", \"1919 the avalan\", \"1920 the white \", \"1920_DosPassos_\", \"1920_Fitzgerald\", \"1920_Wharton_Ed\", \"1921 no defence\", \"1921 the secret\", \"1921 the sister\", \"1921 to him tha\", \"1922 in the day\", \"1922 sleeping f\", \"1922 the covere\", \"1922 the glimps\", \"1922_Fitzgerald\", \"1922_Joyce_Jame\", \"1925_Woolf_Virg\", \"1927_Woolf_Virg\", \"1928_Woolf_Virg\", \"1930_Mansfield_\", \"name\"], \"y\": [0.00015725940883043032, 5.740493440730916e-05, 6.436041834271923e-05, 0.00020418027868524568, 0.00017858854071383146, 0.0002510188411789026, 1.6015289262816237e-05, 6.043617140409224e-05, 8.649906816912926e-05, 0.0003622817299995827, 4.085475938492187e-05, 7.484304972220021e-05, 0.00010723285614712348, 0.0002990579005598954, 0.00010626684571020066, 0.00012354173565843455, 8.61419663781279e-05, 0.00015327491004678718, 6.195304594533199e-05, 1.3312181755654903e-05, 9.763070540947791e-05, 0.00011976252801587708, 0.0002820755709925271, 4.904134825327511e-05, 0.00011324340150033696, 0.0002201544498471734, 0.0001263746679230873, 0.00018861245824042662, 0.0002062350989475211, 0.00029994628868783963, \"yellow\"]}, {\"marker\": {\"color\": \"rgba(128, 177, 211, 0.6)\", \"line\": {\"color\": \"rgba(128, 177, 211, 0.8999999999999999)\", \"width\": 1}}, \"name\": \"name\", \"orientation\": \"v\", \"text\": \"\", \"type\": \"bar\", \"x\": [\"1917 the light \", \"1917 the major.\", \"1917_Cahan_Abra\", \"1917_Lewis_Sinc\", \"1917_Webb_Mary_\", \"1918 the passin\", \"1918 the white \", \"1918 the world \", \"1918 wild youth\", \"1918_Lewis_Sinc\", \"1919 all roads \", \"1919 the avalan\", \"1920 the white \", \"1920_DosPassos_\", \"1920_Fitzgerald\", \"1920_Wharton_Ed\", \"1921 no defence\", \"1921 the secret\", \"1921 the sister\", \"1921 to him tha\", \"1922 in the day\", \"1922 sleeping f\", \"1922 the covere\", \"1922 the glimps\", \"1922_Fitzgerald\", \"1922_Joyce_Jame\", \"1925_Woolf_Virg\", \"1927_Woolf_Virg\", \"1928_Woolf_Virg\", \"1930_Mansfield_\", \"name\"], \"y\": [\"1917 the light \", \"1917 the major.\", \"1917_Cahan_Abra\", \"1917_Lewis_Sinc\", \"1917_Webb_Mary_\", \"1918 the passin\", \"1918 the white \", \"1918 the world \", \"1918 wild youth\", \"1918_Lewis_Sinc\", \"1919 all roads \", \"1919 the avalan\", \"1920 the white \", \"1920_DosPassos_\", \"1920_Fitzgerald\", \"1920_Wharton_Ed\", \"1921 no defence\", \"1921 the secret\", \"1921 the sister\", \"1921 to him tha\", \"1922 in the day\", \"1922 sleeping f\", \"1922 the covere\", \"1922 the glimps\", \"1922_Fitzgerald\", \"1922_Joyce_Jame\", \"1925_Woolf_Virg\", \"1927_Woolf_Virg\", \"1928_Woolf_Virg\", \"1930_Mansfield_\", \"name\"]}],\n                        {\"barmode\": \"stack\", \"legend\": {\"bgcolor\": \"#F5F6F9\", \"font\": {\"color\": \"#4D5663\"}, \"traceorder\": \"normal\"}, \"paper_bgcolor\": \"#F5F6F9\", \"plot_bgcolor\": \"#F5F6F9\", \"template\": {\"data\": {\"bar\": [{\"error_x\": {\"color\": \"#2a3f5f\"}, \"error_y\": {\"color\": \"#2a3f5f\"}, \"marker\": {\"line\": {\"color\": \"#E5ECF6\", \"width\": 0.5}}, \"type\": \"bar\"}], \"barpolar\": [{\"marker\": {\"line\": {\"color\": \"#E5ECF6\", \"width\": 0.5}}, \"type\": \"barpolar\"}], \"carpet\": [{\"aaxis\": {\"endlinecolor\": \"#2a3f5f\", \"gridcolor\": \"white\", \"linecolor\": \"white\", \"minorgridcolor\": \"white\", \"startlinecolor\": \"#2a3f5f\"}, \"baxis\": {\"endlinecolor\": \"#2a3f5f\", \"gridcolor\": \"white\", \"linecolor\": \"white\", \"minorgridcolor\": \"white\", \"startlinecolor\": \"#2a3f5f\"}, \"type\": \"carpet\"}], \"choropleth\": [{\"colorbar\": {\"outlinewidth\": 0, \"ticks\": \"\"}, \"type\": \"choropleth\"}], \"contour\": [{\"colorbar\": {\"outlinewidth\": 0, \"ticks\": \"\"}, \"colorscale\": [[0.0, \"#0d0887\"], [0.1111111111111111, \"#46039f\"], [0.2222222222222222, \"#7201a8\"], [0.3333333333333333, \"#9c179e\"], [0.4444444444444444, \"#bd3786\"], [0.5555555555555556, \"#d8576b\"], [0.6666666666666666, \"#ed7953\"], [0.7777777777777778, \"#fb9f3a\"], [0.8888888888888888, \"#fdca26\"], [1.0, \"#f0f921\"]], \"type\": \"contour\"}], \"contourcarpet\": [{\"colorbar\": {\"outlinewidth\": 0, \"ticks\": \"\"}, \"type\": \"contourcarpet\"}], \"heatmap\": [{\"colorbar\": {\"outlinewidth\": 0, \"ticks\": \"\"}, \"colorscale\": [[0.0, \"#0d0887\"], [0.1111111111111111, \"#46039f\"], [0.2222222222222222, \"#7201a8\"], [0.3333333333333333, \"#9c179e\"], [0.4444444444444444, \"#bd3786\"], [0.5555555555555556, \"#d8576b\"], [0.6666666666666666, \"#ed7953\"], [0.7777777777777778, \"#fb9f3a\"], [0.8888888888888888, \"#fdca26\"], [1.0, \"#f0f921\"]], \"type\": \"heatmap\"}], \"heatmapgl\": [{\"colorbar\": {\"outlinewidth\": 0, \"ticks\": \"\"}, \"colorscale\": [[0.0, \"#0d0887\"], [0.1111111111111111, \"#46039f\"], [0.2222222222222222, \"#7201a8\"], [0.3333333333333333, \"#9c179e\"], [0.4444444444444444, \"#bd3786\"], [0.5555555555555556, \"#d8576b\"], [0.6666666666666666, \"#ed7953\"], [0.7777777777777778, \"#fb9f3a\"], [0.8888888888888888, \"#fdca26\"], [1.0, \"#f0f921\"]], \"type\": \"heatmapgl\"}], \"histogram\": [{\"marker\": {\"colorbar\": {\"outlinewidth\": 0, \"ticks\": \"\"}}, \"type\": \"histogram\"}], \"histogram2d\": [{\"colorbar\": {\"outlinewidth\": 0, \"ticks\": \"\"}, \"colorscale\": [[0.0, \"#0d0887\"], [0.1111111111111111, \"#46039f\"], [0.2222222222222222, \"#7201a8\"], [0.3333333333333333, \"#9c179e\"], [0.4444444444444444, \"#bd3786\"], [0.5555555555555556, \"#d8576b\"], [0.6666666666666666, \"#ed7953\"], [0.7777777777777778, \"#fb9f3a\"], [0.8888888888888888, \"#fdca26\"], [1.0, \"#f0f921\"]], \"type\": \"histogram2d\"}], \"histogram2dcontour\": [{\"colorbar\": {\"outlinewidth\": 0, \"ticks\": \"\"}, \"colorscale\": [[0.0, \"#0d0887\"], [0.1111111111111111, \"#46039f\"], [0.2222222222222222, \"#7201a8\"], [0.3333333333333333, \"#9c179e\"], [0.4444444444444444, \"#bd3786\"], [0.5555555555555556, \"#d8576b\"], [0.6666666666666666, \"#ed7953\"], [0.7777777777777778, \"#fb9f3a\"], [0.8888888888888888, \"#fdca26\"], [1.0, \"#f0f921\"]], \"type\": \"histogram2dcontour\"}], \"mesh3d\": [{\"colorbar\": {\"outlinewidth\": 0, \"ticks\": \"\"}, \"type\": \"mesh3d\"}], \"parcoords\": [{\"line\": {\"colorbar\": {\"outlinewidth\": 0, \"ticks\": \"\"}}, \"type\": \"parcoords\"}], \"pie\": [{\"automargin\": true, \"type\": \"pie\"}], \"scatter\": [{\"marker\": {\"colorbar\": {\"outlinewidth\": 0, \"ticks\": \"\"}}, \"type\": \"scatter\"}], \"scatter3d\": [{\"line\": {\"colorbar\": {\"outlinewidth\": 0, \"ticks\": \"\"}}, \"marker\": {\"colorbar\": {\"outlinewidth\": 0, \"ticks\": \"\"}}, \"type\": \"scatter3d\"}], \"scattercarpet\": [{\"marker\": {\"colorbar\": {\"outlinewidth\": 0, \"ticks\": \"\"}}, \"type\": \"scattercarpet\"}], \"scattergeo\": [{\"marker\": {\"colorbar\": {\"outlinewidth\": 0, \"ticks\": \"\"}}, \"type\": \"scattergeo\"}], \"scattergl\": [{\"marker\": {\"colorbar\": {\"outlinewidth\": 0, \"ticks\": \"\"}}, \"type\": \"scattergl\"}], \"scattermapbox\": [{\"marker\": {\"colorbar\": {\"outlinewidth\": 0, \"ticks\": \"\"}}, \"type\": \"scattermapbox\"}], \"scatterpolar\": [{\"marker\": {\"colorbar\": {\"outlinewidth\": 0, \"ticks\": \"\"}}, \"type\": \"scatterpolar\"}], \"scatterpolargl\": [{\"marker\": {\"colorbar\": {\"outlinewidth\": 0, \"ticks\": \"\"}}, \"type\": \"scatterpolargl\"}], \"scatterternary\": [{\"marker\": {\"colorbar\": {\"outlinewidth\": 0, \"ticks\": \"\"}}, \"type\": \"scatterternary\"}], \"surface\": [{\"colorbar\": {\"outlinewidth\": 0, \"ticks\": \"\"}, \"colorscale\": [[0.0, \"#0d0887\"], [0.1111111111111111, \"#46039f\"], [0.2222222222222222, \"#7201a8\"], [0.3333333333333333, \"#9c179e\"], [0.4444444444444444, \"#bd3786\"], [0.5555555555555556, \"#d8576b\"], [0.6666666666666666, \"#ed7953\"], [0.7777777777777778, \"#fb9f3a\"], [0.8888888888888888, \"#fdca26\"], [1.0, \"#f0f921\"]], \"type\": \"surface\"}], \"table\": [{\"cells\": {\"fill\": {\"color\": \"#EBF0F8\"}, \"line\": {\"color\": \"white\"}}, \"header\": {\"fill\": {\"color\": \"#C8D4E3\"}, \"line\": {\"color\": \"white\"}}, \"type\": \"table\"}]}, \"layout\": {\"annotationdefaults\": {\"arrowcolor\": \"#2a3f5f\", \"arrowhead\": 0, \"arrowwidth\": 1}, \"coloraxis\": {\"colorbar\": {\"outlinewidth\": 0, \"ticks\": \"\"}}, \"colorscale\": {\"diverging\": [[0, \"#8e0152\"], [0.1, \"#c51b7d\"], [0.2, \"#de77ae\"], [0.3, \"#f1b6da\"], [0.4, \"#fde0ef\"], [0.5, \"#f7f7f7\"], [0.6, \"#e6f5d0\"], [0.7, \"#b8e186\"], [0.8, \"#7fbc41\"], [0.9, \"#4d9221\"], [1, \"#276419\"]], \"sequential\": [[0.0, \"#0d0887\"], [0.1111111111111111, \"#46039f\"], [0.2222222222222222, \"#7201a8\"], [0.3333333333333333, \"#9c179e\"], [0.4444444444444444, \"#bd3786\"], [0.5555555555555556, \"#d8576b\"], [0.6666666666666666, \"#ed7953\"], [0.7777777777777778, \"#fb9f3a\"], [0.8888888888888888, \"#fdca26\"], [1.0, \"#f0f921\"]], \"sequentialminus\": [[0.0, \"#0d0887\"], [0.1111111111111111, \"#46039f\"], [0.2222222222222222, \"#7201a8\"], [0.3333333333333333, \"#9c179e\"], [0.4444444444444444, \"#bd3786\"], [0.5555555555555556, \"#d8576b\"], [0.6666666666666666, \"#ed7953\"], [0.7777777777777778, \"#fb9f3a\"], [0.8888888888888888, \"#fdca26\"], [1.0, \"#f0f921\"]]}, \"colorway\": [\"#636efa\", \"#EF553B\", \"#00cc96\", \"#ab63fa\", \"#FFA15A\", \"#19d3f3\", \"#FF6692\", \"#B6E880\", \"#FF97FF\", \"#FECB52\"], \"font\": {\"color\": \"#2a3f5f\"}, \"geo\": {\"bgcolor\": \"white\", \"lakecolor\": \"white\", \"landcolor\": \"#E5ECF6\", \"showlakes\": true, \"showland\": true, \"subunitcolor\": \"white\"}, \"hoverlabel\": {\"align\": \"left\"}, \"hovermode\": \"closest\", \"mapbox\": {\"style\": \"light\"}, \"paper_bgcolor\": \"white\", \"plot_bgcolor\": \"#E5ECF6\", \"polar\": {\"angularaxis\": {\"gridcolor\": \"white\", \"linecolor\": \"white\", \"ticks\": \"\"}, \"bgcolor\": \"#E5ECF6\", \"radialaxis\": {\"gridcolor\": \"white\", \"linecolor\": \"white\", \"ticks\": \"\"}}, \"scene\": {\"xaxis\": {\"backgroundcolor\": \"#E5ECF6\", \"gridcolor\": \"white\", \"gridwidth\": 2, \"linecolor\": \"white\", \"showbackground\": true, \"ticks\": \"\", \"zerolinecolor\": \"white\"}, \"yaxis\": {\"backgroundcolor\": \"#E5ECF6\", \"gridcolor\": \"white\", \"gridwidth\": 2, \"linecolor\": \"white\", \"showbackground\": true, \"ticks\": \"\", \"zerolinecolor\": \"white\"}, \"zaxis\": {\"backgroundcolor\": \"#E5ECF6\", \"gridcolor\": \"white\", \"gridwidth\": 2, \"linecolor\": \"white\", \"showbackground\": true, \"ticks\": \"\", \"zerolinecolor\": \"white\"}}, \"shapedefaults\": {\"line\": {\"color\": \"#2a3f5f\"}}, \"ternary\": {\"aaxis\": {\"gridcolor\": \"white\", \"linecolor\": \"white\", \"ticks\": \"\"}, \"baxis\": {\"gridcolor\": \"white\", \"linecolor\": \"white\", \"ticks\": \"\"}, \"bgcolor\": \"#E5ECF6\", \"caxis\": {\"gridcolor\": \"white\", \"linecolor\": \"white\", \"ticks\": \"\"}}, \"title\": {\"x\": 0.05}, \"xaxis\": {\"automargin\": true, \"gridcolor\": \"white\", \"linecolor\": \"white\", \"ticks\": \"\", \"title\": {\"standoff\": 15}, \"zerolinecolor\": \"white\", \"zerolinewidth\": 2}, \"yaxis\": {\"automargin\": true, \"gridcolor\": \"white\", \"linecolor\": \"white\", \"ticks\": \"\", \"title\": {\"standoff\": 15}, \"zerolinecolor\": \"white\", \"zerolinewidth\": 2}}}, \"title\": {\"font\": {\"color\": \"#4D5663\"}}, \"xaxis\": {\"gridcolor\": \"#E1E5ED\", \"showgrid\": true, \"tickfont\": {\"color\": \"#4D5663\"}, \"title\": {\"font\": {\"color\": \"#4D5663\"}, \"text\": \"\"}, \"zerolinecolor\": \"#E1E5ED\"}, \"yaxis\": {\"gridcolor\": \"#E1E5ED\", \"showgrid\": true, \"tickfont\": {\"color\": \"#4D5663\"}, \"title\": {\"font\": {\"color\": \"#4D5663\"}, \"text\": \"\"}, \"zerolinecolor\": \"#E1E5ED\"}},\n                        {\"showLink\": true, \"linkText\": \"Export to plot.ly\", \"plotlyServerURL\": \"https://plot.ly\", \"responsive\": true}\n                    ).then(function(){\n                            \nvar gd = document.getElementById('03ffc97d-6380-4900-8072-c0d216267620');\nvar x = new MutationObserver(function (mutations, observer) {{\n        var display = window.getComputedStyle(gd).display;\n        if (!display || display === 'none') {{\n            console.log([gd, 'removed!']);\n            Plotly.purge(gd);\n            observer.disconnect();\n        }}\n}});\n\n// Listen for the removal of the full notebook cells\nvar notebookContainer = gd.closest('#notebook-container');\nif (notebookContainer) {{\n    x.observe(notebookContainer, {childList: true});\n}}\n\n// Listen for the clearing of the current output cell\nvar outputEl = gd.closest('.output');\nif (outputEl) {{\n    x.observe(outputEl, {childList: true});\n}}\n\n                        })\n                };\n                });\n            </script>\n        </div>"
     },
     "metadata": {}
    }
   ],
   "source": [
    "df.T.iplot(kind='bar', barmode='stack')"
   ]
  },
  {
   "cell_type": "code",
   "execution_count": 16,
   "metadata": {},
   "outputs": [],
   "source": [
    "df = df.T"
   ]
  },
  {
   "cell_type": "code",
   "execution_count": 17,
   "metadata": {},
   "outputs": [],
   "source": [
    "df['name'] = df.index"
   ]
  },
  {
   "cell_type": "code",
   "execution_count": 18,
   "metadata": {},
   "outputs": [],
   "source": [
    "tidyDf = df.melt(id_vars='name', value_vars=df.columns[:-1])"
   ]
  },
  {
   "cell_type": "code",
   "execution_count": 27,
   "metadata": {},
   "outputs": [
    {
     "output_type": "display_data",
     "data": {
      "application/vnd.plotly.v1+json": {
       "config": {
        "linkText": "Export to plot.ly",
        "plotlyServerURL": "https://plot.ly",
        "showLink": true
       },
       "data": [
        {
         "marker": {
          "color": "rgba(255, 153, 51, 0.6)",
          "line": {
           "color": "rgba(255, 153, 51, 1.0)",
           "width": 1
          }
         },
         "name": "0",
         "orientation": "v",
         "text": "",
         "type": "bar",
         "x": [
          "name",
          "variable",
          "value"
         ],
         "y": [
          "black",
          "1917 the light ",
          0.00011951715071112705
         ]
        },
        {
         "marker": {
          "color": "rgba(55, 128, 191, 0.6)",
          "line": {
           "color": "rgba(55, 128, 191, 1.0)",
           "width": 1
          }
         },
         "name": "1",
         "orientation": "v",
         "text": "",
         "type": "bar",
         "x": [
          "name",
          "variable",
          "value"
         ],
         "y": [
          "blue",
          "1917 the light ",
          0.00006080697141443306
         ]
        },
        {
         "marker": {
          "color": "rgba(50, 171, 96, 0.6)",
          "line": {
           "color": "rgba(50, 171, 96, 1.0)",
           "width": 1
          }
         },
         "name": "2",
         "orientation": "v",
         "text": "",
         "type": "bar",
         "x": [
          "name",
          "variable",
          "value"
         ],
         "y": [
          "brown",
          "1917 the light ",
          0.0000650005556499112
         ]
        },
        {
         "marker": {
          "color": "rgba(128, 0, 128, 0.6)",
          "line": {
           "color": "rgba(128, 0, 128, 1.0)",
           "width": 1
          }
         },
         "name": "3",
         "orientation": "v",
         "text": "",
         "type": "bar",
         "x": [
          "name",
          "variable",
          "value"
         ],
         "y": [
          "green",
          "1917 the light ",
          0.00016774336941912567
         ]
        },
        {
         "marker": {
          "color": "rgba(219, 64, 82, 0.6)",
          "line": {
           "color": "rgba(219, 64, 82, 1.0)",
           "width": 1
          }
         },
         "name": "4",
         "orientation": "v",
         "text": "",
         "type": "bar",
         "x": [
          "name",
          "variable",
          "value"
         ],
         "y": [
          "grey",
          "1917 the light ",
          0.00009016206106278006
         ]
        },
        {
         "marker": {
          "color": "rgba(0, 128, 128, 0.6)",
          "line": {
           "color": "rgba(0, 128, 128, 1.0)",
           "width": 1
          }
         },
         "name": "5",
         "orientation": "v",
         "text": "",
         "type": "bar",
         "x": [
          "name",
          "variable",
          "value"
         ],
         "y": [
          "orange",
          "1917 the light ",
          0.00006290376353217213
         ]
        },
        {
         "marker": {
          "color": "rgba(255, 255, 51, 0.6)",
          "line": {
           "color": "rgba(255, 255, 51, 1.0)",
           "width": 1
          }
         },
         "name": "6",
         "orientation": "v",
         "text": "",
         "type": "bar",
         "x": [
          "name",
          "variable",
          "value"
         ],
         "y": [
          "red",
          "1917 the light ",
          0.0002243567565980806
         ]
        },
        {
         "marker": {
          "color": "rgba(128, 128, 0, 0.6)",
          "line": {
           "color": "rgba(128, 128, 0, 1.0)",
           "width": 1
          }
         },
         "name": "7",
         "orientation": "v",
         "text": "",
         "type": "bar",
         "x": [
          "name",
          "variable",
          "value"
         ],
         "y": [
          "violet",
          "1917 the light ",
          0.000012580752706434426
         ]
        },
        {
         "marker": {
          "color": "rgba(251, 128, 114, 0.6)",
          "line": {
           "color": "rgba(251, 128, 114, 1.0)",
           "width": 1
          }
         },
         "name": "8",
         "orientation": "v",
         "text": "",
         "type": "bar",
         "x": [
          "name",
          "variable",
          "value"
         ],
         "y": [
          "white",
          "1917 the light ",
          0.00016145299306590848
         ]
        },
        {
         "marker": {
          "color": "rgba(128, 177, 211, 0.6)",
          "line": {
           "color": "rgba(128, 177, 211, 1.0)",
           "width": 1
          }
         },
         "name": "9",
         "orientation": "v",
         "text": "",
         "type": "bar",
         "x": [
          "name",
          "variable",
          "value"
         ],
         "y": [
          "yellow",
          "1917 the light ",
          0.00015725940883043032
         ]
        },
        {
         "marker": {
          "color": "rgba(128, 177, 211, 0.6)",
          "line": {
           "color": "rgba(128, 177, 211, 0.9757575757575758)",
           "width": 1
          }
         },
         "name": "10",
         "orientation": "v",
         "text": "",
         "type": "bar",
         "x": [
          "name",
          "variable",
          "value"
         ],
         "y": [
          "name",
          "1917 the light ",
          "1917 the light "
         ]
        },
        {
         "marker": {
          "color": "rgba(255, 153, 51, 0.6)",
          "line": {
           "color": "rgba(255, 153, 51, 0.9757575757575758)",
           "width": 1
          }
         },
         "name": "11",
         "orientation": "v",
         "text": "",
         "type": "bar",
         "x": [
          "name",
          "variable",
          "value"
         ],
         "y": [
          "black",
          "1917 the major.",
          0.00012085249348907191
         ]
        },
        {
         "marker": {
          "color": "rgba(55, 128, 191, 0.6)",
          "line": {
           "color": "rgba(55, 128, 191, 0.9757575757575758)",
           "width": 1
          }
         },
         "name": "12",
         "orientation": "v",
         "text": "",
         "type": "bar",
         "x": [
          "name",
          "variable",
          "value"
         ],
         "y": [
          "blue",
          "1917 the major.",
          0.00006797952758760295
         ]
        },
        {
         "marker": {
          "color": "rgba(50, 171, 96, 0.6)",
          "line": {
           "color": "rgba(50, 171, 96, 0.9757575757575758)",
           "width": 1
          }
         },
         "name": "13",
         "orientation": "v",
         "text": "",
         "type": "bar",
         "x": [
          "name",
          "variable",
          "value"
         ],
         "y": [
          "brown",
          "1917 the major.",
          0.00021149186360587584
         ]
        },
        {
         "marker": {
          "color": "rgba(128, 0, 128, 0.6)",
          "line": {
           "color": "rgba(128, 0, 128, 0.9757575757575758)",
           "width": 1
          }
         },
         "name": "14",
         "orientation": "v",
         "text": "",
         "type": "bar",
         "x": [
          "name",
          "variable",
          "value"
         ],
         "y": [
          "green",
          "1917 the major.",
          0.00006495821525037615
         ]
        },
        {
         "marker": {
          "color": "rgba(219, 64, 82, 0.6)",
          "line": {
           "color": "rgba(219, 64, 82, 0.9757575757575758)",
           "width": 1
          }
         },
         "name": "15",
         "orientation": "v",
         "text": "",
         "type": "bar",
         "x": [
          "name",
          "variable",
          "value"
         ],
         "y": [
          "grey",
          "1917 the major.",
          0.00006344755908176276
         ]
        },
        {
         "marker": {
          "color": "rgba(0, 128, 128, 0.6)",
          "line": {
           "color": "rgba(0, 128, 128, 0.9757575757575758)",
           "width": 1
          }
         },
         "name": "16",
         "orientation": "v",
         "text": "",
         "type": "bar",
         "x": [
          "name",
          "variable",
          "value"
         ],
         "y": [
          "orange",
          "1917 the major.",
          0.000009063937011680394
         ]
        },
        {
         "marker": {
          "color": "rgba(255, 255, 51, 0.6)",
          "line": {
           "color": "rgba(255, 255, 51, 0.9757575757575758)",
           "width": 1
          }
         },
         "name": "17",
         "orientation": "v",
         "text": "",
         "type": "bar",
         "x": [
          "name",
          "variable",
          "value"
         ],
         "y": [
          "red",
          "1917 the major.",
          0.00011027790030877812
         ]
        },
        {
         "marker": {
          "color": "rgba(128, 128, 0, 0.6)",
          "line": {
           "color": "rgba(128, 128, 0, 0.9757575757575758)",
           "width": 1
          }
         },
         "name": "18",
         "orientation": "v",
         "text": "",
         "type": "bar",
         "x": [
          "name",
          "variable",
          "value"
         ],
         "y": [
          "violet",
          "1917 the major.",
          0.000007553280843066995
         ]
        },
        {
         "marker": {
          "color": "rgba(251, 128, 114, 0.6)",
          "line": {
           "color": "rgba(251, 128, 114, 0.9757575757575758)",
           "width": 1
          }
         },
         "name": "19",
         "orientation": "v",
         "text": "",
         "type": "bar",
         "x": [
          "name",
          "variable",
          "value"
         ],
         "y": [
          "white",
          "1917 the major.",
          0.0001344483990065925
         ]
        },
        {
         "marker": {
          "color": "rgba(251, 128, 114, 0.6)",
          "line": {
           "color": "rgba(251, 128, 114, 0.9515151515151514)",
           "width": 1
          }
         },
         "name": "20",
         "orientation": "v",
         "text": "",
         "type": "bar",
         "x": [
          "name",
          "variable",
          "value"
         ],
         "y": [
          "yellow",
          "1917 the major.",
          0.00005740493440730916
         ]
        },
        {
         "marker": {
          "color": "rgba(128, 177, 211, 0.6)",
          "line": {
           "color": "rgba(128, 177, 211, 0.9515151515151514)",
           "width": 1
          }
         },
         "name": "21",
         "orientation": "v",
         "text": "",
         "type": "bar",
         "x": [
          "name",
          "variable",
          "value"
         ],
         "y": [
          "name",
          "1917 the major.",
          "1917 the major."
         ]
        },
        {
         "marker": {
          "color": "rgba(255, 153, 51, 0.6)",
          "line": {
           "color": "rgba(255, 153, 51, 0.9515151515151514)",
           "width": 1
          }
         },
         "name": "22",
         "orientation": "v",
         "text": "",
         "type": "bar",
         "x": [
          "name",
          "variable",
          "value"
         ],
         "y": [
          "black",
          "1917_Cahan_Abra",
          0.0000997586484312148
         ]
        },
        {
         "marker": {
          "color": "rgba(55, 128, 191, 0.6)",
          "line": {
           "color": "rgba(55, 128, 191, 0.9515151515151514)",
           "width": 1
          }
         },
         "name": "23",
         "orientation": "v",
         "text": "",
         "type": "bar",
         "x": [
          "name",
          "variable",
          "value"
         ],
         "y": [
          "blue",
          "1917_Cahan_Abra",
          0.000036470903727540896
         ]
        },
        {
         "marker": {
          "color": "rgba(50, 171, 96, 0.6)",
          "line": {
           "color": "rgba(50, 171, 96, 0.9515151515151514)",
           "width": 1
          }
         },
         "name": "24",
         "orientation": "v",
         "text": "",
         "type": "bar",
         "x": [
          "name",
          "variable",
          "value"
         ],
         "y": [
          "brown",
          "1917_Cahan_Abra",
          0.00005577902923035666
         ]
        },
        {
         "marker": {
          "color": "rgba(128, 0, 128, 0.6)",
          "line": {
           "color": "rgba(128, 0, 128, 0.9515151515151514)",
           "width": 1
          }
         },
         "name": "25",
         "orientation": "v",
         "text": "",
         "type": "bar",
         "x": [
          "name",
          "variable",
          "value"
         ],
         "y": [
          "green",
          "1917_Cahan_Abra",
          0.00006757843925985518
         ]
        },
        {
         "marker": {
          "color": "rgba(219, 64, 82, 0.6)",
          "line": {
           "color": "rgba(219, 64, 82, 0.9515151515151514)",
           "width": 1
          }
         },
         "name": "26",
         "orientation": "v",
         "text": "",
         "type": "bar",
         "x": [
          "name",
          "variable",
          "value"
         ],
         "y": [
          "grey",
          "1917_Cahan_Abra",
          0.00003432555644945025
         ]
        },
        {
         "marker": {
          "color": "rgba(0, 128, 128, 0.6)",
          "line": {
           "color": "rgba(0, 128, 128, 0.9515151515151514)",
           "width": 1
          }
         },
         "name": "27",
         "orientation": "v",
         "text": "",
         "type": "bar",
         "x": [
          "name",
          "variable",
          "value"
         ],
         "y": [
          "orange",
          "1917_Cahan_Abra",
          0.000009654062751407883
         ]
        },
        {
         "marker": {
          "color": "rgba(255, 255, 51, 0.6)",
          "line": {
           "color": "rgba(255, 255, 51, 0.9515151515151514)",
           "width": 1
          }
         },
         "name": "28",
         "orientation": "v",
         "text": "",
         "type": "bar",
         "x": [
          "name",
          "variable",
          "value"
         ],
         "y": [
          "red",
          "1917_Cahan_Abra",
          0.00007401448109412711
         ]
        },
        {
         "marker": {
          "color": "rgba(128, 128, 0, 0.6)",
          "line": {
           "color": "rgba(128, 128, 0, 0.9515151515151514)",
           "width": 1
          }
         },
         "name": "29",
         "orientation": "v",
         "text": "",
         "type": "bar",
         "x": [
          "name",
          "variable",
          "value"
         ],
         "y": [
          "violet",
          "1917_Cahan_Abra",
          0.00002145347278090641
         ]
        },
        {
         "marker": {
          "color": "rgba(128, 128, 0, 0.6)",
          "line": {
           "color": "rgba(128, 128, 0, 0.9272727272727272)",
           "width": 1
          }
         },
         "name": "30",
         "orientation": "v",
         "text": "",
         "type": "bar",
         "x": [
          "name",
          "variable",
          "value"
         ],
         "y": [
          "white",
          "1917_Cahan_Abra",
          0.000083668543845535
         ]
        },
        {
         "marker": {
          "color": "rgba(251, 128, 114, 0.6)",
          "line": {
           "color": "rgba(251, 128, 114, 0.9272727272727272)",
           "width": 1
          }
         },
         "name": "31",
         "orientation": "v",
         "text": "",
         "type": "bar",
         "x": [
          "name",
          "variable",
          "value"
         ],
         "y": [
          "yellow",
          "1917_Cahan_Abra",
          0.00006436041834271923
         ]
        },
        {
         "marker": {
          "color": "rgba(128, 177, 211, 0.6)",
          "line": {
           "color": "rgba(128, 177, 211, 0.9272727272727272)",
           "width": 1
          }
         },
         "name": "32",
         "orientation": "v",
         "text": "",
         "type": "bar",
         "x": [
          "name",
          "variable",
          "value"
         ],
         "y": [
          "name",
          "1917_Cahan_Abra",
          "1917_Cahan_Abra"
         ]
        },
        {
         "marker": {
          "color": "rgba(255, 153, 51, 0.6)",
          "line": {
           "color": "rgba(255, 153, 51, 0.9272727272727272)",
           "width": 1
          }
         },
         "name": "33",
         "orientation": "v",
         "text": "",
         "type": "bar",
         "x": [
          "name",
          "variable",
          "value"
         ],
         "y": [
          "black",
          "1917_Lewis_Sinc",
          0.00009167277818521235
         ]
        },
        {
         "marker": {
          "color": "rgba(55, 128, 191, 0.6)",
          "line": {
           "color": "rgba(55, 128, 191, 0.9272727272727272)",
           "width": 1
          }
         },
         "name": "34",
         "orientation": "v",
         "text": "",
         "type": "bar",
         "x": [
          "name",
          "variable",
          "value"
         ],
         "y": [
          "blue",
          "1917_Lewis_Sinc",
          0.00007500500033335555
         ]
        },
        {
         "marker": {
          "color": "rgba(50, 171, 96, 0.6)",
          "line": {
           "color": "rgba(50, 171, 96, 0.9272727272727272)",
           "width": 1
          }
         },
         "name": "35",
         "orientation": "v",
         "text": "",
         "type": "bar",
         "x": [
          "name",
          "variable",
          "value"
         ],
         "y": [
          "brown",
          "1917_Lewis_Sinc",
          0.00007500500033335555
         ]
        },
        {
         "marker": {
          "color": "rgba(128, 0, 128, 0.6)",
          "line": {
           "color": "rgba(128, 0, 128, 0.9272727272727272)",
           "width": 1
          }
         },
         "name": "36",
         "orientation": "v",
         "text": "",
         "type": "bar",
         "x": [
          "name",
          "variable",
          "value"
         ],
         "y": [
          "green",
          "1917_Lewis_Sinc",
          0.0005000333355557038
         ]
        },
        {
         "marker": {
          "color": "rgba(219, 64, 82, 0.6)",
          "line": {
           "color": "rgba(219, 64, 82, 0.9272727272727272)",
           "width": 1
          }
         },
         "name": "37",
         "orientation": "v",
         "text": "",
         "type": "bar",
         "x": [
          "name",
          "variable",
          "value"
         ],
         "y": [
          "grey",
          "1917_Lewis_Sinc",
          0.0001750116674444963
         ]
        },
        {
         "marker": {
          "color": "rgba(0, 128, 128, 0.6)",
          "line": {
           "color": "rgba(0, 128, 128, 0.9272727272727272)",
           "width": 1
          }
         },
         "name": "38",
         "orientation": "v",
         "text": "",
         "type": "bar",
         "x": [
          "name",
          "variable",
          "value"
         ],
         "y": [
          "orange",
          "1917_Lewis_Sinc",
          0.00010417361157410494
         ]
        },
        {
         "marker": {
          "color": "rgba(255, 255, 51, 0.6)",
          "line": {
           "color": "rgba(255, 255, 51, 0.9272727272727272)",
           "width": 1
          }
         },
         "name": "39",
         "orientation": "v",
         "text": "",
         "type": "bar",
         "x": [
          "name",
          "variable",
          "value"
         ],
         "y": [
          "red",
          "1917_Lewis_Sinc",
          0.0002125141676111741
         ]
        },
        {
         "marker": {
          "color": "rgba(255, 255, 51, 0.6)",
          "line": {
           "color": "rgba(255, 255, 51, 0.9030303030303031)",
           "width": 1
          }
         },
         "name": "40",
         "orientation": "v",
         "text": "",
         "type": "bar",
         "x": [
          "name",
          "variable",
          "value"
         ],
         "y": [
          "violet",
          "1917_Lewis_Sinc",
          0.00001666777785185679
         ]
        },
        {
         "marker": {
          "color": "rgba(128, 128, 0, 0.6)",
          "line": {
           "color": "rgba(128, 128, 0, 0.9030303030303031)",
           "width": 1
          }
         },
         "name": "41",
         "orientation": "v",
         "text": "",
         "type": "bar",
         "x": [
          "name",
          "variable",
          "value"
         ],
         "y": [
          "white",
          "1917_Lewis_Sinc",
          0.0001666777785185679
         ]
        },
        {
         "marker": {
          "color": "rgba(251, 128, 114, 0.6)",
          "line": {
           "color": "rgba(251, 128, 114, 0.9030303030303031)",
           "width": 1
          }
         },
         "name": "42",
         "orientation": "v",
         "text": "",
         "type": "bar",
         "x": [
          "name",
          "variable",
          "value"
         ],
         "y": [
          "yellow",
          "1917_Lewis_Sinc",
          0.00020418027868524568
         ]
        },
        {
         "marker": {
          "color": "rgba(128, 177, 211, 0.6)",
          "line": {
           "color": "rgba(128, 177, 211, 0.9030303030303031)",
           "width": 1
          }
         },
         "name": "43",
         "orientation": "v",
         "text": "",
         "type": "bar",
         "x": [
          "name",
          "variable",
          "value"
         ],
         "y": [
          "name",
          "1917_Lewis_Sinc",
          "1917_Lewis_Sinc"
         ]
        },
        {
         "marker": {
          "color": "rgba(255, 153, 51, 0.6)",
          "line": {
           "color": "rgba(255, 153, 51, 0.9030303030303031)",
           "width": 1
          }
         },
         "name": "44",
         "orientation": "v",
         "text": "",
         "type": "bar",
         "x": [
          "name",
          "variable",
          "value"
         ],
         "y": [
          "black",
          "1917_Webb_Mary_",
          0.0002678828110707472
         ]
        },
        {
         "marker": {
          "color": "rgba(55, 128, 191, 0.6)",
          "line": {
           "color": "rgba(55, 128, 191, 0.9030303030303031)",
           "width": 1
          }
         },
         "name": "45",
         "orientation": "v",
         "text": "",
         "type": "bar",
         "x": [
          "name",
          "variable",
          "value"
         ],
         "y": [
          "blue",
          "1917_Webb_Mary_",
          0.00012849663295263483
         ]
        },
        {
         "marker": {
          "color": "rgba(50, 171, 96, 0.6)",
          "line": {
           "color": "rgba(50, 171, 96, 0.9030303030303031)",
           "width": 1
          }
         },
         "name": "46",
         "orientation": "v",
         "text": "",
         "type": "bar",
         "x": [
          "name",
          "variable",
          "value"
         ],
         "y": [
          "brown",
          "1917_Webb_Mary_",
          0.0019013145858923764
         ]
        },
        {
         "marker": {
          "color": "rgba(128, 0, 128, 0.6)",
          "line": {
           "color": "rgba(128, 0, 128, 0.9030303030303031)",
           "width": 1
          }
         },
         "name": "47",
         "orientation": "v",
         "text": "",
         "type": "bar",
         "x": [
          "name",
          "variable",
          "value"
         ],
         "y": [
          "green",
          "1917_Webb_Mary_",
          0.00036153289949385393
         ]
        },
        {
         "marker": {
          "color": "rgba(219, 64, 82, 0.6)",
          "line": {
           "color": "rgba(219, 64, 82, 0.9030303030303031)",
           "width": 1
          }
         },
         "name": "48",
         "orientation": "v",
         "text": "",
         "type": "bar",
         "x": [
          "name",
          "variable",
          "value"
         ],
         "y": [
          "grey",
          "1917_Webb_Mary_",
          0.000198189722011691
         ]
        },
        {
         "marker": {
          "color": "rgba(0, 128, 128, 0.6)",
          "line": {
           "color": "rgba(0, 128, 128, 0.9030303030303031)",
           "width": 1
          }
         },
         "name": "49",
         "orientation": "v",
         "text": "",
         "type": "bar",
         "x": [
          "name",
          "variable",
          "value"
         ],
         "y": [
          "orange",
          "1917_Webb_Mary_",
          0.00002613490839714607
         ]
        },
        {
         "marker": {
          "color": "rgba(0, 128, 128, 0.6)",
          "line": {
           "color": "rgba(0, 128, 128, 0.8787878787878789)",
           "width": 1
          }
         },
         "name": "50",
         "orientation": "v",
         "text": "",
         "type": "bar",
         "x": [
          "name",
          "variable",
          "value"
         ],
         "y": [
          "red",
          "1917_Webb_Mary_",
          0.0002918398104347978
         ]
        },
        {
         "marker": {
          "color": "rgba(255, 255, 51, 0.6)",
          "line": {
           "color": "rgba(255, 255, 51, 0.8787878787878789)",
           "width": 1
          }
         },
         "name": "51",
         "orientation": "v",
         "text": "",
         "type": "bar",
         "x": [
          "name",
          "variable",
          "value"
         ],
         "y": [
          "violet",
          "1917_Webb_Mary_",
          0.00009800590648929775
         ]
        },
        {
         "marker": {
          "color": "rgba(128, 128, 0, 0.6)",
          "line": {
           "color": "rgba(128, 128, 0, 0.8787878787878789)",
           "width": 1
          }
         },
         "name": "52",
         "orientation": "v",
         "text": "",
         "type": "bar",
         "x": [
          "name",
          "variable",
          "value"
         ],
         "y": [
          "white",
          "1917_Webb_Mary_",
          0.0003484654452952809
         ]
        },
        {
         "marker": {
          "color": "rgba(251, 128, 114, 0.6)",
          "line": {
           "color": "rgba(251, 128, 114, 0.8787878787878789)",
           "width": 1
          }
         },
         "name": "53",
         "orientation": "v",
         "text": "",
         "type": "bar",
         "x": [
          "name",
          "variable",
          "value"
         ],
         "y": [
          "yellow",
          "1917_Webb_Mary_",
          0.00017858854071383146
         ]
        },
        {
         "marker": {
          "color": "rgba(128, 177, 211, 0.6)",
          "line": {
           "color": "rgba(128, 177, 211, 0.8787878787878789)",
           "width": 1
          }
         },
         "name": "54",
         "orientation": "v",
         "text": "",
         "type": "bar",
         "x": [
          "name",
          "variable",
          "value"
         ],
         "y": [
          "name",
          "1917_Webb_Mary_",
          "1917_Webb_Mary_"
         ]
        },
        {
         "marker": {
          "color": "rgba(255, 153, 51, 0.6)",
          "line": {
           "color": "rgba(255, 153, 51, 0.8787878787878789)",
           "width": 1
          }
         },
         "name": "55",
         "orientation": "v",
         "text": "",
         "type": "bar",
         "x": [
          "name",
          "variable",
          "value"
         ],
         "y": [
          "black",
          "1918 the passin",
          0.00006890713287263993
         ]
        },
        {
         "marker": {
          "color": "rgba(55, 128, 191, 0.6)",
          "line": {
           "color": "rgba(55, 128, 191, 0.8787878787878789)",
           "width": 1
          }
         },
         "name": "56",
         "orientation": "v",
         "text": "",
         "type": "bar",
         "x": [
          "name",
          "variable",
          "value"
         ],
         "y": [
          "blue",
          "1918 the passin",
          0.000039375504498651386
         ]
        },
        {
         "marker": {
          "color": "rgba(50, 171, 96, 0.6)",
          "line": {
           "color": "rgba(50, 171, 96, 0.8787878787878789)",
           "width": 1
          }
         },
         "name": "57",
         "orientation": "v",
         "text": "",
         "type": "bar",
         "x": [
          "name",
          "variable",
          "value"
         ],
         "y": [
          "brown",
          "1918 the passin",
          0.000059063256747977086
         ]
        },
        {
         "marker": {
          "color": "rgba(128, 0, 128, 0.6)",
          "line": {
           "color": "rgba(128, 0, 128, 0.8787878787878789)",
           "width": 1
          }
         },
         "name": "58",
         "orientation": "v",
         "text": "",
         "type": "bar",
         "x": [
          "name",
          "variable",
          "value"
         ],
         "y": [
          "green",
          "1918 the passin",
          0.00007382907093497136
         ]
        },
        {
         "marker": {
          "color": "rgba(219, 64, 82, 0.6)",
          "line": {
           "color": "rgba(219, 64, 82, 0.8787878787878789)",
           "width": 1
          }
         },
         "name": "59",
         "orientation": "v",
         "text": "",
         "type": "bar",
         "x": [
          "name",
          "variable",
          "value"
         ],
         "y": [
          "grey",
          "1918 the passin",
          0.00009351682318429704
         ]
        },
        {
         "marker": {
          "color": "rgba(219, 64, 82, 0.6)",
          "line": {
           "color": "rgba(219, 64, 82, 0.8545454545454545)",
           "width": 1
          }
         },
         "name": "60",
         "orientation": "v",
         "text": "",
         "type": "bar",
         "x": [
          "name",
          "variable",
          "value"
         ],
         "y": [
          "orange",
          "1918 the passin",
          0.0000836729470596342
         ]
        },
        {
         "marker": {
          "color": "rgba(0, 128, 128, 0.6)",
          "line": {
           "color": "rgba(0, 128, 128, 0.8545454545454545)",
           "width": 1
          }
         },
         "name": "61",
         "orientation": "v",
         "text": "",
         "type": "bar",
         "x": [
          "name",
          "variable",
          "value"
         ],
         "y": [
          "red",
          "1918 the passin",
          0.00013781426574527986
         ]
        },
        {
         "marker": {
          "color": "rgba(255, 255, 51, 0.6)",
          "line": {
           "color": "rgba(255, 255, 51, 0.8545454545454545)",
           "width": 1
          }
         },
         "name": "62",
         "orientation": "v",
         "text": "",
         "type": "bar",
         "x": [
          "name",
          "variable",
          "value"
         ],
         "y": [
          "violet",
          "1918 the passin",
          ""
         ]
        },
        {
         "marker": {
          "color": "rgba(128, 128, 0, 0.6)",
          "line": {
           "color": "rgba(128, 128, 0, 0.8545454545454545)",
           "width": 1
          }
         },
         "name": "63",
         "orientation": "v",
         "text": "",
         "type": "bar",
         "x": [
          "name",
          "variable",
          "value"
         ],
         "y": [
          "white",
          "1918 the passin",
          0.00014273620380761127
         ]
        },
        {
         "marker": {
          "color": "rgba(251, 128, 114, 0.6)",
          "line": {
           "color": "rgba(251, 128, 114, 0.8545454545454545)",
           "width": 1
          }
         },
         "name": "64",
         "orientation": "v",
         "text": "",
         "type": "bar",
         "x": [
          "name",
          "variable",
          "value"
         ],
         "y": [
          "yellow",
          "1918 the passin",
          0.0002510188411789026
         ]
        },
        {
         "marker": {
          "color": "rgba(128, 177, 211, 0.6)",
          "line": {
           "color": "rgba(128, 177, 211, 0.8545454545454545)",
           "width": 1
          }
         },
         "name": "65",
         "orientation": "v",
         "text": "",
         "type": "bar",
         "x": [
          "name",
          "variable",
          "value"
         ],
         "y": [
          "name",
          "1918 the passin",
          "1918 the passin"
         ]
        },
        {
         "marker": {
          "color": "rgba(255, 153, 51, 0.6)",
          "line": {
           "color": "rgba(255, 153, 51, 0.8545454545454545)",
           "width": 1
          }
         },
         "name": "66",
         "orientation": "v",
         "text": "",
         "type": "bar",
         "x": [
          "name",
          "variable",
          "value"
         ],
         "y": [
          "black",
          "1918 the white ",
          0.00010143016533116949
         ]
        },
        {
         "marker": {
          "color": "rgba(55, 128, 191, 0.6)",
          "line": {
           "color": "rgba(55, 128, 191, 0.8545454545454545)",
           "width": 1
          }
         },
         "name": "67",
         "orientation": "v",
         "text": "",
         "type": "bar",
         "x": [
          "name",
          "variable",
          "value"
         ],
         "y": [
          "blue",
          "1918 the white ",
          0.00006406115705126495
         ]
        },
        {
         "marker": {
          "color": "rgba(50, 171, 96, 0.6)",
          "line": {
           "color": "rgba(50, 171, 96, 0.8545454545454545)",
           "width": 1
          }
         },
         "name": "68",
         "orientation": "v",
         "text": "",
         "type": "bar",
         "x": [
          "name",
          "variable",
          "value"
         ],
         "y": [
          "brown",
          "1918 the white ",
          0.00006939958680553701
         ]
        },
        {
         "marker": {
          "color": "rgba(128, 0, 128, 0.6)",
          "line": {
           "color": "rgba(128, 0, 128, 0.8545454545454545)",
           "width": 1
          }
         },
         "name": "69",
         "orientation": "v",
         "text": "",
         "type": "bar",
         "x": [
          "name",
          "variable",
          "value"
         ],
         "y": [
          "green",
          "1918 the white ",
          0.00003736900827990455
         ]
        },
        {
         "marker": {
          "color": "rgba(128, 0, 128, 0.6)",
          "line": {
           "color": "rgba(128, 0, 128, 0.8303030303030303)",
           "width": 1
          }
         },
         "name": "70",
         "orientation": "v",
         "text": "",
         "type": "bar",
         "x": [
          "name",
          "variable",
          "value"
         ],
         "y": [
          "grey",
          "1918 the white ",
          0.00008007644631408118
         ]
        },
        {
         "marker": {
          "color": "rgba(219, 64, 82, 0.6)",
          "line": {
           "color": "rgba(219, 64, 82, 0.8303030303030303)",
           "width": 1
          }
         },
         "name": "71",
         "orientation": "v",
         "text": "",
         "type": "bar",
         "x": [
          "name",
          "variable",
          "value"
         ],
         "y": [
          "orange",
          "1918 the white ",
          0.00004270743803417663
         ]
        },
        {
         "marker": {
          "color": "rgba(0, 128, 128, 0.6)",
          "line": {
           "color": "rgba(0, 128, 128, 0.8303030303030303)",
           "width": 1
          }
         },
         "name": "72",
         "orientation": "v",
         "text": "",
         "type": "bar",
         "x": [
          "name",
          "variable",
          "value"
         ],
         "y": [
          "red",
          "1918 the white ",
          0.00011210702483971365
         ]
        },
        {
         "marker": {
          "color": "rgba(255, 255, 51, 0.6)",
          "line": {
           "color": "rgba(255, 255, 51, 0.8303030303030303)",
           "width": 1
          }
         },
         "name": "73",
         "orientation": "v",
         "text": "",
         "type": "bar",
         "x": [
          "name",
          "variable",
          "value"
         ],
         "y": [
          "violet",
          "1918 the white ",
          0.000026692148771360392
         ]
        },
        {
         "marker": {
          "color": "rgba(128, 128, 0, 0.6)",
          "line": {
           "color": "rgba(128, 128, 0, 0.8303030303030303)",
           "width": 1
          }
         },
         "name": "74",
         "orientation": "v",
         "text": "",
         "type": "bar",
         "x": [
          "name",
          "variable",
          "value"
         ],
         "y": [
          "white",
          "1918 the white ",
          0.00011210702483971365
         ]
        },
        {
         "marker": {
          "color": "rgba(251, 128, 114, 0.6)",
          "line": {
           "color": "rgba(251, 128, 114, 0.8303030303030303)",
           "width": 1
          }
         },
         "name": "75",
         "orientation": "v",
         "text": "",
         "type": "bar",
         "x": [
          "name",
          "variable",
          "value"
         ],
         "y": [
          "yellow",
          "1918 the white ",
          0.000016015289262816237
         ]
        },
        {
         "marker": {
          "color": "rgba(128, 177, 211, 0.6)",
          "line": {
           "color": "rgba(128, 177, 211, 0.8303030303030303)",
           "width": 1
          }
         },
         "name": "76",
         "orientation": "v",
         "text": "",
         "type": "bar",
         "x": [
          "name",
          "variable",
          "value"
         ],
         "y": [
          "name",
          "1918 the white ",
          "1918 the white "
         ]
        },
        {
         "marker": {
          "color": "rgba(255, 153, 51, 0.6)",
          "line": {
           "color": "rgba(255, 153, 51, 0.8303030303030303)",
           "width": 1
          }
         },
         "name": "77",
         "orientation": "v",
         "text": "",
         "type": "bar",
         "x": [
          "name",
          "variable",
          "value"
         ],
         "y": [
          "black",
          "1918 the world ",
          0.00015820056632247676
         ]
        },
        {
         "marker": {
          "color": "rgba(55, 128, 191, 0.6)",
          "line": {
           "color": "rgba(55, 128, 191, 0.8303030303030303)",
           "width": 1
          }
         },
         "name": "78",
         "orientation": "v",
         "text": "",
         "type": "bar",
         "x": [
          "name",
          "variable",
          "value"
         ],
         "y": [
          "blue",
          "1918 the world ",
          0.000028440551248984582
         ]
        },
        {
         "marker": {
          "color": "rgba(50, 171, 96, 0.6)",
          "line": {
           "color": "rgba(50, 171, 96, 0.8303030303030303)",
           "width": 1
          }
         },
         "name": "79",
         "orientation": "v",
         "text": "",
         "type": "bar",
         "x": [
          "name",
          "variable",
          "value"
         ],
         "y": [
          "brown",
          "1918 the world ",
          0.00011553973944899987
         ]
        },
        {
         "marker": {
          "color": "rgba(50, 171, 96, 0.6)",
          "line": {
           "color": "rgba(50, 171, 96, 0.8060606060606061)",
           "width": 1
          }
         },
         "name": "80",
         "orientation": "v",
         "text": "",
         "type": "bar",
         "x": [
          "name",
          "variable",
          "value"
         ],
         "y": [
          "green",
          "1918 the world ",
          0.000058658636951030703
         ]
        },
        {
         "marker": {
          "color": "rgba(128, 0, 128, 0.6)",
          "line": {
           "color": "rgba(128, 0, 128, 0.8060606060606061)",
           "width": 1
          }
         },
         "name": "81",
         "orientation": "v",
         "text": "",
         "type": "bar",
         "x": [
          "name",
          "variable",
          "value"
         ],
         "y": [
          "grey",
          "1918 the world ",
          0.00012976001507349216
         ]
        },
        {
         "marker": {
          "color": "rgba(219, 64, 82, 0.6)",
          "line": {
           "color": "rgba(219, 64, 82, 0.8060606060606061)",
           "width": 1
          }
         },
         "name": "82",
         "orientation": "v",
         "text": "",
         "type": "bar",
         "x": [
          "name",
          "variable",
          "value"
         ],
         "y": [
          "orange",
          "1918 the world ",
          0.00007998905038776913
         ]
        },
        {
         "marker": {
          "color": "rgba(0, 128, 128, 0.6)",
          "line": {
           "color": "rgba(0, 128, 128, 0.8060606060606061)",
           "width": 1
          }
         },
         "name": "83",
         "orientation": "v",
         "text": "",
         "type": "bar",
         "x": [
          "name",
          "variable",
          "value"
         ],
         "y": [
          "red",
          "1918 the world ",
          0.00012442741171430756
         ]
        },
        {
         "marker": {
          "color": "rgba(255, 255, 51, 0.6)",
          "line": {
           "color": "rgba(255, 255, 51, 0.8060606060606061)",
           "width": 1
          }
         },
         "name": "84",
         "orientation": "v",
         "text": "",
         "type": "bar",
         "x": [
          "name",
          "variable",
          "value"
         ],
         "y": [
          "violet",
          "1918 the world ",
          0.00010665206718369218
         ]
        },
        {
         "marker": {
          "color": "rgba(128, 128, 0, 0.6)",
          "line": {
           "color": "rgba(128, 128, 0, 0.8060606060606061)",
           "width": 1
          }
         },
         "name": "85",
         "orientation": "v",
         "text": "",
         "type": "bar",
         "x": [
          "name",
          "variable",
          "value"
         ],
         "y": [
          "white",
          "1918 the world ",
          0.00015997810077553827
         ]
        },
        {
         "marker": {
          "color": "rgba(251, 128, 114, 0.6)",
          "line": {
           "color": "rgba(251, 128, 114, 0.8060606060606061)",
           "width": 1
          }
         },
         "name": "86",
         "orientation": "v",
         "text": "",
         "type": "bar",
         "x": [
          "name",
          "variable",
          "value"
         ],
         "y": [
          "yellow",
          "1918 the world ",
          0.00006043617140409224
         ]
        },
        {
         "marker": {
          "color": "rgba(128, 177, 211, 0.6)",
          "line": {
           "color": "rgba(128, 177, 211, 0.8060606060606061)",
           "width": 1
          }
         },
         "name": "87",
         "orientation": "v",
         "text": "",
         "type": "bar",
         "x": [
          "name",
          "variable",
          "value"
         ],
         "y": [
          "name",
          "1918 the world ",
          "1918 the world "
         ]
        },
        {
         "marker": {
          "color": "rgba(255, 153, 51, 0.6)",
          "line": {
           "color": "rgba(255, 153, 51, 0.8060606060606061)",
           "width": 1
          }
         },
         "name": "88",
         "orientation": "v",
         "text": "",
         "type": "bar",
         "x": [
          "name",
          "variable",
          "value"
         ],
         "y": [
          "black",
          "1918 wild youth",
          0.00011795327477608536
         ]
        },
        {
         "marker": {
          "color": "rgba(55, 128, 191, 0.6)",
          "line": {
           "color": "rgba(55, 128, 191, 0.8060606060606061)",
           "width": 1
          }
         },
         "name": "89",
         "orientation": "v",
         "text": "",
         "type": "bar",
         "x": [
          "name",
          "variable",
          "value"
         ],
         "y": [
          "blue",
          "1918 wild youth",
          0.00007470374069152074
         ]
        },
        {
         "marker": {
          "color": "rgba(55, 128, 191, 0.6)",
          "line": {
           "color": "rgba(55, 128, 191, 0.781818181818182)",
           "width": 1
          }
         },
         "name": "90",
         "orientation": "v",
         "text": "",
         "type": "bar",
         "x": [
          "name",
          "variable",
          "value"
         ],
         "y": [
          "brown",
          "1918 wild youth",
          0.00008256729234325976
         ]
        },
        {
         "marker": {
          "color": "rgba(50, 171, 96, 0.6)",
          "line": {
           "color": "rgba(50, 171, 96, 0.781818181818182)",
           "width": 1
          }
         },
         "name": "91",
         "orientation": "v",
         "text": "",
         "type": "bar",
         "x": [
          "name",
          "variable",
          "value"
         ],
         "y": [
          "green",
          "1918 wild youth",
          0.0000629084132139122
         ]
        },
        {
         "marker": {
          "color": "rgba(128, 0, 128, 0.6)",
          "line": {
           "color": "rgba(128, 0, 128, 0.781818181818182)",
           "width": 1
          }
         },
         "name": "92",
         "orientation": "v",
         "text": "",
         "type": "bar",
         "x": [
          "name",
          "variable",
          "value"
         ],
         "y": [
          "grey",
          "1918 wild youth",
          0.00009043084399499878
         ]
        },
        {
         "marker": {
          "color": "rgba(219, 64, 82, 0.6)",
          "line": {
           "color": "rgba(219, 64, 82, 0.781818181818182)",
           "width": 1
          }
         },
         "name": "93",
         "orientation": "v",
         "text": "",
         "type": "bar",
         "x": [
          "name",
          "variable",
          "value"
         ],
         "y": [
          "orange",
          "1918 wild youth",
          0.00001965887912934756
         ]
        },
        {
         "marker": {
          "color": "rgba(0, 128, 128, 0.6)",
          "line": {
           "color": "rgba(0, 128, 128, 0.781818181818182)",
           "width": 1
          }
         },
         "name": "94",
         "orientation": "v",
         "text": "",
         "type": "bar",
         "x": [
          "name",
          "variable",
          "value"
         ],
         "y": [
          "red",
          "1918 wild youth",
          0.00008256729234325976
         ]
        },
        {
         "marker": {
          "color": "rgba(255, 255, 51, 0.6)",
          "line": {
           "color": "rgba(255, 255, 51, 0.781818181818182)",
           "width": 1
          }
         },
         "name": "95",
         "orientation": "v",
         "text": "",
         "type": "bar",
         "x": [
          "name",
          "variable",
          "value"
         ],
         "y": [
          "violet",
          "1918 wild youth",
          0.000023590654955217075
         ]
        },
        {
         "marker": {
          "color": "rgba(128, 128, 0, 0.6)",
          "line": {
           "color": "rgba(128, 128, 0, 0.781818181818182)",
           "width": 1
          }
         },
         "name": "96",
         "orientation": "v",
         "text": "",
         "type": "bar",
         "x": [
          "name",
          "variable",
          "value"
         ],
         "y": [
          "white",
          "1918 wild youth",
          0.00011795327477608536
         ]
        },
        {
         "marker": {
          "color": "rgba(251, 128, 114, 0.6)",
          "line": {
           "color": "rgba(251, 128, 114, 0.781818181818182)",
           "width": 1
          }
         },
         "name": "97",
         "orientation": "v",
         "text": "",
         "type": "bar",
         "x": [
          "name",
          "variable",
          "value"
         ],
         "y": [
          "yellow",
          "1918 wild youth",
          0.00008649906816912926
         ]
        },
        {
         "marker": {
          "color": "rgba(128, 177, 211, 0.6)",
          "line": {
           "color": "rgba(128, 177, 211, 0.781818181818182)",
           "width": 1
          }
         },
         "name": "98",
         "orientation": "v",
         "text": "",
         "type": "bar",
         "x": [
          "name",
          "variable",
          "value"
         ],
         "y": [
          "name",
          "1918 wild youth",
          "1918 wild youth"
         ]
        },
        {
         "marker": {
          "color": "rgba(255, 153, 51, 0.6)",
          "line": {
           "color": "rgba(255, 153, 51, 0.781818181818182)",
           "width": 1
          }
         },
         "name": "99",
         "orientation": "v",
         "text": "",
         "type": "bar",
         "x": [
          "name",
          "variable",
          "value"
         ],
         "y": [
          "black",
          "1918_Lewis_Sinc",
          0.00015363780172757173
         ]
        },
        {
         "marker": {
          "color": "rgba(255, 153, 51, 0.6)",
          "line": {
           "color": "rgba(255, 153, 51, 0.7575757575757576)",
           "width": 1
          }
         },
         "name": "100",
         "orientation": "v",
         "text": "",
         "type": "bar",
         "x": [
          "name",
          "variable",
          "value"
         ],
         "y": [
          "blue",
          "1918_Lewis_Sinc",
          0.00008725109727738642
         ]
        },
        {
         "marker": {
          "color": "rgba(55, 128, 191, 0.6)",
          "line": {
           "color": "rgba(55, 128, 191, 0.7575757575757576)",
           "width": 1
          }
         },
         "name": "101",
         "orientation": "v",
         "text": "",
         "type": "bar",
         "x": [
          "name",
          "variable",
          "value"
         ],
         "y": [
          "brown",
          "1918_Lewis_Sinc",
          0.0000853543342930954
         ]
        },
        {
         "marker": {
          "color": "rgba(50, 171, 96, 0.6)",
          "line": {
           "color": "rgba(50, 171, 96, 0.7575757575757576)",
           "width": 1
          }
         },
         "name": "102",
         "orientation": "v",
         "text": "",
         "type": "bar",
         "x": [
          "name",
          "variable",
          "value"
         ],
         "y": [
          "green",
          "1918_Lewis_Sinc",
          0.0001043219641360055
         ]
        },
        {
         "marker": {
          "color": "rgba(128, 0, 128, 0.6)",
          "line": {
           "color": "rgba(128, 0, 128, 0.7575757575757576)",
           "width": 1
          }
         },
         "name": "103",
         "orientation": "v",
         "text": "",
         "type": "bar",
         "x": [
          "name",
          "variable",
          "value"
         ],
         "y": [
          "grey",
          "1918_Lewis_Sinc",
          0.0001081154901045875
         ]
        },
        {
         "marker": {
          "color": "rgba(219, 64, 82, 0.6)",
          "line": {
           "color": "rgba(219, 64, 82, 0.7575757575757576)",
           "width": 1
          }
         },
         "name": "104",
         "orientation": "v",
         "text": "",
         "type": "bar",
         "x": [
          "name",
          "variable",
          "value"
         ],
         "y": [
          "orange",
          "1918_Lewis_Sinc",
          0.00006448994146589431
         ]
        },
        {
         "marker": {
          "color": "rgba(0, 128, 128, 0.6)",
          "line": {
           "color": "rgba(0, 128, 128, 0.7575757575757576)",
           "width": 1
          }
         },
         "name": "105",
         "orientation": "v",
         "text": "",
         "type": "bar",
         "x": [
          "name",
          "variable",
          "value"
         ],
         "y": [
          "red",
          "1918_Lewis_Sinc",
          0.00014605074979040768
         ]
        },
        {
         "marker": {
          "color": "rgba(255, 255, 51, 0.6)",
          "line": {
           "color": "rgba(255, 255, 51, 0.7575757575757576)",
           "width": 1
          }
         },
         "name": "106",
         "orientation": "v",
         "text": "",
         "type": "bar",
         "x": [
          "name",
          "variable",
          "value"
         ],
         "y": [
          "violet",
          "1918_Lewis_Sinc",
          0.000026554681780074125
         ]
        },
        {
         "marker": {
          "color": "rgba(128, 128, 0, 0.6)",
          "line": {
           "color": "rgba(128, 128, 0, 0.7575757575757576)",
           "width": 1
          }
         },
         "name": "107",
         "orientation": "v",
         "text": "",
         "type": "bar",
         "x": [
          "name",
          "variable",
          "value"
         ],
         "y": [
          "white",
          "1918_Lewis_Sinc",
          0.00021054069125630198
         ]
        },
        {
         "marker": {
          "color": "rgba(251, 128, 114, 0.6)",
          "line": {
           "color": "rgba(251, 128, 114, 0.7575757575757576)",
           "width": 1
          }
         },
         "name": "108",
         "orientation": "v",
         "text": "",
         "type": "bar",
         "x": [
          "name",
          "variable",
          "value"
         ],
         "y": [
          "yellow",
          "1918_Lewis_Sinc",
          0.0003622817299995827
         ]
        },
        {
         "marker": {
          "color": "rgba(128, 177, 211, 0.6)",
          "line": {
           "color": "rgba(128, 177, 211, 0.7575757575757576)",
           "width": 1
          }
         },
         "name": "109",
         "orientation": "v",
         "text": "",
         "type": "bar",
         "x": [
          "name",
          "variable",
          "value"
         ],
         "y": [
          "name",
          "1918_Lewis_Sinc",
          "1918_Lewis_Sinc"
         ]
        },
        {
         "marker": {
          "color": "rgba(128, 177, 211, 0.6)",
          "line": {
           "color": "rgba(128, 177, 211, 0.7333333333333334)",
           "width": 1
          }
         },
         "name": "110",
         "orientation": "v",
         "text": "",
         "type": "bar",
         "x": [
          "name",
          "variable",
          "value"
         ],
         "y": [
          "black",
          "1919 all roads ",
          0.00006809126564153645
         ]
        },
        {
         "marker": {
          "color": "rgba(255, 153, 51, 0.6)",
          "line": {
           "color": "rgba(255, 153, 51, 0.7333333333333334)",
           "width": 1
          }
         },
         "name": "111",
         "orientation": "v",
         "text": "",
         "type": "bar",
         "x": [
          "name",
          "variable",
          "value"
         ],
         "y": [
          "blue",
          "1919 all roads ",
          0.00002918197098922991
         ]
        },
        {
         "marker": {
          "color": "rgba(55, 128, 191, 0.6)",
          "line": {
           "color": "rgba(55, 128, 191, 0.7333333333333334)",
           "width": 1
          }
         },
         "name": "112",
         "orientation": "v",
         "text": "",
         "type": "bar",
         "x": [
          "name",
          "variable",
          "value"
         ],
         "y": [
          "brown",
          "1919 all roads ",
          0.00012061881342215028
         ]
        },
        {
         "marker": {
          "color": "rgba(50, 171, 96, 0.6)",
          "line": {
           "color": "rgba(50, 171, 96, 0.7333333333333334)",
           "width": 1
          }
         },
         "name": "113",
         "orientation": "v",
         "text": "",
         "type": "bar",
         "x": [
          "name",
          "variable",
          "value"
         ],
         "y": [
          "green",
          "1919 all roads ",
          0.00006809126564153645
         ]
        },
        {
         "marker": {
          "color": "rgba(128, 0, 128, 0.6)",
          "line": {
           "color": "rgba(128, 0, 128, 0.7333333333333334)",
           "width": 1
          }
         },
         "name": "114",
         "orientation": "v",
         "text": "",
         "type": "bar",
         "x": [
          "name",
          "variable",
          "value"
         ],
         "y": [
          "grey",
          "1919 all roads ",
          0.00011672788395691963
         ]
        },
        {
         "marker": {
          "color": "rgba(219, 64, 82, 0.6)",
          "line": {
           "color": "rgba(219, 64, 82, 0.7333333333333334)",
           "width": 1
          }
         },
         "name": "115",
         "orientation": "v",
         "text": "",
         "type": "bar",
         "x": [
          "name",
          "variable",
          "value"
         ],
         "y": [
          "orange",
          "1919 all roads ",
          0.00001556371786092262
         ]
        },
        {
         "marker": {
          "color": "rgba(0, 128, 128, 0.6)",
          "line": {
           "color": "rgba(0, 128, 128, 0.7333333333333334)",
           "width": 1
          }
         },
         "name": "116",
         "orientation": "v",
         "text": "",
         "type": "bar",
         "x": [
          "name",
          "variable",
          "value"
         ],
         "y": [
          "red",
          "1919 all roads ",
          0.00011867334868953496
         ]
        },
        {
         "marker": {
          "color": "rgba(255, 255, 51, 0.6)",
          "line": {
           "color": "rgba(255, 255, 51, 0.7333333333333334)",
           "width": 1
          }
         },
         "name": "117",
         "orientation": "v",
         "text": "",
         "type": "bar",
         "x": [
          "name",
          "variable",
          "value"
         ],
         "y": [
          "violet",
          "1919 all roads ",
          0.000019454647326153272
         ]
        },
        {
         "marker": {
          "color": "rgba(128, 128, 0, 0.6)",
          "line": {
           "color": "rgba(128, 128, 0, 0.7333333333333334)",
           "width": 1
          }
         },
         "name": "118",
         "orientation": "v",
         "text": "",
         "type": "bar",
         "x": [
          "name",
          "variable",
          "value"
         ],
         "y": [
          "white",
          "1919 all roads ",
          0.0001225642781547656
         ]
        },
        {
         "marker": {
          "color": "rgba(251, 128, 114, 0.6)",
          "line": {
           "color": "rgba(251, 128, 114, 0.7333333333333334)",
           "width": 1
          }
         },
         "name": "119",
         "orientation": "v",
         "text": "",
         "type": "bar",
         "x": [
          "name",
          "variable",
          "value"
         ],
         "y": [
          "yellow",
          "1919 all roads ",
          0.00004085475938492187
         ]
        },
        {
         "marker": {
          "color": "rgba(251, 128, 114, 0.6)",
          "line": {
           "color": "rgba(251, 128, 114, 0.7090909090909092)",
           "width": 1
          }
         },
         "name": "120",
         "orientation": "v",
         "text": "",
         "type": "bar",
         "x": [
          "name",
          "variable",
          "value"
         ],
         "y": [
          "name",
          "1919 all roads ",
          "1919 all roads "
         ]
        },
        {
         "marker": {
          "color": "rgba(128, 177, 211, 0.6)",
          "line": {
           "color": "rgba(128, 177, 211, 0.7090909090909092)",
           "width": 1
          }
         },
         "name": "121",
         "orientation": "v",
         "text": "",
         "type": "bar",
         "x": [
          "name",
          "variable",
          "value"
         ],
         "y": [
          "black",
          "1919 the avalan",
          0.00016729622879080048
         ]
        },
        {
         "marker": {
          "color": "rgba(255, 153, 51, 0.6)",
          "line": {
           "color": "rgba(255, 153, 51, 0.7090909090909092)",
           "width": 1
          }
         },
         "name": "122",
         "orientation": "v",
         "text": "",
         "type": "bar",
         "x": [
          "name",
          "variable",
          "value"
         ],
         "y": [
          "blue",
          "1919 the avalan",
          0.000052830388039200145
         ]
        },
        {
         "marker": {
          "color": "rgba(55, 128, 191, 0.6)",
          "line": {
           "color": "rgba(55, 128, 191, 0.7090909090909092)",
           "width": 1
          }
         },
         "name": "123",
         "orientation": "v",
         "text": "",
         "type": "bar",
         "x": [
          "name",
          "variable",
          "value"
         ],
         "y": [
          "brown",
          "1919 the avalan",
          0.00007044051738560019
         ]
        },
        {
         "marker": {
          "color": "rgba(50, 171, 96, 0.6)",
          "line": {
           "color": "rgba(50, 171, 96, 0.7090909090909092)",
           "width": 1
          }
         },
         "name": "124",
         "orientation": "v",
         "text": "",
         "type": "bar",
         "x": [
          "name",
          "variable",
          "value"
         ],
         "y": [
          "green",
          "1919 the avalan",
          0.00004402532336600012
         ]
        },
        {
         "marker": {
          "color": "rgba(128, 0, 128, 0.6)",
          "line": {
           "color": "rgba(128, 0, 128, 0.7090909090909092)",
           "width": 1
          }
         },
         "name": "125",
         "orientation": "v",
         "text": "",
         "type": "bar",
         "x": [
          "name",
          "variable",
          "value"
         ],
         "y": [
          "grey",
          "1919 the avalan",
          0.00014088103477120039
         ]
        },
        {
         "marker": {
          "color": "rgba(219, 64, 82, 0.6)",
          "line": {
           "color": "rgba(219, 64, 82, 0.7090909090909092)",
           "width": 1
          }
         },
         "name": "126",
         "orientation": "v",
         "text": "",
         "type": "bar",
         "x": [
          "name",
          "variable",
          "value"
         ],
         "y": [
          "orange",
          "1919 the avalan",
          0.000013207597009800036
         ]
        },
        {
         "marker": {
          "color": "rgba(0, 128, 128, 0.6)",
          "line": {
           "color": "rgba(0, 128, 128, 0.7090909090909092)",
           "width": 1
          }
         },
         "name": "127",
         "orientation": "v",
         "text": "",
         "type": "bar",
         "x": [
          "name",
          "variable",
          "value"
         ],
         "y": [
          "red",
          "1919 the avalan",
          0.0002861646018790008
         ]
        },
        {
         "marker": {
          "color": "rgba(255, 255, 51, 0.6)",
          "line": {
           "color": "rgba(255, 255, 51, 0.7090909090909092)",
           "width": 1
          }
         },
         "name": "128",
         "orientation": "v",
         "text": "",
         "type": "bar",
         "x": [
          "name",
          "variable",
          "value"
         ],
         "y": [
          "violet",
          "1919 the avalan",
          0.000035220258692800097
         ]
        },
        {
         "marker": {
          "color": "rgba(128, 128, 0, 0.6)",
          "line": {
           "color": "rgba(128, 128, 0, 0.7090909090909092)",
           "width": 1
          }
         },
         "name": "129",
         "orientation": "v",
         "text": "",
         "type": "bar",
         "x": [
          "name",
          "variable",
          "value"
         ],
         "y": [
          "white",
          "1919 the avalan",
          0.00009245317906860026
         ]
        },
        {
         "marker": {
          "color": "rgba(128, 128, 0, 0.6)",
          "line": {
           "color": "rgba(128, 128, 0, 0.684848484848485)",
           "width": 1
          }
         },
         "name": "130",
         "orientation": "v",
         "text": "",
         "type": "bar",
         "x": [
          "name",
          "variable",
          "value"
         ],
         "y": [
          "yellow",
          "1919 the avalan",
          0.00007484304972220021
         ]
        },
        {
         "marker": {
          "color": "rgba(251, 128, 114, 0.6)",
          "line": {
           "color": "rgba(251, 128, 114, 0.684848484848485)",
           "width": 1
          }
         },
         "name": "131",
         "orientation": "v",
         "text": "",
         "type": "bar",
         "x": [
          "name",
          "variable",
          "value"
         ],
         "y": [
          "name",
          "1919 the avalan",
          "1919 the avalan"
         ]
        },
        {
         "marker": {
          "color": "rgba(128, 177, 211, 0.6)",
          "line": {
           "color": "rgba(128, 177, 211, 0.684848484848485)",
           "width": 1
          }
         },
         "name": "132",
         "orientation": "v",
         "text": "",
         "type": "bar",
         "x": [
          "name",
          "variable",
          "value"
         ],
         "y": [
          "black",
          "1920 the white ",
          0.00036637892516933854
         ]
        },
        {
         "marker": {
          "color": "rgba(255, 153, 51, 0.6)",
          "line": {
           "color": "rgba(255, 153, 51, 0.684848484848485)",
           "width": 1
          }
         },
         "name": "133",
         "orientation": "v",
         "text": "",
         "type": "bar",
         "x": [
          "name",
          "variable",
          "value"
         ],
         "y": [
          "blue",
          "1920 the white ",
          0.00008042464211034261
         ]
        },
        {
         "marker": {
          "color": "rgba(55, 128, 191, 0.6)",
          "line": {
           "color": "rgba(55, 128, 191, 0.684848484848485)",
           "width": 1
          }
         },
         "name": "134",
         "orientation": "v",
         "text": "",
         "type": "bar",
         "x": [
          "name",
          "variable",
          "value"
         ],
         "y": [
          "brown",
          "1920 the white ",
          0.00025020999767662143
         ]
        },
        {
         "marker": {
          "color": "rgba(50, 171, 96, 0.6)",
          "line": {
           "color": "rgba(50, 171, 96, 0.684848484848485)",
           "width": 1
          }
         },
         "name": "135",
         "orientation": "v",
         "text": "",
         "type": "bar",
         "x": [
          "name",
          "variable",
          "value"
         ],
         "y": [
          "green",
          "1920 the white ",
          0.00025914606902221506
         ]
        },
        {
         "marker": {
          "color": "rgba(128, 0, 128, 0.6)",
          "line": {
           "color": "rgba(128, 0, 128, 0.684848484848485)",
           "width": 1
          }
         },
         "name": "136",
         "orientation": "v",
         "text": "",
         "type": "bar",
         "x": [
          "name",
          "variable",
          "value"
         ],
         "y": [
          "grey",
          "1920 the white ",
          0.00017872142691187246
         ]
        },
        {
         "marker": {
          "color": "rgba(219, 64, 82, 0.6)",
          "line": {
           "color": "rgba(219, 64, 82, 0.684848484848485)",
           "width": 1
          }
         },
         "name": "137",
         "orientation": "v",
         "text": "",
         "type": "bar",
         "x": [
          "name",
          "variable",
          "value"
         ],
         "y": [
          "orange",
          "1920 the white ",
          0.000017872142691187246
         ]
        },
        {
         "marker": {
          "color": "rgba(0, 128, 128, 0.6)",
          "line": {
           "color": "rgba(0, 128, 128, 0.684848484848485)",
           "width": 1
          }
         },
         "name": "138",
         "orientation": "v",
         "text": "",
         "type": "bar",
         "x": [
          "name",
          "variable",
          "value"
         ],
         "y": [
          "red",
          "1920 the white ",
          0.00016084928422068523
         ]
        },
        {
         "marker": {
          "color": "rgba(255, 255, 51, 0.6)",
          "line": {
           "color": "rgba(255, 255, 51, 0.684848484848485)",
           "width": 1
          }
         },
         "name": "139",
         "orientation": "v",
         "text": "",
         "type": "bar",
         "x": [
          "name",
          "variable",
          "value"
         ],
         "y": [
          "violet",
          "1920 the white ",
          0.00006255249941915536
         ]
        },
        {
         "marker": {
          "color": "rgba(255, 255, 51, 0.6)",
          "line": {
           "color": "rgba(255, 255, 51, 0.6606060606060606)",
           "width": 1
          }
         },
         "name": "140",
         "orientation": "v",
         "text": "",
         "type": "bar",
         "x": [
          "name",
          "variable",
          "value"
         ],
         "y": [
          "white",
          "1920 the white ",
          0.00040212321055171305
         ]
        },
        {
         "marker": {
          "color": "rgba(128, 128, 0, 0.6)",
          "line": {
           "color": "rgba(128, 128, 0, 0.6606060606060606)",
           "width": 1
          }
         },
         "name": "141",
         "orientation": "v",
         "text": "",
         "type": "bar",
         "x": [
          "name",
          "variable",
          "value"
         ],
         "y": [
          "yellow",
          "1920 the white ",
          0.00010723285614712348
         ]
        },
        {
         "marker": {
          "color": "rgba(251, 128, 114, 0.6)",
          "line": {
           "color": "rgba(251, 128, 114, 0.6606060606060606)",
           "width": 1
          }
         },
         "name": "142",
         "orientation": "v",
         "text": "",
         "type": "bar",
         "x": [
          "name",
          "variable",
          "value"
         ],
         "y": [
          "name",
          "1920 the white ",
          "1920 the white "
         ]
        },
        {
         "marker": {
          "color": "rgba(128, 177, 211, 0.6)",
          "line": {
           "color": "rgba(128, 177, 211, 0.6606060606060606)",
           "width": 1
          }
         },
         "name": "143",
         "orientation": "v",
         "text": "",
         "type": "bar",
         "x": [
          "name",
          "variable",
          "value"
         ],
         "y": [
          "black",
          "1920_DosPassos_",
          0.0003540416401247192
         ]
        },
        {
         "marker": {
          "color": "rgba(255, 153, 51, 0.6)",
          "line": {
           "color": "rgba(255, 153, 51, 0.6606060606060606)",
           "width": 1
          }
         },
         "name": "144",
         "orientation": "v",
         "text": "",
         "type": "bar",
         "x": [
          "name",
          "variable",
          "value"
         ],
         "y": [
          "blue",
          "1920_DosPassos_",
          0.00019445468870486472
         ]
        },
        {
         "marker": {
          "color": "rgba(55, 128, 191, 0.6)",
          "line": {
           "color": "rgba(55, 128, 191, 0.6606060606060606)",
           "width": 1
          }
         },
         "name": "145",
         "orientation": "v",
         "text": "",
         "type": "bar",
         "x": [
          "name",
          "variable",
          "value"
         ],
         "y": [
          "brown",
          "1920_DosPassos_",
          0.00029101149964796995
         ]
        },
        {
         "marker": {
          "color": "rgba(50, 171, 96, 0.6)",
          "line": {
           "color": "rgba(50, 171, 96, 0.6606060606060606)",
           "width": 1
          }
         },
         "name": "146",
         "orientation": "v",
         "text": "",
         "type": "bar",
         "x": [
          "name",
          "variable",
          "value"
         ],
         "y": [
          "green",
          "1920_DosPassos_",
          0.00032856137057028865
         ]
        },
        {
         "marker": {
          "color": "rgba(128, 0, 128, 0.6)",
          "line": {
           "color": "rgba(128, 0, 128, 0.6606060606060606)",
           "width": 1
          }
         },
         "name": "147",
         "orientation": "v",
         "text": "",
         "type": "bar",
         "x": [
          "name",
          "variable",
          "value"
         ],
         "y": [
          "grey",
          "1920_DosPassos_",
          0.0005538605961042009
         ]
        },
        {
         "marker": {
          "color": "rgba(219, 64, 82, 0.6)",
          "line": {
           "color": "rgba(219, 64, 82, 0.6606060606060606)",
           "width": 1
          }
         },
         "name": "148",
         "orientation": "v",
         "text": "",
         "type": "bar",
         "x": [
          "name",
          "variable",
          "value"
         ],
         "y": [
          "orange",
          "1920_DosPassos_",
          0.00011264961276695611
         ]
        },
        {
         "marker": {
          "color": "rgba(0, 128, 128, 0.6)",
          "line": {
           "color": "rgba(0, 128, 128, 0.6606060606060606)",
           "width": 1
          }
         },
         "name": "149",
         "orientation": "v",
         "text": "",
         "type": "bar",
         "x": [
          "name",
          "variable",
          "value"
         ],
         "y": [
          "red",
          "1920_DosPassos_",
          0.00048814832199014314
         ]
        },
        {
         "marker": {
          "color": "rgba(0, 128, 128, 0.6)",
          "line": {
           "color": "rgba(0, 128, 128, 0.6363636363636365)",
           "width": 1
          }
         },
         "name": "150",
         "orientation": "v",
         "text": "",
         "type": "bar",
         "x": [
          "name",
          "variable",
          "value"
         ],
         "y": [
          "violet",
          "1920_DosPassos_",
          0.0001770208200623596
         ]
        },
        {
         "marker": {
          "color": "rgba(255, 255, 51, 0.6)",
          "line": {
           "color": "rgba(255, 255, 51, 0.6363636363636365)",
           "width": 1
          }
         },
         "name": "151",
         "orientation": "v",
         "text": "",
         "type": "bar",
         "x": [
          "name",
          "variable",
          "value"
         ],
         "y": [
          "white",
          "1920_DosPassos_",
          0.000442552050155899
         ]
        },
        {
         "marker": {
          "color": "rgba(128, 128, 0, 0.6)",
          "line": {
           "color": "rgba(128, 128, 0, 0.6363636363636365)",
           "width": 1
          }
         },
         "name": "152",
         "orientation": "v",
         "text": "",
         "type": "bar",
         "x": [
          "name",
          "variable",
          "value"
         ],
         "y": [
          "yellow",
          "1920_DosPassos_",
          0.0002990579005598954
         ]
        },
        {
         "marker": {
          "color": "rgba(251, 128, 114, 0.6)",
          "line": {
           "color": "rgba(251, 128, 114, 0.6363636363636365)",
           "width": 1
          }
         },
         "name": "153",
         "orientation": "v",
         "text": "",
         "type": "bar",
         "x": [
          "name",
          "variable",
          "value"
         ],
         "y": [
          "name",
          "1920_DosPassos_",
          "1920_DosPassos_"
         ]
        },
        {
         "marker": {
          "color": "rgba(128, 177, 211, 0.6)",
          "line": {
           "color": "rgba(128, 177, 211, 0.6363636363636365)",
           "width": 1
          }
         },
         "name": "154",
         "orientation": "v",
         "text": "",
         "type": "bar",
         "x": [
          "name",
          "variable",
          "value"
         ],
         "y": [
          "black",
          "1920_Fitzgerald",
          0.0001835518244085284
         ]
        },
        {
         "marker": {
          "color": "rgba(255, 153, 51, 0.6)",
          "line": {
           "color": "rgba(255, 153, 51, 0.6363636363636365)",
           "width": 1
          }
         },
         "name": "155",
         "orientation": "v",
         "text": "",
         "type": "bar",
         "x": [
          "name",
          "variable",
          "value"
         ],
         "y": [
          "blue",
          "1920_Fitzgerald",
          0.00012317293480045984
         ]
        },
        {
         "marker": {
          "color": "rgba(55, 128, 191, 0.6)",
          "line": {
           "color": "rgba(55, 128, 191, 0.6363636363636365)",
           "width": 1
          }
         },
         "name": "156",
         "orientation": "v",
         "text": "",
         "type": "bar",
         "x": [
          "name",
          "variable",
          "value"
         ],
         "y": [
          "brown",
          "1920_Fitzgerald",
          0.00006520920077671404
         ]
        },
        {
         "marker": {
          "color": "rgba(50, 171, 96, 0.6)",
          "line": {
           "color": "rgba(50, 171, 96, 0.6363636363636365)",
           "width": 1
          }
         },
         "name": "157",
         "orientation": "v",
         "text": "",
         "type": "bar",
         "x": [
          "name",
          "variable",
          "value"
         ],
         "y": [
          "green",
          "1920_Fitzgerald",
          0.00007245466752968227
         ]
        },
        {
         "marker": {
          "color": "rgba(128, 0, 128, 0.6)",
          "line": {
           "color": "rgba(128, 0, 128, 0.6363636363636365)",
           "width": 1
          }
         },
         "name": "158",
         "orientation": "v",
         "text": "",
         "type": "bar",
         "x": [
          "name",
          "variable",
          "value"
         ],
         "y": [
          "grey",
          "1920_Fitzgerald",
          0.00009419106778858694
         ]
        },
        {
         "marker": {
          "color": "rgba(219, 64, 82, 0.6)",
          "line": {
           "color": "rgba(219, 64, 82, 0.6363636363636365)",
           "width": 1
          }
         },
         "name": "159",
         "orientation": "v",
         "text": "",
         "type": "bar",
         "x": [
          "name",
          "variable",
          "value"
         ],
         "y": [
          "orange",
          "1920_Fitzgerald",
          0.000031397022596195644
         ]
        },
        {
         "marker": {
          "color": "rgba(219, 64, 82, 0.6)",
          "line": {
           "color": "rgba(219, 64, 82, 0.6121212121212123)",
           "width": 1
          }
         },
         "name": "160",
         "orientation": "v",
         "text": "",
         "type": "bar",
         "x": [
          "name",
          "variable",
          "value"
         ],
         "y": [
          "red",
          "1920_Fitzgerald",
          0.00011109715687884613
         ]
        },
        {
         "marker": {
          "color": "rgba(0, 128, 128, 0.6)",
          "line": {
           "color": "rgba(0, 128, 128, 0.6121212121212123)",
           "width": 1
          }
         },
         "name": "161",
         "orientation": "v",
         "text": "",
         "type": "bar",
         "x": [
          "name",
          "variable",
          "value"
         ],
         "y": [
          "violet",
          "1920_Fitzgerald",
          0.000031397022596195644
         ]
        },
        {
         "marker": {
          "color": "rgba(255, 255, 51, 0.6)",
          "line": {
           "color": "rgba(255, 255, 51, 0.6121212121212123)",
           "width": 1
          }
         },
         "name": "162",
         "orientation": "v",
         "text": "",
         "type": "bar",
         "x": [
          "name",
          "variable",
          "value"
         ],
         "y": [
          "white",
          "1920_Fitzgerald",
          0.0001666457353182692
         ]
        },
        {
         "marker": {
          "color": "rgba(128, 128, 0, 0.6)",
          "line": {
           "color": "rgba(128, 128, 0, 0.6121212121212123)",
           "width": 1
          }
         },
         "name": "163",
         "orientation": "v",
         "text": "",
         "type": "bar",
         "x": [
          "name",
          "variable",
          "value"
         ],
         "y": [
          "yellow",
          "1920_Fitzgerald",
          0.00010626684571020066
         ]
        },
        {
         "marker": {
          "color": "rgba(251, 128, 114, 0.6)",
          "line": {
           "color": "rgba(251, 128, 114, 0.6121212121212123)",
           "width": 1
          }
         },
         "name": "164",
         "orientation": "v",
         "text": "",
         "type": "bar",
         "x": [
          "name",
          "variable",
          "value"
         ],
         "y": [
          "name",
          "1920_Fitzgerald",
          "1920_Fitzgerald"
         ]
        },
        {
         "marker": {
          "color": "rgba(128, 177, 211, 0.6)",
          "line": {
           "color": "rgba(128, 177, 211, 0.6121212121212123)",
           "width": 1
          }
         },
         "name": "165",
         "orientation": "v",
         "text": "",
         "type": "bar",
         "x": [
          "name",
          "variable",
          "value"
         ],
         "y": [
          "black",
          "1920_Wharton_Ed",
          0.0001115307335805312
         ]
        },
        {
         "marker": {
          "color": "rgba(255, 153, 51, 0.6)",
          "line": {
           "color": "rgba(255, 153, 51, 0.6121212121212123)",
           "width": 1
          }
         },
         "name": "166",
         "orientation": "v",
         "text": "",
         "type": "bar",
         "x": [
          "name",
          "variable",
          "value"
         ],
         "y": [
          "blue",
          "1920_Wharton_Ed",
          0.0000686342975880192
         ]
        },
        {
         "marker": {
          "color": "rgba(55, 128, 191, 0.6)",
          "line": {
           "color": "rgba(55, 128, 191, 0.6121212121212123)",
           "width": 1
          }
         },
         "name": "167",
         "orientation": "v",
         "text": "",
         "type": "bar",
         "x": [
          "name",
          "variable",
          "value"
         ],
         "y": [
          "brown",
          "1920_Wharton_Ed",
          0.00007035015502771968
         ]
        },
        {
         "marker": {
          "color": "rgba(50, 171, 96, 0.6)",
          "line": {
           "color": "rgba(50, 171, 96, 0.6121212121212123)",
           "width": 1
          }
         },
         "name": "168",
         "orientation": "v",
         "text": "",
         "type": "bar",
         "x": [
          "name",
          "variable",
          "value"
         ],
         "y": [
          "green",
          "1920_Wharton_Ed",
          0.0000686342975880192
         ]
        },
        {
         "marker": {
          "color": "rgba(128, 0, 128, 0.6)",
          "line": {
           "color": "rgba(128, 0, 128, 0.6121212121212123)",
           "width": 1
          }
         },
         "name": "169",
         "orientation": "v",
         "text": "",
         "type": "bar",
         "x": [
          "name",
          "variable",
          "value"
         ],
         "y": [
          "grey",
          "1920_Wharton_Ed",
          0.00010809901870113024
         ]
        },
        {
         "marker": {
          "color": "rgba(128, 0, 128, 0.6)",
          "line": {
           "color": "rgba(128, 0, 128, 0.5878787878787881)",
           "width": 1
          }
         },
         "name": "170",
         "orientation": "v",
         "text": "",
         "type": "bar",
         "x": [
          "name",
          "variable",
          "value"
         ],
         "y": [
          "orange",
          "1920_Wharton_Ed",
          0.00006348672526891775
         ]
        },
        {
         "marker": {
          "color": "rgba(219, 64, 82, 0.6)",
          "line": {
           "color": "rgba(219, 64, 82, 0.5878787878787881)",
           "width": 1
          }
         },
         "name": "171",
         "orientation": "v",
         "text": "",
         "type": "bar",
         "x": [
          "name",
          "variable",
          "value"
         ],
         "y": [
          "red",
          "1920_Wharton_Ed",
          0.0001527113121333427
         ]
        },
        {
         "marker": {
          "color": "rgba(0, 128, 128, 0.6)",
          "line": {
           "color": "rgba(0, 128, 128, 0.5878787878787881)",
           "width": 1
          }
         },
         "name": "172",
         "orientation": "v",
         "text": "",
         "type": "bar",
         "x": [
          "name",
          "variable",
          "value"
         ],
         "y": [
          "violet",
          "1920_Wharton_Ed",
          0.00005833915294981632
         ]
        },
        {
         "marker": {
          "color": "rgba(255, 255, 51, 0.6)",
          "line": {
           "color": "rgba(255, 255, 51, 0.5878787878787881)",
           "width": 1
          }
         },
         "name": "173",
         "orientation": "v",
         "text": "",
         "type": "bar",
         "x": [
          "name",
          "variable",
          "value"
         ],
         "y": [
          "white",
          "1920_Wharton_Ed",
          0.00019217603324645375
         ]
        },
        {
         "marker": {
          "color": "rgba(128, 128, 0, 0.6)",
          "line": {
           "color": "rgba(128, 128, 0, 0.5878787878787881)",
           "width": 1
          }
         },
         "name": "174",
         "orientation": "v",
         "text": "",
         "type": "bar",
         "x": [
          "name",
          "variable",
          "value"
         ],
         "y": [
          "yellow",
          "1920_Wharton_Ed",
          0.00012354173565843455
         ]
        },
        {
         "marker": {
          "color": "rgba(251, 128, 114, 0.6)",
          "line": {
           "color": "rgba(251, 128, 114, 0.5878787878787881)",
           "width": 1
          }
         },
         "name": "175",
         "orientation": "v",
         "text": "",
         "type": "bar",
         "x": [
          "name",
          "variable",
          "value"
         ],
         "y": [
          "name",
          "1920_Wharton_Ed",
          "1920_Wharton_Ed"
         ]
        },
        {
         "marker": {
          "color": "rgba(128, 177, 211, 0.6)",
          "line": {
           "color": "rgba(128, 177, 211, 0.5878787878787881)",
           "width": 1
          }
         },
         "name": "176",
         "orientation": "v",
         "text": "",
         "type": "bar",
         "x": [
          "name",
          "variable",
          "value"
         ],
         "y": [
          "black",
          "1921 no defence",
          0.0002738872777150733
         ]
        },
        {
         "marker": {
          "color": "rgba(255, 153, 51, 0.6)",
          "line": {
           "color": "rgba(255, 153, 51, 0.5878787878787881)",
           "width": 1
          }
         },
         "name": "177",
         "orientation": "v",
         "text": "",
         "type": "bar",
         "x": [
          "name",
          "variable",
          "value"
         ],
         "y": [
          "blue",
          "1921 no defence",
          0.00007509812453477817
         ]
        },
        {
         "marker": {
          "color": "rgba(55, 128, 191, 0.6)",
          "line": {
           "color": "rgba(55, 128, 191, 0.5878787878787881)",
           "width": 1
          }
         },
         "name": "178",
         "orientation": "v",
         "text": "",
         "type": "bar",
         "x": [
          "name",
          "variable",
          "value"
         ],
         "y": [
          "brown",
          "1921 no defence",
          0.00009055950311546778
         ]
        },
        {
         "marker": {
          "color": "rgba(50, 171, 96, 0.6)",
          "line": {
           "color": "rgba(50, 171, 96, 0.5878787878787881)",
           "width": 1
          }
         },
         "name": "179",
         "orientation": "v",
         "text": "",
         "type": "bar",
         "x": [
          "name",
          "variable",
          "value"
         ],
         "y": [
          "green",
          "1921 no defence",
          0.00006405428269142843
         ]
        },
        {
         "marker": {
          "color": "rgba(50, 171, 96, 0.6)",
          "line": {
           "color": "rgba(50, 171, 96, 0.5636363636363637)",
           "width": 1
          }
         },
         "name": "180",
         "orientation": "v",
         "text": "",
         "type": "bar",
         "x": [
          "name",
          "variable",
          "value"
         ],
         "y": [
          "grey",
          "1921 no defence",
          0.0001877453113369454
         ]
        },
        {
         "marker": {
          "color": "rgba(128, 0, 128, 0.6)",
          "line": {
           "color": "rgba(128, 0, 128, 0.5636363636363637)",
           "width": 1
          }
         },
         "name": "181",
         "orientation": "v",
         "text": "",
         "type": "bar",
         "x": [
          "name",
          "variable",
          "value"
         ],
         "y": [
          "orange",
          "1921 no defence",
          0.00003754906226738908
         ]
        },
        {
         "marker": {
          "color": "rgba(219, 64, 82, 0.6)",
          "line": {
           "color": "rgba(219, 64, 82, 0.5636363636363637)",
           "width": 1
          }
         },
         "name": "182",
         "orientation": "v",
         "text": "",
         "type": "bar",
         "x": [
          "name",
          "variable",
          "value"
         ],
         "y": [
          "red",
          "1921 no defence",
          0.00011706472353950713
         ]
        },
        {
         "marker": {
          "color": "rgba(0, 128, 128, 0.6)",
          "line": {
           "color": "rgba(0, 128, 128, 0.5636363636363637)",
           "width": 1
          }
         },
         "name": "183",
         "orientation": "v",
         "text": "",
         "type": "bar",
         "x": [
          "name",
          "variable",
          "value"
         ],
         "y": [
          "violet",
          "1921 no defence",
          0.00007730689290344811
         ]
        },
        {
         "marker": {
          "color": "rgba(255, 255, 51, 0.6)",
          "line": {
           "color": "rgba(255, 255, 51, 0.5636363636363637)",
           "width": 1
          }
         },
         "name": "184",
         "orientation": "v",
         "text": "",
         "type": "bar",
         "x": [
          "name",
          "variable",
          "value"
         ],
         "y": [
          "white",
          "1921 no defence",
          0.00016124009091290605
         ]
        },
        {
         "marker": {
          "color": "rgba(128, 128, 0, 0.6)",
          "line": {
           "color": "rgba(128, 128, 0, 0.5636363636363637)",
           "width": 1
          }
         },
         "name": "185",
         "orientation": "v",
         "text": "",
         "type": "bar",
         "x": [
          "name",
          "variable",
          "value"
         ],
         "y": [
          "yellow",
          "1921 no defence",
          0.0000861419663781279
         ]
        },
        {
         "marker": {
          "color": "rgba(251, 128, 114, 0.6)",
          "line": {
           "color": "rgba(251, 128, 114, 0.5636363636363637)",
           "width": 1
          }
         },
         "name": "186",
         "orientation": "v",
         "text": "",
         "type": "bar",
         "x": [
          "name",
          "variable",
          "value"
         ],
         "y": [
          "name",
          "1921 no defence",
          "1921 no defence"
         ]
        },
        {
         "marker": {
          "color": "rgba(128, 177, 211, 0.6)",
          "line": {
           "color": "rgba(128, 177, 211, 0.5636363636363637)",
           "width": 1
          }
         },
         "name": "187",
         "orientation": "v",
         "text": "",
         "type": "bar",
         "x": [
          "name",
          "variable",
          "value"
         ],
         "y": [
          "black",
          "1921 the secret",
          0.0001781820829293901
         ]
        },
        {
         "marker": {
          "color": "rgba(255, 153, 51, 0.6)",
          "line": {
           "color": "rgba(255, 153, 51, 0.5636363636363637)",
           "width": 1
          }
         },
         "name": "188",
         "orientation": "v",
         "text": "",
         "type": "bar",
         "x": [
          "name",
          "variable",
          "value"
         ],
         "y": [
          "blue",
          "1921 the secret",
          0.00013411554629093878
         ]
        },
        {
         "marker": {
          "color": "rgba(55, 128, 191, 0.6)",
          "line": {
           "color": "rgba(55, 128, 191, 0.5636363636363637)",
           "width": 1
          }
         },
         "name": "189",
         "orientation": "v",
         "text": "",
         "type": "bar",
         "x": [
          "name",
          "variable",
          "value"
         ],
         "y": [
          "brown",
          "1921 the secret",
          0.00005939402764313003
         ]
        },
        {
         "marker": {
          "color": "rgba(55, 128, 191, 0.6)",
          "line": {
           "color": "rgba(55, 128, 191, 0.5393939393939395)",
           "width": 1
          }
         },
         "name": "190",
         "orientation": "v",
         "text": "",
         "type": "bar",
         "x": [
          "name",
          "variable",
          "value"
         ],
         "y": [
          "green",
          "1921 the secret",
          0.00004406653663845131
         ]
        },
        {
         "marker": {
          "color": "rgba(50, 171, 96, 0.6)",
          "line": {
           "color": "rgba(50, 171, 96, 0.5393939393939395)",
           "width": 1
          }
         },
         "name": "191",
         "orientation": "v",
         "text": "",
         "type": "bar",
         "x": [
          "name",
          "variable",
          "value"
         ],
         "y": [
          "grey",
          "1921 the secret",
          0.0002605673470795382
         ]
        },
        {
         "marker": {
          "color": "rgba(128, 0, 128, 0.6)",
          "line": {
           "color": "rgba(128, 0, 128, 0.5393939393939395)",
           "width": 1
          }
         },
         "name": "192",
         "orientation": "v",
         "text": "",
         "type": "bar",
         "x": [
          "name",
          "variable",
          "value"
         ],
         "y": [
          "orange",
          "1921 the secret",
          0.00003640279113611195
         ]
        },
        {
         "marker": {
          "color": "rgba(219, 64, 82, 0.6)",
          "line": {
           "color": "rgba(219, 64, 82, 0.5393939393939395)",
           "width": 1
          }
         },
         "name": "193",
         "orientation": "v",
         "text": "",
         "type": "bar",
         "x": [
          "name",
          "variable",
          "value"
         ],
         "y": [
          "red",
          "1921 the secret",
          0.00023566017419693528
         ]
        },
        {
         "marker": {
          "color": "rgba(0, 128, 128, 0.6)",
          "line": {
           "color": "rgba(0, 128, 128, 0.5393939393939395)",
           "width": 1
          }
         },
         "name": "194",
         "orientation": "v",
         "text": "",
         "type": "bar",
         "x": [
          "name",
          "variable",
          "value"
         ],
         "y": [
          "violet",
          "1921 the secret",
          0.000024907172882602914
         ]
        },
        {
         "marker": {
          "color": "rgba(255, 255, 51, 0.6)",
          "line": {
           "color": "rgba(255, 255, 51, 0.5393939393939395)",
           "width": 1
          }
         },
         "name": "195",
         "orientation": "v",
         "text": "",
         "type": "bar",
         "x": [
          "name",
          "variable",
          "value"
         ],
         "y": [
          "white",
          "1921 the secret",
          0.00042342193900424957
         ]
        },
        {
         "marker": {
          "color": "rgba(128, 128, 0, 0.6)",
          "line": {
           "color": "rgba(128, 128, 0, 0.5393939393939395)",
           "width": 1
          }
         },
         "name": "196",
         "orientation": "v",
         "text": "",
         "type": "bar",
         "x": [
          "name",
          "variable",
          "value"
         ],
         "y": [
          "yellow",
          "1921 the secret",
          0.00015327491004678718
         ]
        },
        {
         "marker": {
          "color": "rgba(251, 128, 114, 0.6)",
          "line": {
           "color": "rgba(251, 128, 114, 0.5393939393939395)",
           "width": 1
          }
         },
         "name": "197",
         "orientation": "v",
         "text": "",
         "type": "bar",
         "x": [
          "name",
          "variable",
          "value"
         ],
         "y": [
          "name",
          "1921 the secret",
          "1921 the secret"
         ]
        },
        {
         "marker": {
          "color": "rgba(128, 177, 211, 0.6)",
          "line": {
           "color": "rgba(128, 177, 211, 0.5393939393939395)",
           "width": 1
          }
         },
         "name": "198",
         "orientation": "v",
         "text": "",
         "type": "bar",
         "x": [
          "name",
          "variable",
          "value"
         ],
         "y": [
          "black",
          "1921 the sister",
          0.00015249980540389414
         ]
        },
        {
         "marker": {
          "color": "rgba(255, 153, 51, 0.6)",
          "line": {
           "color": "rgba(255, 153, 51, 0.5393939393939395)",
           "width": 1
          }
         },
         "name": "199",
         "orientation": "v",
         "text": "",
         "type": "bar",
         "x": [
          "name",
          "variable",
          "value"
         ],
         "y": [
          "blue",
          "1921 the sister",
          0.00005401034774721251
         ]
        },
        {
         "marker": {
          "color": "rgba(255, 153, 51, 0.6)",
          "line": {
           "color": "rgba(255, 153, 51, 0.5151515151515154)",
           "width": 1
          }
         },
         "name": "200",
         "orientation": "v",
         "text": "",
         "type": "bar",
         "x": [
          "name",
          "variable",
          "value"
         ],
         "y": [
          "brown",
          "1921 the sister",
          0.00011119777477367282
         ]
        },
        {
         "marker": {
          "color": "rgba(55, 128, 191, 0.6)",
          "line": {
           "color": "rgba(55, 128, 191, 0.5151515151515154)",
           "width": 1
          }
         },
         "name": "201",
         "orientation": "v",
         "text": "",
         "type": "bar",
         "x": [
          "name",
          "variable",
          "value"
         ],
         "y": [
          "green",
          "1921 the sister",
          0.00014773418648502244
         ]
        },
        {
         "marker": {
          "color": "rgba(50, 171, 96, 0.6)",
          "line": {
           "color": "rgba(50, 171, 96, 0.5151515151515154)",
           "width": 1
          }
         },
         "name": "202",
         "orientation": "v",
         "text": "",
         "type": "bar",
         "x": [
          "name",
          "variable",
          "value"
         ],
         "y": [
          "grey",
          "1921 the sister",
          0.00010166653693592943
         ]
        },
        {
         "marker": {
          "color": "rgba(128, 0, 128, 0.6)",
          "line": {
           "color": "rgba(128, 0, 128, 0.5151515151515154)",
           "width": 1
          }
         },
         "name": "203",
         "orientation": "v",
         "text": "",
         "type": "bar",
         "x": [
          "name",
          "variable",
          "value"
         ],
         "y": [
          "orange",
          "1921 the sister",
          0.00003018225315285405
         ]
        },
        {
         "marker": {
          "color": "rgba(219, 64, 82, 0.6)",
          "line": {
           "color": "rgba(219, 64, 82, 0.5151515151515154)",
           "width": 1
          }
         },
         "name": "204",
         "orientation": "v",
         "text": "",
         "type": "bar",
         "x": [
          "name",
          "variable",
          "value"
         ],
         "y": [
          "red",
          "1921 the sister",
          0.00015249980540389414
         ]
        },
        {
         "marker": {
          "color": "rgba(0, 128, 128, 0.6)",
          "line": {
           "color": "rgba(0, 128, 128, 0.5151515151515154)",
           "width": 1
          }
         },
         "name": "205",
         "orientation": "v",
         "text": "",
         "type": "bar",
         "x": [
          "name",
          "variable",
          "value"
         ],
         "y": [
          "violet",
          "1921 the sister",
          0.000042890570269845226
         ]
        },
        {
         "marker": {
          "color": "rgba(255, 255, 51, 0.6)",
          "line": {
           "color": "rgba(255, 255, 51, 0.5151515151515154)",
           "width": 1
          }
         },
         "name": "206",
         "orientation": "v",
         "text": "",
         "type": "bar",
         "x": [
          "name",
          "variable",
          "value"
         ],
         "y": [
          "white",
          "1921 the sister",
          0.00016203104324163752
         ]
        },
        {
         "marker": {
          "color": "rgba(128, 128, 0, 0.6)",
          "line": {
           "color": "rgba(128, 128, 0, 0.5151515151515154)",
           "width": 1
          }
         },
         "name": "207",
         "orientation": "v",
         "text": "",
         "type": "bar",
         "x": [
          "name",
          "variable",
          "value"
         ],
         "y": [
          "yellow",
          "1921 the sister",
          0.00006195304594533199
         ]
        },
        {
         "marker": {
          "color": "rgba(251, 128, 114, 0.6)",
          "line": {
           "color": "rgba(251, 128, 114, 0.5151515151515154)",
           "width": 1
          }
         },
         "name": "208",
         "orientation": "v",
         "text": "",
         "type": "bar",
         "x": [
          "name",
          "variable",
          "value"
         ],
         "y": [
          "name",
          "1921 the sister",
          "1921 the sister"
         ]
        },
        {
         "marker": {
          "color": "rgba(128, 177, 211, 0.6)",
          "line": {
           "color": "rgba(128, 177, 211, 0.5151515151515154)",
           "width": 1
          }
         },
         "name": "209",
         "orientation": "v",
         "text": "",
         "type": "bar",
         "x": [
          "name",
          "variable",
          "value"
         ],
         "y": [
          "black",
          "1921 to him tha",
          0.000059904817900447064
         ]
        },
        {
         "marker": {
          "color": "rgba(128, 177, 211, 0.6)",
          "line": {
           "color": "rgba(128, 177, 211, 0.49090909090909124)",
           "width": 1
          }
         },
         "name": "210",
         "orientation": "v",
         "text": "",
         "type": "bar",
         "x": [
          "name",
          "variable",
          "value"
         ],
         "y": [
          "blue",
          "1921 to him tha",
          0.00004659263614479216
         ]
        },
        {
         "marker": {
          "color": "rgba(255, 153, 51, 0.6)",
          "line": {
           "color": "rgba(255, 153, 51, 0.49090909090909124)",
           "width": 1
          }
         },
         "name": "211",
         "orientation": "v",
         "text": "",
         "type": "bar",
         "x": [
          "name",
          "variable",
          "value"
         ],
         "y": [
          "brown",
          "1921 to him tha",
          0.00003993654526696471
         ]
        },
        {
         "marker": {
          "color": "rgba(55, 128, 191, 0.6)",
          "line": {
           "color": "rgba(55, 128, 191, 0.49090909090909124)",
           "width": 1
          }
         },
         "name": "212",
         "orientation": "v",
         "text": "",
         "type": "bar",
         "x": [
          "name",
          "variable",
          "value"
         ],
         "y": [
          "green",
          "1921 to him tha",
          0.0000510300300633438
         ]
        },
        {
         "marker": {
          "color": "rgba(50, 171, 96, 0.6)",
          "line": {
           "color": "rgba(50, 171, 96, 0.49090909090909124)",
           "width": 1
          }
         },
         "name": "213",
         "orientation": "v",
         "text": "",
         "type": "bar",
         "x": [
          "name",
          "variable",
          "value"
         ],
         "y": [
          "grey",
          "1921 to him tha",
          0.00007987309053392942
         ]
        },
        {
         "marker": {
          "color": "rgba(128, 0, 128, 0.6)",
          "line": {
           "color": "rgba(128, 0, 128, 0.49090909090909124)",
           "width": 1
          }
         },
         "name": "214",
         "orientation": "v",
         "text": "",
         "type": "bar",
         "x": [
          "name",
          "variable",
          "value"
         ],
         "y": [
          "orange",
          "1921 to him tha",
          0.00000887478783710327
         ]
        },
        {
         "marker": {
          "color": "rgba(219, 64, 82, 0.6)",
          "line": {
           "color": "rgba(219, 64, 82, 0.49090909090909124)",
           "width": 1
          }
         },
         "name": "215",
         "orientation": "v",
         "text": "",
         "type": "bar",
         "x": [
          "name",
          "variable",
          "value"
         ],
         "y": [
          "red",
          "1921 to him tha",
          0.00011980963580089413
         ]
        },
        {
         "marker": {
          "color": "rgba(0, 128, 128, 0.6)",
          "line": {
           "color": "rgba(0, 128, 128, 0.49090909090909124)",
           "width": 1
          }
         },
         "name": "216",
         "orientation": "v",
         "text": "",
         "type": "bar",
         "x": [
          "name",
          "variable",
          "value"
         ],
         "y": [
          "violet",
          "1921 to him tha",
          0.0000022186969592758173
         ]
        },
        {
         "marker": {
          "color": "rgba(255, 255, 51, 0.6)",
          "line": {
           "color": "rgba(255, 255, 51, 0.49090909090909124)",
           "width": 1
          }
         },
         "name": "217",
         "orientation": "v",
         "text": "",
         "type": "bar",
         "x": [
          "name",
          "variable",
          "value"
         ],
         "y": [
          "white",
          "1921 to him tha",
          0.00011315354492306668
         ]
        },
        {
         "marker": {
          "color": "rgba(128, 128, 0, 0.6)",
          "line": {
           "color": "rgba(128, 128, 0, 0.49090909090909124)",
           "width": 1
          }
         },
         "name": "218",
         "orientation": "v",
         "text": "",
         "type": "bar",
         "x": [
          "name",
          "variable",
          "value"
         ],
         "y": [
          "yellow",
          "1921 to him tha",
          0.000013312181755654903
         ]
        },
        {
         "marker": {
          "color": "rgba(251, 128, 114, 0.6)",
          "line": {
           "color": "rgba(251, 128, 114, 0.49090909090909124)",
           "width": 1
          }
         },
         "name": "219",
         "orientation": "v",
         "text": "",
         "type": "bar",
         "x": [
          "name",
          "variable",
          "value"
         ],
         "y": [
          "name",
          "1921 to him tha",
          "1921 to him tha"
         ]
        },
        {
         "marker": {
          "color": "rgba(251, 128, 114, 0.6)",
          "line": {
           "color": "rgba(251, 128, 114, 0.46666666666666684)",
           "width": 1
          }
         },
         "name": "220",
         "orientation": "v",
         "text": "",
         "type": "bar",
         "x": [
          "name",
          "variable",
          "value"
         ],
         "y": [
          "black",
          "1922 in the day",
          0.0001805247005684686
         ]
        },
        {
         "marker": {
          "color": "rgba(128, 177, 211, 0.6)",
          "line": {
           "color": "rgba(128, 177, 211, 0.46666666666666684)",
           "width": 1
          }
         },
         "name": "221",
         "orientation": "v",
         "text": "",
         "type": "bar",
         "x": [
          "name",
          "variable",
          "value"
         ],
         "y": [
          "blue",
          "1922 in the day",
          0.00005342057465801622
         ]
        },
        {
         "marker": {
          "color": "rgba(255, 153, 51, 0.6)",
          "line": {
           "color": "rgba(255, 153, 51, 0.46666666666666684)",
           "width": 1
          }
         },
         "name": "222",
         "orientation": "v",
         "text": "",
         "type": "bar",
         "x": [
          "name",
          "variable",
          "value"
         ],
         "y": [
          "brown",
          "1922 in the day",
          0.0000939465278468561
         ]
        },
        {
         "marker": {
          "color": "rgba(55, 128, 191, 0.6)",
          "line": {
           "color": "rgba(55, 128, 191, 0.46666666666666684)",
           "width": 1
          }
         },
         "name": "223",
         "orientation": "v",
         "text": "",
         "type": "bar",
         "x": [
          "name",
          "variable",
          "value"
         ],
         "y": [
          "green",
          "1922 in the day",
          0.00012710412591045237
         ]
        },
        {
         "marker": {
          "color": "rgba(50, 171, 96, 0.6)",
          "line": {
           "color": "rgba(50, 171, 96, 0.46666666666666684)",
           "width": 1
          }
         },
         "name": "224",
         "orientation": "v",
         "text": "",
         "type": "bar",
         "x": [
          "name",
          "variable",
          "value"
         ],
         "y": [
          "grey",
          "1922 in the day",
          0.00011973577078520876
         ]
        },
        {
         "marker": {
          "color": "rgba(128, 0, 128, 0.6)",
          "line": {
           "color": "rgba(128, 0, 128, 0.46666666666666684)",
           "width": 1
          }
         },
         "name": "225",
         "orientation": "v",
         "text": "",
         "type": "bar",
         "x": [
          "name",
          "variable",
          "value"
         ],
         "y": [
          "orange",
          "1922 in the day",
          0.000005526266343932712
         ]
        },
        {
         "marker": {
          "color": "rgba(219, 64, 82, 0.6)",
          "line": {
           "color": "rgba(219, 64, 82, 0.46666666666666684)",
           "width": 1
          }
         },
         "name": "226",
         "orientation": "v",
         "text": "",
         "type": "bar",
         "x": [
          "name",
          "variable",
          "value"
         ],
         "y": [
          "red",
          "1922 in the day",
          0.00016578799031798138
         ]
        },
        {
         "marker": {
          "color": "rgba(0, 128, 128, 0.6)",
          "line": {
           "color": "rgba(0, 128, 128, 0.46666666666666684)",
           "width": 1
          }
         },
         "name": "227",
         "orientation": "v",
         "text": "",
         "type": "bar",
         "x": [
          "name",
          "variable",
          "value"
         ],
         "y": [
          "violet",
          "1922 in the day",
          0.00003131550928228537
         ]
        },
        {
         "marker": {
          "color": "rgba(255, 255, 51, 0.6)",
          "line": {
           "color": "rgba(255, 255, 51, 0.46666666666666684)",
           "width": 1
          }
         },
         "name": "228",
         "orientation": "v",
         "text": "",
         "type": "bar",
         "x": [
          "name",
          "variable",
          "value"
         ],
         "y": [
          "white",
          "1922 in the day",
          0.00024683989669566114
         ]
        },
        {
         "marker": {
          "color": "rgba(128, 128, 0, 0.6)",
          "line": {
           "color": "rgba(128, 128, 0, 0.46666666666666684)",
           "width": 1
          }
         },
         "name": "229",
         "orientation": "v",
         "text": "",
         "type": "bar",
         "x": [
          "name",
          "variable",
          "value"
         ],
         "y": [
          "yellow",
          "1922 in the day",
          0.00009763070540947791
         ]
        },
        {
         "marker": {
          "color": "rgba(128, 128, 0, 0.6)",
          "line": {
           "color": "rgba(128, 128, 0, 0.44242424242424266)",
           "width": 1
          }
         },
         "name": "230",
         "orientation": "v",
         "text": "",
         "type": "bar",
         "x": [
          "name",
          "variable",
          "value"
         ],
         "y": [
          "name",
          "1922 in the day",
          "1922 in the day"
         ]
        },
        {
         "marker": {
          "color": "rgba(251, 128, 114, 0.6)",
          "line": {
           "color": "rgba(251, 128, 114, 0.44242424242424266)",
           "width": 1
          }
         },
         "name": "231",
         "orientation": "v",
         "text": "",
         "type": "bar",
         "x": [
          "name",
          "variable",
          "value"
         ],
         "y": [
          "black",
          "1922 sleeping f",
          0.00010607538195691971
         ]
        },
        {
         "marker": {
          "color": "rgba(128, 177, 211, 0.6)",
          "line": {
           "color": "rgba(128, 177, 211, 0.44242424242424266)",
           "width": 1
          }
         },
         "name": "232",
         "orientation": "v",
         "text": "",
         "type": "bar",
         "x": [
          "name",
          "variable",
          "value"
         ],
         "y": [
          "blue",
          "1922 sleeping f",
          0.00007870108983900495
         ]
        },
        {
         "marker": {
          "color": "rgba(255, 153, 51, 0.6)",
          "line": {
           "color": "rgba(255, 153, 51, 0.44242424242424266)",
           "width": 1
          }
         },
         "name": "233",
         "orientation": "v",
         "text": "",
         "type": "bar",
         "x": [
          "name",
          "variable",
          "value"
         ],
         "y": [
          "brown",
          "1922 sleeping f",
          0.00010265359544218037
         ]
        },
        {
         "marker": {
          "color": "rgba(55, 128, 191, 0.6)",
          "line": {
           "color": "rgba(55, 128, 191, 0.44242424242424266)",
           "width": 1
          }
         },
         "name": "234",
         "orientation": "v",
         "text": "",
         "type": "bar",
         "x": [
          "name",
          "variable",
          "value"
         ],
         "y": [
          "green",
          "1922 sleeping f",
          0.00006843573029478691
         ]
        },
        {
         "marker": {
          "color": "rgba(50, 171, 96, 0.6)",
          "line": {
           "color": "rgba(50, 171, 96, 0.44242424242424266)",
           "width": 1
          }
         },
         "name": "235",
         "orientation": "v",
         "text": "",
         "type": "bar",
         "x": [
          "name",
          "variable",
          "value"
         ],
         "y": [
          "grey",
          "1922 sleeping f",
          0.00013002788756009512
         ]
        },
        {
         "marker": {
          "color": "rgba(128, 0, 128, 0.6)",
          "line": {
           "color": "rgba(128, 0, 128, 0.44242424242424266)",
           "width": 1
          }
         },
         "name": "236",
         "orientation": "v",
         "text": "",
         "type": "bar",
         "x": [
          "name",
          "variable",
          "value"
         ],
         "y": [
          "orange",
          "1922 sleeping f",
          0.00003421786514739346
         ]
        },
        {
         "marker": {
          "color": "rgba(219, 64, 82, 0.6)",
          "line": {
           "color": "rgba(219, 64, 82, 0.44242424242424266)",
           "width": 1
          }
         },
         "name": "237",
         "orientation": "v",
         "text": "",
         "type": "bar",
         "x": [
          "name",
          "variable",
          "value"
         ],
         "y": [
          "red",
          "1922 sleeping f",
          0.00010949716847165905
         ]
        },
        {
         "marker": {
          "color": "rgba(0, 128, 128, 0.6)",
          "line": {
           "color": "rgba(0, 128, 128, 0.44242424242424266)",
           "width": 1
          }
         },
         "name": "238",
         "orientation": "v",
         "text": "",
         "type": "bar",
         "x": [
          "name",
          "variable",
          "value"
         ],
         "y": [
          "violet",
          "1922 sleeping f",
          0.00006501394378004756
         ]
        },
        {
         "marker": {
          "color": "rgba(255, 255, 51, 0.6)",
          "line": {
           "color": "rgba(255, 255, 51, 0.44242424242424266)",
           "width": 1
          }
         },
         "name": "239",
         "orientation": "v",
         "text": "",
         "type": "bar",
         "x": [
          "name",
          "variable",
          "value"
         ],
         "y": [
          "white",
          "1922 sleeping f",
          0.00009238823589796232
         ]
        },
        {
         "marker": {
          "color": "rgba(255, 255, 51, 0.6)",
          "line": {
           "color": "rgba(255, 255, 51, 0.4181818181818185)",
           "width": 1
          }
         },
         "name": "240",
         "orientation": "v",
         "text": "",
         "type": "bar",
         "x": [
          "name",
          "variable",
          "value"
         ],
         "y": [
          "yellow",
          "1922 sleeping f",
          0.00011976252801587708
         ]
        },
        {
         "marker": {
          "color": "rgba(128, 128, 0, 0.6)",
          "line": {
           "color": "rgba(128, 128, 0, 0.4181818181818185)",
           "width": 1
          }
         },
         "name": "241",
         "orientation": "v",
         "text": "",
         "type": "bar",
         "x": [
          "name",
          "variable",
          "value"
         ],
         "y": [
          "name",
          "1922 sleeping f",
          "1922 sleeping f"
         ]
        },
        {
         "marker": {
          "color": "rgba(251, 128, 114, 0.6)",
          "line": {
           "color": "rgba(251, 128, 114, 0.4181818181818185)",
           "width": 1
          }
         },
         "name": "242",
         "orientation": "v",
         "text": "",
         "type": "bar",
         "x": [
          "name",
          "variable",
          "value"
         ],
         "y": [
          "black",
          "1922 the covere",
          0.00021050415745710977
         ]
        },
        {
         "marker": {
          "color": "rgba(128, 177, 211, 0.6)",
          "line": {
           "color": "rgba(128, 177, 211, 0.4181818181818185)",
           "width": 1
          }
         },
         "name": "243",
         "orientation": "v",
         "text": "",
         "type": "bar",
         "x": [
          "name",
          "variable",
          "value"
         ],
         "y": [
          "blue",
          "1922 the covere",
          0.00006736133038627514
         ]
        },
        {
         "marker": {
          "color": "rgba(255, 153, 51, 0.6)",
          "line": {
           "color": "rgba(255, 153, 51, 0.4181818181818185)",
           "width": 1
          }
         },
         "name": "244",
         "orientation": "v",
         "text": "",
         "type": "bar",
         "x": [
          "name",
          "variable",
          "value"
         ],
         "y": [
          "brown",
          "1922 the covere",
          0.00010946216187769708
         ]
        },
        {
         "marker": {
          "color": "rgba(55, 128, 191, 0.6)",
          "line": {
           "color": "rgba(55, 128, 191, 0.4181818181818185)",
           "width": 1
          }
         },
         "name": "245",
         "orientation": "v",
         "text": "",
         "type": "bar",
         "x": [
          "name",
          "variable",
          "value"
         ],
         "y": [
          "green",
          "1922 the covere",
          0.00022523944847910746
         ]
        },
        {
         "marker": {
          "color": "rgba(50, 171, 96, 0.6)",
          "line": {
           "color": "rgba(50, 171, 96, 0.4181818181818185)",
           "width": 1
          }
         },
         "name": "246",
         "orientation": "v",
         "text": "",
         "type": "bar",
         "x": [
          "name",
          "variable",
          "value"
         ],
         "y": [
          "grey",
          "1922 the covere",
          0.0001768234922639722
         ]
        },
        {
         "marker": {
          "color": "rgba(128, 0, 128, 0.6)",
          "line": {
           "color": "rgba(128, 0, 128, 0.4181818181818185)",
           "width": 1
          }
         },
         "name": "247",
         "orientation": "v",
         "text": "",
         "type": "bar",
         "x": [
          "name",
          "variable",
          "value"
         ],
         "y": [
          "orange",
          "1922 the covere",
          0.000050520997789706345
         ]
        },
        {
         "marker": {
          "color": "rgba(219, 64, 82, 0.6)",
          "line": {
           "color": "rgba(219, 64, 82, 0.4181818181818185)",
           "width": 1
          }
         },
         "name": "248",
         "orientation": "v",
         "text": "",
         "type": "bar",
         "x": [
          "name",
          "variable",
          "value"
         ],
         "y": [
          "red",
          "1922 the covere",
          0.00022734449005367856
         ]
        },
        {
         "marker": {
          "color": "rgba(0, 128, 128, 0.6)",
          "line": {
           "color": "rgba(0, 128, 128, 0.4181818181818185)",
           "width": 1
          }
         },
         "name": "249",
         "orientation": "v",
         "text": "",
         "type": "bar",
         "x": [
          "name",
          "variable",
          "value"
         ],
         "y": [
          "violet",
          "1922 the covere",
          0.000010525207872855488
         ]
        },
        {
         "marker": {
          "color": "rgba(0, 128, 128, 0.6)",
          "line": {
           "color": "rgba(0, 128, 128, 0.3939393939393943)",
           "width": 1
          }
         },
         "name": "250",
         "orientation": "v",
         "text": "",
         "type": "bar",
         "x": [
          "name",
          "variable",
          "value"
         ],
         "y": [
          "white",
          "1922 the covere",
          0.0002904957372908115
         ]
        },
        {
         "marker": {
          "color": "rgba(255, 255, 51, 0.6)",
          "line": {
           "color": "rgba(255, 255, 51, 0.3939393939393943)",
           "width": 1
          }
         },
         "name": "251",
         "orientation": "v",
         "text": "",
         "type": "bar",
         "x": [
          "name",
          "variable",
          "value"
         ],
         "y": [
          "yellow",
          "1922 the covere",
          0.0002820755709925271
         ]
        },
        {
         "marker": {
          "color": "rgba(128, 128, 0, 0.6)",
          "line": {
           "color": "rgba(128, 128, 0, 0.3939393939393943)",
           "width": 1
          }
         },
         "name": "252",
         "orientation": "v",
         "text": "",
         "type": "bar",
         "x": [
          "name",
          "variable",
          "value"
         ],
         "y": [
          "name",
          "1922 the covere",
          "1922 the covere"
         ]
        },
        {
         "marker": {
          "color": "rgba(251, 128, 114, 0.6)",
          "line": {
           "color": "rgba(251, 128, 114, 0.3939393939393943)",
           "width": 1
          }
         },
         "name": "253",
         "orientation": "v",
         "text": "",
         "type": "bar",
         "x": [
          "name",
          "variable",
          "value"
         ],
         "y": [
          "black",
          "1922 the glimps",
          0.00006183474344978165
         ]
        },
        {
         "marker": {
          "color": "rgba(128, 177, 211, 0.6)",
          "line": {
           "color": "rgba(128, 177, 211, 0.3939393939393943)",
           "width": 1
          }
         },
         "name": "254",
         "orientation": "v",
         "text": "",
         "type": "bar",
         "x": [
          "name",
          "variable",
          "value"
         ],
         "y": [
          "blue",
          "1922 the glimps",
          0.00003624795305676856
         ]
        },
        {
         "marker": {
          "color": "rgba(255, 153, 51, 0.6)",
          "line": {
           "color": "rgba(255, 153, 51, 0.3939393939393943)",
           "width": 1
          }
         },
         "name": "255",
         "orientation": "v",
         "text": "",
         "type": "bar",
         "x": [
          "name",
          "variable",
          "value"
         ],
         "y": [
          "brown",
          "1922 the glimps",
          0.000027719022925764192
         ]
        },
        {
         "marker": {
          "color": "rgba(55, 128, 191, 0.6)",
          "line": {
           "color": "rgba(55, 128, 191, 0.3939393939393943)",
           "width": 1
          }
         },
         "name": "256",
         "orientation": "v",
         "text": "",
         "type": "bar",
         "x": [
          "name",
          "variable",
          "value"
         ],
         "y": [
          "green",
          "1922 the glimps",
          0.00006183474344978165
         ]
        },
        {
         "marker": {
          "color": "rgba(50, 171, 96, 0.6)",
          "line": {
           "color": "rgba(50, 171, 96, 0.3939393939393943)",
           "width": 1
          }
         },
         "name": "257",
         "orientation": "v",
         "text": "",
         "type": "bar",
         "x": [
          "name",
          "variable",
          "value"
         ],
         "y": [
          "grey",
          "1922 the glimps",
          0.000057570278384279475
         ]
        },
        {
         "marker": {
          "color": "rgba(128, 0, 128, 0.6)",
          "line": {
           "color": "rgba(128, 0, 128, 0.3939393939393943)",
           "width": 1
          }
         },
         "name": "258",
         "orientation": "v",
         "text": "",
         "type": "bar",
         "x": [
          "name",
          "variable",
          "value"
         ],
         "y": [
          "orange",
          "1922 the glimps",
          0.000053305813318777295
         ]
        },
        {
         "marker": {
          "color": "rgba(219, 64, 82, 0.6)",
          "line": {
           "color": "rgba(219, 64, 82, 0.3939393939393943)",
           "width": 1
          }
         },
         "name": "259",
         "orientation": "v",
         "text": "",
         "type": "bar",
         "x": [
          "name",
          "variable",
          "value"
         ],
         "y": [
          "red",
          "1922 the glimps",
          0.0002452067412663755
         ]
        },
        {
         "marker": {
          "color": "rgba(219, 64, 82, 0.6)",
          "line": {
           "color": "rgba(219, 64, 82, 0.3696969696969699)",
           "width": 1
          }
         },
         "name": "260",
         "orientation": "v",
         "text": "",
         "type": "bar",
         "x": [
          "name",
          "variable",
          "value"
         ],
         "y": [
          "violet",
          "1922 the glimps",
          0.00010447939410480349
         ]
        },
        {
         "marker": {
          "color": "rgba(0, 128, 128, 0.6)",
          "line": {
           "color": "rgba(0, 128, 128, 0.3696969696969699)",
           "width": 1
          }
         },
         "name": "261",
         "orientation": "v",
         "text": "",
         "type": "bar",
         "x": [
          "name",
          "variable",
          "value"
         ],
         "y": [
          "white",
          "1922 the glimps",
          0.00008742153384279476
         ]
        },
        {
         "marker": {
          "color": "rgba(255, 255, 51, 0.6)",
          "line": {
           "color": "rgba(255, 255, 51, 0.3696969696969699)",
           "width": 1
          }
         },
         "name": "262",
         "orientation": "v",
         "text": "",
         "type": "bar",
         "x": [
          "name",
          "variable",
          "value"
         ],
         "y": [
          "yellow",
          "1922 the glimps",
          0.00004904134825327511
         ]
        },
        {
         "marker": {
          "color": "rgba(128, 128, 0, 0.6)",
          "line": {
           "color": "rgba(128, 128, 0, 0.3696969696969699)",
           "width": 1
          }
         },
         "name": "263",
         "orientation": "v",
         "text": "",
         "type": "bar",
         "x": [
          "name",
          "variable",
          "value"
         ],
         "y": [
          "name",
          "1922 the glimps",
          "1922 the glimps"
         ]
        },
        {
         "marker": {
          "color": "rgba(251, 128, 114, 0.6)",
          "line": {
           "color": "rgba(251, 128, 114, 0.3696969696969699)",
           "width": 1
          }
         },
         "name": "264",
         "orientation": "v",
         "text": "",
         "type": "bar",
         "x": [
          "name",
          "variable",
          "value"
         ],
         "y": [
          "black",
          "1922_Fitzgerald",
          0.00016296001679316782
         ]
        },
        {
         "marker": {
          "color": "rgba(128, 177, 211, 0.6)",
          "line": {
           "color": "rgba(128, 177, 211, 0.3696969696969699)",
           "width": 1
          }
         },
         "name": "265",
         "orientation": "v",
         "text": "",
         "type": "bar",
         "x": [
          "name",
          "variable",
          "value"
         ],
         "y": [
          "blue",
          "1922_Fitzgerald",
          0.00008976611094538906
         ]
        },
        {
         "marker": {
          "color": "rgba(255, 153, 51, 0.6)",
          "line": {
           "color": "rgba(255, 153, 51, 0.3696969696969699)",
           "width": 1
          }
         },
         "name": "266",
         "orientation": "v",
         "text": "",
         "type": "bar",
         "x": [
          "name",
          "variable",
          "value"
         ],
         "y": [
          "brown",
          "1922_Fitzgerald",
          0.00005524068365870096
         ]
        },
        {
         "marker": {
          "color": "rgba(55, 128, 191, 0.6)",
          "line": {
           "color": "rgba(55, 128, 191, 0.3696969696969699)",
           "width": 1
          }
         },
         "name": "267",
         "orientation": "v",
         "text": "",
         "type": "bar",
         "x": [
          "name",
          "variable",
          "value"
         ],
         "y": [
          "green",
          "1922_Fitzgerald",
          0.00007457492293924629
         ]
        },
        {
         "marker": {
          "color": "rgba(50, 171, 96, 0.6)",
          "line": {
           "color": "rgba(50, 171, 96, 0.3696969696969699)",
           "width": 1
          }
         },
         "name": "268",
         "orientation": "v",
         "text": "",
         "type": "bar",
         "x": [
          "name",
          "variable",
          "value"
         ],
         "y": [
          "grey",
          "1922_Fitzgerald",
          0.00010495729895153183
         ]
        },
        {
         "marker": {
          "color": "rgba(128, 0, 128, 0.6)",
          "line": {
           "color": "rgba(128, 0, 128, 0.3696969696969699)",
           "width": 1
          }
         },
         "name": "269",
         "orientation": "v",
         "text": "",
         "type": "bar",
         "x": [
          "name",
          "variable",
          "value"
         ],
         "y": [
          "orange",
          "1922_Fitzgerald",
          0.00012843458950647973
         ]
        },
        {
         "marker": {
          "color": "rgba(128, 0, 128, 0.6)",
          "line": {
           "color": "rgba(128, 0, 128, 0.34545454545454574)",
           "width": 1
          }
         },
         "name": "270",
         "orientation": "v",
         "text": "",
         "type": "bar",
         "x": [
          "name",
          "variable",
          "value"
         ],
         "y": [
          "red",
          "1922_Fitzgerald",
          0.00011738645277473954
         ]
        },
        {
         "marker": {
          "color": "rgba(219, 64, 82, 0.6)",
          "line": {
           "color": "rgba(219, 64, 82, 0.34545454545454574)",
           "width": 1
          }
         },
         "name": "271",
         "orientation": "v",
         "text": "",
         "type": "bar",
         "x": [
          "name",
          "variable",
          "value"
         ],
         "y": [
          "violet",
          "1922_Fitzgerald",
          0.000026239324737882957
         ]
        },
        {
         "marker": {
          "color": "rgba(0, 128, 128, 0.6)",
          "line": {
           "color": "rgba(0, 128, 128, 0.34545454545454574)",
           "width": 1
          }
         },
         "name": "272",
         "orientation": "v",
         "text": "",
         "type": "bar",
         "x": [
          "name",
          "variable",
          "value"
         ],
         "y": [
          "white",
          "1922_Fitzgerald",
          0.00014914984587849258
         ]
        },
        {
         "marker": {
          "color": "rgba(255, 255, 51, 0.6)",
          "line": {
           "color": "rgba(255, 255, 51, 0.34545454545454574)",
           "width": 1
          }
         },
         "name": "273",
         "orientation": "v",
         "text": "",
         "type": "bar",
         "x": [
          "name",
          "variable",
          "value"
         ],
         "y": [
          "yellow",
          "1922_Fitzgerald",
          0.00011324340150033696
         ]
        },
        {
         "marker": {
          "color": "rgba(128, 128, 0, 0.6)",
          "line": {
           "color": "rgba(128, 128, 0, 0.34545454545454574)",
           "width": 1
          }
         },
         "name": "274",
         "orientation": "v",
         "text": "",
         "type": "bar",
         "x": [
          "name",
          "variable",
          "value"
         ],
         "y": [
          "name",
          "1922_Fitzgerald",
          "1922_Fitzgerald"
         ]
        },
        {
         "marker": {
          "color": "rgba(251, 128, 114, 0.6)",
          "line": {
           "color": "rgba(251, 128, 114, 0.34545454545454574)",
           "width": 1
          }
         },
         "name": "275",
         "orientation": "v",
         "text": "",
         "type": "bar",
         "x": [
          "name",
          "variable",
          "value"
         ],
         "y": [
          "black",
          "1922_Joyce_Jame",
          0.0002030678358291838
         ]
        },
        {
         "marker": {
          "color": "rgba(128, 177, 211, 0.6)",
          "line": {
           "color": "rgba(128, 177, 211, 0.34545454545454574)",
           "width": 1
          }
         },
         "name": "276",
         "orientation": "v",
         "text": "",
         "type": "bar",
         "x": [
          "name",
          "variable",
          "value"
         ],
         "y": [
          "blue",
          "1922_Joyce_Jame",
          0.00011040581365470188
         ]
        },
        {
         "marker": {
          "color": "rgba(255, 153, 51, 0.6)",
          "line": {
           "color": "rgba(255, 153, 51, 0.34545454545454574)",
           "width": 1
          }
         },
         "name": "277",
         "orientation": "v",
         "text": "",
         "type": "bar",
         "x": [
          "name",
          "variable",
          "value"
         ],
         "y": [
          "brown",
          "1922_Joyce_Jame",
          0.00010514839395685893
         ]
        },
        {
         "marker": {
          "color": "rgba(55, 128, 191, 0.6)",
          "line": {
           "color": "rgba(55, 128, 191, 0.34545454545454574)",
           "width": 1
          }
         },
         "name": "278",
         "orientation": "v",
         "text": "",
         "type": "bar",
         "x": [
          "name",
          "variable",
          "value"
         ],
         "y": [
          "green",
          "1922_Joyce_Jame",
          0.0001577225909352884
         ]
        },
        {
         "marker": {
          "color": "rgba(50, 171, 96, 0.6)",
          "line": {
           "color": "rgba(50, 171, 96, 0.34545454545454574)",
           "width": 1
          }
         },
         "name": "279",
         "orientation": "v",
         "text": "",
         "type": "bar",
         "x": [
          "name",
          "variable",
          "value"
         ],
         "y": [
          "grey",
          "1922_Joyce_Jame",
          0.00021423985268710007
         ]
        },
        {
         "marker": {
          "color": "rgba(50, 171, 96, 0.6)",
          "line": {
           "color": "rgba(50, 171, 96, 0.32121212121212156)",
           "width": 1
          }
         },
         "name": "280",
         "orientation": "v",
         "text": "",
         "type": "bar",
         "x": [
          "name",
          "variable",
          "value"
         ],
         "y": [
          "orange",
          "1922_Joyce_Jame",
          0.00009003331232556046
         ]
        },
        {
         "marker": {
          "color": "rgba(128, 0, 128, 0.6)",
          "line": {
           "color": "rgba(128, 0, 128, 0.32121212121212156)",
           "width": 1
          }
         },
         "name": "281",
         "orientation": "v",
         "text": "",
         "type": "bar",
         "x": [
          "name",
          "variable",
          "value"
         ],
         "y": [
          "red",
          "1922_Joyce_Jame",
          0.00022081162730940376
         ]
        },
        {
         "marker": {
          "color": "rgba(219, 64, 82, 0.6)",
          "line": {
           "color": "rgba(219, 64, 82, 0.32121212121212156)",
           "width": 1
          }
         },
         "name": "282",
         "orientation": "v",
         "text": "",
         "type": "bar",
         "x": [
          "name",
          "variable",
          "value"
         ],
         "y": [
          "violet",
          "1922_Joyce_Jame",
          0.00006177468144965462
         ]
        },
        {
         "marker": {
          "color": "rgba(0, 128, 128, 0.6)",
          "line": {
           "color": "rgba(0, 128, 128, 0.32121212121212156)",
           "width": 1
          }
         },
         "name": "283",
         "orientation": "v",
         "text": "",
         "type": "bar",
         "x": [
          "name",
          "variable",
          "value"
         ],
         "y": [
          "white",
          "1922_Joyce_Jame",
          0.00016495154301982245
         ]
        },
        {
         "marker": {
          "color": "rgba(255, 255, 51, 0.6)",
          "line": {
           "color": "rgba(255, 255, 51, 0.32121212121212156)",
           "width": 1
          }
         },
         "name": "284",
         "orientation": "v",
         "text": "",
         "type": "bar",
         "x": [
          "name",
          "variable",
          "value"
         ],
         "y": [
          "yellow",
          "1922_Joyce_Jame",
          0.0002201544498471734
         ]
        },
        {
         "marker": {
          "color": "rgba(128, 128, 0, 0.6)",
          "line": {
           "color": "rgba(128, 128, 0, 0.32121212121212156)",
           "width": 1
          }
         },
         "name": "285",
         "orientation": "v",
         "text": "",
         "type": "bar",
         "x": [
          "name",
          "variable",
          "value"
         ],
         "y": [
          "name",
          "1922_Joyce_Jame",
          "1922_Joyce_Jame"
         ]
        },
        {
         "marker": {
          "color": "rgba(251, 128, 114, 0.6)",
          "line": {
           "color": "rgba(251, 128, 114, 0.32121212121212156)",
           "width": 1
          }
         },
         "name": "286",
         "orientation": "v",
         "text": "",
         "type": "bar",
         "x": [
          "name",
          "variable",
          "value"
         ],
         "y": [
          "black",
          "1925_Woolf_Virg",
          0.00012088011714382262
         ]
        },
        {
         "marker": {
          "color": "rgba(128, 177, 211, 0.6)",
          "line": {
           "color": "rgba(128, 177, 211, 0.32121212121212156)",
           "width": 1
          }
         },
         "name": "287",
         "orientation": "v",
         "text": "",
         "type": "bar",
         "x": [
          "name",
          "variable",
          "value"
         ],
         "y": [
          "blue",
          "1925_Woolf_Virg",
          0.0000769237109097053
         ]
        },
        {
         "marker": {
          "color": "rgba(255, 153, 51, 0.6)",
          "line": {
           "color": "rgba(255, 153, 51, 0.32121212121212156)",
           "width": 1
          }
         },
         "name": "288",
         "orientation": "v",
         "text": "",
         "type": "bar",
         "x": [
          "name",
          "variable",
          "value"
         ],
         "y": [
          "brown",
          "1925_Woolf_Virg",
          0.0000686818847408083
         ]
        },
        {
         "marker": {
          "color": "rgba(55, 128, 191, 0.6)",
          "line": {
           "color": "rgba(55, 128, 191, 0.32121212121212156)",
           "width": 1
          }
         },
         "name": "289",
         "orientation": "v",
         "text": "",
         "type": "bar",
         "x": [
          "name",
          "variable",
          "value"
         ],
         "y": [
          "green",
          "1925_Woolf_Virg",
          0.00020055110344316024
         ]
        },
        {
         "marker": {
          "color": "rgba(55, 128, 191, 0.6)",
          "line": {
           "color": "rgba(55, 128, 191, 0.2969696969696974)",
           "width": 1
          }
         },
         "name": "290",
         "orientation": "v",
         "text": "",
         "type": "bar",
         "x": [
          "name",
          "variable",
          "value"
         ],
         "y": [
          "grey",
          "1925_Woolf_Virg",
          0.0002967057420802919
         ]
        },
        {
         "marker": {
          "color": "rgba(50, 171, 96, 0.6)",
          "line": {
           "color": "rgba(50, 171, 96, 0.2969696969696974)",
           "width": 1
          }
         },
         "name": "291",
         "orientation": "v",
         "text": "",
         "type": "bar",
         "x": [
          "name",
          "variable",
          "value"
         ],
         "y": [
          "orange",
          "1925_Woolf_Virg",
          0.0000686818847408083
         ]
        },
        {
         "marker": {
          "color": "rgba(128, 0, 128, 0.6)",
          "line": {
           "color": "rgba(128, 0, 128, 0.2969696969696974)",
           "width": 1
          }
         },
         "name": "292",
         "orientation": "v",
         "text": "",
         "type": "bar",
         "x": [
          "name",
          "variable",
          "value"
         ],
         "y": [
          "red",
          "1925_Woolf_Virg",
          0.0002142874803913219
         ]
        },
        {
         "marker": {
          "color": "rgba(219, 64, 82, 0.6)",
          "line": {
           "color": "rgba(219, 64, 82, 0.2969696969696974)",
           "width": 1
          }
         },
         "name": "293",
         "orientation": "v",
         "text": "",
         "type": "bar",
         "x": [
          "name",
          "variable",
          "value"
         ],
         "y": [
          "violet",
          "1925_Woolf_Virg",
          0.000032967304675587986
         ]
        },
        {
         "marker": {
          "color": "rgba(0, 128, 128, 0.6)",
          "line": {
           "color": "rgba(0, 128, 128, 0.2969696969696974)",
           "width": 1
          }
         },
         "name": "294",
         "orientation": "v",
         "text": "",
         "type": "bar",
         "x": [
          "name",
          "variable",
          "value"
         ],
         "y": [
          "white",
          "1925_Woolf_Virg",
          0.0003324203221455122
         ]
        },
        {
         "marker": {
          "color": "rgba(255, 255, 51, 0.6)",
          "line": {
           "color": "rgba(255, 255, 51, 0.2969696969696974)",
           "width": 1
          }
         },
         "name": "295",
         "orientation": "v",
         "text": "",
         "type": "bar",
         "x": [
          "name",
          "variable",
          "value"
         ],
         "y": [
          "yellow",
          "1925_Woolf_Virg",
          0.0001263746679230873
         ]
        },
        {
         "marker": {
          "color": "rgba(128, 128, 0, 0.6)",
          "line": {
           "color": "rgba(128, 128, 0, 0.2969696969696974)",
           "width": 1
          }
         },
         "name": "296",
         "orientation": "v",
         "text": "",
         "type": "bar",
         "x": [
          "name",
          "variable",
          "value"
         ],
         "y": [
          "name",
          "1925_Woolf_Virg",
          "1925_Woolf_Virg"
         ]
        },
        {
         "marker": {
          "color": "rgba(251, 128, 114, 0.6)",
          "line": {
           "color": "rgba(251, 128, 114, 0.2969696969696974)",
           "width": 1
          }
         },
         "name": "297",
         "orientation": "v",
         "text": "",
         "type": "bar",
         "x": [
          "name",
          "variable",
          "value"
         ],
         "y": [
          "black",
          "1927_Woolf_Virg",
          0.00011626795370985203
         ]
        },
        {
         "marker": {
          "color": "rgba(128, 177, 211, 0.6)",
          "line": {
           "color": "rgba(128, 177, 211, 0.2969696969696974)",
           "width": 1
          }
         },
         "name": "298",
         "orientation": "v",
         "text": "",
         "type": "bar",
         "x": [
          "name",
          "variable",
          "value"
         ],
         "y": [
          "blue",
          "1927_Woolf_Virg",
          0.00009301436296788162
         ]
        },
        {
         "marker": {
          "color": "rgba(255, 153, 51, 0.6)",
          "line": {
           "color": "rgba(255, 153, 51, 0.2969696969696974)",
           "width": 1
          }
         },
         "name": "299",
         "orientation": "v",
         "text": "",
         "type": "bar",
         "x": [
          "name",
          "variable",
          "value"
         ],
         "y": [
          "brown",
          "1927_Woolf_Virg",
          0.00007751196913990136
         ]
        },
        {
         "marker": {
          "color": "rgba(255, 153, 51, 0.6)",
          "line": {
           "color": "rgba(255, 153, 51, 0.272727272727273)",
           "width": 1
          }
         },
         "name": "300",
         "orientation": "v",
         "text": "",
         "type": "bar",
         "x": [
          "name",
          "variable",
          "value"
         ],
         "y": [
          "green",
          "1927_Woolf_Virg",
          0.00021961724589638718
         ]
        },
        {
         "marker": {
          "color": "rgba(55, 128, 191, 0.6)",
          "line": {
           "color": "rgba(55, 128, 191, 0.272727272727273)",
           "width": 1
          }
         },
         "name": "301",
         "orientation": "v",
         "text": "",
         "type": "bar",
         "x": [
          "name",
          "variable",
          "value"
         ],
         "y": [
          "grey",
          "1927_Woolf_Virg",
          0.0003384689319109026
         ]
        },
        {
         "marker": {
          "color": "rgba(50, 171, 96, 0.6)",
          "line": {
           "color": "rgba(50, 171, 96, 0.272727272727273)",
           "width": 1
          }
         },
         "name": "302",
         "orientation": "v",
         "text": "",
         "type": "bar",
         "x": [
          "name",
          "variable",
          "value"
         ],
         "y": [
          "orange",
          "1927_Woolf_Virg",
          0.000054258378397930944
         ]
        },
        {
         "marker": {
          "color": "rgba(128, 0, 128, 0.6)",
          "line": {
           "color": "rgba(128, 0, 128, 0.272727272727273)",
           "width": 1
          }
         },
         "name": "303",
         "orientation": "v",
         "text": "",
         "type": "bar",
         "x": [
          "name",
          "variable",
          "value"
         ],
         "y": [
          "red",
          "1927_Woolf_Virg",
          0.00024287083663835756
         ]
        },
        {
         "marker": {
          "color": "rgba(219, 64, 82, 0.6)",
          "line": {
           "color": "rgba(219, 64, 82, 0.272727272727273)",
           "width": 1
          }
         },
         "name": "304",
         "orientation": "v",
         "text": "",
         "type": "bar",
         "x": [
          "name",
          "variable",
          "value"
         ],
         "y": [
          "violet",
          "1927_Woolf_Virg",
          0.000054258378397930944
         ]
        },
        {
         "marker": {
          "color": "rgba(0, 128, 128, 0.6)",
          "line": {
           "color": "rgba(0, 128, 128, 0.272727272727273)",
           "width": 1
          }
         },
         "name": "305",
         "orientation": "v",
         "text": "",
         "type": "bar",
         "x": [
          "name",
          "variable",
          "value"
         ],
         "y": [
          "white",
          "1927_Woolf_Virg",
          0.0001808612613264365
         ]
        },
        {
         "marker": {
          "color": "rgba(255, 255, 51, 0.6)",
          "line": {
           "color": "rgba(255, 255, 51, 0.272727272727273)",
           "width": 1
          }
         },
         "name": "306",
         "orientation": "v",
         "text": "",
         "type": "bar",
         "x": [
          "name",
          "variable",
          "value"
         ],
         "y": [
          "yellow",
          "1927_Woolf_Virg",
          0.00018861245824042662
         ]
        },
        {
         "marker": {
          "color": "rgba(128, 128, 0, 0.6)",
          "line": {
           "color": "rgba(128, 128, 0, 0.272727272727273)",
           "width": 1
          }
         },
         "name": "307",
         "orientation": "v",
         "text": "",
         "type": "bar",
         "x": [
          "name",
          "variable",
          "value"
         ],
         "y": [
          "name",
          "1927_Woolf_Virg",
          "1927_Woolf_Virg"
         ]
        },
        {
         "marker": {
          "color": "rgba(251, 128, 114, 0.6)",
          "line": {
           "color": "rgba(251, 128, 114, 0.272727272727273)",
           "width": 1
          }
         },
         "name": "308",
         "orientation": "v",
         "text": "",
         "type": "bar",
         "x": [
          "name",
          "variable",
          "value"
         ],
         "y": [
          "black",
          "1928_Woolf_Virg",
          0.00022209933732809963
         ]
        },
        {
         "marker": {
          "color": "rgba(128, 177, 211, 0.6)",
          "line": {
           "color": "rgba(128, 177, 211, 0.272727272727273)",
           "width": 1
          }
         },
         "name": "309",
         "orientation": "v",
         "text": "",
         "type": "bar",
         "x": [
          "name",
          "variable",
          "value"
         ],
         "y": [
          "blue",
          "1928_Woolf_Virg",
          0.00009745175005212535
         ]
        },
        {
         "marker": {
          "color": "rgba(128, 177, 211, 0.6)",
          "line": {
           "color": "rgba(128, 177, 211, 0.2484848484848488)",
           "width": 1
          }
         },
         "name": "310",
         "orientation": "v",
         "text": "",
         "type": "bar",
         "x": [
          "name",
          "variable",
          "value"
         ],
         "y": [
          "brown",
          "1928_Woolf_Virg",
          0.0000929191105148172
         ]
        },
        {
         "marker": {
          "color": "rgba(255, 153, 51, 0.6)",
          "line": {
           "color": "rgba(255, 153, 51, 0.2484848484848488)",
           "width": 1
          }
         },
         "name": "311",
         "orientation": "v",
         "text": "",
         "type": "bar",
         "x": [
          "name",
          "variable",
          "value"
         ],
         "y": [
          "green",
          "1928_Woolf_Virg",
          0.00023116461640271596
         ]
        },
        {
         "marker": {
          "color": "rgba(55, 128, 191, 0.6)",
          "line": {
           "color": "rgba(55, 128, 191, 0.2484848484848488)",
           "width": 1
          }
         },
         "name": "312",
         "orientation": "v",
         "text": "",
         "type": "bar",
         "x": [
          "name",
          "variable",
          "value"
         ],
         "y": [
          "grey",
          "1928_Woolf_Virg",
          0.00025836045362656487
         ]
        },
        {
         "marker": {
          "color": "rgba(50, 171, 96, 0.6)",
          "line": {
           "color": "rgba(50, 171, 96, 0.2484848484848488)",
           "width": 1
          }
         },
         "name": "313",
         "orientation": "v",
         "text": "",
         "type": "bar",
         "x": [
          "name",
          "variable",
          "value"
         ],
         "y": [
          "orange",
          "1928_Woolf_Virg",
          0.00007025591282827642
         ]
        },
        {
         "marker": {
          "color": "rgba(128, 0, 128, 0.6)",
          "line": {
           "color": "rgba(128, 0, 128, 0.2484848484848488)",
           "width": 1
          }
         },
         "name": "314",
         "orientation": "v",
         "text": "",
         "type": "bar",
         "x": [
          "name",
          "variable",
          "value"
         ],
         "y": [
          "red",
          "1928_Woolf_Virg",
          0.0002991542094623383
         ]
        },
        {
         "marker": {
          "color": "rgba(219, 64, 82, 0.6)",
          "line": {
           "color": "rgba(219, 64, 82, 0.2484848484848488)",
           "width": 1
          }
         },
         "name": "315",
         "orientation": "v",
         "text": "",
         "type": "bar",
         "x": [
          "name",
          "variable",
          "value"
         ],
         "y": [
          "violet",
          "1928_Woolf_Virg",
          0.00011784862797001205
         ]
        },
        {
         "marker": {
          "color": "rgba(0, 128, 128, 0.6)",
          "line": {
           "color": "rgba(0, 128, 128, 0.2484848484848488)",
           "width": 1
          }
         },
         "name": "316",
         "orientation": "v",
         "text": "",
         "type": "bar",
         "x": [
          "name",
          "variable",
          "value"
         ],
         "y": [
          "white",
          "1928_Woolf_Virg",
          0.00035581220367869023
         ]
        },
        {
         "marker": {
          "color": "rgba(255, 255, 51, 0.6)",
          "line": {
           "color": "rgba(255, 255, 51, 0.2484848484848488)",
           "width": 1
          }
         },
         "name": "317",
         "orientation": "v",
         "text": "",
         "type": "bar",
         "x": [
          "name",
          "variable",
          "value"
         ],
         "y": [
          "yellow",
          "1928_Woolf_Virg",
          0.0002062350989475211
         ]
        },
        {
         "marker": {
          "color": "rgba(128, 128, 0, 0.6)",
          "line": {
           "color": "rgba(128, 128, 0, 0.2484848484848488)",
           "width": 1
          }
         },
         "name": "318",
         "orientation": "v",
         "text": "",
         "type": "bar",
         "x": [
          "name",
          "variable",
          "value"
         ],
         "y": [
          "name",
          "1928_Woolf_Virg",
          "1928_Woolf_Virg"
         ]
        },
        {
         "marker": {
          "color": "rgba(251, 128, 114, 0.6)",
          "line": {
           "color": "rgba(251, 128, 114, 0.2484848484848488)",
           "width": 1
          }
         },
         "name": "319",
         "orientation": "v",
         "text": "",
         "type": "bar",
         "x": [
          "name",
          "variable",
          "value"
         ],
         "y": [
          "black",
          "1930_Mansfield_",
          0.00043248069531735014
         ]
        },
        {
         "marker": {
          "color": "rgba(251, 128, 114, 0.6)",
          "line": {
           "color": "rgba(251, 128, 114, 0.22424242424242463)",
           "width": 1
          }
         },
         "name": "320",
         "orientation": "v",
         "text": "",
         "type": "bar",
         "x": [
          "name",
          "variable",
          "value"
         ],
         "y": [
          "blue",
          "1930_Mansfield_",
          0.00009765693120069197
         ]
        },
        {
         "marker": {
          "color": "rgba(128, 177, 211, 0.6)",
          "line": {
           "color": "rgba(128, 177, 211, 0.22424242424242463)",
           "width": 1
          }
         },
         "name": "321",
         "orientation": "v",
         "text": "",
         "type": "bar",
         "x": [
          "name",
          "variable",
          "value"
         ],
         "y": [
          "brown",
          "1930_Mansfield_",
          0.0002301913378302025
         ]
        },
        {
         "marker": {
          "color": "rgba(255, 153, 51, 0.6)",
          "line": {
           "color": "rgba(255, 153, 51, 0.22424242424242463)",
           "width": 1
          }
         },
         "name": "322",
         "orientation": "v",
         "text": "",
         "type": "bar",
         "x": [
          "name",
          "variable",
          "value"
         ],
         "y": [
          "green",
          "1930_Mansfield_",
          0.0004673581707461687
         ]
        },
        {
         "marker": {
          "color": "rgba(55, 128, 191, 0.6)",
          "line": {
           "color": "rgba(55, 128, 191, 0.22424242424242463)",
           "width": 1
          }
         },
         "name": "323",
         "orientation": "v",
         "text": "",
         "type": "bar",
         "x": [
          "name",
          "variable",
          "value"
         ],
         "y": [
          "grey",
          "1930_Mansfield_",
          0.00027204430834478475
         ]
        },
        {
         "marker": {
          "color": "rgba(50, 171, 96, 0.6)",
          "line": {
           "color": "rgba(50, 171, 96, 0.22424242424242463)",
           "width": 1
          }
         },
         "name": "324",
         "orientation": "v",
         "text": "",
         "type": "bar",
         "x": [
          "name",
          "variable",
          "value"
         ],
         "y": [
          "orange",
          "1930_Mansfield_",
          0.00006975495085763712
         ]
        },
        {
         "marker": {
          "color": "rgba(128, 0, 128, 0.6)",
          "line": {
           "color": "rgba(128, 0, 128, 0.22424242424242463)",
           "width": 1
          }
         },
         "name": "325",
         "orientation": "v",
         "text": "",
         "type": "bar",
         "x": [
          "name",
          "variable",
          "value"
         ],
         "y": [
          "red",
          "1930_Mansfield_",
          0.00037667673463124044
         ]
        },
        {
         "marker": {
          "color": "rgba(219, 64, 82, 0.6)",
          "line": {
           "color": "rgba(219, 64, 82, 0.22424242424242463)",
           "width": 1
          }
         },
         "name": "326",
         "orientation": "v",
         "text": "",
         "type": "bar",
         "x": [
          "name",
          "variable",
          "value"
         ],
         "y": [
          "violet",
          "1930_Mansfield_",
          0.00012555891154374682
         ]
        },
        {
         "marker": {
          "color": "rgba(0, 128, 128, 0.6)",
          "line": {
           "color": "rgba(0, 128, 128, 0.22424242424242463)",
           "width": 1
          }
         },
         "name": "327",
         "orientation": "v",
         "text": "",
         "type": "bar",
         "x": [
          "name",
          "variable",
          "value"
         ],
         "y": [
          "white",
          "1930_Mansfield_",
          0.000606868072461443
         ]
        },
        {
         "marker": {
          "color": "rgba(255, 255, 51, 0.6)",
          "line": {
           "color": "rgba(255, 255, 51, 0.22424242424242463)",
           "width": 1
          }
         },
         "name": "328",
         "orientation": "v",
         "text": "",
         "type": "bar",
         "x": [
          "name",
          "variable",
          "value"
         ],
         "y": [
          "yellow",
          "1930_Mansfield_",
          0.00029994628868783963
         ]
        },
        {
         "marker": {
          "color": "rgba(128, 128, 0, 0.6)",
          "line": {
           "color": "rgba(128, 128, 0, 0.22424242424242463)",
           "width": 1
          }
         },
         "name": "329",
         "orientation": "v",
         "text": "",
         "type": "bar",
         "x": [
          "name",
          "variable",
          "value"
         ],
         "y": [
          "name",
          "1930_Mansfield_",
          "1930_Mansfield_"
         ]
        }
       ],
       "layout": {
        "barmode": "stack",
        "legend": {
         "bgcolor": "#F5F6F9",
         "font": {
          "color": "#4D5663"
         },
         "traceorder": "normal"
        },
        "paper_bgcolor": "#F5F6F9",
        "plot_bgcolor": "#F5F6F9",
        "template": {
         "data": {
          "bar": [
           {
            "error_x": {
             "color": "#2a3f5f"
            },
            "error_y": {
             "color": "#2a3f5f"
            },
            "marker": {
             "line": {
              "color": "#E5ECF6",
              "width": 0.5
             }
            },
            "type": "bar"
           }
          ],
          "barpolar": [
           {
            "marker": {
             "line": {
              "color": "#E5ECF6",
              "width": 0.5
             }
            },
            "type": "barpolar"
           }
          ],
          "carpet": [
           {
            "aaxis": {
             "endlinecolor": "#2a3f5f",
             "gridcolor": "white",
             "linecolor": "white",
             "minorgridcolor": "white",
             "startlinecolor": "#2a3f5f"
            },
            "baxis": {
             "endlinecolor": "#2a3f5f",
             "gridcolor": "white",
             "linecolor": "white",
             "minorgridcolor": "white",
             "startlinecolor": "#2a3f5f"
            },
            "type": "carpet"
           }
          ],
          "choropleth": [
           {
            "colorbar": {
             "outlinewidth": 0,
             "ticks": ""
            },
            "type": "choropleth"
           }
          ],
          "contour": [
           {
            "colorbar": {
             "outlinewidth": 0,
             "ticks": ""
            },
            "colorscale": [
             [
              0,
              "#0d0887"
             ],
             [
              0.1111111111111111,
              "#46039f"
             ],
             [
              0.2222222222222222,
              "#7201a8"
             ],
             [
              0.3333333333333333,
              "#9c179e"
             ],
             [
              0.4444444444444444,
              "#bd3786"
             ],
             [
              0.5555555555555556,
              "#d8576b"
             ],
             [
              0.6666666666666666,
              "#ed7953"
             ],
             [
              0.7777777777777778,
              "#fb9f3a"
             ],
             [
              0.8888888888888888,
              "#fdca26"
             ],
             [
              1,
              "#f0f921"
             ]
            ],
            "type": "contour"
           }
          ],
          "contourcarpet": [
           {
            "colorbar": {
             "outlinewidth": 0,
             "ticks": ""
            },
            "type": "contourcarpet"
           }
          ],
          "heatmap": [
           {
            "colorbar": {
             "outlinewidth": 0,
             "ticks": ""
            },
            "colorscale": [
             [
              0,
              "#0d0887"
             ],
             [
              0.1111111111111111,
              "#46039f"
             ],
             [
              0.2222222222222222,
              "#7201a8"
             ],
             [
              0.3333333333333333,
              "#9c179e"
             ],
             [
              0.4444444444444444,
              "#bd3786"
             ],
             [
              0.5555555555555556,
              "#d8576b"
             ],
             [
              0.6666666666666666,
              "#ed7953"
             ],
             [
              0.7777777777777778,
              "#fb9f3a"
             ],
             [
              0.8888888888888888,
              "#fdca26"
             ],
             [
              1,
              "#f0f921"
             ]
            ],
            "type": "heatmap"
           }
          ],
          "heatmapgl": [
           {
            "colorbar": {
             "outlinewidth": 0,
             "ticks": ""
            },
            "colorscale": [
             [
              0,
              "#0d0887"
             ],
             [
              0.1111111111111111,
              "#46039f"
             ],
             [
              0.2222222222222222,
              "#7201a8"
             ],
             [
              0.3333333333333333,
              "#9c179e"
             ],
             [
              0.4444444444444444,
              "#bd3786"
             ],
             [
              0.5555555555555556,
              "#d8576b"
             ],
             [
              0.6666666666666666,
              "#ed7953"
             ],
             [
              0.7777777777777778,
              "#fb9f3a"
             ],
             [
              0.8888888888888888,
              "#fdca26"
             ],
             [
              1,
              "#f0f921"
             ]
            ],
            "type": "heatmapgl"
           }
          ],
          "histogram": [
           {
            "marker": {
             "colorbar": {
              "outlinewidth": 0,
              "ticks": ""
             }
            },
            "type": "histogram"
           }
          ],
          "histogram2d": [
           {
            "colorbar": {
             "outlinewidth": 0,
             "ticks": ""
            },
            "colorscale": [
             [
              0,
              "#0d0887"
             ],
             [
              0.1111111111111111,
              "#46039f"
             ],
             [
              0.2222222222222222,
              "#7201a8"
             ],
             [
              0.3333333333333333,
              "#9c179e"
             ],
             [
              0.4444444444444444,
              "#bd3786"
             ],
             [
              0.5555555555555556,
              "#d8576b"
             ],
             [
              0.6666666666666666,
              "#ed7953"
             ],
             [
              0.7777777777777778,
              "#fb9f3a"
             ],
             [
              0.8888888888888888,
              "#fdca26"
             ],
             [
              1,
              "#f0f921"
             ]
            ],
            "type": "histogram2d"
           }
          ],
          "histogram2dcontour": [
           {
            "colorbar": {
             "outlinewidth": 0,
             "ticks": ""
            },
            "colorscale": [
             [
              0,
              "#0d0887"
             ],
             [
              0.1111111111111111,
              "#46039f"
             ],
             [
              0.2222222222222222,
              "#7201a8"
             ],
             [
              0.3333333333333333,
              "#9c179e"
             ],
             [
              0.4444444444444444,
              "#bd3786"
             ],
             [
              0.5555555555555556,
              "#d8576b"
             ],
             [
              0.6666666666666666,
              "#ed7953"
             ],
             [
              0.7777777777777778,
              "#fb9f3a"
             ],
             [
              0.8888888888888888,
              "#fdca26"
             ],
             [
              1,
              "#f0f921"
             ]
            ],
            "type": "histogram2dcontour"
           }
          ],
          "mesh3d": [
           {
            "colorbar": {
             "outlinewidth": 0,
             "ticks": ""
            },
            "type": "mesh3d"
           }
          ],
          "parcoords": [
           {
            "line": {
             "colorbar": {
              "outlinewidth": 0,
              "ticks": ""
             }
            },
            "type": "parcoords"
           }
          ],
          "pie": [
           {
            "automargin": true,
            "type": "pie"
           }
          ],
          "scatter": [
           {
            "marker": {
             "colorbar": {
              "outlinewidth": 0,
              "ticks": ""
             }
            },
            "type": "scatter"
           }
          ],
          "scatter3d": [
           {
            "line": {
             "colorbar": {
              "outlinewidth": 0,
              "ticks": ""
             }
            },
            "marker": {
             "colorbar": {
              "outlinewidth": 0,
              "ticks": ""
             }
            },
            "type": "scatter3d"
           }
          ],
          "scattercarpet": [
           {
            "marker": {
             "colorbar": {
              "outlinewidth": 0,
              "ticks": ""
             }
            },
            "type": "scattercarpet"
           }
          ],
          "scattergeo": [
           {
            "marker": {
             "colorbar": {
              "outlinewidth": 0,
              "ticks": ""
             }
            },
            "type": "scattergeo"
           }
          ],
          "scattergl": [
           {
            "marker": {
             "colorbar": {
              "outlinewidth": 0,
              "ticks": ""
             }
            },
            "type": "scattergl"
           }
          ],
          "scattermapbox": [
           {
            "marker": {
             "colorbar": {
              "outlinewidth": 0,
              "ticks": ""
             }
            },
            "type": "scattermapbox"
           }
          ],
          "scatterpolar": [
           {
            "marker": {
             "colorbar": {
              "outlinewidth": 0,
              "ticks": ""
             }
            },
            "type": "scatterpolar"
           }
          ],
          "scatterpolargl": [
           {
            "marker": {
             "colorbar": {
              "outlinewidth": 0,
              "ticks": ""
             }
            },
            "type": "scatterpolargl"
           }
          ],
          "scatterternary": [
           {
            "marker": {
             "colorbar": {
              "outlinewidth": 0,
              "ticks": ""
             }
            },
            "type": "scatterternary"
           }
          ],
          "surface": [
           {
            "colorbar": {
             "outlinewidth": 0,
             "ticks": ""
            },
            "colorscale": [
             [
              0,
              "#0d0887"
             ],
             [
              0.1111111111111111,
              "#46039f"
             ],
             [
              0.2222222222222222,
              "#7201a8"
             ],
             [
              0.3333333333333333,
              "#9c179e"
             ],
             [
              0.4444444444444444,
              "#bd3786"
             ],
             [
              0.5555555555555556,
              "#d8576b"
             ],
             [
              0.6666666666666666,
              "#ed7953"
             ],
             [
              0.7777777777777778,
              "#fb9f3a"
             ],
             [
              0.8888888888888888,
              "#fdca26"
             ],
             [
              1,
              "#f0f921"
             ]
            ],
            "type": "surface"
           }
          ],
          "table": [
           {
            "cells": {
             "fill": {
              "color": "#EBF0F8"
             },
             "line": {
              "color": "white"
             }
            },
            "header": {
             "fill": {
              "color": "#C8D4E3"
             },
             "line": {
              "color": "white"
             }
            },
            "type": "table"
           }
          ]
         },
         "layout": {
          "annotationdefaults": {
           "arrowcolor": "#2a3f5f",
           "arrowhead": 0,
           "arrowwidth": 1
          },
          "coloraxis": {
           "colorbar": {
            "outlinewidth": 0,
            "ticks": ""
           }
          },
          "colorscale": {
           "diverging": [
            [
             0,
             "#8e0152"
            ],
            [
             0.1,
             "#c51b7d"
            ],
            [
             0.2,
             "#de77ae"
            ],
            [
             0.3,
             "#f1b6da"
            ],
            [
             0.4,
             "#fde0ef"
            ],
            [
             0.5,
             "#f7f7f7"
            ],
            [
             0.6,
             "#e6f5d0"
            ],
            [
             0.7,
             "#b8e186"
            ],
            [
             0.8,
             "#7fbc41"
            ],
            [
             0.9,
             "#4d9221"
            ],
            [
             1,
             "#276419"
            ]
           ],
           "sequential": [
            [
             0,
             "#0d0887"
            ],
            [
             0.1111111111111111,
             "#46039f"
            ],
            [
             0.2222222222222222,
             "#7201a8"
            ],
            [
             0.3333333333333333,
             "#9c179e"
            ],
            [
             0.4444444444444444,
             "#bd3786"
            ],
            [
             0.5555555555555556,
             "#d8576b"
            ],
            [
             0.6666666666666666,
             "#ed7953"
            ],
            [
             0.7777777777777778,
             "#fb9f3a"
            ],
            [
             0.8888888888888888,
             "#fdca26"
            ],
            [
             1,
             "#f0f921"
            ]
           ],
           "sequentialminus": [
            [
             0,
             "#0d0887"
            ],
            [
             0.1111111111111111,
             "#46039f"
            ],
            [
             0.2222222222222222,
             "#7201a8"
            ],
            [
             0.3333333333333333,
             "#9c179e"
            ],
            [
             0.4444444444444444,
             "#bd3786"
            ],
            [
             0.5555555555555556,
             "#d8576b"
            ],
            [
             0.6666666666666666,
             "#ed7953"
            ],
            [
             0.7777777777777778,
             "#fb9f3a"
            ],
            [
             0.8888888888888888,
             "#fdca26"
            ],
            [
             1,
             "#f0f921"
            ]
           ]
          },
          "colorway": [
           "#636efa",
           "#EF553B",
           "#00cc96",
           "#ab63fa",
           "#FFA15A",
           "#19d3f3",
           "#FF6692",
           "#B6E880",
           "#FF97FF",
           "#FECB52"
          ],
          "font": {
           "color": "#2a3f5f"
          },
          "geo": {
           "bgcolor": "white",
           "lakecolor": "white",
           "landcolor": "#E5ECF6",
           "showlakes": true,
           "showland": true,
           "subunitcolor": "white"
          },
          "hoverlabel": {
           "align": "left"
          },
          "hovermode": "closest",
          "mapbox": {
           "style": "light"
          },
          "paper_bgcolor": "white",
          "plot_bgcolor": "#E5ECF6",
          "polar": {
           "angularaxis": {
            "gridcolor": "white",
            "linecolor": "white",
            "ticks": ""
           },
           "bgcolor": "#E5ECF6",
           "radialaxis": {
            "gridcolor": "white",
            "linecolor": "white",
            "ticks": ""
           }
          },
          "scene": {
           "xaxis": {
            "backgroundcolor": "#E5ECF6",
            "gridcolor": "white",
            "gridwidth": 2,
            "linecolor": "white",
            "showbackground": true,
            "ticks": "",
            "zerolinecolor": "white"
           },
           "yaxis": {
            "backgroundcolor": "#E5ECF6",
            "gridcolor": "white",
            "gridwidth": 2,
            "linecolor": "white",
            "showbackground": true,
            "ticks": "",
            "zerolinecolor": "white"
           },
           "zaxis": {
            "backgroundcolor": "#E5ECF6",
            "gridcolor": "white",
            "gridwidth": 2,
            "linecolor": "white",
            "showbackground": true,
            "ticks": "",
            "zerolinecolor": "white"
           }
          },
          "shapedefaults": {
           "line": {
            "color": "#2a3f5f"
           }
          },
          "ternary": {
           "aaxis": {
            "gridcolor": "white",
            "linecolor": "white",
            "ticks": ""
           },
           "baxis": {
            "gridcolor": "white",
            "linecolor": "white",
            "ticks": ""
           },
           "bgcolor": "#E5ECF6",
           "caxis": {
            "gridcolor": "white",
            "linecolor": "white",
            "ticks": ""
           }
          },
          "title": {
           "x": 0.05
          },
          "xaxis": {
           "automargin": true,
           "gridcolor": "white",
           "linecolor": "white",
           "ticks": "",
           "title": {
            "standoff": 15
           },
           "zerolinecolor": "white",
           "zerolinewidth": 2
          },
          "yaxis": {
           "automargin": true,
           "gridcolor": "white",
           "linecolor": "white",
           "ticks": "",
           "title": {
            "standoff": 15
           },
           "zerolinecolor": "white",
           "zerolinewidth": 2
          }
         }
        },
        "title": {
         "font": {
          "color": "#4D5663"
         }
        },
        "xaxis": {
         "gridcolor": "#E1E5ED",
         "showgrid": true,
         "tickfont": {
          "color": "#4D5663"
         },
         "title": {
          "font": {
           "color": "#4D5663"
          },
          "text": ""
         },
         "zerolinecolor": "#E1E5ED"
        },
        "yaxis": {
         "gridcolor": "#E1E5ED",
         "showgrid": true,
         "tickfont": {
          "color": "#4D5663"
         },
         "title": {
          "font": {
           "color": "#4D5663"
          },
          "text": ""
         },
         "zerolinecolor": "#E1E5ED"
        }
       }
      },
      "text/html": "<div>\n        \n        \n            <div id=\"974b4e30-eeb0-4de4-804b-716e012f3c34\" class=\"plotly-graph-div\" style=\"height:525px; width:100%;\"></div>\n            <script type=\"text/javascript\">\n                require([\"plotly\"], function(Plotly) {\n                    window.PLOTLYENV=window.PLOTLYENV || {};\n                    window.PLOTLYENV.BASE_URL='https://plot.ly';\n                    \n                if (document.getElementById(\"974b4e30-eeb0-4de4-804b-716e012f3c34\")) {\n                    Plotly.newPlot(\n                        '974b4e30-eeb0-4de4-804b-716e012f3c34',\n                        [{\"marker\": {\"color\": \"rgba(255, 153, 51, 0.6)\", \"line\": {\"color\": \"rgba(255, 153, 51, 1.0)\", \"width\": 1}}, \"name\": \"0\", \"orientation\": \"v\", \"text\": \"\", \"type\": \"bar\", \"x\": [\"name\", \"variable\", \"value\"], \"y\": [\"black\", \"1917 the light \", 0.00011951715071112705]}, {\"marker\": {\"color\": \"rgba(55, 128, 191, 0.6)\", \"line\": {\"color\": \"rgba(55, 128, 191, 1.0)\", \"width\": 1}}, \"name\": \"1\", \"orientation\": \"v\", \"text\": \"\", \"type\": \"bar\", \"x\": [\"name\", \"variable\", \"value\"], \"y\": [\"blue\", \"1917 the light \", 6.080697141443306e-05]}, {\"marker\": {\"color\": \"rgba(50, 171, 96, 0.6)\", \"line\": {\"color\": \"rgba(50, 171, 96, 1.0)\", \"width\": 1}}, \"name\": \"2\", \"orientation\": \"v\", \"text\": \"\", \"type\": \"bar\", \"x\": [\"name\", \"variable\", \"value\"], \"y\": [\"brown\", \"1917 the light \", 6.50005556499112e-05]}, {\"marker\": {\"color\": \"rgba(128, 0, 128, 0.6)\", \"line\": {\"color\": \"rgba(128, 0, 128, 1.0)\", \"width\": 1}}, \"name\": \"3\", \"orientation\": \"v\", \"text\": \"\", \"type\": \"bar\", \"x\": [\"name\", \"variable\", \"value\"], \"y\": [\"green\", \"1917 the light \", 0.00016774336941912567]}, {\"marker\": {\"color\": \"rgba(219, 64, 82, 0.6)\", \"line\": {\"color\": \"rgba(219, 64, 82, 1.0)\", \"width\": 1}}, \"name\": \"4\", \"orientation\": \"v\", \"text\": \"\", \"type\": \"bar\", \"x\": [\"name\", \"variable\", \"value\"], \"y\": [\"grey\", \"1917 the light \", 9.016206106278006e-05]}, {\"marker\": {\"color\": \"rgba(0, 128, 128, 0.6)\", \"line\": {\"color\": \"rgba(0, 128, 128, 1.0)\", \"width\": 1}}, \"name\": \"5\", \"orientation\": \"v\", \"text\": \"\", \"type\": \"bar\", \"x\": [\"name\", \"variable\", \"value\"], \"y\": [\"orange\", \"1917 the light \", 6.290376353217213e-05]}, {\"marker\": {\"color\": \"rgba(255, 255, 51, 0.6)\", \"line\": {\"color\": \"rgba(255, 255, 51, 1.0)\", \"width\": 1}}, \"name\": \"6\", \"orientation\": \"v\", \"text\": \"\", \"type\": \"bar\", \"x\": [\"name\", \"variable\", \"value\"], \"y\": [\"red\", \"1917 the light \", 0.0002243567565980806]}, {\"marker\": {\"color\": \"rgba(128, 128, 0, 0.6)\", \"line\": {\"color\": \"rgba(128, 128, 0, 1.0)\", \"width\": 1}}, \"name\": \"7\", \"orientation\": \"v\", \"text\": \"\", \"type\": \"bar\", \"x\": [\"name\", \"variable\", \"value\"], \"y\": [\"violet\", \"1917 the light \", 1.2580752706434426e-05]}, {\"marker\": {\"color\": \"rgba(251, 128, 114, 0.6)\", \"line\": {\"color\": \"rgba(251, 128, 114, 1.0)\", \"width\": 1}}, \"name\": \"8\", \"orientation\": \"v\", \"text\": \"\", \"type\": \"bar\", \"x\": [\"name\", \"variable\", \"value\"], \"y\": [\"white\", \"1917 the light \", 0.00016145299306590848]}, {\"marker\": {\"color\": \"rgba(128, 177, 211, 0.6)\", \"line\": {\"color\": \"rgba(128, 177, 211, 1.0)\", \"width\": 1}}, \"name\": \"9\", \"orientation\": \"v\", \"text\": \"\", \"type\": \"bar\", \"x\": [\"name\", \"variable\", \"value\"], \"y\": [\"yellow\", \"1917 the light \", 0.00015725940883043032]}, {\"marker\": {\"color\": \"rgba(128, 177, 211, 0.6)\", \"line\": {\"color\": \"rgba(128, 177, 211, 0.9757575757575758)\", \"width\": 1}}, \"name\": \"10\", \"orientation\": \"v\", \"text\": \"\", \"type\": \"bar\", \"x\": [\"name\", \"variable\", \"value\"], \"y\": [\"name\", \"1917 the light \", \"1917 the light \"]}, {\"marker\": {\"color\": \"rgba(255, 153, 51, 0.6)\", \"line\": {\"color\": \"rgba(255, 153, 51, 0.9757575757575758)\", \"width\": 1}}, \"name\": \"11\", \"orientation\": \"v\", \"text\": \"\", \"type\": \"bar\", \"x\": [\"name\", \"variable\", \"value\"], \"y\": [\"black\", \"1917 the major.\", 0.00012085249348907191]}, {\"marker\": {\"color\": \"rgba(55, 128, 191, 0.6)\", \"line\": {\"color\": \"rgba(55, 128, 191, 0.9757575757575758)\", \"width\": 1}}, \"name\": \"12\", \"orientation\": \"v\", \"text\": \"\", \"type\": \"bar\", \"x\": [\"name\", \"variable\", \"value\"], \"y\": [\"blue\", \"1917 the major.\", 6.797952758760295e-05]}, {\"marker\": {\"color\": \"rgba(50, 171, 96, 0.6)\", \"line\": {\"color\": \"rgba(50, 171, 96, 0.9757575757575758)\", \"width\": 1}}, \"name\": \"13\", \"orientation\": \"v\", \"text\": \"\", \"type\": \"bar\", \"x\": [\"name\", \"variable\", \"value\"], \"y\": [\"brown\", \"1917 the major.\", 0.00021149186360587584]}, {\"marker\": {\"color\": \"rgba(128, 0, 128, 0.6)\", \"line\": {\"color\": \"rgba(128, 0, 128, 0.9757575757575758)\", \"width\": 1}}, \"name\": \"14\", \"orientation\": \"v\", \"text\": \"\", \"type\": \"bar\", \"x\": [\"name\", \"variable\", \"value\"], \"y\": [\"green\", \"1917 the major.\", 6.495821525037615e-05]}, {\"marker\": {\"color\": \"rgba(219, 64, 82, 0.6)\", \"line\": {\"color\": \"rgba(219, 64, 82, 0.9757575757575758)\", \"width\": 1}}, \"name\": \"15\", \"orientation\": \"v\", \"text\": \"\", \"type\": \"bar\", \"x\": [\"name\", \"variable\", \"value\"], \"y\": [\"grey\", \"1917 the major.\", 6.344755908176276e-05]}, {\"marker\": {\"color\": \"rgba(0, 128, 128, 0.6)\", \"line\": {\"color\": \"rgba(0, 128, 128, 0.9757575757575758)\", \"width\": 1}}, \"name\": \"16\", \"orientation\": \"v\", \"text\": \"\", \"type\": \"bar\", \"x\": [\"name\", \"variable\", \"value\"], \"y\": [\"orange\", \"1917 the major.\", 9.063937011680394e-06]}, {\"marker\": {\"color\": \"rgba(255, 255, 51, 0.6)\", \"line\": {\"color\": \"rgba(255, 255, 51, 0.9757575757575758)\", \"width\": 1}}, \"name\": \"17\", \"orientation\": \"v\", \"text\": \"\", \"type\": \"bar\", \"x\": [\"name\", \"variable\", \"value\"], \"y\": [\"red\", \"1917 the major.\", 0.00011027790030877812]}, {\"marker\": {\"color\": \"rgba(128, 128, 0, 0.6)\", \"line\": {\"color\": \"rgba(128, 128, 0, 0.9757575757575758)\", \"width\": 1}}, \"name\": \"18\", \"orientation\": \"v\", \"text\": \"\", \"type\": \"bar\", \"x\": [\"name\", \"variable\", \"value\"], \"y\": [\"violet\", \"1917 the major.\", 7.553280843066995e-06]}, {\"marker\": {\"color\": \"rgba(251, 128, 114, 0.6)\", \"line\": {\"color\": \"rgba(251, 128, 114, 0.9757575757575758)\", \"width\": 1}}, \"name\": \"19\", \"orientation\": \"v\", \"text\": \"\", \"type\": \"bar\", \"x\": [\"name\", \"variable\", \"value\"], \"y\": [\"white\", \"1917 the major.\", 0.0001344483990065925]}, {\"marker\": {\"color\": \"rgba(251, 128, 114, 0.6)\", \"line\": {\"color\": \"rgba(251, 128, 114, 0.9515151515151514)\", \"width\": 1}}, \"name\": \"20\", \"orientation\": \"v\", \"text\": \"\", \"type\": \"bar\", \"x\": [\"name\", \"variable\", \"value\"], \"y\": [\"yellow\", \"1917 the major.\", 5.740493440730916e-05]}, {\"marker\": {\"color\": \"rgba(128, 177, 211, 0.6)\", \"line\": {\"color\": \"rgba(128, 177, 211, 0.9515151515151514)\", \"width\": 1}}, \"name\": \"21\", \"orientation\": \"v\", \"text\": \"\", \"type\": \"bar\", \"x\": [\"name\", \"variable\", \"value\"], \"y\": [\"name\", \"1917 the major.\", \"1917 the major.\"]}, {\"marker\": {\"color\": \"rgba(255, 153, 51, 0.6)\", \"line\": {\"color\": \"rgba(255, 153, 51, 0.9515151515151514)\", \"width\": 1}}, \"name\": \"22\", \"orientation\": \"v\", \"text\": \"\", \"type\": \"bar\", \"x\": [\"name\", \"variable\", \"value\"], \"y\": [\"black\", \"1917_Cahan_Abra\", 9.97586484312148e-05]}, {\"marker\": {\"color\": \"rgba(55, 128, 191, 0.6)\", \"line\": {\"color\": \"rgba(55, 128, 191, 0.9515151515151514)\", \"width\": 1}}, \"name\": \"23\", \"orientation\": \"v\", \"text\": \"\", \"type\": \"bar\", \"x\": [\"name\", \"variable\", \"value\"], \"y\": [\"blue\", \"1917_Cahan_Abra\", 3.6470903727540896e-05]}, {\"marker\": {\"color\": \"rgba(50, 171, 96, 0.6)\", \"line\": {\"color\": \"rgba(50, 171, 96, 0.9515151515151514)\", \"width\": 1}}, \"name\": \"24\", \"orientation\": \"v\", \"text\": \"\", \"type\": \"bar\", \"x\": [\"name\", \"variable\", \"value\"], \"y\": [\"brown\", \"1917_Cahan_Abra\", 5.577902923035666e-05]}, {\"marker\": {\"color\": \"rgba(128, 0, 128, 0.6)\", \"line\": {\"color\": \"rgba(128, 0, 128, 0.9515151515151514)\", \"width\": 1}}, \"name\": \"25\", \"orientation\": \"v\", \"text\": \"\", \"type\": \"bar\", \"x\": [\"name\", \"variable\", \"value\"], \"y\": [\"green\", \"1917_Cahan_Abra\", 6.757843925985518e-05]}, {\"marker\": {\"color\": \"rgba(219, 64, 82, 0.6)\", \"line\": {\"color\": \"rgba(219, 64, 82, 0.9515151515151514)\", \"width\": 1}}, \"name\": \"26\", \"orientation\": \"v\", \"text\": \"\", \"type\": \"bar\", \"x\": [\"name\", \"variable\", \"value\"], \"y\": [\"grey\", \"1917_Cahan_Abra\", 3.432555644945025e-05]}, {\"marker\": {\"color\": \"rgba(0, 128, 128, 0.6)\", \"line\": {\"color\": \"rgba(0, 128, 128, 0.9515151515151514)\", \"width\": 1}}, \"name\": \"27\", \"orientation\": \"v\", \"text\": \"\", \"type\": \"bar\", \"x\": [\"name\", \"variable\", \"value\"], \"y\": [\"orange\", \"1917_Cahan_Abra\", 9.654062751407883e-06]}, {\"marker\": {\"color\": \"rgba(255, 255, 51, 0.6)\", \"line\": {\"color\": \"rgba(255, 255, 51, 0.9515151515151514)\", \"width\": 1}}, \"name\": \"28\", \"orientation\": \"v\", \"text\": \"\", \"type\": \"bar\", \"x\": [\"name\", \"variable\", \"value\"], \"y\": [\"red\", \"1917_Cahan_Abra\", 7.401448109412711e-05]}, {\"marker\": {\"color\": \"rgba(128, 128, 0, 0.6)\", \"line\": {\"color\": \"rgba(128, 128, 0, 0.9515151515151514)\", \"width\": 1}}, \"name\": \"29\", \"orientation\": \"v\", \"text\": \"\", \"type\": \"bar\", \"x\": [\"name\", \"variable\", \"value\"], \"y\": [\"violet\", \"1917_Cahan_Abra\", 2.145347278090641e-05]}, {\"marker\": {\"color\": \"rgba(128, 128, 0, 0.6)\", \"line\": {\"color\": \"rgba(128, 128, 0, 0.9272727272727272)\", \"width\": 1}}, \"name\": \"30\", \"orientation\": \"v\", \"text\": \"\", \"type\": \"bar\", \"x\": [\"name\", \"variable\", \"value\"], \"y\": [\"white\", \"1917_Cahan_Abra\", 8.3668543845535e-05]}, {\"marker\": {\"color\": \"rgba(251, 128, 114, 0.6)\", \"line\": {\"color\": \"rgba(251, 128, 114, 0.9272727272727272)\", \"width\": 1}}, \"name\": \"31\", \"orientation\": \"v\", \"text\": \"\", \"type\": \"bar\", \"x\": [\"name\", \"variable\", \"value\"], \"y\": [\"yellow\", \"1917_Cahan_Abra\", 6.436041834271923e-05]}, {\"marker\": {\"color\": \"rgba(128, 177, 211, 0.6)\", \"line\": {\"color\": \"rgba(128, 177, 211, 0.9272727272727272)\", \"width\": 1}}, \"name\": \"32\", \"orientation\": \"v\", \"text\": \"\", \"type\": \"bar\", \"x\": [\"name\", \"variable\", \"value\"], \"y\": [\"name\", \"1917_Cahan_Abra\", \"1917_Cahan_Abra\"]}, {\"marker\": {\"color\": \"rgba(255, 153, 51, 0.6)\", \"line\": {\"color\": \"rgba(255, 153, 51, 0.9272727272727272)\", \"width\": 1}}, \"name\": \"33\", \"orientation\": \"v\", \"text\": \"\", \"type\": \"bar\", \"x\": [\"name\", \"variable\", \"value\"], \"y\": [\"black\", \"1917_Lewis_Sinc\", 9.167277818521235e-05]}, {\"marker\": {\"color\": \"rgba(55, 128, 191, 0.6)\", \"line\": {\"color\": \"rgba(55, 128, 191, 0.9272727272727272)\", \"width\": 1}}, \"name\": \"34\", \"orientation\": \"v\", \"text\": \"\", \"type\": \"bar\", \"x\": [\"name\", \"variable\", \"value\"], \"y\": [\"blue\", \"1917_Lewis_Sinc\", 7.500500033335555e-05]}, {\"marker\": {\"color\": \"rgba(50, 171, 96, 0.6)\", \"line\": {\"color\": \"rgba(50, 171, 96, 0.9272727272727272)\", \"width\": 1}}, \"name\": \"35\", \"orientation\": \"v\", \"text\": \"\", \"type\": \"bar\", \"x\": [\"name\", \"variable\", \"value\"], \"y\": [\"brown\", \"1917_Lewis_Sinc\", 7.500500033335555e-05]}, {\"marker\": {\"color\": \"rgba(128, 0, 128, 0.6)\", \"line\": {\"color\": \"rgba(128, 0, 128, 0.9272727272727272)\", \"width\": 1}}, \"name\": \"36\", \"orientation\": \"v\", \"text\": \"\", \"type\": \"bar\", \"x\": [\"name\", \"variable\", \"value\"], \"y\": [\"green\", \"1917_Lewis_Sinc\", 0.0005000333355557038]}, {\"marker\": {\"color\": \"rgba(219, 64, 82, 0.6)\", \"line\": {\"color\": \"rgba(219, 64, 82, 0.9272727272727272)\", \"width\": 1}}, \"name\": \"37\", \"orientation\": \"v\", \"text\": \"\", \"type\": \"bar\", \"x\": [\"name\", \"variable\", \"value\"], \"y\": [\"grey\", \"1917_Lewis_Sinc\", 0.0001750116674444963]}, {\"marker\": {\"color\": \"rgba(0, 128, 128, 0.6)\", \"line\": {\"color\": \"rgba(0, 128, 128, 0.9272727272727272)\", \"width\": 1}}, \"name\": \"38\", \"orientation\": \"v\", \"text\": \"\", \"type\": \"bar\", \"x\": [\"name\", \"variable\", \"value\"], \"y\": [\"orange\", \"1917_Lewis_Sinc\", 0.00010417361157410494]}, {\"marker\": {\"color\": \"rgba(255, 255, 51, 0.6)\", \"line\": {\"color\": \"rgba(255, 255, 51, 0.9272727272727272)\", \"width\": 1}}, \"name\": \"39\", \"orientation\": \"v\", \"text\": \"\", \"type\": \"bar\", \"x\": [\"name\", \"variable\", \"value\"], \"y\": [\"red\", \"1917_Lewis_Sinc\", 0.0002125141676111741]}, {\"marker\": {\"color\": \"rgba(255, 255, 51, 0.6)\", \"line\": {\"color\": \"rgba(255, 255, 51, 0.9030303030303031)\", \"width\": 1}}, \"name\": \"40\", \"orientation\": \"v\", \"text\": \"\", \"type\": \"bar\", \"x\": [\"name\", \"variable\", \"value\"], \"y\": [\"violet\", \"1917_Lewis_Sinc\", 1.666777785185679e-05]}, {\"marker\": {\"color\": \"rgba(128, 128, 0, 0.6)\", \"line\": {\"color\": \"rgba(128, 128, 0, 0.9030303030303031)\", \"width\": 1}}, \"name\": \"41\", \"orientation\": \"v\", \"text\": \"\", \"type\": \"bar\", \"x\": [\"name\", \"variable\", \"value\"], \"y\": [\"white\", \"1917_Lewis_Sinc\", 0.0001666777785185679]}, {\"marker\": {\"color\": \"rgba(251, 128, 114, 0.6)\", \"line\": {\"color\": \"rgba(251, 128, 114, 0.9030303030303031)\", \"width\": 1}}, \"name\": \"42\", \"orientation\": \"v\", \"text\": \"\", \"type\": \"bar\", \"x\": [\"name\", \"variable\", \"value\"], \"y\": [\"yellow\", \"1917_Lewis_Sinc\", 0.00020418027868524568]}, {\"marker\": {\"color\": \"rgba(128, 177, 211, 0.6)\", \"line\": {\"color\": \"rgba(128, 177, 211, 0.9030303030303031)\", \"width\": 1}}, \"name\": \"43\", \"orientation\": \"v\", \"text\": \"\", \"type\": \"bar\", \"x\": [\"name\", \"variable\", \"value\"], \"y\": [\"name\", \"1917_Lewis_Sinc\", \"1917_Lewis_Sinc\"]}, {\"marker\": {\"color\": \"rgba(255, 153, 51, 0.6)\", \"line\": {\"color\": \"rgba(255, 153, 51, 0.9030303030303031)\", \"width\": 1}}, \"name\": \"44\", \"orientation\": \"v\", \"text\": \"\", \"type\": \"bar\", \"x\": [\"name\", \"variable\", \"value\"], \"y\": [\"black\", \"1917_Webb_Mary_\", 0.0002678828110707472]}, {\"marker\": {\"color\": \"rgba(55, 128, 191, 0.6)\", \"line\": {\"color\": \"rgba(55, 128, 191, 0.9030303030303031)\", \"width\": 1}}, \"name\": \"45\", \"orientation\": \"v\", \"text\": \"\", \"type\": \"bar\", \"x\": [\"name\", \"variable\", \"value\"], \"y\": [\"blue\", \"1917_Webb_Mary_\", 0.00012849663295263483]}, {\"marker\": {\"color\": \"rgba(50, 171, 96, 0.6)\", \"line\": {\"color\": \"rgba(50, 171, 96, 0.9030303030303031)\", \"width\": 1}}, \"name\": \"46\", \"orientation\": \"v\", \"text\": \"\", \"type\": \"bar\", \"x\": [\"name\", \"variable\", \"value\"], \"y\": [\"brown\", \"1917_Webb_Mary_\", 0.0019013145858923764]}, {\"marker\": {\"color\": \"rgba(128, 0, 128, 0.6)\", \"line\": {\"color\": \"rgba(128, 0, 128, 0.9030303030303031)\", \"width\": 1}}, \"name\": \"47\", \"orientation\": \"v\", \"text\": \"\", \"type\": \"bar\", \"x\": [\"name\", \"variable\", \"value\"], \"y\": [\"green\", \"1917_Webb_Mary_\", 0.00036153289949385393]}, {\"marker\": {\"color\": \"rgba(219, 64, 82, 0.6)\", \"line\": {\"color\": \"rgba(219, 64, 82, 0.9030303030303031)\", \"width\": 1}}, \"name\": \"48\", \"orientation\": \"v\", \"text\": \"\", \"type\": \"bar\", \"x\": [\"name\", \"variable\", \"value\"], \"y\": [\"grey\", \"1917_Webb_Mary_\", 0.000198189722011691]}, {\"marker\": {\"color\": \"rgba(0, 128, 128, 0.6)\", \"line\": {\"color\": \"rgba(0, 128, 128, 0.9030303030303031)\", \"width\": 1}}, \"name\": \"49\", \"orientation\": \"v\", \"text\": \"\", \"type\": \"bar\", \"x\": [\"name\", \"variable\", \"value\"], \"y\": [\"orange\", \"1917_Webb_Mary_\", 2.613490839714607e-05]}, {\"marker\": {\"color\": \"rgba(0, 128, 128, 0.6)\", \"line\": {\"color\": \"rgba(0, 128, 128, 0.8787878787878789)\", \"width\": 1}}, \"name\": \"50\", \"orientation\": \"v\", \"text\": \"\", \"type\": \"bar\", \"x\": [\"name\", \"variable\", \"value\"], \"y\": [\"red\", \"1917_Webb_Mary_\", 0.0002918398104347978]}, {\"marker\": {\"color\": \"rgba(255, 255, 51, 0.6)\", \"line\": {\"color\": \"rgba(255, 255, 51, 0.8787878787878789)\", \"width\": 1}}, \"name\": \"51\", \"orientation\": \"v\", \"text\": \"\", \"type\": \"bar\", \"x\": [\"name\", \"variable\", \"value\"], \"y\": [\"violet\", \"1917_Webb_Mary_\", 9.800590648929775e-05]}, {\"marker\": {\"color\": \"rgba(128, 128, 0, 0.6)\", \"line\": {\"color\": \"rgba(128, 128, 0, 0.8787878787878789)\", \"width\": 1}}, \"name\": \"52\", \"orientation\": \"v\", \"text\": \"\", \"type\": \"bar\", \"x\": [\"name\", \"variable\", \"value\"], \"y\": [\"white\", \"1917_Webb_Mary_\", 0.0003484654452952809]}, {\"marker\": {\"color\": \"rgba(251, 128, 114, 0.6)\", \"line\": {\"color\": \"rgba(251, 128, 114, 0.8787878787878789)\", \"width\": 1}}, \"name\": \"53\", \"orientation\": \"v\", \"text\": \"\", \"type\": \"bar\", \"x\": [\"name\", \"variable\", \"value\"], \"y\": [\"yellow\", \"1917_Webb_Mary_\", 0.00017858854071383146]}, {\"marker\": {\"color\": \"rgba(128, 177, 211, 0.6)\", \"line\": {\"color\": \"rgba(128, 177, 211, 0.8787878787878789)\", \"width\": 1}}, \"name\": \"54\", \"orientation\": \"v\", \"text\": \"\", \"type\": \"bar\", \"x\": [\"name\", \"variable\", \"value\"], \"y\": [\"name\", \"1917_Webb_Mary_\", \"1917_Webb_Mary_\"]}, {\"marker\": {\"color\": \"rgba(255, 153, 51, 0.6)\", \"line\": {\"color\": \"rgba(255, 153, 51, 0.8787878787878789)\", \"width\": 1}}, \"name\": \"55\", \"orientation\": \"v\", \"text\": \"\", \"type\": \"bar\", \"x\": [\"name\", \"variable\", \"value\"], \"y\": [\"black\", \"1918 the passin\", 6.890713287263993e-05]}, {\"marker\": {\"color\": \"rgba(55, 128, 191, 0.6)\", \"line\": {\"color\": \"rgba(55, 128, 191, 0.8787878787878789)\", \"width\": 1}}, \"name\": \"56\", \"orientation\": \"v\", \"text\": \"\", \"type\": \"bar\", \"x\": [\"name\", \"variable\", \"value\"], \"y\": [\"blue\", \"1918 the passin\", 3.9375504498651386e-05]}, {\"marker\": {\"color\": \"rgba(50, 171, 96, 0.6)\", \"line\": {\"color\": \"rgba(50, 171, 96, 0.8787878787878789)\", \"width\": 1}}, \"name\": \"57\", \"orientation\": \"v\", \"text\": \"\", \"type\": \"bar\", \"x\": [\"name\", \"variable\", \"value\"], \"y\": [\"brown\", \"1918 the passin\", 5.9063256747977086e-05]}, {\"marker\": {\"color\": \"rgba(128, 0, 128, 0.6)\", \"line\": {\"color\": \"rgba(128, 0, 128, 0.8787878787878789)\", \"width\": 1}}, \"name\": \"58\", \"orientation\": \"v\", \"text\": \"\", \"type\": \"bar\", \"x\": [\"name\", \"variable\", \"value\"], \"y\": [\"green\", \"1918 the passin\", 7.382907093497136e-05]}, {\"marker\": {\"color\": \"rgba(219, 64, 82, 0.6)\", \"line\": {\"color\": \"rgba(219, 64, 82, 0.8787878787878789)\", \"width\": 1}}, \"name\": \"59\", \"orientation\": \"v\", \"text\": \"\", \"type\": \"bar\", \"x\": [\"name\", \"variable\", \"value\"], \"y\": [\"grey\", \"1918 the passin\", 9.351682318429704e-05]}, {\"marker\": {\"color\": \"rgba(219, 64, 82, 0.6)\", \"line\": {\"color\": \"rgba(219, 64, 82, 0.8545454545454545)\", \"width\": 1}}, \"name\": \"60\", \"orientation\": \"v\", \"text\": \"\", \"type\": \"bar\", \"x\": [\"name\", \"variable\", \"value\"], \"y\": [\"orange\", \"1918 the passin\", 8.36729470596342e-05]}, {\"marker\": {\"color\": \"rgba(0, 128, 128, 0.6)\", \"line\": {\"color\": \"rgba(0, 128, 128, 0.8545454545454545)\", \"width\": 1}}, \"name\": \"61\", \"orientation\": \"v\", \"text\": \"\", \"type\": \"bar\", \"x\": [\"name\", \"variable\", \"value\"], \"y\": [\"red\", \"1918 the passin\", 0.00013781426574527986]}, {\"marker\": {\"color\": \"rgba(255, 255, 51, 0.6)\", \"line\": {\"color\": \"rgba(255, 255, 51, 0.8545454545454545)\", \"width\": 1}}, \"name\": \"62\", \"orientation\": \"v\", \"text\": \"\", \"type\": \"bar\", \"x\": [\"name\", \"variable\", \"value\"], \"y\": [\"violet\", \"1918 the passin\", \"\"]}, {\"marker\": {\"color\": \"rgba(128, 128, 0, 0.6)\", \"line\": {\"color\": \"rgba(128, 128, 0, 0.8545454545454545)\", \"width\": 1}}, \"name\": \"63\", \"orientation\": \"v\", \"text\": \"\", \"type\": \"bar\", \"x\": [\"name\", \"variable\", \"value\"], \"y\": [\"white\", \"1918 the passin\", 0.00014273620380761127]}, {\"marker\": {\"color\": \"rgba(251, 128, 114, 0.6)\", \"line\": {\"color\": \"rgba(251, 128, 114, 0.8545454545454545)\", \"width\": 1}}, \"name\": \"64\", \"orientation\": \"v\", \"text\": \"\", \"type\": \"bar\", \"x\": [\"name\", \"variable\", \"value\"], \"y\": [\"yellow\", \"1918 the passin\", 0.0002510188411789026]}, {\"marker\": {\"color\": \"rgba(128, 177, 211, 0.6)\", \"line\": {\"color\": \"rgba(128, 177, 211, 0.8545454545454545)\", \"width\": 1}}, \"name\": \"65\", \"orientation\": \"v\", \"text\": \"\", \"type\": \"bar\", \"x\": [\"name\", \"variable\", \"value\"], \"y\": [\"name\", \"1918 the passin\", \"1918 the passin\"]}, {\"marker\": {\"color\": \"rgba(255, 153, 51, 0.6)\", \"line\": {\"color\": \"rgba(255, 153, 51, 0.8545454545454545)\", \"width\": 1}}, \"name\": \"66\", \"orientation\": \"v\", \"text\": \"\", \"type\": \"bar\", \"x\": [\"name\", \"variable\", \"value\"], \"y\": [\"black\", \"1918 the white \", 0.00010143016533116949]}, {\"marker\": {\"color\": \"rgba(55, 128, 191, 0.6)\", \"line\": {\"color\": \"rgba(55, 128, 191, 0.8545454545454545)\", \"width\": 1}}, \"name\": \"67\", \"orientation\": \"v\", \"text\": \"\", \"type\": \"bar\", \"x\": [\"name\", \"variable\", \"value\"], \"y\": [\"blue\", \"1918 the white \", 6.406115705126495e-05]}, {\"marker\": {\"color\": \"rgba(50, 171, 96, 0.6)\", \"line\": {\"color\": \"rgba(50, 171, 96, 0.8545454545454545)\", \"width\": 1}}, \"name\": \"68\", \"orientation\": \"v\", \"text\": \"\", \"type\": \"bar\", \"x\": [\"name\", \"variable\", \"value\"], \"y\": [\"brown\", \"1918 the white \", 6.939958680553701e-05]}, {\"marker\": {\"color\": \"rgba(128, 0, 128, 0.6)\", \"line\": {\"color\": \"rgba(128, 0, 128, 0.8545454545454545)\", \"width\": 1}}, \"name\": \"69\", \"orientation\": \"v\", \"text\": \"\", \"type\": \"bar\", \"x\": [\"name\", \"variable\", \"value\"], \"y\": [\"green\", \"1918 the white \", 3.736900827990455e-05]}, {\"marker\": {\"color\": \"rgba(128, 0, 128, 0.6)\", \"line\": {\"color\": \"rgba(128, 0, 128, 0.8303030303030303)\", \"width\": 1}}, \"name\": \"70\", \"orientation\": \"v\", \"text\": \"\", \"type\": \"bar\", \"x\": [\"name\", \"variable\", \"value\"], \"y\": [\"grey\", \"1918 the white \", 8.007644631408118e-05]}, {\"marker\": {\"color\": \"rgba(219, 64, 82, 0.6)\", \"line\": {\"color\": \"rgba(219, 64, 82, 0.8303030303030303)\", \"width\": 1}}, \"name\": \"71\", \"orientation\": \"v\", \"text\": \"\", \"type\": \"bar\", \"x\": [\"name\", \"variable\", \"value\"], \"y\": [\"orange\", \"1918 the white \", 4.270743803417663e-05]}, {\"marker\": {\"color\": \"rgba(0, 128, 128, 0.6)\", \"line\": {\"color\": \"rgba(0, 128, 128, 0.8303030303030303)\", \"width\": 1}}, \"name\": \"72\", \"orientation\": \"v\", \"text\": \"\", \"type\": \"bar\", \"x\": [\"name\", \"variable\", \"value\"], \"y\": [\"red\", \"1918 the white \", 0.00011210702483971365]}, {\"marker\": {\"color\": \"rgba(255, 255, 51, 0.6)\", \"line\": {\"color\": \"rgba(255, 255, 51, 0.8303030303030303)\", \"width\": 1}}, \"name\": \"73\", \"orientation\": \"v\", \"text\": \"\", \"type\": \"bar\", \"x\": [\"name\", \"variable\", \"value\"], \"y\": [\"violet\", \"1918 the white \", 2.6692148771360392e-05]}, {\"marker\": {\"color\": \"rgba(128, 128, 0, 0.6)\", \"line\": {\"color\": \"rgba(128, 128, 0, 0.8303030303030303)\", \"width\": 1}}, \"name\": \"74\", \"orientation\": \"v\", \"text\": \"\", \"type\": \"bar\", \"x\": [\"name\", \"variable\", \"value\"], \"y\": [\"white\", \"1918 the white \", 0.00011210702483971365]}, {\"marker\": {\"color\": \"rgba(251, 128, 114, 0.6)\", \"line\": {\"color\": \"rgba(251, 128, 114, 0.8303030303030303)\", \"width\": 1}}, \"name\": \"75\", \"orientation\": \"v\", \"text\": \"\", \"type\": \"bar\", \"x\": [\"name\", \"variable\", \"value\"], \"y\": [\"yellow\", \"1918 the white \", 1.6015289262816237e-05]}, {\"marker\": {\"color\": \"rgba(128, 177, 211, 0.6)\", \"line\": {\"color\": \"rgba(128, 177, 211, 0.8303030303030303)\", \"width\": 1}}, \"name\": \"76\", \"orientation\": \"v\", \"text\": \"\", \"type\": \"bar\", \"x\": [\"name\", \"variable\", \"value\"], \"y\": [\"name\", \"1918 the white \", \"1918 the white \"]}, {\"marker\": {\"color\": \"rgba(255, 153, 51, 0.6)\", \"line\": {\"color\": \"rgba(255, 153, 51, 0.8303030303030303)\", \"width\": 1}}, \"name\": \"77\", \"orientation\": \"v\", \"text\": \"\", \"type\": \"bar\", \"x\": [\"name\", \"variable\", \"value\"], \"y\": [\"black\", \"1918 the world \", 0.00015820056632247676]}, {\"marker\": {\"color\": \"rgba(55, 128, 191, 0.6)\", \"line\": {\"color\": \"rgba(55, 128, 191, 0.8303030303030303)\", \"width\": 1}}, \"name\": \"78\", \"orientation\": \"v\", \"text\": \"\", \"type\": \"bar\", \"x\": [\"name\", \"variable\", \"value\"], \"y\": [\"blue\", \"1918 the world \", 2.8440551248984582e-05]}, {\"marker\": {\"color\": \"rgba(50, 171, 96, 0.6)\", \"line\": {\"color\": \"rgba(50, 171, 96, 0.8303030303030303)\", \"width\": 1}}, \"name\": \"79\", \"orientation\": \"v\", \"text\": \"\", \"type\": \"bar\", \"x\": [\"name\", \"variable\", \"value\"], \"y\": [\"brown\", \"1918 the world \", 0.00011553973944899987]}, {\"marker\": {\"color\": \"rgba(50, 171, 96, 0.6)\", \"line\": {\"color\": \"rgba(50, 171, 96, 0.8060606060606061)\", \"width\": 1}}, \"name\": \"80\", \"orientation\": \"v\", \"text\": \"\", \"type\": \"bar\", \"x\": [\"name\", \"variable\", \"value\"], \"y\": [\"green\", \"1918 the world \", 5.8658636951030703e-05]}, {\"marker\": {\"color\": \"rgba(128, 0, 128, 0.6)\", \"line\": {\"color\": \"rgba(128, 0, 128, 0.8060606060606061)\", \"width\": 1}}, \"name\": \"81\", \"orientation\": \"v\", \"text\": \"\", \"type\": \"bar\", \"x\": [\"name\", \"variable\", \"value\"], \"y\": [\"grey\", \"1918 the world \", 0.00012976001507349216]}, {\"marker\": {\"color\": \"rgba(219, 64, 82, 0.6)\", \"line\": {\"color\": \"rgba(219, 64, 82, 0.8060606060606061)\", \"width\": 1}}, \"name\": \"82\", \"orientation\": \"v\", \"text\": \"\", \"type\": \"bar\", \"x\": [\"name\", \"variable\", \"value\"], \"y\": [\"orange\", \"1918 the world \", 7.998905038776913e-05]}, {\"marker\": {\"color\": \"rgba(0, 128, 128, 0.6)\", \"line\": {\"color\": \"rgba(0, 128, 128, 0.8060606060606061)\", \"width\": 1}}, \"name\": \"83\", \"orientation\": \"v\", \"text\": \"\", \"type\": \"bar\", \"x\": [\"name\", \"variable\", \"value\"], \"y\": [\"red\", \"1918 the world \", 0.00012442741171430756]}, {\"marker\": {\"color\": \"rgba(255, 255, 51, 0.6)\", \"line\": {\"color\": \"rgba(255, 255, 51, 0.8060606060606061)\", \"width\": 1}}, \"name\": \"84\", \"orientation\": \"v\", \"text\": \"\", \"type\": \"bar\", \"x\": [\"name\", \"variable\", \"value\"], \"y\": [\"violet\", \"1918 the world \", 0.00010665206718369218]}, {\"marker\": {\"color\": \"rgba(128, 128, 0, 0.6)\", \"line\": {\"color\": \"rgba(128, 128, 0, 0.8060606060606061)\", \"width\": 1}}, \"name\": \"85\", \"orientation\": \"v\", \"text\": \"\", \"type\": \"bar\", \"x\": [\"name\", \"variable\", \"value\"], \"y\": [\"white\", \"1918 the world \", 0.00015997810077553827]}, {\"marker\": {\"color\": \"rgba(251, 128, 114, 0.6)\", \"line\": {\"color\": \"rgba(251, 128, 114, 0.8060606060606061)\", \"width\": 1}}, \"name\": \"86\", \"orientation\": \"v\", \"text\": \"\", \"type\": \"bar\", \"x\": [\"name\", \"variable\", \"value\"], \"y\": [\"yellow\", \"1918 the world \", 6.043617140409224e-05]}, {\"marker\": {\"color\": \"rgba(128, 177, 211, 0.6)\", \"line\": {\"color\": \"rgba(128, 177, 211, 0.8060606060606061)\", \"width\": 1}}, \"name\": \"87\", \"orientation\": \"v\", \"text\": \"\", \"type\": \"bar\", \"x\": [\"name\", \"variable\", \"value\"], \"y\": [\"name\", \"1918 the world \", \"1918 the world \"]}, {\"marker\": {\"color\": \"rgba(255, 153, 51, 0.6)\", \"line\": {\"color\": \"rgba(255, 153, 51, 0.8060606060606061)\", \"width\": 1}}, \"name\": \"88\", \"orientation\": \"v\", \"text\": \"\", \"type\": \"bar\", \"x\": [\"name\", \"variable\", \"value\"], \"y\": [\"black\", \"1918 wild youth\", 0.00011795327477608536]}, {\"marker\": {\"color\": \"rgba(55, 128, 191, 0.6)\", \"line\": {\"color\": \"rgba(55, 128, 191, 0.8060606060606061)\", \"width\": 1}}, \"name\": \"89\", \"orientation\": \"v\", \"text\": \"\", \"type\": \"bar\", \"x\": [\"name\", \"variable\", \"value\"], \"y\": [\"blue\", \"1918 wild youth\", 7.470374069152074e-05]}, {\"marker\": {\"color\": \"rgba(55, 128, 191, 0.6)\", \"line\": {\"color\": \"rgba(55, 128, 191, 0.781818181818182)\", \"width\": 1}}, \"name\": \"90\", \"orientation\": \"v\", \"text\": \"\", \"type\": \"bar\", \"x\": [\"name\", \"variable\", \"value\"], \"y\": [\"brown\", \"1918 wild youth\", 8.256729234325976e-05]}, {\"marker\": {\"color\": \"rgba(50, 171, 96, 0.6)\", \"line\": {\"color\": \"rgba(50, 171, 96, 0.781818181818182)\", \"width\": 1}}, \"name\": \"91\", \"orientation\": \"v\", \"text\": \"\", \"type\": \"bar\", \"x\": [\"name\", \"variable\", \"value\"], \"y\": [\"green\", \"1918 wild youth\", 6.29084132139122e-05]}, {\"marker\": {\"color\": \"rgba(128, 0, 128, 0.6)\", \"line\": {\"color\": \"rgba(128, 0, 128, 0.781818181818182)\", \"width\": 1}}, \"name\": \"92\", \"orientation\": \"v\", \"text\": \"\", \"type\": \"bar\", \"x\": [\"name\", \"variable\", \"value\"], \"y\": [\"grey\", \"1918 wild youth\", 9.043084399499878e-05]}, {\"marker\": {\"color\": \"rgba(219, 64, 82, 0.6)\", \"line\": {\"color\": \"rgba(219, 64, 82, 0.781818181818182)\", \"width\": 1}}, \"name\": \"93\", \"orientation\": \"v\", \"text\": \"\", \"type\": \"bar\", \"x\": [\"name\", \"variable\", \"value\"], \"y\": [\"orange\", \"1918 wild youth\", 1.965887912934756e-05]}, {\"marker\": {\"color\": \"rgba(0, 128, 128, 0.6)\", \"line\": {\"color\": \"rgba(0, 128, 128, 0.781818181818182)\", \"width\": 1}}, \"name\": \"94\", \"orientation\": \"v\", \"text\": \"\", \"type\": \"bar\", \"x\": [\"name\", \"variable\", \"value\"], \"y\": [\"red\", \"1918 wild youth\", 8.256729234325976e-05]}, {\"marker\": {\"color\": \"rgba(255, 255, 51, 0.6)\", \"line\": {\"color\": \"rgba(255, 255, 51, 0.781818181818182)\", \"width\": 1}}, \"name\": \"95\", \"orientation\": \"v\", \"text\": \"\", \"type\": \"bar\", \"x\": [\"name\", \"variable\", \"value\"], \"y\": [\"violet\", \"1918 wild youth\", 2.3590654955217075e-05]}, {\"marker\": {\"color\": \"rgba(128, 128, 0, 0.6)\", \"line\": {\"color\": \"rgba(128, 128, 0, 0.781818181818182)\", \"width\": 1}}, \"name\": \"96\", \"orientation\": \"v\", \"text\": \"\", \"type\": \"bar\", \"x\": [\"name\", \"variable\", \"value\"], \"y\": [\"white\", \"1918 wild youth\", 0.00011795327477608536]}, {\"marker\": {\"color\": \"rgba(251, 128, 114, 0.6)\", \"line\": {\"color\": \"rgba(251, 128, 114, 0.781818181818182)\", \"width\": 1}}, \"name\": \"97\", \"orientation\": \"v\", \"text\": \"\", \"type\": \"bar\", \"x\": [\"name\", \"variable\", \"value\"], \"y\": [\"yellow\", \"1918 wild youth\", 8.649906816912926e-05]}, {\"marker\": {\"color\": \"rgba(128, 177, 211, 0.6)\", \"line\": {\"color\": \"rgba(128, 177, 211, 0.781818181818182)\", \"width\": 1}}, \"name\": \"98\", \"orientation\": \"v\", \"text\": \"\", \"type\": \"bar\", \"x\": [\"name\", \"variable\", \"value\"], \"y\": [\"name\", \"1918 wild youth\", \"1918 wild youth\"]}, {\"marker\": {\"color\": \"rgba(255, 153, 51, 0.6)\", \"line\": {\"color\": \"rgba(255, 153, 51, 0.781818181818182)\", \"width\": 1}}, \"name\": \"99\", \"orientation\": \"v\", \"text\": \"\", \"type\": \"bar\", \"x\": [\"name\", \"variable\", \"value\"], \"y\": [\"black\", \"1918_Lewis_Sinc\", 0.00015363780172757173]}, {\"marker\": {\"color\": \"rgba(255, 153, 51, 0.6)\", \"line\": {\"color\": \"rgba(255, 153, 51, 0.7575757575757576)\", \"width\": 1}}, \"name\": \"100\", \"orientation\": \"v\", \"text\": \"\", \"type\": \"bar\", \"x\": [\"name\", \"variable\", \"value\"], \"y\": [\"blue\", \"1918_Lewis_Sinc\", 8.725109727738642e-05]}, {\"marker\": {\"color\": \"rgba(55, 128, 191, 0.6)\", \"line\": {\"color\": \"rgba(55, 128, 191, 0.7575757575757576)\", \"width\": 1}}, \"name\": \"101\", \"orientation\": \"v\", \"text\": \"\", \"type\": \"bar\", \"x\": [\"name\", \"variable\", \"value\"], \"y\": [\"brown\", \"1918_Lewis_Sinc\", 8.53543342930954e-05]}, {\"marker\": {\"color\": \"rgba(50, 171, 96, 0.6)\", \"line\": {\"color\": \"rgba(50, 171, 96, 0.7575757575757576)\", \"width\": 1}}, \"name\": \"102\", \"orientation\": \"v\", \"text\": \"\", \"type\": \"bar\", \"x\": [\"name\", \"variable\", \"value\"], \"y\": [\"green\", \"1918_Lewis_Sinc\", 0.0001043219641360055]}, {\"marker\": {\"color\": \"rgba(128, 0, 128, 0.6)\", \"line\": {\"color\": \"rgba(128, 0, 128, 0.7575757575757576)\", \"width\": 1}}, \"name\": \"103\", \"orientation\": \"v\", \"text\": \"\", \"type\": \"bar\", \"x\": [\"name\", \"variable\", \"value\"], \"y\": [\"grey\", \"1918_Lewis_Sinc\", 0.0001081154901045875]}, {\"marker\": {\"color\": \"rgba(219, 64, 82, 0.6)\", \"line\": {\"color\": \"rgba(219, 64, 82, 0.7575757575757576)\", \"width\": 1}}, \"name\": \"104\", \"orientation\": \"v\", \"text\": \"\", \"type\": \"bar\", \"x\": [\"name\", \"variable\", \"value\"], \"y\": [\"orange\", \"1918_Lewis_Sinc\", 6.448994146589431e-05]}, {\"marker\": {\"color\": \"rgba(0, 128, 128, 0.6)\", \"line\": {\"color\": \"rgba(0, 128, 128, 0.7575757575757576)\", \"width\": 1}}, \"name\": \"105\", \"orientation\": \"v\", \"text\": \"\", \"type\": \"bar\", \"x\": [\"name\", \"variable\", \"value\"], \"y\": [\"red\", \"1918_Lewis_Sinc\", 0.00014605074979040768]}, {\"marker\": {\"color\": \"rgba(255, 255, 51, 0.6)\", \"line\": {\"color\": \"rgba(255, 255, 51, 0.7575757575757576)\", \"width\": 1}}, \"name\": \"106\", \"orientation\": \"v\", \"text\": \"\", \"type\": \"bar\", \"x\": [\"name\", \"variable\", \"value\"], \"y\": [\"violet\", \"1918_Lewis_Sinc\", 2.6554681780074125e-05]}, {\"marker\": {\"color\": \"rgba(128, 128, 0, 0.6)\", \"line\": {\"color\": \"rgba(128, 128, 0, 0.7575757575757576)\", \"width\": 1}}, \"name\": \"107\", \"orientation\": \"v\", \"text\": \"\", \"type\": \"bar\", \"x\": [\"name\", \"variable\", \"value\"], \"y\": [\"white\", \"1918_Lewis_Sinc\", 0.00021054069125630198]}, {\"marker\": {\"color\": \"rgba(251, 128, 114, 0.6)\", \"line\": {\"color\": \"rgba(251, 128, 114, 0.7575757575757576)\", \"width\": 1}}, \"name\": \"108\", \"orientation\": \"v\", \"text\": \"\", \"type\": \"bar\", \"x\": [\"name\", \"variable\", \"value\"], \"y\": [\"yellow\", \"1918_Lewis_Sinc\", 0.0003622817299995827]}, {\"marker\": {\"color\": \"rgba(128, 177, 211, 0.6)\", \"line\": {\"color\": \"rgba(128, 177, 211, 0.7575757575757576)\", \"width\": 1}}, \"name\": \"109\", \"orientation\": \"v\", \"text\": \"\", \"type\": \"bar\", \"x\": [\"name\", \"variable\", \"value\"], \"y\": [\"name\", \"1918_Lewis_Sinc\", \"1918_Lewis_Sinc\"]}, {\"marker\": {\"color\": \"rgba(128, 177, 211, 0.6)\", \"line\": {\"color\": \"rgba(128, 177, 211, 0.7333333333333334)\", \"width\": 1}}, \"name\": \"110\", \"orientation\": \"v\", \"text\": \"\", \"type\": \"bar\", \"x\": [\"name\", \"variable\", \"value\"], \"y\": [\"black\", \"1919 all roads \", 6.809126564153645e-05]}, {\"marker\": {\"color\": \"rgba(255, 153, 51, 0.6)\", \"line\": {\"color\": \"rgba(255, 153, 51, 0.7333333333333334)\", \"width\": 1}}, \"name\": \"111\", \"orientation\": \"v\", \"text\": \"\", \"type\": \"bar\", \"x\": [\"name\", \"variable\", \"value\"], \"y\": [\"blue\", \"1919 all roads \", 2.918197098922991e-05]}, {\"marker\": {\"color\": \"rgba(55, 128, 191, 0.6)\", \"line\": {\"color\": \"rgba(55, 128, 191, 0.7333333333333334)\", \"width\": 1}}, \"name\": \"112\", \"orientation\": \"v\", \"text\": \"\", \"type\": \"bar\", \"x\": [\"name\", \"variable\", \"value\"], \"y\": [\"brown\", \"1919 all roads \", 0.00012061881342215028]}, {\"marker\": {\"color\": \"rgba(50, 171, 96, 0.6)\", \"line\": {\"color\": \"rgba(50, 171, 96, 0.7333333333333334)\", \"width\": 1}}, \"name\": \"113\", \"orientation\": \"v\", \"text\": \"\", \"type\": \"bar\", \"x\": [\"name\", \"variable\", \"value\"], \"y\": [\"green\", \"1919 all roads \", 6.809126564153645e-05]}, {\"marker\": {\"color\": \"rgba(128, 0, 128, 0.6)\", \"line\": {\"color\": \"rgba(128, 0, 128, 0.7333333333333334)\", \"width\": 1}}, \"name\": \"114\", \"orientation\": \"v\", \"text\": \"\", \"type\": \"bar\", \"x\": [\"name\", \"variable\", \"value\"], \"y\": [\"grey\", \"1919 all roads \", 0.00011672788395691963]}, {\"marker\": {\"color\": \"rgba(219, 64, 82, 0.6)\", \"line\": {\"color\": \"rgba(219, 64, 82, 0.7333333333333334)\", \"width\": 1}}, \"name\": \"115\", \"orientation\": \"v\", \"text\": \"\", \"type\": \"bar\", \"x\": [\"name\", \"variable\", \"value\"], \"y\": [\"orange\", \"1919 all roads \", 1.556371786092262e-05]}, {\"marker\": {\"color\": \"rgba(0, 128, 128, 0.6)\", \"line\": {\"color\": \"rgba(0, 128, 128, 0.7333333333333334)\", \"width\": 1}}, \"name\": \"116\", \"orientation\": \"v\", \"text\": \"\", \"type\": \"bar\", \"x\": [\"name\", \"variable\", \"value\"], \"y\": [\"red\", \"1919 all roads \", 0.00011867334868953496]}, {\"marker\": {\"color\": \"rgba(255, 255, 51, 0.6)\", \"line\": {\"color\": \"rgba(255, 255, 51, 0.7333333333333334)\", \"width\": 1}}, \"name\": \"117\", \"orientation\": \"v\", \"text\": \"\", \"type\": \"bar\", \"x\": [\"name\", \"variable\", \"value\"], \"y\": [\"violet\", \"1919 all roads \", 1.9454647326153272e-05]}, {\"marker\": {\"color\": \"rgba(128, 128, 0, 0.6)\", \"line\": {\"color\": \"rgba(128, 128, 0, 0.7333333333333334)\", \"width\": 1}}, \"name\": \"118\", \"orientation\": \"v\", \"text\": \"\", \"type\": \"bar\", \"x\": [\"name\", \"variable\", \"value\"], \"y\": [\"white\", \"1919 all roads \", 0.0001225642781547656]}, {\"marker\": {\"color\": \"rgba(251, 128, 114, 0.6)\", \"line\": {\"color\": \"rgba(251, 128, 114, 0.7333333333333334)\", \"width\": 1}}, \"name\": \"119\", \"orientation\": \"v\", \"text\": \"\", \"type\": \"bar\", \"x\": [\"name\", \"variable\", \"value\"], \"y\": [\"yellow\", \"1919 all roads \", 4.085475938492187e-05]}, {\"marker\": {\"color\": \"rgba(251, 128, 114, 0.6)\", \"line\": {\"color\": \"rgba(251, 128, 114, 0.7090909090909092)\", \"width\": 1}}, \"name\": \"120\", \"orientation\": \"v\", \"text\": \"\", \"type\": \"bar\", \"x\": [\"name\", \"variable\", \"value\"], \"y\": [\"name\", \"1919 all roads \", \"1919 all roads \"]}, {\"marker\": {\"color\": \"rgba(128, 177, 211, 0.6)\", \"line\": {\"color\": \"rgba(128, 177, 211, 0.7090909090909092)\", \"width\": 1}}, \"name\": \"121\", \"orientation\": \"v\", \"text\": \"\", \"type\": \"bar\", \"x\": [\"name\", \"variable\", \"value\"], \"y\": [\"black\", \"1919 the avalan\", 0.00016729622879080048]}, {\"marker\": {\"color\": \"rgba(255, 153, 51, 0.6)\", \"line\": {\"color\": \"rgba(255, 153, 51, 0.7090909090909092)\", \"width\": 1}}, \"name\": \"122\", \"orientation\": \"v\", \"text\": \"\", \"type\": \"bar\", \"x\": [\"name\", \"variable\", \"value\"], \"y\": [\"blue\", \"1919 the avalan\", 5.2830388039200145e-05]}, {\"marker\": {\"color\": \"rgba(55, 128, 191, 0.6)\", \"line\": {\"color\": \"rgba(55, 128, 191, 0.7090909090909092)\", \"width\": 1}}, \"name\": \"123\", \"orientation\": \"v\", \"text\": \"\", \"type\": \"bar\", \"x\": [\"name\", \"variable\", \"value\"], \"y\": [\"brown\", \"1919 the avalan\", 7.044051738560019e-05]}, {\"marker\": {\"color\": \"rgba(50, 171, 96, 0.6)\", \"line\": {\"color\": \"rgba(50, 171, 96, 0.7090909090909092)\", \"width\": 1}}, \"name\": \"124\", \"orientation\": \"v\", \"text\": \"\", \"type\": \"bar\", \"x\": [\"name\", \"variable\", \"value\"], \"y\": [\"green\", \"1919 the avalan\", 4.402532336600012e-05]}, {\"marker\": {\"color\": \"rgba(128, 0, 128, 0.6)\", \"line\": {\"color\": \"rgba(128, 0, 128, 0.7090909090909092)\", \"width\": 1}}, \"name\": \"125\", \"orientation\": \"v\", \"text\": \"\", \"type\": \"bar\", \"x\": [\"name\", \"variable\", \"value\"], \"y\": [\"grey\", \"1919 the avalan\", 0.00014088103477120039]}, {\"marker\": {\"color\": \"rgba(219, 64, 82, 0.6)\", \"line\": {\"color\": \"rgba(219, 64, 82, 0.7090909090909092)\", \"width\": 1}}, \"name\": \"126\", \"orientation\": \"v\", \"text\": \"\", \"type\": \"bar\", \"x\": [\"name\", \"variable\", \"value\"], \"y\": [\"orange\", \"1919 the avalan\", 1.3207597009800036e-05]}, {\"marker\": {\"color\": \"rgba(0, 128, 128, 0.6)\", \"line\": {\"color\": \"rgba(0, 128, 128, 0.7090909090909092)\", \"width\": 1}}, \"name\": \"127\", \"orientation\": \"v\", \"text\": \"\", \"type\": \"bar\", \"x\": [\"name\", \"variable\", \"value\"], \"y\": [\"red\", \"1919 the avalan\", 0.0002861646018790008]}, {\"marker\": {\"color\": \"rgba(255, 255, 51, 0.6)\", \"line\": {\"color\": \"rgba(255, 255, 51, 0.7090909090909092)\", \"width\": 1}}, \"name\": \"128\", \"orientation\": \"v\", \"text\": \"\", \"type\": \"bar\", \"x\": [\"name\", \"variable\", \"value\"], \"y\": [\"violet\", \"1919 the avalan\", 3.5220258692800097e-05]}, {\"marker\": {\"color\": \"rgba(128, 128, 0, 0.6)\", \"line\": {\"color\": \"rgba(128, 128, 0, 0.7090909090909092)\", \"width\": 1}}, \"name\": \"129\", \"orientation\": \"v\", \"text\": \"\", \"type\": \"bar\", \"x\": [\"name\", \"variable\", \"value\"], \"y\": [\"white\", \"1919 the avalan\", 9.245317906860026e-05]}, {\"marker\": {\"color\": \"rgba(128, 128, 0, 0.6)\", \"line\": {\"color\": \"rgba(128, 128, 0, 0.684848484848485)\", \"width\": 1}}, \"name\": \"130\", \"orientation\": \"v\", \"text\": \"\", \"type\": \"bar\", \"x\": [\"name\", \"variable\", \"value\"], \"y\": [\"yellow\", \"1919 the avalan\", 7.484304972220021e-05]}, {\"marker\": {\"color\": \"rgba(251, 128, 114, 0.6)\", \"line\": {\"color\": \"rgba(251, 128, 114, 0.684848484848485)\", \"width\": 1}}, \"name\": \"131\", \"orientation\": \"v\", \"text\": \"\", \"type\": \"bar\", \"x\": [\"name\", \"variable\", \"value\"], \"y\": [\"name\", \"1919 the avalan\", \"1919 the avalan\"]}, {\"marker\": {\"color\": \"rgba(128, 177, 211, 0.6)\", \"line\": {\"color\": \"rgba(128, 177, 211, 0.684848484848485)\", \"width\": 1}}, \"name\": \"132\", \"orientation\": \"v\", \"text\": \"\", \"type\": \"bar\", \"x\": [\"name\", \"variable\", \"value\"], \"y\": [\"black\", \"1920 the white \", 0.00036637892516933854]}, {\"marker\": {\"color\": \"rgba(255, 153, 51, 0.6)\", \"line\": {\"color\": \"rgba(255, 153, 51, 0.684848484848485)\", \"width\": 1}}, \"name\": \"133\", \"orientation\": \"v\", \"text\": \"\", \"type\": \"bar\", \"x\": [\"name\", \"variable\", \"value\"], \"y\": [\"blue\", \"1920 the white \", 8.042464211034261e-05]}, {\"marker\": {\"color\": \"rgba(55, 128, 191, 0.6)\", \"line\": {\"color\": \"rgba(55, 128, 191, 0.684848484848485)\", \"width\": 1}}, \"name\": \"134\", \"orientation\": \"v\", \"text\": \"\", \"type\": \"bar\", \"x\": [\"name\", \"variable\", \"value\"], \"y\": [\"brown\", \"1920 the white \", 0.00025020999767662143]}, {\"marker\": {\"color\": \"rgba(50, 171, 96, 0.6)\", \"line\": {\"color\": \"rgba(50, 171, 96, 0.684848484848485)\", \"width\": 1}}, \"name\": \"135\", \"orientation\": \"v\", \"text\": \"\", \"type\": \"bar\", \"x\": [\"name\", \"variable\", \"value\"], \"y\": [\"green\", \"1920 the white \", 0.00025914606902221506]}, {\"marker\": {\"color\": \"rgba(128, 0, 128, 0.6)\", \"line\": {\"color\": \"rgba(128, 0, 128, 0.684848484848485)\", \"width\": 1}}, \"name\": \"136\", \"orientation\": \"v\", \"text\": \"\", \"type\": \"bar\", \"x\": [\"name\", \"variable\", \"value\"], \"y\": [\"grey\", \"1920 the white \", 0.00017872142691187246]}, {\"marker\": {\"color\": \"rgba(219, 64, 82, 0.6)\", \"line\": {\"color\": \"rgba(219, 64, 82, 0.684848484848485)\", \"width\": 1}}, \"name\": \"137\", \"orientation\": \"v\", \"text\": \"\", \"type\": \"bar\", \"x\": [\"name\", \"variable\", \"value\"], \"y\": [\"orange\", \"1920 the white \", 1.7872142691187246e-05]}, {\"marker\": {\"color\": \"rgba(0, 128, 128, 0.6)\", \"line\": {\"color\": \"rgba(0, 128, 128, 0.684848484848485)\", \"width\": 1}}, \"name\": \"138\", \"orientation\": \"v\", \"text\": \"\", \"type\": \"bar\", \"x\": [\"name\", \"variable\", \"value\"], \"y\": [\"red\", \"1920 the white \", 0.00016084928422068523]}, {\"marker\": {\"color\": \"rgba(255, 255, 51, 0.6)\", \"line\": {\"color\": \"rgba(255, 255, 51, 0.684848484848485)\", \"width\": 1}}, \"name\": \"139\", \"orientation\": \"v\", \"text\": \"\", \"type\": \"bar\", \"x\": [\"name\", \"variable\", \"value\"], \"y\": [\"violet\", \"1920 the white \", 6.255249941915536e-05]}, {\"marker\": {\"color\": \"rgba(255, 255, 51, 0.6)\", \"line\": {\"color\": \"rgba(255, 255, 51, 0.6606060606060606)\", \"width\": 1}}, \"name\": \"140\", \"orientation\": \"v\", \"text\": \"\", \"type\": \"bar\", \"x\": [\"name\", \"variable\", \"value\"], \"y\": [\"white\", \"1920 the white \", 0.00040212321055171305]}, {\"marker\": {\"color\": \"rgba(128, 128, 0, 0.6)\", \"line\": {\"color\": \"rgba(128, 128, 0, 0.6606060606060606)\", \"width\": 1}}, \"name\": \"141\", \"orientation\": \"v\", \"text\": \"\", \"type\": \"bar\", \"x\": [\"name\", \"variable\", \"value\"], \"y\": [\"yellow\", \"1920 the white \", 0.00010723285614712348]}, {\"marker\": {\"color\": \"rgba(251, 128, 114, 0.6)\", \"line\": {\"color\": \"rgba(251, 128, 114, 0.6606060606060606)\", \"width\": 1}}, \"name\": \"142\", \"orientation\": \"v\", \"text\": \"\", \"type\": \"bar\", \"x\": [\"name\", \"variable\", \"value\"], \"y\": [\"name\", \"1920 the white \", \"1920 the white \"]}, {\"marker\": {\"color\": \"rgba(128, 177, 211, 0.6)\", \"line\": {\"color\": \"rgba(128, 177, 211, 0.6606060606060606)\", \"width\": 1}}, \"name\": \"143\", \"orientation\": \"v\", \"text\": \"\", \"type\": \"bar\", \"x\": [\"name\", \"variable\", \"value\"], \"y\": [\"black\", \"1920_DosPassos_\", 0.0003540416401247192]}, {\"marker\": {\"color\": \"rgba(255, 153, 51, 0.6)\", \"line\": {\"color\": \"rgba(255, 153, 51, 0.6606060606060606)\", \"width\": 1}}, \"name\": \"144\", \"orientation\": \"v\", \"text\": \"\", \"type\": \"bar\", \"x\": [\"name\", \"variable\", \"value\"], \"y\": [\"blue\", \"1920_DosPassos_\", 0.00019445468870486472]}, {\"marker\": {\"color\": \"rgba(55, 128, 191, 0.6)\", \"line\": {\"color\": \"rgba(55, 128, 191, 0.6606060606060606)\", \"width\": 1}}, \"name\": \"145\", \"orientation\": \"v\", \"text\": \"\", \"type\": \"bar\", \"x\": [\"name\", \"variable\", \"value\"], \"y\": [\"brown\", \"1920_DosPassos_\", 0.00029101149964796995]}, {\"marker\": {\"color\": \"rgba(50, 171, 96, 0.6)\", \"line\": {\"color\": \"rgba(50, 171, 96, 0.6606060606060606)\", \"width\": 1}}, \"name\": \"146\", \"orientation\": \"v\", \"text\": \"\", \"type\": \"bar\", \"x\": [\"name\", \"variable\", \"value\"], \"y\": [\"green\", \"1920_DosPassos_\", 0.00032856137057028865]}, {\"marker\": {\"color\": \"rgba(128, 0, 128, 0.6)\", \"line\": {\"color\": \"rgba(128, 0, 128, 0.6606060606060606)\", \"width\": 1}}, \"name\": \"147\", \"orientation\": \"v\", \"text\": \"\", \"type\": \"bar\", \"x\": [\"name\", \"variable\", \"value\"], \"y\": [\"grey\", \"1920_DosPassos_\", 0.0005538605961042009]}, {\"marker\": {\"color\": \"rgba(219, 64, 82, 0.6)\", \"line\": {\"color\": \"rgba(219, 64, 82, 0.6606060606060606)\", \"width\": 1}}, \"name\": \"148\", \"orientation\": \"v\", \"text\": \"\", \"type\": \"bar\", \"x\": [\"name\", \"variable\", \"value\"], \"y\": [\"orange\", \"1920_DosPassos_\", 0.00011264961276695611]}, {\"marker\": {\"color\": \"rgba(0, 128, 128, 0.6)\", \"line\": {\"color\": \"rgba(0, 128, 128, 0.6606060606060606)\", \"width\": 1}}, \"name\": \"149\", \"orientation\": \"v\", \"text\": \"\", \"type\": \"bar\", \"x\": [\"name\", \"variable\", \"value\"], \"y\": [\"red\", \"1920_DosPassos_\", 0.00048814832199014314]}, {\"marker\": {\"color\": \"rgba(0, 128, 128, 0.6)\", \"line\": {\"color\": \"rgba(0, 128, 128, 0.6363636363636365)\", \"width\": 1}}, \"name\": \"150\", \"orientation\": \"v\", \"text\": \"\", \"type\": \"bar\", \"x\": [\"name\", \"variable\", \"value\"], \"y\": [\"violet\", \"1920_DosPassos_\", 0.0001770208200623596]}, {\"marker\": {\"color\": \"rgba(255, 255, 51, 0.6)\", \"line\": {\"color\": \"rgba(255, 255, 51, 0.6363636363636365)\", \"width\": 1}}, \"name\": \"151\", \"orientation\": \"v\", \"text\": \"\", \"type\": \"bar\", \"x\": [\"name\", \"variable\", \"value\"], \"y\": [\"white\", \"1920_DosPassos_\", 0.000442552050155899]}, {\"marker\": {\"color\": \"rgba(128, 128, 0, 0.6)\", \"line\": {\"color\": \"rgba(128, 128, 0, 0.6363636363636365)\", \"width\": 1}}, \"name\": \"152\", \"orientation\": \"v\", \"text\": \"\", \"type\": \"bar\", \"x\": [\"name\", \"variable\", \"value\"], \"y\": [\"yellow\", \"1920_DosPassos_\", 0.0002990579005598954]}, {\"marker\": {\"color\": \"rgba(251, 128, 114, 0.6)\", \"line\": {\"color\": \"rgba(251, 128, 114, 0.6363636363636365)\", \"width\": 1}}, \"name\": \"153\", \"orientation\": \"v\", \"text\": \"\", \"type\": \"bar\", \"x\": [\"name\", \"variable\", \"value\"], \"y\": [\"name\", \"1920_DosPassos_\", \"1920_DosPassos_\"]}, {\"marker\": {\"color\": \"rgba(128, 177, 211, 0.6)\", \"line\": {\"color\": \"rgba(128, 177, 211, 0.6363636363636365)\", \"width\": 1}}, \"name\": \"154\", \"orientation\": \"v\", \"text\": \"\", \"type\": \"bar\", \"x\": [\"name\", \"variable\", \"value\"], \"y\": [\"black\", \"1920_Fitzgerald\", 0.0001835518244085284]}, {\"marker\": {\"color\": \"rgba(255, 153, 51, 0.6)\", \"line\": {\"color\": \"rgba(255, 153, 51, 0.6363636363636365)\", \"width\": 1}}, \"name\": \"155\", \"orientation\": \"v\", \"text\": \"\", \"type\": \"bar\", \"x\": [\"name\", \"variable\", \"value\"], \"y\": [\"blue\", \"1920_Fitzgerald\", 0.00012317293480045984]}, {\"marker\": {\"color\": \"rgba(55, 128, 191, 0.6)\", \"line\": {\"color\": \"rgba(55, 128, 191, 0.6363636363636365)\", \"width\": 1}}, \"name\": \"156\", \"orientation\": \"v\", \"text\": \"\", \"type\": \"bar\", \"x\": [\"name\", \"variable\", \"value\"], \"y\": [\"brown\", \"1920_Fitzgerald\", 6.520920077671404e-05]}, {\"marker\": {\"color\": \"rgba(50, 171, 96, 0.6)\", \"line\": {\"color\": \"rgba(50, 171, 96, 0.6363636363636365)\", \"width\": 1}}, \"name\": \"157\", \"orientation\": \"v\", \"text\": \"\", \"type\": \"bar\", \"x\": [\"name\", \"variable\", \"value\"], \"y\": [\"green\", \"1920_Fitzgerald\", 7.245466752968227e-05]}, {\"marker\": {\"color\": \"rgba(128, 0, 128, 0.6)\", \"line\": {\"color\": \"rgba(128, 0, 128, 0.6363636363636365)\", \"width\": 1}}, \"name\": \"158\", \"orientation\": \"v\", \"text\": \"\", \"type\": \"bar\", \"x\": [\"name\", \"variable\", \"value\"], \"y\": [\"grey\", \"1920_Fitzgerald\", 9.419106778858694e-05]}, {\"marker\": {\"color\": \"rgba(219, 64, 82, 0.6)\", \"line\": {\"color\": \"rgba(219, 64, 82, 0.6363636363636365)\", \"width\": 1}}, \"name\": \"159\", \"orientation\": \"v\", \"text\": \"\", \"type\": \"bar\", \"x\": [\"name\", \"variable\", \"value\"], \"y\": [\"orange\", \"1920_Fitzgerald\", 3.1397022596195644e-05]}, {\"marker\": {\"color\": \"rgba(219, 64, 82, 0.6)\", \"line\": {\"color\": \"rgba(219, 64, 82, 0.6121212121212123)\", \"width\": 1}}, \"name\": \"160\", \"orientation\": \"v\", \"text\": \"\", \"type\": \"bar\", \"x\": [\"name\", \"variable\", \"value\"], \"y\": [\"red\", \"1920_Fitzgerald\", 0.00011109715687884613]}, {\"marker\": {\"color\": \"rgba(0, 128, 128, 0.6)\", \"line\": {\"color\": \"rgba(0, 128, 128, 0.6121212121212123)\", \"width\": 1}}, \"name\": \"161\", \"orientation\": \"v\", \"text\": \"\", \"type\": \"bar\", \"x\": [\"name\", \"variable\", \"value\"], \"y\": [\"violet\", \"1920_Fitzgerald\", 3.1397022596195644e-05]}, {\"marker\": {\"color\": \"rgba(255, 255, 51, 0.6)\", \"line\": {\"color\": \"rgba(255, 255, 51, 0.6121212121212123)\", \"width\": 1}}, \"name\": \"162\", \"orientation\": \"v\", \"text\": \"\", \"type\": \"bar\", \"x\": [\"name\", \"variable\", \"value\"], \"y\": [\"white\", \"1920_Fitzgerald\", 0.0001666457353182692]}, {\"marker\": {\"color\": \"rgba(128, 128, 0, 0.6)\", \"line\": {\"color\": \"rgba(128, 128, 0, 0.6121212121212123)\", \"width\": 1}}, \"name\": \"163\", \"orientation\": \"v\", \"text\": \"\", \"type\": \"bar\", \"x\": [\"name\", \"variable\", \"value\"], \"y\": [\"yellow\", \"1920_Fitzgerald\", 0.00010626684571020066]}, {\"marker\": {\"color\": \"rgba(251, 128, 114, 0.6)\", \"line\": {\"color\": \"rgba(251, 128, 114, 0.6121212121212123)\", \"width\": 1}}, \"name\": \"164\", \"orientation\": \"v\", \"text\": \"\", \"type\": \"bar\", \"x\": [\"name\", \"variable\", \"value\"], \"y\": [\"name\", \"1920_Fitzgerald\", \"1920_Fitzgerald\"]}, {\"marker\": {\"color\": \"rgba(128, 177, 211, 0.6)\", \"line\": {\"color\": \"rgba(128, 177, 211, 0.6121212121212123)\", \"width\": 1}}, \"name\": \"165\", \"orientation\": \"v\", \"text\": \"\", \"type\": \"bar\", \"x\": [\"name\", \"variable\", \"value\"], \"y\": [\"black\", \"1920_Wharton_Ed\", 0.0001115307335805312]}, {\"marker\": {\"color\": \"rgba(255, 153, 51, 0.6)\", \"line\": {\"color\": \"rgba(255, 153, 51, 0.6121212121212123)\", \"width\": 1}}, \"name\": \"166\", \"orientation\": \"v\", \"text\": \"\", \"type\": \"bar\", \"x\": [\"name\", \"variable\", \"value\"], \"y\": [\"blue\", \"1920_Wharton_Ed\", 6.86342975880192e-05]}, {\"marker\": {\"color\": \"rgba(55, 128, 191, 0.6)\", \"line\": {\"color\": \"rgba(55, 128, 191, 0.6121212121212123)\", \"width\": 1}}, \"name\": \"167\", \"orientation\": \"v\", \"text\": \"\", \"type\": \"bar\", \"x\": [\"name\", \"variable\", \"value\"], \"y\": [\"brown\", \"1920_Wharton_Ed\", 7.035015502771968e-05]}, {\"marker\": {\"color\": \"rgba(50, 171, 96, 0.6)\", \"line\": {\"color\": \"rgba(50, 171, 96, 0.6121212121212123)\", \"width\": 1}}, \"name\": \"168\", \"orientation\": \"v\", \"text\": \"\", \"type\": \"bar\", \"x\": [\"name\", \"variable\", \"value\"], \"y\": [\"green\", \"1920_Wharton_Ed\", 6.86342975880192e-05]}, {\"marker\": {\"color\": \"rgba(128, 0, 128, 0.6)\", \"line\": {\"color\": \"rgba(128, 0, 128, 0.6121212121212123)\", \"width\": 1}}, \"name\": \"169\", \"orientation\": \"v\", \"text\": \"\", \"type\": \"bar\", \"x\": [\"name\", \"variable\", \"value\"], \"y\": [\"grey\", \"1920_Wharton_Ed\", 0.00010809901870113024]}, {\"marker\": {\"color\": \"rgba(128, 0, 128, 0.6)\", \"line\": {\"color\": \"rgba(128, 0, 128, 0.5878787878787881)\", \"width\": 1}}, \"name\": \"170\", \"orientation\": \"v\", \"text\": \"\", \"type\": \"bar\", \"x\": [\"name\", \"variable\", \"value\"], \"y\": [\"orange\", \"1920_Wharton_Ed\", 6.348672526891775e-05]}, {\"marker\": {\"color\": \"rgba(219, 64, 82, 0.6)\", \"line\": {\"color\": \"rgba(219, 64, 82, 0.5878787878787881)\", \"width\": 1}}, \"name\": \"171\", \"orientation\": \"v\", \"text\": \"\", \"type\": \"bar\", \"x\": [\"name\", \"variable\", \"value\"], \"y\": [\"red\", \"1920_Wharton_Ed\", 0.0001527113121333427]}, {\"marker\": {\"color\": \"rgba(0, 128, 128, 0.6)\", \"line\": {\"color\": \"rgba(0, 128, 128, 0.5878787878787881)\", \"width\": 1}}, \"name\": \"172\", \"orientation\": \"v\", \"text\": \"\", \"type\": \"bar\", \"x\": [\"name\", \"variable\", \"value\"], \"y\": [\"violet\", \"1920_Wharton_Ed\", 5.833915294981632e-05]}, {\"marker\": {\"color\": \"rgba(255, 255, 51, 0.6)\", \"line\": {\"color\": \"rgba(255, 255, 51, 0.5878787878787881)\", \"width\": 1}}, \"name\": \"173\", \"orientation\": \"v\", \"text\": \"\", \"type\": \"bar\", \"x\": [\"name\", \"variable\", \"value\"], \"y\": [\"white\", \"1920_Wharton_Ed\", 0.00019217603324645375]}, {\"marker\": {\"color\": \"rgba(128, 128, 0, 0.6)\", \"line\": {\"color\": \"rgba(128, 128, 0, 0.5878787878787881)\", \"width\": 1}}, \"name\": \"174\", \"orientation\": \"v\", \"text\": \"\", \"type\": \"bar\", \"x\": [\"name\", \"variable\", \"value\"], \"y\": [\"yellow\", \"1920_Wharton_Ed\", 0.00012354173565843455]}, {\"marker\": {\"color\": \"rgba(251, 128, 114, 0.6)\", \"line\": {\"color\": \"rgba(251, 128, 114, 0.5878787878787881)\", \"width\": 1}}, \"name\": \"175\", \"orientation\": \"v\", \"text\": \"\", \"type\": \"bar\", \"x\": [\"name\", \"variable\", \"value\"], \"y\": [\"name\", \"1920_Wharton_Ed\", \"1920_Wharton_Ed\"]}, {\"marker\": {\"color\": \"rgba(128, 177, 211, 0.6)\", \"line\": {\"color\": \"rgba(128, 177, 211, 0.5878787878787881)\", \"width\": 1}}, \"name\": \"176\", \"orientation\": \"v\", \"text\": \"\", \"type\": \"bar\", \"x\": [\"name\", \"variable\", \"value\"], \"y\": [\"black\", \"1921 no defence\", 0.0002738872777150733]}, {\"marker\": {\"color\": \"rgba(255, 153, 51, 0.6)\", \"line\": {\"color\": \"rgba(255, 153, 51, 0.5878787878787881)\", \"width\": 1}}, \"name\": \"177\", \"orientation\": \"v\", \"text\": \"\", \"type\": \"bar\", \"x\": [\"name\", \"variable\", \"value\"], \"y\": [\"blue\", \"1921 no defence\", 7.509812453477817e-05]}, {\"marker\": {\"color\": \"rgba(55, 128, 191, 0.6)\", \"line\": {\"color\": \"rgba(55, 128, 191, 0.5878787878787881)\", \"width\": 1}}, \"name\": \"178\", \"orientation\": \"v\", \"text\": \"\", \"type\": \"bar\", \"x\": [\"name\", \"variable\", \"value\"], \"y\": [\"brown\", \"1921 no defence\", 9.055950311546778e-05]}, {\"marker\": {\"color\": \"rgba(50, 171, 96, 0.6)\", \"line\": {\"color\": \"rgba(50, 171, 96, 0.5878787878787881)\", \"width\": 1}}, \"name\": \"179\", \"orientation\": \"v\", \"text\": \"\", \"type\": \"bar\", \"x\": [\"name\", \"variable\", \"value\"], \"y\": [\"green\", \"1921 no defence\", 6.405428269142843e-05]}, {\"marker\": {\"color\": \"rgba(50, 171, 96, 0.6)\", \"line\": {\"color\": \"rgba(50, 171, 96, 0.5636363636363637)\", \"width\": 1}}, \"name\": \"180\", \"orientation\": \"v\", \"text\": \"\", \"type\": \"bar\", \"x\": [\"name\", \"variable\", \"value\"], \"y\": [\"grey\", \"1921 no defence\", 0.0001877453113369454]}, {\"marker\": {\"color\": \"rgba(128, 0, 128, 0.6)\", \"line\": {\"color\": \"rgba(128, 0, 128, 0.5636363636363637)\", \"width\": 1}}, \"name\": \"181\", \"orientation\": \"v\", \"text\": \"\", \"type\": \"bar\", \"x\": [\"name\", \"variable\", \"value\"], \"y\": [\"orange\", \"1921 no defence\", 3.754906226738908e-05]}, {\"marker\": {\"color\": \"rgba(219, 64, 82, 0.6)\", \"line\": {\"color\": \"rgba(219, 64, 82, 0.5636363636363637)\", \"width\": 1}}, \"name\": \"182\", \"orientation\": \"v\", \"text\": \"\", \"type\": \"bar\", \"x\": [\"name\", \"variable\", \"value\"], \"y\": [\"red\", \"1921 no defence\", 0.00011706472353950713]}, {\"marker\": {\"color\": \"rgba(0, 128, 128, 0.6)\", \"line\": {\"color\": \"rgba(0, 128, 128, 0.5636363636363637)\", \"width\": 1}}, \"name\": \"183\", \"orientation\": \"v\", \"text\": \"\", \"type\": \"bar\", \"x\": [\"name\", \"variable\", \"value\"], \"y\": [\"violet\", \"1921 no defence\", 7.730689290344811e-05]}, {\"marker\": {\"color\": \"rgba(255, 255, 51, 0.6)\", \"line\": {\"color\": \"rgba(255, 255, 51, 0.5636363636363637)\", \"width\": 1}}, \"name\": \"184\", \"orientation\": \"v\", \"text\": \"\", \"type\": \"bar\", \"x\": [\"name\", \"variable\", \"value\"], \"y\": [\"white\", \"1921 no defence\", 0.00016124009091290605]}, {\"marker\": {\"color\": \"rgba(128, 128, 0, 0.6)\", \"line\": {\"color\": \"rgba(128, 128, 0, 0.5636363636363637)\", \"width\": 1}}, \"name\": \"185\", \"orientation\": \"v\", \"text\": \"\", \"type\": \"bar\", \"x\": [\"name\", \"variable\", \"value\"], \"y\": [\"yellow\", \"1921 no defence\", 8.61419663781279e-05]}, {\"marker\": {\"color\": \"rgba(251, 128, 114, 0.6)\", \"line\": {\"color\": \"rgba(251, 128, 114, 0.5636363636363637)\", \"width\": 1}}, \"name\": \"186\", \"orientation\": \"v\", \"text\": \"\", \"type\": \"bar\", \"x\": [\"name\", \"variable\", \"value\"], \"y\": [\"name\", \"1921 no defence\", \"1921 no defence\"]}, {\"marker\": {\"color\": \"rgba(128, 177, 211, 0.6)\", \"line\": {\"color\": \"rgba(128, 177, 211, 0.5636363636363637)\", \"width\": 1}}, \"name\": \"187\", \"orientation\": \"v\", \"text\": \"\", \"type\": \"bar\", \"x\": [\"name\", \"variable\", \"value\"], \"y\": [\"black\", \"1921 the secret\", 0.0001781820829293901]}, {\"marker\": {\"color\": \"rgba(255, 153, 51, 0.6)\", \"line\": {\"color\": \"rgba(255, 153, 51, 0.5636363636363637)\", \"width\": 1}}, \"name\": \"188\", \"orientation\": \"v\", \"text\": \"\", \"type\": \"bar\", \"x\": [\"name\", \"variable\", \"value\"], \"y\": [\"blue\", \"1921 the secret\", 0.00013411554629093878]}, {\"marker\": {\"color\": \"rgba(55, 128, 191, 0.6)\", \"line\": {\"color\": \"rgba(55, 128, 191, 0.5636363636363637)\", \"width\": 1}}, \"name\": \"189\", \"orientation\": \"v\", \"text\": \"\", \"type\": \"bar\", \"x\": [\"name\", \"variable\", \"value\"], \"y\": [\"brown\", \"1921 the secret\", 5.939402764313003e-05]}, {\"marker\": {\"color\": \"rgba(55, 128, 191, 0.6)\", \"line\": {\"color\": \"rgba(55, 128, 191, 0.5393939393939395)\", \"width\": 1}}, \"name\": \"190\", \"orientation\": \"v\", \"text\": \"\", \"type\": \"bar\", \"x\": [\"name\", \"variable\", \"value\"], \"y\": [\"green\", \"1921 the secret\", 4.406653663845131e-05]}, {\"marker\": {\"color\": \"rgba(50, 171, 96, 0.6)\", \"line\": {\"color\": \"rgba(50, 171, 96, 0.5393939393939395)\", \"width\": 1}}, \"name\": \"191\", \"orientation\": \"v\", \"text\": \"\", \"type\": \"bar\", \"x\": [\"name\", \"variable\", \"value\"], \"y\": [\"grey\", \"1921 the secret\", 0.0002605673470795382]}, {\"marker\": {\"color\": \"rgba(128, 0, 128, 0.6)\", \"line\": {\"color\": \"rgba(128, 0, 128, 0.5393939393939395)\", \"width\": 1}}, \"name\": \"192\", \"orientation\": \"v\", \"text\": \"\", \"type\": \"bar\", \"x\": [\"name\", \"variable\", \"value\"], \"y\": [\"orange\", \"1921 the secret\", 3.640279113611195e-05]}, {\"marker\": {\"color\": \"rgba(219, 64, 82, 0.6)\", \"line\": {\"color\": \"rgba(219, 64, 82, 0.5393939393939395)\", \"width\": 1}}, \"name\": \"193\", \"orientation\": \"v\", \"text\": \"\", \"type\": \"bar\", \"x\": [\"name\", \"variable\", \"value\"], \"y\": [\"red\", \"1921 the secret\", 0.00023566017419693528]}, {\"marker\": {\"color\": \"rgba(0, 128, 128, 0.6)\", \"line\": {\"color\": \"rgba(0, 128, 128, 0.5393939393939395)\", \"width\": 1}}, \"name\": \"194\", \"orientation\": \"v\", \"text\": \"\", \"type\": \"bar\", \"x\": [\"name\", \"variable\", \"value\"], \"y\": [\"violet\", \"1921 the secret\", 2.4907172882602914e-05]}, {\"marker\": {\"color\": \"rgba(255, 255, 51, 0.6)\", \"line\": {\"color\": \"rgba(255, 255, 51, 0.5393939393939395)\", \"width\": 1}}, \"name\": \"195\", \"orientation\": \"v\", \"text\": \"\", \"type\": \"bar\", \"x\": [\"name\", \"variable\", \"value\"], \"y\": [\"white\", \"1921 the secret\", 0.00042342193900424957]}, {\"marker\": {\"color\": \"rgba(128, 128, 0, 0.6)\", \"line\": {\"color\": \"rgba(128, 128, 0, 0.5393939393939395)\", \"width\": 1}}, \"name\": \"196\", \"orientation\": \"v\", \"text\": \"\", \"type\": \"bar\", \"x\": [\"name\", \"variable\", \"value\"], \"y\": [\"yellow\", \"1921 the secret\", 0.00015327491004678718]}, {\"marker\": {\"color\": \"rgba(251, 128, 114, 0.6)\", \"line\": {\"color\": \"rgba(251, 128, 114, 0.5393939393939395)\", \"width\": 1}}, \"name\": \"197\", \"orientation\": \"v\", \"text\": \"\", \"type\": \"bar\", \"x\": [\"name\", \"variable\", \"value\"], \"y\": [\"name\", \"1921 the secret\", \"1921 the secret\"]}, {\"marker\": {\"color\": \"rgba(128, 177, 211, 0.6)\", \"line\": {\"color\": \"rgba(128, 177, 211, 0.5393939393939395)\", \"width\": 1}}, \"name\": \"198\", \"orientation\": \"v\", \"text\": \"\", \"type\": \"bar\", \"x\": [\"name\", \"variable\", \"value\"], \"y\": [\"black\", \"1921 the sister\", 0.00015249980540389414]}, {\"marker\": {\"color\": \"rgba(255, 153, 51, 0.6)\", \"line\": {\"color\": \"rgba(255, 153, 51, 0.5393939393939395)\", \"width\": 1}}, \"name\": \"199\", \"orientation\": \"v\", \"text\": \"\", \"type\": \"bar\", \"x\": [\"name\", \"variable\", \"value\"], \"y\": [\"blue\", \"1921 the sister\", 5.401034774721251e-05]}, {\"marker\": {\"color\": \"rgba(255, 153, 51, 0.6)\", \"line\": {\"color\": \"rgba(255, 153, 51, 0.5151515151515154)\", \"width\": 1}}, \"name\": \"200\", \"orientation\": \"v\", \"text\": \"\", \"type\": \"bar\", \"x\": [\"name\", \"variable\", \"value\"], \"y\": [\"brown\", \"1921 the sister\", 0.00011119777477367282]}, {\"marker\": {\"color\": \"rgba(55, 128, 191, 0.6)\", \"line\": {\"color\": \"rgba(55, 128, 191, 0.5151515151515154)\", \"width\": 1}}, \"name\": \"201\", \"orientation\": \"v\", \"text\": \"\", \"type\": \"bar\", \"x\": [\"name\", \"variable\", \"value\"], \"y\": [\"green\", \"1921 the sister\", 0.00014773418648502244]}, {\"marker\": {\"color\": \"rgba(50, 171, 96, 0.6)\", \"line\": {\"color\": \"rgba(50, 171, 96, 0.5151515151515154)\", \"width\": 1}}, \"name\": \"202\", \"orientation\": \"v\", \"text\": \"\", \"type\": \"bar\", \"x\": [\"name\", \"variable\", \"value\"], \"y\": [\"grey\", \"1921 the sister\", 0.00010166653693592943]}, {\"marker\": {\"color\": \"rgba(128, 0, 128, 0.6)\", \"line\": {\"color\": \"rgba(128, 0, 128, 0.5151515151515154)\", \"width\": 1}}, \"name\": \"203\", \"orientation\": \"v\", \"text\": \"\", \"type\": \"bar\", \"x\": [\"name\", \"variable\", \"value\"], \"y\": [\"orange\", \"1921 the sister\", 3.018225315285405e-05]}, {\"marker\": {\"color\": \"rgba(219, 64, 82, 0.6)\", \"line\": {\"color\": \"rgba(219, 64, 82, 0.5151515151515154)\", \"width\": 1}}, \"name\": \"204\", \"orientation\": \"v\", \"text\": \"\", \"type\": \"bar\", \"x\": [\"name\", \"variable\", \"value\"], \"y\": [\"red\", \"1921 the sister\", 0.00015249980540389414]}, {\"marker\": {\"color\": \"rgba(0, 128, 128, 0.6)\", \"line\": {\"color\": \"rgba(0, 128, 128, 0.5151515151515154)\", \"width\": 1}}, \"name\": \"205\", \"orientation\": \"v\", \"text\": \"\", \"type\": \"bar\", \"x\": [\"name\", \"variable\", \"value\"], \"y\": [\"violet\", \"1921 the sister\", 4.2890570269845226e-05]}, {\"marker\": {\"color\": \"rgba(255, 255, 51, 0.6)\", \"line\": {\"color\": \"rgba(255, 255, 51, 0.5151515151515154)\", \"width\": 1}}, \"name\": \"206\", \"orientation\": \"v\", \"text\": \"\", \"type\": \"bar\", \"x\": [\"name\", \"variable\", \"value\"], \"y\": [\"white\", \"1921 the sister\", 0.00016203104324163752]}, {\"marker\": {\"color\": \"rgba(128, 128, 0, 0.6)\", \"line\": {\"color\": \"rgba(128, 128, 0, 0.5151515151515154)\", \"width\": 1}}, \"name\": \"207\", \"orientation\": \"v\", \"text\": \"\", \"type\": \"bar\", \"x\": [\"name\", \"variable\", \"value\"], \"y\": [\"yellow\", \"1921 the sister\", 6.195304594533199e-05]}, {\"marker\": {\"color\": \"rgba(251, 128, 114, 0.6)\", \"line\": {\"color\": \"rgba(251, 128, 114, 0.5151515151515154)\", \"width\": 1}}, \"name\": \"208\", \"orientation\": \"v\", \"text\": \"\", \"type\": \"bar\", \"x\": [\"name\", \"variable\", \"value\"], \"y\": [\"name\", \"1921 the sister\", \"1921 the sister\"]}, {\"marker\": {\"color\": \"rgba(128, 177, 211, 0.6)\", \"line\": {\"color\": \"rgba(128, 177, 211, 0.5151515151515154)\", \"width\": 1}}, \"name\": \"209\", \"orientation\": \"v\", \"text\": \"\", \"type\": \"bar\", \"x\": [\"name\", \"variable\", \"value\"], \"y\": [\"black\", \"1921 to him tha\", 5.9904817900447064e-05]}, {\"marker\": {\"color\": \"rgba(128, 177, 211, 0.6)\", \"line\": {\"color\": \"rgba(128, 177, 211, 0.49090909090909124)\", \"width\": 1}}, \"name\": \"210\", \"orientation\": \"v\", \"text\": \"\", \"type\": \"bar\", \"x\": [\"name\", \"variable\", \"value\"], \"y\": [\"blue\", \"1921 to him tha\", 4.659263614479216e-05]}, {\"marker\": {\"color\": \"rgba(255, 153, 51, 0.6)\", \"line\": {\"color\": \"rgba(255, 153, 51, 0.49090909090909124)\", \"width\": 1}}, \"name\": \"211\", \"orientation\": \"v\", \"text\": \"\", \"type\": \"bar\", \"x\": [\"name\", \"variable\", \"value\"], \"y\": [\"brown\", \"1921 to him tha\", 3.993654526696471e-05]}, {\"marker\": {\"color\": \"rgba(55, 128, 191, 0.6)\", \"line\": {\"color\": \"rgba(55, 128, 191, 0.49090909090909124)\", \"width\": 1}}, \"name\": \"212\", \"orientation\": \"v\", \"text\": \"\", \"type\": \"bar\", \"x\": [\"name\", \"variable\", \"value\"], \"y\": [\"green\", \"1921 to him tha\", 5.10300300633438e-05]}, {\"marker\": {\"color\": \"rgba(50, 171, 96, 0.6)\", \"line\": {\"color\": \"rgba(50, 171, 96, 0.49090909090909124)\", \"width\": 1}}, \"name\": \"213\", \"orientation\": \"v\", \"text\": \"\", \"type\": \"bar\", \"x\": [\"name\", \"variable\", \"value\"], \"y\": [\"grey\", \"1921 to him tha\", 7.987309053392942e-05]}, {\"marker\": {\"color\": \"rgba(128, 0, 128, 0.6)\", \"line\": {\"color\": \"rgba(128, 0, 128, 0.49090909090909124)\", \"width\": 1}}, \"name\": \"214\", \"orientation\": \"v\", \"text\": \"\", \"type\": \"bar\", \"x\": [\"name\", \"variable\", \"value\"], \"y\": [\"orange\", \"1921 to him tha\", 8.87478783710327e-06]}, {\"marker\": {\"color\": \"rgba(219, 64, 82, 0.6)\", \"line\": {\"color\": \"rgba(219, 64, 82, 0.49090909090909124)\", \"width\": 1}}, \"name\": \"215\", \"orientation\": \"v\", \"text\": \"\", \"type\": \"bar\", \"x\": [\"name\", \"variable\", \"value\"], \"y\": [\"red\", \"1921 to him tha\", 0.00011980963580089413]}, {\"marker\": {\"color\": \"rgba(0, 128, 128, 0.6)\", \"line\": {\"color\": \"rgba(0, 128, 128, 0.49090909090909124)\", \"width\": 1}}, \"name\": \"216\", \"orientation\": \"v\", \"text\": \"\", \"type\": \"bar\", \"x\": [\"name\", \"variable\", \"value\"], \"y\": [\"violet\", \"1921 to him tha\", 2.2186969592758173e-06]}, {\"marker\": {\"color\": \"rgba(255, 255, 51, 0.6)\", \"line\": {\"color\": \"rgba(255, 255, 51, 0.49090909090909124)\", \"width\": 1}}, \"name\": \"217\", \"orientation\": \"v\", \"text\": \"\", \"type\": \"bar\", \"x\": [\"name\", \"variable\", \"value\"], \"y\": [\"white\", \"1921 to him tha\", 0.00011315354492306668]}, {\"marker\": {\"color\": \"rgba(128, 128, 0, 0.6)\", \"line\": {\"color\": \"rgba(128, 128, 0, 0.49090909090909124)\", \"width\": 1}}, \"name\": \"218\", \"orientation\": \"v\", \"text\": \"\", \"type\": \"bar\", \"x\": [\"name\", \"variable\", \"value\"], \"y\": [\"yellow\", \"1921 to him tha\", 1.3312181755654903e-05]}, {\"marker\": {\"color\": \"rgba(251, 128, 114, 0.6)\", \"line\": {\"color\": \"rgba(251, 128, 114, 0.49090909090909124)\", \"width\": 1}}, \"name\": \"219\", \"orientation\": \"v\", \"text\": \"\", \"type\": \"bar\", \"x\": [\"name\", \"variable\", \"value\"], \"y\": [\"name\", \"1921 to him tha\", \"1921 to him tha\"]}, {\"marker\": {\"color\": \"rgba(251, 128, 114, 0.6)\", \"line\": {\"color\": \"rgba(251, 128, 114, 0.46666666666666684)\", \"width\": 1}}, \"name\": \"220\", \"orientation\": \"v\", \"text\": \"\", \"type\": \"bar\", \"x\": [\"name\", \"variable\", \"value\"], \"y\": [\"black\", \"1922 in the day\", 0.0001805247005684686]}, {\"marker\": {\"color\": \"rgba(128, 177, 211, 0.6)\", \"line\": {\"color\": \"rgba(128, 177, 211, 0.46666666666666684)\", \"width\": 1}}, \"name\": \"221\", \"orientation\": \"v\", \"text\": \"\", \"type\": \"bar\", \"x\": [\"name\", \"variable\", \"value\"], \"y\": [\"blue\", \"1922 in the day\", 5.342057465801622e-05]}, {\"marker\": {\"color\": \"rgba(255, 153, 51, 0.6)\", \"line\": {\"color\": \"rgba(255, 153, 51, 0.46666666666666684)\", \"width\": 1}}, \"name\": \"222\", \"orientation\": \"v\", \"text\": \"\", \"type\": \"bar\", \"x\": [\"name\", \"variable\", \"value\"], \"y\": [\"brown\", \"1922 in the day\", 9.39465278468561e-05]}, {\"marker\": {\"color\": \"rgba(55, 128, 191, 0.6)\", \"line\": {\"color\": \"rgba(55, 128, 191, 0.46666666666666684)\", \"width\": 1}}, \"name\": \"223\", \"orientation\": \"v\", \"text\": \"\", \"type\": \"bar\", \"x\": [\"name\", \"variable\", \"value\"], \"y\": [\"green\", \"1922 in the day\", 0.00012710412591045237]}, {\"marker\": {\"color\": \"rgba(50, 171, 96, 0.6)\", \"line\": {\"color\": \"rgba(50, 171, 96, 0.46666666666666684)\", \"width\": 1}}, \"name\": \"224\", \"orientation\": \"v\", \"text\": \"\", \"type\": \"bar\", \"x\": [\"name\", \"variable\", \"value\"], \"y\": [\"grey\", \"1922 in the day\", 0.00011973577078520876]}, {\"marker\": {\"color\": \"rgba(128, 0, 128, 0.6)\", \"line\": {\"color\": \"rgba(128, 0, 128, 0.46666666666666684)\", \"width\": 1}}, \"name\": \"225\", \"orientation\": \"v\", \"text\": \"\", \"type\": \"bar\", \"x\": [\"name\", \"variable\", \"value\"], \"y\": [\"orange\", \"1922 in the day\", 5.526266343932712e-06]}, {\"marker\": {\"color\": \"rgba(219, 64, 82, 0.6)\", \"line\": {\"color\": \"rgba(219, 64, 82, 0.46666666666666684)\", \"width\": 1}}, \"name\": \"226\", \"orientation\": \"v\", \"text\": \"\", \"type\": \"bar\", \"x\": [\"name\", \"variable\", \"value\"], \"y\": [\"red\", \"1922 in the day\", 0.00016578799031798138]}, {\"marker\": {\"color\": \"rgba(0, 128, 128, 0.6)\", \"line\": {\"color\": \"rgba(0, 128, 128, 0.46666666666666684)\", \"width\": 1}}, \"name\": \"227\", \"orientation\": \"v\", \"text\": \"\", \"type\": \"bar\", \"x\": [\"name\", \"variable\", \"value\"], \"y\": [\"violet\", \"1922 in the day\", 3.131550928228537e-05]}, {\"marker\": {\"color\": \"rgba(255, 255, 51, 0.6)\", \"line\": {\"color\": \"rgba(255, 255, 51, 0.46666666666666684)\", \"width\": 1}}, \"name\": \"228\", \"orientation\": \"v\", \"text\": \"\", \"type\": \"bar\", \"x\": [\"name\", \"variable\", \"value\"], \"y\": [\"white\", \"1922 in the day\", 0.00024683989669566114]}, {\"marker\": {\"color\": \"rgba(128, 128, 0, 0.6)\", \"line\": {\"color\": \"rgba(128, 128, 0, 0.46666666666666684)\", \"width\": 1}}, \"name\": \"229\", \"orientation\": \"v\", \"text\": \"\", \"type\": \"bar\", \"x\": [\"name\", \"variable\", \"value\"], \"y\": [\"yellow\", \"1922 in the day\", 9.763070540947791e-05]}, {\"marker\": {\"color\": \"rgba(128, 128, 0, 0.6)\", \"line\": {\"color\": \"rgba(128, 128, 0, 0.44242424242424266)\", \"width\": 1}}, \"name\": \"230\", \"orientation\": \"v\", \"text\": \"\", \"type\": \"bar\", \"x\": [\"name\", \"variable\", \"value\"], \"y\": [\"name\", \"1922 in the day\", \"1922 in the day\"]}, {\"marker\": {\"color\": \"rgba(251, 128, 114, 0.6)\", \"line\": {\"color\": \"rgba(251, 128, 114, 0.44242424242424266)\", \"width\": 1}}, \"name\": \"231\", \"orientation\": \"v\", \"text\": \"\", \"type\": \"bar\", \"x\": [\"name\", \"variable\", \"value\"], \"y\": [\"black\", \"1922 sleeping f\", 0.00010607538195691971]}, {\"marker\": {\"color\": \"rgba(128, 177, 211, 0.6)\", \"line\": {\"color\": \"rgba(128, 177, 211, 0.44242424242424266)\", \"width\": 1}}, \"name\": \"232\", \"orientation\": \"v\", \"text\": \"\", \"type\": \"bar\", \"x\": [\"name\", \"variable\", \"value\"], \"y\": [\"blue\", \"1922 sleeping f\", 7.870108983900495e-05]}, {\"marker\": {\"color\": \"rgba(255, 153, 51, 0.6)\", \"line\": {\"color\": \"rgba(255, 153, 51, 0.44242424242424266)\", \"width\": 1}}, \"name\": \"233\", \"orientation\": \"v\", \"text\": \"\", \"type\": \"bar\", \"x\": [\"name\", \"variable\", \"value\"], \"y\": [\"brown\", \"1922 sleeping f\", 0.00010265359544218037]}, {\"marker\": {\"color\": \"rgba(55, 128, 191, 0.6)\", \"line\": {\"color\": \"rgba(55, 128, 191, 0.44242424242424266)\", \"width\": 1}}, \"name\": \"234\", \"orientation\": \"v\", \"text\": \"\", \"type\": \"bar\", \"x\": [\"name\", \"variable\", \"value\"], \"y\": [\"green\", \"1922 sleeping f\", 6.843573029478691e-05]}, {\"marker\": {\"color\": \"rgba(50, 171, 96, 0.6)\", \"line\": {\"color\": \"rgba(50, 171, 96, 0.44242424242424266)\", \"width\": 1}}, \"name\": \"235\", \"orientation\": \"v\", \"text\": \"\", \"type\": \"bar\", \"x\": [\"name\", \"variable\", \"value\"], \"y\": [\"grey\", \"1922 sleeping f\", 0.00013002788756009512]}, {\"marker\": {\"color\": \"rgba(128, 0, 128, 0.6)\", \"line\": {\"color\": \"rgba(128, 0, 128, 0.44242424242424266)\", \"width\": 1}}, \"name\": \"236\", \"orientation\": \"v\", \"text\": \"\", \"type\": \"bar\", \"x\": [\"name\", \"variable\", \"value\"], \"y\": [\"orange\", \"1922 sleeping f\", 3.421786514739346e-05]}, {\"marker\": {\"color\": \"rgba(219, 64, 82, 0.6)\", \"line\": {\"color\": \"rgba(219, 64, 82, 0.44242424242424266)\", \"width\": 1}}, \"name\": \"237\", \"orientation\": \"v\", \"text\": \"\", \"type\": \"bar\", \"x\": [\"name\", \"variable\", \"value\"], \"y\": [\"red\", \"1922 sleeping f\", 0.00010949716847165905]}, {\"marker\": {\"color\": \"rgba(0, 128, 128, 0.6)\", \"line\": {\"color\": \"rgba(0, 128, 128, 0.44242424242424266)\", \"width\": 1}}, \"name\": \"238\", \"orientation\": \"v\", \"text\": \"\", \"type\": \"bar\", \"x\": [\"name\", \"variable\", \"value\"], \"y\": [\"violet\", \"1922 sleeping f\", 6.501394378004756e-05]}, {\"marker\": {\"color\": \"rgba(255, 255, 51, 0.6)\", \"line\": {\"color\": \"rgba(255, 255, 51, 0.44242424242424266)\", \"width\": 1}}, \"name\": \"239\", \"orientation\": \"v\", \"text\": \"\", \"type\": \"bar\", \"x\": [\"name\", \"variable\", \"value\"], \"y\": [\"white\", \"1922 sleeping f\", 9.238823589796232e-05]}, {\"marker\": {\"color\": \"rgba(255, 255, 51, 0.6)\", \"line\": {\"color\": \"rgba(255, 255, 51, 0.4181818181818185)\", \"width\": 1}}, \"name\": \"240\", \"orientation\": \"v\", \"text\": \"\", \"type\": \"bar\", \"x\": [\"name\", \"variable\", \"value\"], \"y\": [\"yellow\", \"1922 sleeping f\", 0.00011976252801587708]}, {\"marker\": {\"color\": \"rgba(128, 128, 0, 0.6)\", \"line\": {\"color\": \"rgba(128, 128, 0, 0.4181818181818185)\", \"width\": 1}}, \"name\": \"241\", \"orientation\": \"v\", \"text\": \"\", \"type\": \"bar\", \"x\": [\"name\", \"variable\", \"value\"], \"y\": [\"name\", \"1922 sleeping f\", \"1922 sleeping f\"]}, {\"marker\": {\"color\": \"rgba(251, 128, 114, 0.6)\", \"line\": {\"color\": \"rgba(251, 128, 114, 0.4181818181818185)\", \"width\": 1}}, \"name\": \"242\", \"orientation\": \"v\", \"text\": \"\", \"type\": \"bar\", \"x\": [\"name\", \"variable\", \"value\"], \"y\": [\"black\", \"1922 the covere\", 0.00021050415745710977]}, {\"marker\": {\"color\": \"rgba(128, 177, 211, 0.6)\", \"line\": {\"color\": \"rgba(128, 177, 211, 0.4181818181818185)\", \"width\": 1}}, \"name\": \"243\", \"orientation\": \"v\", \"text\": \"\", \"type\": \"bar\", \"x\": [\"name\", \"variable\", \"value\"], \"y\": [\"blue\", \"1922 the covere\", 6.736133038627514e-05]}, {\"marker\": {\"color\": \"rgba(255, 153, 51, 0.6)\", \"line\": {\"color\": \"rgba(255, 153, 51, 0.4181818181818185)\", \"width\": 1}}, \"name\": \"244\", \"orientation\": \"v\", \"text\": \"\", \"type\": \"bar\", \"x\": [\"name\", \"variable\", \"value\"], \"y\": [\"brown\", \"1922 the covere\", 0.00010946216187769708]}, {\"marker\": {\"color\": \"rgba(55, 128, 191, 0.6)\", \"line\": {\"color\": \"rgba(55, 128, 191, 0.4181818181818185)\", \"width\": 1}}, \"name\": \"245\", \"orientation\": \"v\", \"text\": \"\", \"type\": \"bar\", \"x\": [\"name\", \"variable\", \"value\"], \"y\": [\"green\", \"1922 the covere\", 0.00022523944847910746]}, {\"marker\": {\"color\": \"rgba(50, 171, 96, 0.6)\", \"line\": {\"color\": \"rgba(50, 171, 96, 0.4181818181818185)\", \"width\": 1}}, \"name\": \"246\", \"orientation\": \"v\", \"text\": \"\", \"type\": \"bar\", \"x\": [\"name\", \"variable\", \"value\"], \"y\": [\"grey\", \"1922 the covere\", 0.0001768234922639722]}, {\"marker\": {\"color\": \"rgba(128, 0, 128, 0.6)\", \"line\": {\"color\": \"rgba(128, 0, 128, 0.4181818181818185)\", \"width\": 1}}, \"name\": \"247\", \"orientation\": \"v\", \"text\": \"\", \"type\": \"bar\", \"x\": [\"name\", \"variable\", \"value\"], \"y\": [\"orange\", \"1922 the covere\", 5.0520997789706345e-05]}, {\"marker\": {\"color\": \"rgba(219, 64, 82, 0.6)\", \"line\": {\"color\": \"rgba(219, 64, 82, 0.4181818181818185)\", \"width\": 1}}, \"name\": \"248\", \"orientation\": \"v\", \"text\": \"\", \"type\": \"bar\", \"x\": [\"name\", \"variable\", \"value\"], \"y\": [\"red\", \"1922 the covere\", 0.00022734449005367856]}, {\"marker\": {\"color\": \"rgba(0, 128, 128, 0.6)\", \"line\": {\"color\": \"rgba(0, 128, 128, 0.4181818181818185)\", \"width\": 1}}, \"name\": \"249\", \"orientation\": \"v\", \"text\": \"\", \"type\": \"bar\", \"x\": [\"name\", \"variable\", \"value\"], \"y\": [\"violet\", \"1922 the covere\", 1.0525207872855488e-05]}, {\"marker\": {\"color\": \"rgba(0, 128, 128, 0.6)\", \"line\": {\"color\": \"rgba(0, 128, 128, 0.3939393939393943)\", \"width\": 1}}, \"name\": \"250\", \"orientation\": \"v\", \"text\": \"\", \"type\": \"bar\", \"x\": [\"name\", \"variable\", \"value\"], \"y\": [\"white\", \"1922 the covere\", 0.0002904957372908115]}, {\"marker\": {\"color\": \"rgba(255, 255, 51, 0.6)\", \"line\": {\"color\": \"rgba(255, 255, 51, 0.3939393939393943)\", \"width\": 1}}, \"name\": \"251\", \"orientation\": \"v\", \"text\": \"\", \"type\": \"bar\", \"x\": [\"name\", \"variable\", \"value\"], \"y\": [\"yellow\", \"1922 the covere\", 0.0002820755709925271]}, {\"marker\": {\"color\": \"rgba(128, 128, 0, 0.6)\", \"line\": {\"color\": \"rgba(128, 128, 0, 0.3939393939393943)\", \"width\": 1}}, \"name\": \"252\", \"orientation\": \"v\", \"text\": \"\", \"type\": \"bar\", \"x\": [\"name\", \"variable\", \"value\"], \"y\": [\"name\", \"1922 the covere\", \"1922 the covere\"]}, {\"marker\": {\"color\": \"rgba(251, 128, 114, 0.6)\", \"line\": {\"color\": \"rgba(251, 128, 114, 0.3939393939393943)\", \"width\": 1}}, \"name\": \"253\", \"orientation\": \"v\", \"text\": \"\", \"type\": \"bar\", \"x\": [\"name\", \"variable\", \"value\"], \"y\": [\"black\", \"1922 the glimps\", 6.183474344978165e-05]}, {\"marker\": {\"color\": \"rgba(128, 177, 211, 0.6)\", \"line\": {\"color\": \"rgba(128, 177, 211, 0.3939393939393943)\", \"width\": 1}}, \"name\": \"254\", \"orientation\": \"v\", \"text\": \"\", \"type\": \"bar\", \"x\": [\"name\", \"variable\", \"value\"], \"y\": [\"blue\", \"1922 the glimps\", 3.624795305676856e-05]}, {\"marker\": {\"color\": \"rgba(255, 153, 51, 0.6)\", \"line\": {\"color\": \"rgba(255, 153, 51, 0.3939393939393943)\", \"width\": 1}}, \"name\": \"255\", \"orientation\": \"v\", \"text\": \"\", \"type\": \"bar\", \"x\": [\"name\", \"variable\", \"value\"], \"y\": [\"brown\", \"1922 the glimps\", 2.7719022925764192e-05]}, {\"marker\": {\"color\": \"rgba(55, 128, 191, 0.6)\", \"line\": {\"color\": \"rgba(55, 128, 191, 0.3939393939393943)\", \"width\": 1}}, \"name\": \"256\", \"orientation\": \"v\", \"text\": \"\", \"type\": \"bar\", \"x\": [\"name\", \"variable\", \"value\"], \"y\": [\"green\", \"1922 the glimps\", 6.183474344978165e-05]}, {\"marker\": {\"color\": \"rgba(50, 171, 96, 0.6)\", \"line\": {\"color\": \"rgba(50, 171, 96, 0.3939393939393943)\", \"width\": 1}}, \"name\": \"257\", \"orientation\": \"v\", \"text\": \"\", \"type\": \"bar\", \"x\": [\"name\", \"variable\", \"value\"], \"y\": [\"grey\", \"1922 the glimps\", 5.7570278384279475e-05]}, {\"marker\": {\"color\": \"rgba(128, 0, 128, 0.6)\", \"line\": {\"color\": \"rgba(128, 0, 128, 0.3939393939393943)\", \"width\": 1}}, \"name\": \"258\", \"orientation\": \"v\", \"text\": \"\", \"type\": \"bar\", \"x\": [\"name\", \"variable\", \"value\"], \"y\": [\"orange\", \"1922 the glimps\", 5.3305813318777295e-05]}, {\"marker\": {\"color\": \"rgba(219, 64, 82, 0.6)\", \"line\": {\"color\": \"rgba(219, 64, 82, 0.3939393939393943)\", \"width\": 1}}, \"name\": \"259\", \"orientation\": \"v\", \"text\": \"\", \"type\": \"bar\", \"x\": [\"name\", \"variable\", \"value\"], \"y\": [\"red\", \"1922 the glimps\", 0.0002452067412663755]}, {\"marker\": {\"color\": \"rgba(219, 64, 82, 0.6)\", \"line\": {\"color\": \"rgba(219, 64, 82, 0.3696969696969699)\", \"width\": 1}}, \"name\": \"260\", \"orientation\": \"v\", \"text\": \"\", \"type\": \"bar\", \"x\": [\"name\", \"variable\", \"value\"], \"y\": [\"violet\", \"1922 the glimps\", 0.00010447939410480349]}, {\"marker\": {\"color\": \"rgba(0, 128, 128, 0.6)\", \"line\": {\"color\": \"rgba(0, 128, 128, 0.3696969696969699)\", \"width\": 1}}, \"name\": \"261\", \"orientation\": \"v\", \"text\": \"\", \"type\": \"bar\", \"x\": [\"name\", \"variable\", \"value\"], \"y\": [\"white\", \"1922 the glimps\", 8.742153384279476e-05]}, {\"marker\": {\"color\": \"rgba(255, 255, 51, 0.6)\", \"line\": {\"color\": \"rgba(255, 255, 51, 0.3696969696969699)\", \"width\": 1}}, \"name\": \"262\", \"orientation\": \"v\", \"text\": \"\", \"type\": \"bar\", \"x\": [\"name\", \"variable\", \"value\"], \"y\": [\"yellow\", \"1922 the glimps\", 4.904134825327511e-05]}, {\"marker\": {\"color\": \"rgba(128, 128, 0, 0.6)\", \"line\": {\"color\": \"rgba(128, 128, 0, 0.3696969696969699)\", \"width\": 1}}, \"name\": \"263\", \"orientation\": \"v\", \"text\": \"\", \"type\": \"bar\", \"x\": [\"name\", \"variable\", \"value\"], \"y\": [\"name\", \"1922 the glimps\", \"1922 the glimps\"]}, {\"marker\": {\"color\": \"rgba(251, 128, 114, 0.6)\", \"line\": {\"color\": \"rgba(251, 128, 114, 0.3696969696969699)\", \"width\": 1}}, \"name\": \"264\", \"orientation\": \"v\", \"text\": \"\", \"type\": \"bar\", \"x\": [\"name\", \"variable\", \"value\"], \"y\": [\"black\", \"1922_Fitzgerald\", 0.00016296001679316782]}, {\"marker\": {\"color\": \"rgba(128, 177, 211, 0.6)\", \"line\": {\"color\": \"rgba(128, 177, 211, 0.3696969696969699)\", \"width\": 1}}, \"name\": \"265\", \"orientation\": \"v\", \"text\": \"\", \"type\": \"bar\", \"x\": [\"name\", \"variable\", \"value\"], \"y\": [\"blue\", \"1922_Fitzgerald\", 8.976611094538906e-05]}, {\"marker\": {\"color\": \"rgba(255, 153, 51, 0.6)\", \"line\": {\"color\": \"rgba(255, 153, 51, 0.3696969696969699)\", \"width\": 1}}, \"name\": \"266\", \"orientation\": \"v\", \"text\": \"\", \"type\": \"bar\", \"x\": [\"name\", \"variable\", \"value\"], \"y\": [\"brown\", \"1922_Fitzgerald\", 5.524068365870096e-05]}, {\"marker\": {\"color\": \"rgba(55, 128, 191, 0.6)\", \"line\": {\"color\": \"rgba(55, 128, 191, 0.3696969696969699)\", \"width\": 1}}, \"name\": \"267\", \"orientation\": \"v\", \"text\": \"\", \"type\": \"bar\", \"x\": [\"name\", \"variable\", \"value\"], \"y\": [\"green\", \"1922_Fitzgerald\", 7.457492293924629e-05]}, {\"marker\": {\"color\": \"rgba(50, 171, 96, 0.6)\", \"line\": {\"color\": \"rgba(50, 171, 96, 0.3696969696969699)\", \"width\": 1}}, \"name\": \"268\", \"orientation\": \"v\", \"text\": \"\", \"type\": \"bar\", \"x\": [\"name\", \"variable\", \"value\"], \"y\": [\"grey\", \"1922_Fitzgerald\", 0.00010495729895153183]}, {\"marker\": {\"color\": \"rgba(128, 0, 128, 0.6)\", \"line\": {\"color\": \"rgba(128, 0, 128, 0.3696969696969699)\", \"width\": 1}}, \"name\": \"269\", \"orientation\": \"v\", \"text\": \"\", \"type\": \"bar\", \"x\": [\"name\", \"variable\", \"value\"], \"y\": [\"orange\", \"1922_Fitzgerald\", 0.00012843458950647973]}, {\"marker\": {\"color\": \"rgba(128, 0, 128, 0.6)\", \"line\": {\"color\": \"rgba(128, 0, 128, 0.34545454545454574)\", \"width\": 1}}, \"name\": \"270\", \"orientation\": \"v\", \"text\": \"\", \"type\": \"bar\", \"x\": [\"name\", \"variable\", \"value\"], \"y\": [\"red\", \"1922_Fitzgerald\", 0.00011738645277473954]}, {\"marker\": {\"color\": \"rgba(219, 64, 82, 0.6)\", \"line\": {\"color\": \"rgba(219, 64, 82, 0.34545454545454574)\", \"width\": 1}}, \"name\": \"271\", \"orientation\": \"v\", \"text\": \"\", \"type\": \"bar\", \"x\": [\"name\", \"variable\", \"value\"], \"y\": [\"violet\", \"1922_Fitzgerald\", 2.6239324737882957e-05]}, {\"marker\": {\"color\": \"rgba(0, 128, 128, 0.6)\", \"line\": {\"color\": \"rgba(0, 128, 128, 0.34545454545454574)\", \"width\": 1}}, \"name\": \"272\", \"orientation\": \"v\", \"text\": \"\", \"type\": \"bar\", \"x\": [\"name\", \"variable\", \"value\"], \"y\": [\"white\", \"1922_Fitzgerald\", 0.00014914984587849258]}, {\"marker\": {\"color\": \"rgba(255, 255, 51, 0.6)\", \"line\": {\"color\": \"rgba(255, 255, 51, 0.34545454545454574)\", \"width\": 1}}, \"name\": \"273\", \"orientation\": \"v\", \"text\": \"\", \"type\": \"bar\", \"x\": [\"name\", \"variable\", \"value\"], \"y\": [\"yellow\", \"1922_Fitzgerald\", 0.00011324340150033696]}, {\"marker\": {\"color\": \"rgba(128, 128, 0, 0.6)\", \"line\": {\"color\": \"rgba(128, 128, 0, 0.34545454545454574)\", \"width\": 1}}, \"name\": \"274\", \"orientation\": \"v\", \"text\": \"\", \"type\": \"bar\", \"x\": [\"name\", \"variable\", \"value\"], \"y\": [\"name\", \"1922_Fitzgerald\", \"1922_Fitzgerald\"]}, {\"marker\": {\"color\": \"rgba(251, 128, 114, 0.6)\", \"line\": {\"color\": \"rgba(251, 128, 114, 0.34545454545454574)\", \"width\": 1}}, \"name\": \"275\", \"orientation\": \"v\", \"text\": \"\", \"type\": \"bar\", \"x\": [\"name\", \"variable\", \"value\"], \"y\": [\"black\", \"1922_Joyce_Jame\", 0.0002030678358291838]}, {\"marker\": {\"color\": \"rgba(128, 177, 211, 0.6)\", \"line\": {\"color\": \"rgba(128, 177, 211, 0.34545454545454574)\", \"width\": 1}}, \"name\": \"276\", \"orientation\": \"v\", \"text\": \"\", \"type\": \"bar\", \"x\": [\"name\", \"variable\", \"value\"], \"y\": [\"blue\", \"1922_Joyce_Jame\", 0.00011040581365470188]}, {\"marker\": {\"color\": \"rgba(255, 153, 51, 0.6)\", \"line\": {\"color\": \"rgba(255, 153, 51, 0.34545454545454574)\", \"width\": 1}}, \"name\": \"277\", \"orientation\": \"v\", \"text\": \"\", \"type\": \"bar\", \"x\": [\"name\", \"variable\", \"value\"], \"y\": [\"brown\", \"1922_Joyce_Jame\", 0.00010514839395685893]}, {\"marker\": {\"color\": \"rgba(55, 128, 191, 0.6)\", \"line\": {\"color\": \"rgba(55, 128, 191, 0.34545454545454574)\", \"width\": 1}}, \"name\": \"278\", \"orientation\": \"v\", \"text\": \"\", \"type\": \"bar\", \"x\": [\"name\", \"variable\", \"value\"], \"y\": [\"green\", \"1922_Joyce_Jame\", 0.0001577225909352884]}, {\"marker\": {\"color\": \"rgba(50, 171, 96, 0.6)\", \"line\": {\"color\": \"rgba(50, 171, 96, 0.34545454545454574)\", \"width\": 1}}, \"name\": \"279\", \"orientation\": \"v\", \"text\": \"\", \"type\": \"bar\", \"x\": [\"name\", \"variable\", \"value\"], \"y\": [\"grey\", \"1922_Joyce_Jame\", 0.00021423985268710007]}, {\"marker\": {\"color\": \"rgba(50, 171, 96, 0.6)\", \"line\": {\"color\": \"rgba(50, 171, 96, 0.32121212121212156)\", \"width\": 1}}, \"name\": \"280\", \"orientation\": \"v\", \"text\": \"\", \"type\": \"bar\", \"x\": [\"name\", \"variable\", \"value\"], \"y\": [\"orange\", \"1922_Joyce_Jame\", 9.003331232556046e-05]}, {\"marker\": {\"color\": \"rgba(128, 0, 128, 0.6)\", \"line\": {\"color\": \"rgba(128, 0, 128, 0.32121212121212156)\", \"width\": 1}}, \"name\": \"281\", \"orientation\": \"v\", \"text\": \"\", \"type\": \"bar\", \"x\": [\"name\", \"variable\", \"value\"], \"y\": [\"red\", \"1922_Joyce_Jame\", 0.00022081162730940376]}, {\"marker\": {\"color\": \"rgba(219, 64, 82, 0.6)\", \"line\": {\"color\": \"rgba(219, 64, 82, 0.32121212121212156)\", \"width\": 1}}, \"name\": \"282\", \"orientation\": \"v\", \"text\": \"\", \"type\": \"bar\", \"x\": [\"name\", \"variable\", \"value\"], \"y\": [\"violet\", \"1922_Joyce_Jame\", 6.177468144965462e-05]}, {\"marker\": {\"color\": \"rgba(0, 128, 128, 0.6)\", \"line\": {\"color\": \"rgba(0, 128, 128, 0.32121212121212156)\", \"width\": 1}}, \"name\": \"283\", \"orientation\": \"v\", \"text\": \"\", \"type\": \"bar\", \"x\": [\"name\", \"variable\", \"value\"], \"y\": [\"white\", \"1922_Joyce_Jame\", 0.00016495154301982245]}, {\"marker\": {\"color\": \"rgba(255, 255, 51, 0.6)\", \"line\": {\"color\": \"rgba(255, 255, 51, 0.32121212121212156)\", \"width\": 1}}, \"name\": \"284\", \"orientation\": \"v\", \"text\": \"\", \"type\": \"bar\", \"x\": [\"name\", \"variable\", \"value\"], \"y\": [\"yellow\", \"1922_Joyce_Jame\", 0.0002201544498471734]}, {\"marker\": {\"color\": \"rgba(128, 128, 0, 0.6)\", \"line\": {\"color\": \"rgba(128, 128, 0, 0.32121212121212156)\", \"width\": 1}}, \"name\": \"285\", \"orientation\": \"v\", \"text\": \"\", \"type\": \"bar\", \"x\": [\"name\", \"variable\", \"value\"], \"y\": [\"name\", \"1922_Joyce_Jame\", \"1922_Joyce_Jame\"]}, {\"marker\": {\"color\": \"rgba(251, 128, 114, 0.6)\", \"line\": {\"color\": \"rgba(251, 128, 114, 0.32121212121212156)\", \"width\": 1}}, \"name\": \"286\", \"orientation\": \"v\", \"text\": \"\", \"type\": \"bar\", \"x\": [\"name\", \"variable\", \"value\"], \"y\": [\"black\", \"1925_Woolf_Virg\", 0.00012088011714382262]}, {\"marker\": {\"color\": \"rgba(128, 177, 211, 0.6)\", \"line\": {\"color\": \"rgba(128, 177, 211, 0.32121212121212156)\", \"width\": 1}}, \"name\": \"287\", \"orientation\": \"v\", \"text\": \"\", \"type\": \"bar\", \"x\": [\"name\", \"variable\", \"value\"], \"y\": [\"blue\", \"1925_Woolf_Virg\", 7.69237109097053e-05]}, {\"marker\": {\"color\": \"rgba(255, 153, 51, 0.6)\", \"line\": {\"color\": \"rgba(255, 153, 51, 0.32121212121212156)\", \"width\": 1}}, \"name\": \"288\", \"orientation\": \"v\", \"text\": \"\", \"type\": \"bar\", \"x\": [\"name\", \"variable\", \"value\"], \"y\": [\"brown\", \"1925_Woolf_Virg\", 6.86818847408083e-05]}, {\"marker\": {\"color\": \"rgba(55, 128, 191, 0.6)\", \"line\": {\"color\": \"rgba(55, 128, 191, 0.32121212121212156)\", \"width\": 1}}, \"name\": \"289\", \"orientation\": \"v\", \"text\": \"\", \"type\": \"bar\", \"x\": [\"name\", \"variable\", \"value\"], \"y\": [\"green\", \"1925_Woolf_Virg\", 0.00020055110344316024]}, {\"marker\": {\"color\": \"rgba(55, 128, 191, 0.6)\", \"line\": {\"color\": \"rgba(55, 128, 191, 0.2969696969696974)\", \"width\": 1}}, \"name\": \"290\", \"orientation\": \"v\", \"text\": \"\", \"type\": \"bar\", \"x\": [\"name\", \"variable\", \"value\"], \"y\": [\"grey\", \"1925_Woolf_Virg\", 0.0002967057420802919]}, {\"marker\": {\"color\": \"rgba(50, 171, 96, 0.6)\", \"line\": {\"color\": \"rgba(50, 171, 96, 0.2969696969696974)\", \"width\": 1}}, \"name\": \"291\", \"orientation\": \"v\", \"text\": \"\", \"type\": \"bar\", \"x\": [\"name\", \"variable\", \"value\"], \"y\": [\"orange\", \"1925_Woolf_Virg\", 6.86818847408083e-05]}, {\"marker\": {\"color\": \"rgba(128, 0, 128, 0.6)\", \"line\": {\"color\": \"rgba(128, 0, 128, 0.2969696969696974)\", \"width\": 1}}, \"name\": \"292\", \"orientation\": \"v\", \"text\": \"\", \"type\": \"bar\", \"x\": [\"name\", \"variable\", \"value\"], \"y\": [\"red\", \"1925_Woolf_Virg\", 0.0002142874803913219]}, {\"marker\": {\"color\": \"rgba(219, 64, 82, 0.6)\", \"line\": {\"color\": \"rgba(219, 64, 82, 0.2969696969696974)\", \"width\": 1}}, \"name\": \"293\", \"orientation\": \"v\", \"text\": \"\", \"type\": \"bar\", \"x\": [\"name\", \"variable\", \"value\"], \"y\": [\"violet\", \"1925_Woolf_Virg\", 3.2967304675587986e-05]}, {\"marker\": {\"color\": \"rgba(0, 128, 128, 0.6)\", \"line\": {\"color\": \"rgba(0, 128, 128, 0.2969696969696974)\", \"width\": 1}}, \"name\": \"294\", \"orientation\": \"v\", \"text\": \"\", \"type\": \"bar\", \"x\": [\"name\", \"variable\", \"value\"], \"y\": [\"white\", \"1925_Woolf_Virg\", 0.0003324203221455122]}, {\"marker\": {\"color\": \"rgba(255, 255, 51, 0.6)\", \"line\": {\"color\": \"rgba(255, 255, 51, 0.2969696969696974)\", \"width\": 1}}, \"name\": \"295\", \"orientation\": \"v\", \"text\": \"\", \"type\": \"bar\", \"x\": [\"name\", \"variable\", \"value\"], \"y\": [\"yellow\", \"1925_Woolf_Virg\", 0.0001263746679230873]}, {\"marker\": {\"color\": \"rgba(128, 128, 0, 0.6)\", \"line\": {\"color\": \"rgba(128, 128, 0, 0.2969696969696974)\", \"width\": 1}}, \"name\": \"296\", \"orientation\": \"v\", \"text\": \"\", \"type\": \"bar\", \"x\": [\"name\", \"variable\", \"value\"], \"y\": [\"name\", \"1925_Woolf_Virg\", \"1925_Woolf_Virg\"]}, {\"marker\": {\"color\": \"rgba(251, 128, 114, 0.6)\", \"line\": {\"color\": \"rgba(251, 128, 114, 0.2969696969696974)\", \"width\": 1}}, \"name\": \"297\", \"orientation\": \"v\", \"text\": \"\", \"type\": \"bar\", \"x\": [\"name\", \"variable\", \"value\"], \"y\": [\"black\", \"1927_Woolf_Virg\", 0.00011626795370985203]}, {\"marker\": {\"color\": \"rgba(128, 177, 211, 0.6)\", \"line\": {\"color\": \"rgba(128, 177, 211, 0.2969696969696974)\", \"width\": 1}}, \"name\": \"298\", \"orientation\": \"v\", \"text\": \"\", \"type\": \"bar\", \"x\": [\"name\", \"variable\", \"value\"], \"y\": [\"blue\", \"1927_Woolf_Virg\", 9.301436296788162e-05]}, {\"marker\": {\"color\": \"rgba(255, 153, 51, 0.6)\", \"line\": {\"color\": \"rgba(255, 153, 51, 0.2969696969696974)\", \"width\": 1}}, \"name\": \"299\", \"orientation\": \"v\", \"text\": \"\", \"type\": \"bar\", \"x\": [\"name\", \"variable\", \"value\"], \"y\": [\"brown\", \"1927_Woolf_Virg\", 7.751196913990136e-05]}, {\"marker\": {\"color\": \"rgba(255, 153, 51, 0.6)\", \"line\": {\"color\": \"rgba(255, 153, 51, 0.272727272727273)\", \"width\": 1}}, \"name\": \"300\", \"orientation\": \"v\", \"text\": \"\", \"type\": \"bar\", \"x\": [\"name\", \"variable\", \"value\"], \"y\": [\"green\", \"1927_Woolf_Virg\", 0.00021961724589638718]}, {\"marker\": {\"color\": \"rgba(55, 128, 191, 0.6)\", \"line\": {\"color\": \"rgba(55, 128, 191, 0.272727272727273)\", \"width\": 1}}, \"name\": \"301\", \"orientation\": \"v\", \"text\": \"\", \"type\": \"bar\", \"x\": [\"name\", \"variable\", \"value\"], \"y\": [\"grey\", \"1927_Woolf_Virg\", 0.0003384689319109026]}, {\"marker\": {\"color\": \"rgba(50, 171, 96, 0.6)\", \"line\": {\"color\": \"rgba(50, 171, 96, 0.272727272727273)\", \"width\": 1}}, \"name\": \"302\", \"orientation\": \"v\", \"text\": \"\", \"type\": \"bar\", \"x\": [\"name\", \"variable\", \"value\"], \"y\": [\"orange\", \"1927_Woolf_Virg\", 5.4258378397930944e-05]}, {\"marker\": {\"color\": \"rgba(128, 0, 128, 0.6)\", \"line\": {\"color\": \"rgba(128, 0, 128, 0.272727272727273)\", \"width\": 1}}, \"name\": \"303\", \"orientation\": \"v\", \"text\": \"\", \"type\": \"bar\", \"x\": [\"name\", \"variable\", \"value\"], \"y\": [\"red\", \"1927_Woolf_Virg\", 0.00024287083663835756]}, {\"marker\": {\"color\": \"rgba(219, 64, 82, 0.6)\", \"line\": {\"color\": \"rgba(219, 64, 82, 0.272727272727273)\", \"width\": 1}}, \"name\": \"304\", \"orientation\": \"v\", \"text\": \"\", \"type\": \"bar\", \"x\": [\"name\", \"variable\", \"value\"], \"y\": [\"violet\", \"1927_Woolf_Virg\", 5.4258378397930944e-05]}, {\"marker\": {\"color\": \"rgba(0, 128, 128, 0.6)\", \"line\": {\"color\": \"rgba(0, 128, 128, 0.272727272727273)\", \"width\": 1}}, \"name\": \"305\", \"orientation\": \"v\", \"text\": \"\", \"type\": \"bar\", \"x\": [\"name\", \"variable\", \"value\"], \"y\": [\"white\", \"1927_Woolf_Virg\", 0.0001808612613264365]}, {\"marker\": {\"color\": \"rgba(255, 255, 51, 0.6)\", \"line\": {\"color\": \"rgba(255, 255, 51, 0.272727272727273)\", \"width\": 1}}, \"name\": \"306\", \"orientation\": \"v\", \"text\": \"\", \"type\": \"bar\", \"x\": [\"name\", \"variable\", \"value\"], \"y\": [\"yellow\", \"1927_Woolf_Virg\", 0.00018861245824042662]}, {\"marker\": {\"color\": \"rgba(128, 128, 0, 0.6)\", \"line\": {\"color\": \"rgba(128, 128, 0, 0.272727272727273)\", \"width\": 1}}, \"name\": \"307\", \"orientation\": \"v\", \"text\": \"\", \"type\": \"bar\", \"x\": [\"name\", \"variable\", \"value\"], \"y\": [\"name\", \"1927_Woolf_Virg\", \"1927_Woolf_Virg\"]}, {\"marker\": {\"color\": \"rgba(251, 128, 114, 0.6)\", \"line\": {\"color\": \"rgba(251, 128, 114, 0.272727272727273)\", \"width\": 1}}, \"name\": \"308\", \"orientation\": \"v\", \"text\": \"\", \"type\": \"bar\", \"x\": [\"name\", \"variable\", \"value\"], \"y\": [\"black\", \"1928_Woolf_Virg\", 0.00022209933732809963]}, {\"marker\": {\"color\": \"rgba(128, 177, 211, 0.6)\", \"line\": {\"color\": \"rgba(128, 177, 211, 0.272727272727273)\", \"width\": 1}}, \"name\": \"309\", \"orientation\": \"v\", \"text\": \"\", \"type\": \"bar\", \"x\": [\"name\", \"variable\", \"value\"], \"y\": [\"blue\", \"1928_Woolf_Virg\", 9.745175005212535e-05]}, {\"marker\": {\"color\": \"rgba(128, 177, 211, 0.6)\", \"line\": {\"color\": \"rgba(128, 177, 211, 0.2484848484848488)\", \"width\": 1}}, \"name\": \"310\", \"orientation\": \"v\", \"text\": \"\", \"type\": \"bar\", \"x\": [\"name\", \"variable\", \"value\"], \"y\": [\"brown\", \"1928_Woolf_Virg\", 9.29191105148172e-05]}, {\"marker\": {\"color\": \"rgba(255, 153, 51, 0.6)\", \"line\": {\"color\": \"rgba(255, 153, 51, 0.2484848484848488)\", \"width\": 1}}, \"name\": \"311\", \"orientation\": \"v\", \"text\": \"\", \"type\": \"bar\", \"x\": [\"name\", \"variable\", \"value\"], \"y\": [\"green\", \"1928_Woolf_Virg\", 0.00023116461640271596]}, {\"marker\": {\"color\": \"rgba(55, 128, 191, 0.6)\", \"line\": {\"color\": \"rgba(55, 128, 191, 0.2484848484848488)\", \"width\": 1}}, \"name\": \"312\", \"orientation\": \"v\", \"text\": \"\", \"type\": \"bar\", \"x\": [\"name\", \"variable\", \"value\"], \"y\": [\"grey\", \"1928_Woolf_Virg\", 0.00025836045362656487]}, {\"marker\": {\"color\": \"rgba(50, 171, 96, 0.6)\", \"line\": {\"color\": \"rgba(50, 171, 96, 0.2484848484848488)\", \"width\": 1}}, \"name\": \"313\", \"orientation\": \"v\", \"text\": \"\", \"type\": \"bar\", \"x\": [\"name\", \"variable\", \"value\"], \"y\": [\"orange\", \"1928_Woolf_Virg\", 7.025591282827642e-05]}, {\"marker\": {\"color\": \"rgba(128, 0, 128, 0.6)\", \"line\": {\"color\": \"rgba(128, 0, 128, 0.2484848484848488)\", \"width\": 1}}, \"name\": \"314\", \"orientation\": \"v\", \"text\": \"\", \"type\": \"bar\", \"x\": [\"name\", \"variable\", \"value\"], \"y\": [\"red\", \"1928_Woolf_Virg\", 0.0002991542094623383]}, {\"marker\": {\"color\": \"rgba(219, 64, 82, 0.6)\", \"line\": {\"color\": \"rgba(219, 64, 82, 0.2484848484848488)\", \"width\": 1}}, \"name\": \"315\", \"orientation\": \"v\", \"text\": \"\", \"type\": \"bar\", \"x\": [\"name\", \"variable\", \"value\"], \"y\": [\"violet\", \"1928_Woolf_Virg\", 0.00011784862797001205]}, {\"marker\": {\"color\": \"rgba(0, 128, 128, 0.6)\", \"line\": {\"color\": \"rgba(0, 128, 128, 0.2484848484848488)\", \"width\": 1}}, \"name\": \"316\", \"orientation\": \"v\", \"text\": \"\", \"type\": \"bar\", \"x\": [\"name\", \"variable\", \"value\"], \"y\": [\"white\", \"1928_Woolf_Virg\", 0.00035581220367869023]}, {\"marker\": {\"color\": \"rgba(255, 255, 51, 0.6)\", \"line\": {\"color\": \"rgba(255, 255, 51, 0.2484848484848488)\", \"width\": 1}}, \"name\": \"317\", \"orientation\": \"v\", \"text\": \"\", \"type\": \"bar\", \"x\": [\"name\", \"variable\", \"value\"], \"y\": [\"yellow\", \"1928_Woolf_Virg\", 0.0002062350989475211]}, {\"marker\": {\"color\": \"rgba(128, 128, 0, 0.6)\", \"line\": {\"color\": \"rgba(128, 128, 0, 0.2484848484848488)\", \"width\": 1}}, \"name\": \"318\", \"orientation\": \"v\", \"text\": \"\", \"type\": \"bar\", \"x\": [\"name\", \"variable\", \"value\"], \"y\": [\"name\", \"1928_Woolf_Virg\", \"1928_Woolf_Virg\"]}, {\"marker\": {\"color\": \"rgba(251, 128, 114, 0.6)\", \"line\": {\"color\": \"rgba(251, 128, 114, 0.2484848484848488)\", \"width\": 1}}, \"name\": \"319\", \"orientation\": \"v\", \"text\": \"\", \"type\": \"bar\", \"x\": [\"name\", \"variable\", \"value\"], \"y\": [\"black\", \"1930_Mansfield_\", 0.00043248069531735014]}, {\"marker\": {\"color\": \"rgba(251, 128, 114, 0.6)\", \"line\": {\"color\": \"rgba(251, 128, 114, 0.22424242424242463)\", \"width\": 1}}, \"name\": \"320\", \"orientation\": \"v\", \"text\": \"\", \"type\": \"bar\", \"x\": [\"name\", \"variable\", \"value\"], \"y\": [\"blue\", \"1930_Mansfield_\", 9.765693120069197e-05]}, {\"marker\": {\"color\": \"rgba(128, 177, 211, 0.6)\", \"line\": {\"color\": \"rgba(128, 177, 211, 0.22424242424242463)\", \"width\": 1}}, \"name\": \"321\", \"orientation\": \"v\", \"text\": \"\", \"type\": \"bar\", \"x\": [\"name\", \"variable\", \"value\"], \"y\": [\"brown\", \"1930_Mansfield_\", 0.0002301913378302025]}, {\"marker\": {\"color\": \"rgba(255, 153, 51, 0.6)\", \"line\": {\"color\": \"rgba(255, 153, 51, 0.22424242424242463)\", \"width\": 1}}, \"name\": \"322\", \"orientation\": \"v\", \"text\": \"\", \"type\": \"bar\", \"x\": [\"name\", \"variable\", \"value\"], \"y\": [\"green\", \"1930_Mansfield_\", 0.0004673581707461687]}, {\"marker\": {\"color\": \"rgba(55, 128, 191, 0.6)\", \"line\": {\"color\": \"rgba(55, 128, 191, 0.22424242424242463)\", \"width\": 1}}, \"name\": \"323\", \"orientation\": \"v\", \"text\": \"\", \"type\": \"bar\", \"x\": [\"name\", \"variable\", \"value\"], \"y\": [\"grey\", \"1930_Mansfield_\", 0.00027204430834478475]}, {\"marker\": {\"color\": \"rgba(50, 171, 96, 0.6)\", \"line\": {\"color\": \"rgba(50, 171, 96, 0.22424242424242463)\", \"width\": 1}}, \"name\": \"324\", \"orientation\": \"v\", \"text\": \"\", \"type\": \"bar\", \"x\": [\"name\", \"variable\", \"value\"], \"y\": [\"orange\", \"1930_Mansfield_\", 6.975495085763712e-05]}, {\"marker\": {\"color\": \"rgba(128, 0, 128, 0.6)\", \"line\": {\"color\": \"rgba(128, 0, 128, 0.22424242424242463)\", \"width\": 1}}, \"name\": \"325\", \"orientation\": \"v\", \"text\": \"\", \"type\": \"bar\", \"x\": [\"name\", \"variable\", \"value\"], \"y\": [\"red\", \"1930_Mansfield_\", 0.00037667673463124044]}, {\"marker\": {\"color\": \"rgba(219, 64, 82, 0.6)\", \"line\": {\"color\": \"rgba(219, 64, 82, 0.22424242424242463)\", \"width\": 1}}, \"name\": \"326\", \"orientation\": \"v\", \"text\": \"\", \"type\": \"bar\", \"x\": [\"name\", \"variable\", \"value\"], \"y\": [\"violet\", \"1930_Mansfield_\", 0.00012555891154374682]}, {\"marker\": {\"color\": \"rgba(0, 128, 128, 0.6)\", \"line\": {\"color\": \"rgba(0, 128, 128, 0.22424242424242463)\", \"width\": 1}}, \"name\": \"327\", \"orientation\": \"v\", \"text\": \"\", \"type\": \"bar\", \"x\": [\"name\", \"variable\", \"value\"], \"y\": [\"white\", \"1930_Mansfield_\", 0.000606868072461443]}, {\"marker\": {\"color\": \"rgba(255, 255, 51, 0.6)\", \"line\": {\"color\": \"rgba(255, 255, 51, 0.22424242424242463)\", \"width\": 1}}, \"name\": \"328\", \"orientation\": \"v\", \"text\": \"\", \"type\": \"bar\", \"x\": [\"name\", \"variable\", \"value\"], \"y\": [\"yellow\", \"1930_Mansfield_\", 0.00029994628868783963]}, {\"marker\": {\"color\": \"rgba(128, 128, 0, 0.6)\", \"line\": {\"color\": \"rgba(128, 128, 0, 0.22424242424242463)\", \"width\": 1}}, \"name\": \"329\", \"orientation\": \"v\", \"text\": \"\", \"type\": \"bar\", \"x\": [\"name\", \"variable\", \"value\"], \"y\": [\"name\", \"1930_Mansfield_\", \"1930_Mansfield_\"]}],\n                        {\"barmode\": \"stack\", \"legend\": {\"bgcolor\": \"#F5F6F9\", \"font\": {\"color\": \"#4D5663\"}, \"traceorder\": \"normal\"}, \"paper_bgcolor\": \"#F5F6F9\", \"plot_bgcolor\": \"#F5F6F9\", \"template\": {\"data\": {\"bar\": [{\"error_x\": {\"color\": \"#2a3f5f\"}, \"error_y\": {\"color\": \"#2a3f5f\"}, \"marker\": {\"line\": {\"color\": \"#E5ECF6\", \"width\": 0.5}}, \"type\": \"bar\"}], \"barpolar\": [{\"marker\": {\"line\": {\"color\": \"#E5ECF6\", \"width\": 0.5}}, \"type\": \"barpolar\"}], \"carpet\": [{\"aaxis\": {\"endlinecolor\": \"#2a3f5f\", \"gridcolor\": \"white\", \"linecolor\": \"white\", \"minorgridcolor\": \"white\", \"startlinecolor\": \"#2a3f5f\"}, \"baxis\": {\"endlinecolor\": \"#2a3f5f\", \"gridcolor\": \"white\", \"linecolor\": \"white\", \"minorgridcolor\": \"white\", \"startlinecolor\": \"#2a3f5f\"}, \"type\": \"carpet\"}], \"choropleth\": [{\"colorbar\": {\"outlinewidth\": 0, \"ticks\": \"\"}, \"type\": \"choropleth\"}], \"contour\": [{\"colorbar\": {\"outlinewidth\": 0, \"ticks\": \"\"}, \"colorscale\": [[0.0, \"#0d0887\"], [0.1111111111111111, \"#46039f\"], [0.2222222222222222, \"#7201a8\"], [0.3333333333333333, \"#9c179e\"], [0.4444444444444444, \"#bd3786\"], [0.5555555555555556, \"#d8576b\"], [0.6666666666666666, \"#ed7953\"], [0.7777777777777778, \"#fb9f3a\"], [0.8888888888888888, \"#fdca26\"], [1.0, \"#f0f921\"]], \"type\": \"contour\"}], \"contourcarpet\": [{\"colorbar\": {\"outlinewidth\": 0, \"ticks\": \"\"}, \"type\": \"contourcarpet\"}], \"heatmap\": [{\"colorbar\": {\"outlinewidth\": 0, \"ticks\": \"\"}, \"colorscale\": [[0.0, \"#0d0887\"], [0.1111111111111111, \"#46039f\"], [0.2222222222222222, \"#7201a8\"], [0.3333333333333333, \"#9c179e\"], [0.4444444444444444, \"#bd3786\"], [0.5555555555555556, \"#d8576b\"], [0.6666666666666666, \"#ed7953\"], [0.7777777777777778, \"#fb9f3a\"], [0.8888888888888888, \"#fdca26\"], [1.0, \"#f0f921\"]], \"type\": \"heatmap\"}], \"heatmapgl\": [{\"colorbar\": {\"outlinewidth\": 0, \"ticks\": \"\"}, \"colorscale\": [[0.0, \"#0d0887\"], [0.1111111111111111, \"#46039f\"], [0.2222222222222222, \"#7201a8\"], [0.3333333333333333, \"#9c179e\"], [0.4444444444444444, \"#bd3786\"], [0.5555555555555556, \"#d8576b\"], [0.6666666666666666, \"#ed7953\"], [0.7777777777777778, \"#fb9f3a\"], [0.8888888888888888, \"#fdca26\"], [1.0, \"#f0f921\"]], \"type\": \"heatmapgl\"}], \"histogram\": [{\"marker\": {\"colorbar\": {\"outlinewidth\": 0, \"ticks\": \"\"}}, \"type\": \"histogram\"}], \"histogram2d\": [{\"colorbar\": {\"outlinewidth\": 0, \"ticks\": \"\"}, \"colorscale\": [[0.0, \"#0d0887\"], [0.1111111111111111, \"#46039f\"], [0.2222222222222222, \"#7201a8\"], [0.3333333333333333, \"#9c179e\"], [0.4444444444444444, \"#bd3786\"], [0.5555555555555556, \"#d8576b\"], [0.6666666666666666, \"#ed7953\"], [0.7777777777777778, \"#fb9f3a\"], [0.8888888888888888, \"#fdca26\"], [1.0, \"#f0f921\"]], \"type\": \"histogram2d\"}], \"histogram2dcontour\": [{\"colorbar\": {\"outlinewidth\": 0, \"ticks\": \"\"}, \"colorscale\": [[0.0, \"#0d0887\"], [0.1111111111111111, \"#46039f\"], [0.2222222222222222, \"#7201a8\"], [0.3333333333333333, \"#9c179e\"], [0.4444444444444444, \"#bd3786\"], [0.5555555555555556, \"#d8576b\"], [0.6666666666666666, \"#ed7953\"], [0.7777777777777778, \"#fb9f3a\"], [0.8888888888888888, \"#fdca26\"], [1.0, \"#f0f921\"]], \"type\": \"histogram2dcontour\"}], \"mesh3d\": [{\"colorbar\": {\"outlinewidth\": 0, \"ticks\": \"\"}, \"type\": \"mesh3d\"}], \"parcoords\": [{\"line\": {\"colorbar\": {\"outlinewidth\": 0, \"ticks\": \"\"}}, \"type\": \"parcoords\"}], \"pie\": [{\"automargin\": true, \"type\": \"pie\"}], \"scatter\": [{\"marker\": {\"colorbar\": {\"outlinewidth\": 0, \"ticks\": \"\"}}, \"type\": \"scatter\"}], \"scatter3d\": [{\"line\": {\"colorbar\": {\"outlinewidth\": 0, \"ticks\": \"\"}}, \"marker\": {\"colorbar\": {\"outlinewidth\": 0, \"ticks\": \"\"}}, \"type\": \"scatter3d\"}], \"scattercarpet\": [{\"marker\": {\"colorbar\": {\"outlinewidth\": 0, \"ticks\": \"\"}}, \"type\": \"scattercarpet\"}], \"scattergeo\": [{\"marker\": {\"colorbar\": {\"outlinewidth\": 0, \"ticks\": \"\"}}, \"type\": \"scattergeo\"}], \"scattergl\": [{\"marker\": {\"colorbar\": {\"outlinewidth\": 0, \"ticks\": \"\"}}, \"type\": \"scattergl\"}], \"scattermapbox\": [{\"marker\": {\"colorbar\": {\"outlinewidth\": 0, \"ticks\": \"\"}}, \"type\": \"scattermapbox\"}], \"scatterpolar\": [{\"marker\": {\"colorbar\": {\"outlinewidth\": 0, \"ticks\": \"\"}}, \"type\": \"scatterpolar\"}], \"scatterpolargl\": [{\"marker\": {\"colorbar\": {\"outlinewidth\": 0, \"ticks\": \"\"}}, \"type\": \"scatterpolargl\"}], \"scatterternary\": [{\"marker\": {\"colorbar\": {\"outlinewidth\": 0, \"ticks\": \"\"}}, \"type\": \"scatterternary\"}], \"surface\": [{\"colorbar\": {\"outlinewidth\": 0, \"ticks\": \"\"}, \"colorscale\": [[0.0, \"#0d0887\"], [0.1111111111111111, \"#46039f\"], [0.2222222222222222, \"#7201a8\"], [0.3333333333333333, \"#9c179e\"], [0.4444444444444444, \"#bd3786\"], [0.5555555555555556, \"#d8576b\"], [0.6666666666666666, \"#ed7953\"], [0.7777777777777778, \"#fb9f3a\"], [0.8888888888888888, \"#fdca26\"], [1.0, \"#f0f921\"]], \"type\": \"surface\"}], \"table\": [{\"cells\": {\"fill\": {\"color\": \"#EBF0F8\"}, \"line\": {\"color\": \"white\"}}, \"header\": {\"fill\": {\"color\": \"#C8D4E3\"}, \"line\": {\"color\": \"white\"}}, \"type\": \"table\"}]}, \"layout\": {\"annotationdefaults\": {\"arrowcolor\": \"#2a3f5f\", \"arrowhead\": 0, \"arrowwidth\": 1}, \"coloraxis\": {\"colorbar\": {\"outlinewidth\": 0, \"ticks\": \"\"}}, \"colorscale\": {\"diverging\": [[0, \"#8e0152\"], [0.1, \"#c51b7d\"], [0.2, \"#de77ae\"], [0.3, \"#f1b6da\"], [0.4, \"#fde0ef\"], [0.5, \"#f7f7f7\"], [0.6, \"#e6f5d0\"], [0.7, \"#b8e186\"], [0.8, \"#7fbc41\"], [0.9, \"#4d9221\"], [1, \"#276419\"]], \"sequential\": [[0.0, \"#0d0887\"], [0.1111111111111111, \"#46039f\"], [0.2222222222222222, \"#7201a8\"], [0.3333333333333333, \"#9c179e\"], [0.4444444444444444, \"#bd3786\"], [0.5555555555555556, \"#d8576b\"], [0.6666666666666666, \"#ed7953\"], [0.7777777777777778, \"#fb9f3a\"], [0.8888888888888888, \"#fdca26\"], [1.0, \"#f0f921\"]], \"sequentialminus\": [[0.0, \"#0d0887\"], [0.1111111111111111, \"#46039f\"], [0.2222222222222222, \"#7201a8\"], [0.3333333333333333, \"#9c179e\"], [0.4444444444444444, \"#bd3786\"], [0.5555555555555556, \"#d8576b\"], [0.6666666666666666, \"#ed7953\"], [0.7777777777777778, \"#fb9f3a\"], [0.8888888888888888, \"#fdca26\"], [1.0, \"#f0f921\"]]}, \"colorway\": [\"#636efa\", \"#EF553B\", \"#00cc96\", \"#ab63fa\", \"#FFA15A\", \"#19d3f3\", \"#FF6692\", \"#B6E880\", \"#FF97FF\", \"#FECB52\"], \"font\": {\"color\": \"#2a3f5f\"}, \"geo\": {\"bgcolor\": \"white\", \"lakecolor\": \"white\", \"landcolor\": \"#E5ECF6\", \"showlakes\": true, \"showland\": true, \"subunitcolor\": \"white\"}, \"hoverlabel\": {\"align\": \"left\"}, \"hovermode\": \"closest\", \"mapbox\": {\"style\": \"light\"}, \"paper_bgcolor\": \"white\", \"plot_bgcolor\": \"#E5ECF6\", \"polar\": {\"angularaxis\": {\"gridcolor\": \"white\", \"linecolor\": \"white\", \"ticks\": \"\"}, \"bgcolor\": \"#E5ECF6\", \"radialaxis\": {\"gridcolor\": \"white\", \"linecolor\": \"white\", \"ticks\": \"\"}}, \"scene\": {\"xaxis\": {\"backgroundcolor\": \"#E5ECF6\", \"gridcolor\": \"white\", \"gridwidth\": 2, \"linecolor\": \"white\", \"showbackground\": true, \"ticks\": \"\", \"zerolinecolor\": \"white\"}, \"yaxis\": {\"backgroundcolor\": \"#E5ECF6\", \"gridcolor\": \"white\", \"gridwidth\": 2, \"linecolor\": \"white\", \"showbackground\": true, \"ticks\": \"\", \"zerolinecolor\": \"white\"}, \"zaxis\": {\"backgroundcolor\": \"#E5ECF6\", \"gridcolor\": \"white\", \"gridwidth\": 2, \"linecolor\": \"white\", \"showbackground\": true, \"ticks\": \"\", \"zerolinecolor\": \"white\"}}, \"shapedefaults\": {\"line\": {\"color\": \"#2a3f5f\"}}, \"ternary\": {\"aaxis\": {\"gridcolor\": \"white\", \"linecolor\": \"white\", \"ticks\": \"\"}, \"baxis\": {\"gridcolor\": \"white\", \"linecolor\": \"white\", \"ticks\": \"\"}, \"bgcolor\": \"#E5ECF6\", \"caxis\": {\"gridcolor\": \"white\", \"linecolor\": \"white\", \"ticks\": \"\"}}, \"title\": {\"x\": 0.05}, \"xaxis\": {\"automargin\": true, \"gridcolor\": \"white\", \"linecolor\": \"white\", \"ticks\": \"\", \"title\": {\"standoff\": 15}, \"zerolinecolor\": \"white\", \"zerolinewidth\": 2}, \"yaxis\": {\"automargin\": true, \"gridcolor\": \"white\", \"linecolor\": \"white\", \"ticks\": \"\", \"title\": {\"standoff\": 15}, \"zerolinecolor\": \"white\", \"zerolinewidth\": 2}}}, \"title\": {\"font\": {\"color\": \"#4D5663\"}}, \"xaxis\": {\"gridcolor\": \"#E1E5ED\", \"showgrid\": true, \"tickfont\": {\"color\": \"#4D5663\"}, \"title\": {\"font\": {\"color\": \"#4D5663\"}, \"text\": \"\"}, \"zerolinecolor\": \"#E1E5ED\"}, \"yaxis\": {\"gridcolor\": \"#E1E5ED\", \"showgrid\": true, \"tickfont\": {\"color\": \"#4D5663\"}, \"title\": {\"font\": {\"color\": \"#4D5663\"}, \"text\": \"\"}, \"zerolinecolor\": \"#E1E5ED\"}},\n                        {\"showLink\": true, \"linkText\": \"Export to plot.ly\", \"plotlyServerURL\": \"https://plot.ly\", \"responsive\": true}\n                    ).then(function(){\n                            \nvar gd = document.getElementById('974b4e30-eeb0-4de4-804b-716e012f3c34');\nvar x = new MutationObserver(function (mutations, observer) {{\n        var display = window.getComputedStyle(gd).display;\n        if (!display || display === 'none') {{\n            console.log([gd, 'removed!']);\n            Plotly.purge(gd);\n            observer.disconnect();\n        }}\n}});\n\n// Listen for the removal of the full notebook cells\nvar notebookContainer = gd.closest('#notebook-container');\nif (notebookContainer) {{\n    x.observe(notebookContainer, {childList: true});\n}}\n\n// Listen for the clearing of the current output cell\nvar outputEl = gd.closest('.output');\nif (outputEl) {{\n    x.observe(outputEl, {childList: true});\n}}\n\n                        })\n                };\n                });\n            </script>\n        </div>"
     },
     "metadata": {}
    }
   ],
   "source": [
    "tidyDf.T.iplot(kind='bar', barmode='stack')"
   ]
  },
  {
   "cell_type": "code",
   "execution_count": 21,
   "metadata": {},
   "outputs": [
    {
     "output_type": "execute_result",
     "data": {
      "text/plain": "       name         variable            value\n0     black  1917 the light       0.000119517\n1      blue  1917 the light        6.0807e-05\n2     brown  1917 the light       6.50006e-05\n3     green  1917 the light       0.000167743\n4      grey  1917 the light       9.01621e-05\n..      ...              ...              ...\n325     red  1930_Mansfield_      0.000376677\n326  violet  1930_Mansfield_      0.000125559\n327   white  1930_Mansfield_      0.000606868\n328  yellow  1930_Mansfield_      0.000299946\n329    name  1930_Mansfield_  1930_Mansfield_\n\n[330 rows x 3 columns]",
      "text/html": "<div>\n<style scoped>\n    .dataframe tbody tr th:only-of-type {\n        vertical-align: middle;\n    }\n\n    .dataframe tbody tr th {\n        vertical-align: top;\n    }\n\n    .dataframe thead th {\n        text-align: right;\n    }\n</style>\n<table border=\"1\" class=\"dataframe\">\n  <thead>\n    <tr style=\"text-align: right;\">\n      <th></th>\n      <th>name</th>\n      <th>variable</th>\n      <th>value</th>\n    </tr>\n  </thead>\n  <tbody>\n    <tr>\n      <th>0</th>\n      <td>black</td>\n      <td>1917 the light</td>\n      <td>0.000119517</td>\n    </tr>\n    <tr>\n      <th>1</th>\n      <td>blue</td>\n      <td>1917 the light</td>\n      <td>6.0807e-05</td>\n    </tr>\n    <tr>\n      <th>2</th>\n      <td>brown</td>\n      <td>1917 the light</td>\n      <td>6.50006e-05</td>\n    </tr>\n    <tr>\n      <th>3</th>\n      <td>green</td>\n      <td>1917 the light</td>\n      <td>0.000167743</td>\n    </tr>\n    <tr>\n      <th>4</th>\n      <td>grey</td>\n      <td>1917 the light</td>\n      <td>9.01621e-05</td>\n    </tr>\n    <tr>\n      <th>...</th>\n      <td>...</td>\n      <td>...</td>\n      <td>...</td>\n    </tr>\n    <tr>\n      <th>325</th>\n      <td>red</td>\n      <td>1930_Mansfield_</td>\n      <td>0.000376677</td>\n    </tr>\n    <tr>\n      <th>326</th>\n      <td>violet</td>\n      <td>1930_Mansfield_</td>\n      <td>0.000125559</td>\n    </tr>\n    <tr>\n      <th>327</th>\n      <td>white</td>\n      <td>1930_Mansfield_</td>\n      <td>0.000606868</td>\n    </tr>\n    <tr>\n      <th>328</th>\n      <td>yellow</td>\n      <td>1930_Mansfield_</td>\n      <td>0.000299946</td>\n    </tr>\n    <tr>\n      <th>329</th>\n      <td>name</td>\n      <td>1930_Mansfield_</td>\n      <td>1930_Mansfield_</td>\n    </tr>\n  </tbody>\n</table>\n<p>330 rows × 3 columns</p>\n</div>"
     },
     "metadata": {},
     "execution_count": 21
    }
   ],
   "source": [
    "tidyDf"
   ]
  },
  {
   "cell_type": "code",
   "execution_count": null,
   "metadata": {},
   "outputs": [],
   "source": []
  }
 ],
 "metadata": {
  "kernelspec": {
   "display_name": "Python 3.7.6 64-bit",
   "language": "python",
   "name": "python37664bitae25ecd12b3a4bb9b96fc26cd8c56c71"
  },
  "language_info": {
   "codemirror_mode": {
    "name": "ipython",
    "version": 3
   },
   "file_extension": ".py",
   "mimetype": "text/x-python",
   "name": "python",
   "nbconvert_exporter": "python",
   "pygments_lexer": "ipython3",
   "version": "3.7.6-final"
  }
 },
 "nbformat": 4,
 "nbformat_minor": 4
}