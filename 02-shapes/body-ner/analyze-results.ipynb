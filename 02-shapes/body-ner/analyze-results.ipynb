{
 "cells": [
  {
   "cell_type": "code",
   "execution_count": 7,
   "id": "d9fb6263-47f5-4288-95b7-8b5dd7662d7a",
   "metadata": {},
   "outputs": [],
   "source": [
    "import glob\n",
    "import json\n",
    "from collections import Counter"
   ]
  },
  {
   "cell_type": "code",
   "execution_count": 2,
   "id": "8230da87-e722-4fec-8f8b-5f952d166a94",
   "metadata": {},
   "outputs": [],
   "source": [
    "results = glob.glob(\"results/*\")"
   ]
  },
  {
   "cell_type": "code",
   "execution_count": 3,
   "id": "c07b8d0a-102f-4787-9b40-35c1fccf563d",
   "metadata": {},
   "outputs": [
    {
     "data": {
      "text/plain": [
       "['results/1901-MyBrilliantCareer-11620.0.txt.json',\n",
       " 'results/1898-TalesofUnrest-1202.0.txt.json',\n",
       " 'results/1906-AcrosstheSpanishMainATaleoftheSeaintheD-24454.0.txt.json',\n",
       " 'results/1889-ArdathTheStoryofaDeadSelf-5114.0.txt.json',\n",
       " 'results/1899-TheSpiritofPlaceandOtherEssays-1309.0.txt.json',\n",
       " 'results/1839-TheConfessionsofHarryLorrequerComplete-5240.0.txt.json',\n",
       " 'results/1918-TheBoyWhoKnewWhatTheBirdsSaid-24493.0.txt.json',\n",
       " 'results/1904-TheAdventuresofElizabethinRügen-33762.0.txt.json',\n",
       " 'results/1921-MartinPippinintheAppleOrchard-2032.0.txt.json',\n",
       " 'results/1920-TheHappyForeigner-9978.0.txt.json']"
      ]
     },
     "execution_count": 3,
     "metadata": {},
     "output_type": "execute_result"
    }
   ],
   "source": [
    "results[:10]"
   ]
  },
  {
   "cell_type": "code",
   "execution_count": 8,
   "id": "2fc8f40f-85f2-453b-8ab2-3405ffc66fe1",
   "metadata": {},
   "outputs": [],
   "source": [
    "def countBodyParts(fn):\n",
    "    data = json.load(open(fn))\n",
    "    lemmas = [item['lemma'] for item in data]\n",
    "    return Counter(lemmas)"
   ]
  },
  {
   "cell_type": "code",
   "execution_count": 10,
   "id": "9d064971-6dbd-4c71-92bf-1cff17893d37",
   "metadata": {},
   "outputs": [
    {
     "data": {
      "text/plain": [
       "[('hand', 109),\n",
       " ('face', 73),\n",
       " ('heart', 63),\n",
       " ('head', 63),\n",
       " ('eye', 60),\n",
       " ('hair', 41),\n",
       " ('back', 40),\n",
       " ('foot', 36),\n",
       " ('arm', 30),\n",
       " ('finger', 26),\n",
       " ('shoulder', 23),\n",
       " ('tear', 23),\n",
       " ('smile', 18),\n",
       " ('ear', 18),\n",
       " ('mouth', 18),\n",
       " ('pain', 16),\n",
       " ('nose', 12),\n",
       " ('lip', 11),\n",
       " ('leg', 10),\n",
       " ('tooth', 10)]"
      ]
     },
     "execution_count": 10,
     "metadata": {},
     "output_type": "execute_result"
    }
   ],
   "source": [
    "countBodyParts(results[0]).most_common(20)"
   ]
  },
  {
   "cell_type": "code",
   "execution_count": null,
   "id": "79e4a662-7be0-424e-8646-8e10508dfcf3",
   "metadata": {},
   "outputs": [],
   "source": []
  }
 ],
 "metadata": {
  "kernelspec": {
   "display_name": "Python 3 (ipykernel)",
   "language": "python",
   "name": "python3"
  },
  "language_info": {
   "codemirror_mode": {
    "name": "ipython",
    "version": 3
   },
   "file_extension": ".py",
   "mimetype": "text/x-python",
   "name": "python",
   "nbconvert_exporter": "python",
   "pygments_lexer": "ipython3",
   "version": "3.9.9"
  }
 },
 "nbformat": 4,
 "nbformat_minor": 5
}
