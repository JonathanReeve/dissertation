{
 "cells": [
  {
   "cell_type": "code",
   "execution_count": 49,
   "id": "f201e40e-68a4-4be3-a946-a5c5c4572f07",
   "metadata": {},
   "outputs": [],
   "source": [
    "import spacy\n",
    "import pywsd\n",
    "from nltk.corpus import wordnet as wn\n",
    "from collections import Counter\n",
    "import json"
   ]
  },
  {
   "cell_type": "code",
   "execution_count": 8,
   "id": "12a07562-9d89-4eca-b50c-0ce81fccc149",
   "metadata": {},
   "outputs": [],
   "source": [
    "nlp = spacy.load('en_core_web_lg')"
   ]
  },
  {
   "cell_type": "code",
   "execution_count": 9,
   "id": "9d71c3d2-f499-4893-98eb-fe92bc8b5065",
   "metadata": {},
   "outputs": [],
   "source": [
    "with open('training-data/chatterly.txt') as f: \n",
    "    chatterly = f.read()"
   ]
  },
  {
   "cell_type": "code",
   "execution_count": 10,
   "id": "802cd5db-ba68-414b-9fa9-9cd953fa8b4a",
   "metadata": {},
   "outputs": [],
   "source": [
    "chatterlyDoc = nlp(chatterly)"
   ]
  },
  {
   "cell_type": "code",
   "execution_count": 11,
   "id": "4e594616-0b73-4d33-8a78-11a535e05765",
   "metadata": {},
   "outputs": [],
   "source": [
    "chatterlySents = chatterlyDoc.sents"
   ]
  },
  {
   "cell_type": "code",
   "execution_count": 12,
   "id": "17bda6ec-2ffc-41a2-8499-ef1b8892bd3d",
   "metadata": {},
   "outputs": [],
   "source": [
    "chatterlySentsStr = [sent.text for sent in chatterlySents] "
   ]
  },
  {
   "cell_type": "code",
   "execution_count": 13,
   "id": "b3cb98af-67ef-484a-9a52-e24038bc59f9",
   "metadata": {},
   "outputs": [
    {
     "data": {
      "text/plain": [
       "13464"
      ]
     },
     "execution_count": 13,
     "metadata": {},
     "output_type": "execute_result"
    }
   ],
   "source": [
    "len(chatterlySentsStr)"
   ]
  },
  {
   "cell_type": "code",
   "execution_count": 42,
   "id": "8acc632d-46e4-455f-b7d7-e9ab66356c47",
   "metadata": {},
   "outputs": [],
   "source": [
    "def wsd(sents): \n",
    "    return [pywsd.disambiguate(sent, algorithm=pywsd.lesk.cosine_lesk) \n",
    "                 for sent in sents]"
   ]
  },
  {
   "cell_type": "code",
   "execution_count": 14,
   "id": "4354f986-596f-4f13-956a-55d12fde939f",
   "metadata": {},
   "outputs": [
    {
     "data": {
      "text/plain": [
       "'## Chapter 1 {#index_split_001.html#calibre_toc_2 .calibre4}\\n\\nOurs is essentially a tragic age, so we refuse to take it tragically.'"
      ]
     },
     "execution_count": 14,
     "metadata": {},
     "output_type": "execute_result"
    }
   ],
   "source": [
    "chatterlySentsStr[0]"
   ]
  },
  {
   "cell_type": "code",
   "execution_count": 38,
   "id": "1070ee63-cbc2-49df-aa36-3e91eea5ff2d",
   "metadata": {},
   "outputs": [],
   "source": [
    "disambiguated = wsd(chatterlySentsStr)"
   ]
  },
  {
   "cell_type": "code",
   "execution_count": 39,
   "id": "0c15a1b7-b5e8-471f-b315-8a036a77bbfd",
   "metadata": {},
   "outputs": [
    {
     "data": {
      "text/plain": [
       "13464"
      ]
     },
     "execution_count": 39,
     "metadata": {},
     "output_type": "execute_result"
    }
   ],
   "source": [
    "len(disambiguated) "
   ]
  },
  {
   "cell_type": "code",
   "execution_count": 40,
   "id": "4631a12d-b70b-41cc-b746-8f3e14a65cc5",
   "metadata": {},
   "outputs": [
    {
     "data": {
      "text/plain": [
       "[('The', None),\n",
       " ('cataclysm', Synset('catastrophe.n.03')),\n",
       " ('has', None),\n",
       " ('happened', Synset('happen.v.03')),\n",
       " (',', None),\n",
       " ('we', None),\n",
       " ('are', None),\n",
       " ('among', None),\n",
       " ('the', None),\n",
       " ('ruins', Synset('ruin.n.02')),\n",
       " (',', None),\n",
       " ('we', None),\n",
       " ('start', Synset('start.v.08')),\n",
       " ('to', None),\n",
       " ('build', Synset('build.v.07')),\n",
       " ('up', None),\n",
       " ('new', Synset('newfangled.s.01')),\n",
       " ('little', Synset('little.a.02')),\n",
       " ('habitats', Synset('habitat.n.01')),\n",
       " (',', None),\n",
       " ('to', None),\n",
       " ('have', None),\n",
       " ('new', Synset('newfangled.s.01')),\n",
       " ('little', Synset('little.a.02')),\n",
       " ('hopes', Synset('hope.n.01')),\n",
       " ('.', None)]"
      ]
     },
     "execution_count": 40,
     "metadata": {},
     "output_type": "execute_result"
    }
   ],
   "source": [
    "disambiguated[1]"
   ]
  },
  {
   "cell_type": "code",
   "execution_count": 41,
   "id": "acc3187b-5a8d-49e9-b880-2891a8686682",
   "metadata": {},
   "outputs": [
    {
     "data": {
      "text/plain": [
       "[('They', None),\n",
       " ('were', None),\n",
       " ('at', None),\n",
       " ('once', None),\n",
       " ('cosmopolitan', Synset('cosmopolitan.a.01')),\n",
       " ('and', None),\n",
       " ('provincial', Synset('provincial.a.02')),\n",
       " (',', None),\n",
       " ('with', None),\n",
       " ('the', None),\n",
       " ('cosmopolitan', Synset('cosmopolitan.a.01')),\n",
       " ('provincialism', Synset('sectionalism.n.01')),\n",
       " ('of', None),\n",
       " ('art', Synset('art.n.01')),\n",
       " ('that', None),\n",
       " ('goes', Synset('start.v.09')),\n",
       " ('with', None),\n",
       " ('pure', Synset('pure.s.04')),\n",
       " ('social', Synset('social.s.04')),\n",
       " ('ideals', Synset('ideal.n.02')),\n",
       " ('.', None)]"
      ]
     },
     "execution_count": 41,
     "metadata": {},
     "output_type": "execute_result"
    }
   ],
   "source": [
    "disambiguated[50]"
   ]
  },
  {
   "cell_type": "code",
   "execution_count": 28,
   "id": "fa09717b-00df-4485-a6ac-5015c98245ce",
   "metadata": {},
   "outputs": [],
   "source": [
    "artifact = wn.synsets('artifact')[0]"
   ]
  },
  {
   "cell_type": "code",
   "execution_count": 21,
   "id": "b14ff23c-4dce-43f5-bce4-93048602bec5",
   "metadata": {},
   "outputs": [],
   "source": [
    "def isArtifact(thing): \n",
    "    return artifact in [item[0] for item in thing.hypernym_distances()]"
   ]
  },
  {
   "cell_type": "code",
   "execution_count": 24,
   "id": "19e2dd49-cbad-491b-ac20-6bc301ea2a1c",
   "metadata": {},
   "outputs": [],
   "source": [
    "def getArtifacts(disambiguated): \n",
    "    artifacts = []\n",
    "    nSents = len(disambiguated)\n",
    "    for i, sent in enumerate(disambiguated): \n",
    "        for word, syn in sent: \n",
    "            if syn is not None: \n",
    "                if isArtifact(syn): \n",
    "                    artifacts.append((i, nSents, word, syn))\n",
    "    return artifacts"
   ]
  },
  {
   "cell_type": "code",
   "execution_count": 34,
   "id": "c70abf28-1370-46ef-83df-42c8e0ddc9f3",
   "metadata": {},
   "outputs": [
    {
     "data": {
      "text/plain": [
       "[(0, 1, 'ruins', Synset('ruin.n.02'))]"
      ]
     },
     "execution_count": 34,
     "metadata": {},
     "output_type": "execute_result"
    }
   ],
   "source": [
    "getArtifacts([disambiguated[1]])"
   ]
  },
  {
   "cell_type": "code",
   "execution_count": 26,
   "id": "88533da4-c84c-4c27-b318-3e3421bc8be8",
   "metadata": {
    "tags": []
   },
   "outputs": [],
   "source": [
    "artifacts = getArtifacts(disambiguated)"
   ]
  },
  {
   "cell_type": "code",
   "execution_count": 27,
   "id": "099c4ad9-ca13-465a-88d3-7890c3724ffe",
   "metadata": {},
   "outputs": [
    {
     "data": {
      "text/plain": [
       "(1, 13464, 'ruins', Synset('ruin.n.02'))"
      ]
     },
     "execution_count": 27,
     "metadata": {},
     "output_type": "execute_result"
    }
   ],
   "source": [
    "artifacts[0]"
   ]
  },
  {
   "cell_type": "code",
   "execution_count": 51,
   "id": "3b8886c5-68e5-474a-878b-4e47ae21b1ed",
   "metadata": {},
   "outputs": [
    {
     "data": {
      "text/plain": [
       "[('hand.n.08', 109),\n",
       " ('bit.n.11', 94),\n",
       " ('chair.n.01', 82),\n",
       " ('face.n.04', 75),\n",
       " ('room.n.01', 64),\n",
       " ('door.n.01', 63),\n",
       " ('head.n.29', 62),\n",
       " ('hut.n.01', 49),\n",
       " ('bungalow.n.01', 48),\n",
       " ('home_plate.n.01', 38),\n",
       " ('arm.n.04', 38),\n",
       " ('car.n.01', 32),\n",
       " ('back.n.08', 32),\n",
       " ('coat.n.01', 29),\n",
       " ('end.n.13', 27),\n",
       " ('water_system.n.02', 23),\n",
       " ('light.n.02', 22),\n",
       " ('hat.n.01', 20),\n",
       " ('road.n.01', 19),\n",
       " ('window.n.01', 19),\n",
       " ('key.n.15', 19),\n",
       " ('locomotive.n.01', 18),\n",
       " ('dormitory.n.01', 17),\n",
       " ('shirt.n.01', 17),\n",
       " ('chicken_coop.n.01', 17),\n",
       " ('mine.n.02', 16),\n",
       " ('blanket.n.01', 16),\n",
       " ('gun.n.01', 15),\n",
       " ('apparel.n.01', 15),\n",
       " ('leg.n.07', 15)]"
      ]
     },
     "execution_count": 51,
     "metadata": {},
     "output_type": "execute_result"
    }
   ],
   "source": [
    "artifactSyns = [art[3].name() for art in artifacts]\n",
    "Counter(artifactSyns).most_common(30)"
   ]
  },
  {
   "cell_type": "code",
   "execution_count": 47,
   "id": "05754402-2035-4c1d-9d4e-b1508c8b7ba0",
   "metadata": {},
   "outputs": [
    {
     "data": {
      "text/plain": [
       "'artifact.n.01'"
      ]
     },
     "execution_count": 47,
     "metadata": {},
     "output_type": "execute_result"
    }
   ],
   "source": [
    "artifact.name()"
   ]
  },
  {
   "cell_type": "code",
   "execution_count": 52,
   "id": "b61719f6-6b8c-479d-ac70-c92478216e10",
   "metadata": {},
   "outputs": [
    {
     "data": {
      "text/plain": [
       "'{\"hand.n.08\": 109, \"bit.n.11\": 94, \"chair.n.01\": 82, \"face.n.04\": 75, \"room.n.01\": 64, \"door.n.01\": 63, \"head.n.29\": 62, \"hut.n.01\": 49, \"bungalow.n.01\": 48, \"home_plate.n.01\": 38, \"arm.n.04\": 38, \"car.n.01\": 32, \"back.n.08\": 32, \"coat.n.01\": 29, \"end.n.13\": 27, \"water_system.n.02\": 23, \"light.n.02\": 22, \"hat.n.01\": 20, \"road.n.01\": 19, \"window.n.01\": 19, \"key.n.15\": 19, \"locomotive.n.01\": 18, \"dormitory.n.01\": 17, \"shirt.n.01\": 17, \"chicken_coop.n.01\": 17, \"mine.n.02\": 16, \"blanket.n.01\": 16, \"gun.n.01\": 15, \"apparel.n.01\": 15, \"leg.n.07\": 15}'"
      ]
     },
     "execution_count": 52,
     "metadata": {},
     "output_type": "execute_result"
    }
   ],
   "source": [
    "json.dumps(dict(Counter(artifactSyns).most_common(30)))"
   ]
  },
  {
   "cell_type": "code",
   "execution_count": 57,
   "id": "a3f37c7a-984e-4407-847e-33c597a22307",
   "metadata": {},
   "outputs": [
    {
     "data": {
      "text/plain": [
       "[Synset('artifact.n.01')]"
      ]
     },
     "execution_count": 57,
     "metadata": {},
     "output_type": "execute_result"
    }
   ],
   "source": []
  },
  {
   "cell_type": "code",
   "execution_count": 60,
   "id": "3b38beaf-6483-4789-a990-e119608960cf",
   "metadata": {},
   "outputs": [],
   "source": [
    "hand = wn.synsets('hand')[0]"
   ]
  },
  {
   "cell_type": "code",
   "execution_count": 61,
   "id": "0561ea8f-1585-49fc-91b7-22563986f871",
   "metadata": {},
   "outputs": [
    {
     "data": {
      "text/plain": [
       "{(Synset('body_part.n.01'), 3),\n",
       " (Synset('entity.n.01'), 7),\n",
       " (Synset('external_body_part.n.01'), 2),\n",
       " (Synset('extremity.n.05'), 1),\n",
       " (Synset('hand.n.01'), 0),\n",
       " (Synset('part.n.03'), 4),\n",
       " (Synset('physical_entity.n.01'), 6),\n",
       " (Synset('thing.n.12'), 5)}"
      ]
     },
     "execution_count": 61,
     "metadata": {},
     "output_type": "execute_result"
    }
   ],
   "source": [
    "hand.hypernym_distances()"
   ]
  },
  {
   "cell_type": "code",
   "execution_count": 64,
   "id": "697ae229-346d-4fff-ac21-aa725591d5e3",
   "metadata": {},
   "outputs": [
    {
     "data": {
      "text/plain": [
       "'a rotating pointer on the face of a timepiece'"
      ]
     },
     "execution_count": 64,
     "metadata": {},
     "output_type": "execute_result"
    }
   ],
   "source": [
    "wn.synsets('hand')[7].definition()"
   ]
  },
  {
   "cell_type": "code",
   "execution_count": null,
   "id": "46802376-66f7-4ea9-b5b3-c263e014702a",
   "metadata": {},
   "outputs": [],
   "source": []
  }
 ],
 "metadata": {
  "kernelspec": {
   "display_name": "Python 3 (ipykernel)",
   "language": "python",
   "name": "python3"
  },
  "language_info": {
   "codemirror_mode": {
    "name": "ipython",
    "version": 3
   },
   "file_extension": ".py",
   "mimetype": "text/x-python",
   "name": "python",
   "nbconvert_exporter": "python",
   "pygments_lexer": "ipython3",
   "version": "3.9.12"
  }
 },
 "nbformat": 4,
 "nbformat_minor": 5
}
