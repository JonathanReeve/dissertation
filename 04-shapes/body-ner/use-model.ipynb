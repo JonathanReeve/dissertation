{
 "cells": [
  {
   "cell_type": "code",
   "execution_count": 30,
   "id": "583b88ae-9f00-4499-990b-4770eea292b3",
   "metadata": {},
   "outputs": [],
   "source": [
    "import spacy\n",
    "import json"
   ]
  },
  {
   "cell_type": "code",
   "execution_count": 2,
   "id": "1ceee004-d6d5-43f0-b449-85f9953187c8",
   "metadata": {},
   "outputs": [],
   "source": [
    "nlp = spacy.load('./out/model-best/')"
   ]
  },
  {
   "cell_type": "code",
   "execution_count": 3,
   "id": "41bb28d9-8c33-4493-a3a4-a82ccb2814b3",
   "metadata": {},
   "outputs": [],
   "source": [
    "doc = nlp('Her lips met his, and their thighs touched.') "
   ]
  },
  {
   "cell_type": "code",
   "execution_count": 5,
   "id": "a1d306b9-1eb9-441b-b0cb-f76a82b2db94",
   "metadata": {},
   "outputs": [],
   "source": [
    "ents = doc.ents"
   ]
  },
  {
   "cell_type": "code",
   "execution_count": 7,
   "id": "c352f081-5527-400c-a3ce-7c33245836b8",
   "metadata": {},
   "outputs": [
    {
     "data": {
      "text/plain": [
       "'BODYPART'"
      ]
     },
     "execution_count": 7,
     "metadata": {},
     "output_type": "execute_result"
    }
   ],
   "source": [
    "ents[0].label_"
   ]
  },
  {
   "cell_type": "code",
   "execution_count": 8,
   "id": "2364fe33-877d-4b8f-b90a-76d2527c5266",
   "metadata": {},
   "outputs": [],
   "source": [
    "with open('training-data/chatterly.txt') as f: \n",
    "    chatterly = f.read()"
   ]
  },
  {
   "cell_type": "code",
   "execution_count": 9,
   "id": "51dccb53-0d58-4d94-bfe3-c564e28e6ff6",
   "metadata": {},
   "outputs": [],
   "source": [
    "chatterlyDoc = nlp(chatterly)"
   ]
  },
  {
   "cell_type": "code",
   "execution_count": 11,
   "id": "ab855064-dbd1-49ce-84c5-840a545387b0",
   "metadata": {},
   "outputs": [],
   "source": [
    "bodySents = []\n",
    "for sent in chatterlyDoc.sents: \n",
    "    if len(sent.ents) > 0: \n",
    "        bodySents.append(sent)"
   ]
  },
  {
   "cell_type": "code",
   "execution_count": 12,
   "id": "0e5cc61e-2566-4c0b-8410-deea3a50bc8f",
   "metadata": {},
   "outputs": [
    {
     "data": {
      "text/plain": [
       "The war had\n",
       "brought the roof down over her head."
      ]
     },
     "execution_count": 12,
     "metadata": {},
     "output_type": "execute_result"
    }
   ],
   "source": [
    "bodySents[0]"
   ]
  },
  {
   "cell_type": "code",
   "execution_count": 19,
   "id": "9ed27481-7a6b-44ae-8d04-187708b6fbcb",
   "metadata": {},
   "outputs": [],
   "source": [
    "ent = bodySents[0].ents[0]"
   ]
  },
  {
   "cell_type": "code",
   "execution_count": 20,
   "id": "b1d34eb9-5246-4a14-9b6e-1c603ac23d10",
   "metadata": {},
   "outputs": [
    {
     "data": {
      "text/plain": [
       "118"
      ]
     },
     "execution_count": 20,
     "metadata": {},
     "output_type": "execute_result"
    }
   ],
   "source": [
    "ent.start"
   ]
  },
  {
   "cell_type": "code",
   "execution_count": 21,
   "id": "9a3054bd-4585-4a09-bfb8-ca42aafcef5e",
   "metadata": {},
   "outputs": [
    {
     "data": {
      "text/plain": [
       "119"
      ]
     },
     "execution_count": 21,
     "metadata": {},
     "output_type": "execute_result"
    }
   ],
   "source": [
    "ent.end"
   ]
  },
  {
   "cell_type": "code",
   "execution_count": 22,
   "id": "86f8c8ee-482a-4c94-855e-b09cfebc0608",
   "metadata": {},
   "outputs": [
    {
     "data": {
      "text/plain": [
       "526"
      ]
     },
     "execution_count": 22,
     "metadata": {},
     "output_type": "execute_result"
    }
   ],
   "source": [
    "ent.start_char"
   ]
  },
  {
   "cell_type": "code",
   "execution_count": 24,
   "id": "9ad128cf-ac8f-4dfd-b32e-c7ef1e6787e3",
   "metadata": {},
   "outputs": [
    {
     "data": {
      "text/plain": [
       "530"
      ]
     },
     "execution_count": 24,
     "metadata": {},
     "output_type": "execute_result"
    }
   ],
   "source": [
    "ent.end_char"
   ]
  },
  {
   "cell_type": "code",
   "execution_count": 34,
   "id": "3e1c6dc6-b7fa-4fe3-a1a1-7a0f66e9b7f6",
   "metadata": {},
   "outputs": [
    {
     "data": {
      "text/plain": [
       "str"
      ]
     },
     "execution_count": 34,
     "metadata": {},
     "output_type": "execute_result"
    }
   ],
   "source": [
    "type(ent.lemma_)"
   ]
  },
  {
   "cell_type": "code",
   "execution_count": 37,
   "id": "c8ab3a1f-352f-41dd-a340-adfa2400f45b",
   "metadata": {},
   "outputs": [],
   "source": [
    "data = []\n",
    "for sent in bodySents: \n",
    "    for ent in sent.ents: \n",
    "        data.append({\"text\": ent.text, \"lemma\": ent.lemma_, \n",
    "                     \"start_char\": ent.start_char,\n",
    "                     \"end_char\": ent.end_char,\n",
    "                     \"sentence\": str(ent.sent).replace('\\n', ' ')})"
   ]
  },
  {
   "cell_type": "code",
   "execution_count": 38,
   "id": "b2388eaa-bffd-47e0-905d-21127adf108d",
   "metadata": {},
   "outputs": [],
   "source": [
    "with open('chatterly.json', 'w') as f:\n",
    "    json.dump(data, f)"
   ]
  },
  {
   "cell_type": "code",
   "execution_count": null,
   "id": "b1fdebd7-595b-4fe5-99f6-18dea0b3cb43",
   "metadata": {},
   "outputs": [],
   "source": []
  }
 ],
 "metadata": {
  "kernelspec": {
   "display_name": "Python 3 (ipykernel)",
   "language": "python",
   "name": "python3"
  },
  "language_info": {
   "codemirror_mode": {
    "name": "ipython",
    "version": 3
   },
   "file_extension": ".py",
   "mimetype": "text/x-python",
   "name": "python",
   "nbconvert_exporter": "python",
   "pygments_lexer": "ipython3",
   "version": "3.10.4"
  }
 },
 "nbformat": 4,
 "nbformat_minor": 5
}
