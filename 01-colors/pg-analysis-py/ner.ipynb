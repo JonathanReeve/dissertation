{
 "cells": [
  {
   "cell_type": "code",
   "execution_count": 20,
   "metadata": {},
   "outputs": [],
   "source": [
    "import spacy\n",
    "from collections import Counter"
   ]
  },
  {
   "cell_type": "code",
   "execution_count": 3,
   "metadata": {},
   "outputs": [],
   "source": [
    "nlp = spacy.load('en_core_web_md')"
   ]
  },
  {
   "cell_type": "code",
   "execution_count": 4,
   "metadata": {},
   "outputs": [],
   "source": [
    "dalloway = open('/home/jon/Dropbox/Research/Corpora/cenlab/texts/1925_Woolf_Virginia_Mrs.Dalloway_Novel.txt').read()"
   ]
  },
  {
   "cell_type": "code",
   "execution_count": 7,
   "metadata": {},
   "outputs": [],
   "source": [
    "doc = nlp(dalloway)"
   ]
  },
  {
   "cell_type": "code",
   "execution_count": 10,
   "metadata": {},
   "outputs": [
    {
     "data": {
      "text/plain": [
       "['_',\n",
       " '__class__',\n",
       " '__delattr__',\n",
       " '__dir__',\n",
       " '__doc__',\n",
       " '__eq__',\n",
       " '__format__',\n",
       " '__ge__',\n",
       " '__getattribute__',\n",
       " '__getitem__',\n",
       " '__gt__',\n",
       " '__hash__',\n",
       " '__init__',\n",
       " '__init_subclass__',\n",
       " '__iter__',\n",
       " '__le__',\n",
       " '__len__',\n",
       " '__lt__',\n",
       " '__ne__',\n",
       " '__new__',\n",
       " '__pyx_vtable__',\n",
       " '__reduce__',\n",
       " '__reduce_ex__',\n",
       " '__repr__',\n",
       " '__setattr__',\n",
       " '__sizeof__',\n",
       " '__str__',\n",
       " '__subclasshook__',\n",
       " '_fix_dep_copy',\n",
       " '_recalculate_indices',\n",
       " '_vector',\n",
       " '_vector_norm',\n",
       " 'as_doc',\n",
       " 'char_span',\n",
       " 'conjuncts',\n",
       " 'doc',\n",
       " 'end',\n",
       " 'end_char',\n",
       " 'ent_id',\n",
       " 'ent_id_',\n",
       " 'ents',\n",
       " 'get_extension',\n",
       " 'get_lca_matrix',\n",
       " 'has_extension',\n",
       " 'has_vector',\n",
       " 'kb_id',\n",
       " 'kb_id_',\n",
       " 'label',\n",
       " 'label_',\n",
       " 'lefts',\n",
       " 'lemma_',\n",
       " 'lower_',\n",
       " 'merge',\n",
       " 'n_lefts',\n",
       " 'n_rights',\n",
       " 'noun_chunks',\n",
       " 'orth_',\n",
       " 'remove_extension',\n",
       " 'rights',\n",
       " 'root',\n",
       " 'sent',\n",
       " 'sentiment',\n",
       " 'set_extension',\n",
       " 'similarity',\n",
       " 'start',\n",
       " 'start_char',\n",
       " 'string',\n",
       " 'subtree',\n",
       " 'tensor',\n",
       " 'text',\n",
       " 'text_with_ws',\n",
       " 'to_array',\n",
       " 'upper_',\n",
       " 'vector',\n",
       " 'vector_norm',\n",
       " 'vocab']"
      ]
     },
     "execution_count": 10,
     "metadata": {},
     "output_type": "execute_result"
    }
   ],
   "source": [
    "dir(doc.ents[4])"
   ]
  },
  {
   "cell_type": "code",
   "execution_count": 11,
   "metadata": {},
   "outputs": [
    {
     "data": {
      "text/plain": [
       "'PERSON'"
      ]
     },
     "execution_count": 11,
     "metadata": {},
     "output_type": "execute_result"
    }
   ],
   "source": [
    "doc.ents[4].label_"
   ]
  },
  {
   "cell_type": "code",
   "execution_count": 14,
   "metadata": {},
   "outputs": [
    {
     "data": {
      "text/plain": [
       "'PERSON'"
      ]
     },
     "execution_count": 14,
     "metadata": {},
     "output_type": "execute_result"
    }
   ],
   "source": [
    "doc.ents[5].label_"
   ]
  },
  {
   "cell_type": "code",
   "execution_count": 15,
   "metadata": {},
   "outputs": [],
   "source": [
    "people = [item for item in doc.ents if item.label_ == 'PERSON']"
   ]
  },
  {
   "cell_type": "code",
   "execution_count": 21,
   "metadata": {},
   "outputs": [
    {
     "data": {
      "text/plain": [
       "[('Clarissa', 245),\n",
       " ('Peter', 93),\n",
       " ('Richard', 80),\n",
       " ('Sally', 77),\n",
       " ('Elizabeth', 70),\n",
       " ('Peter Walsh', 67),\n",
       " ('Kilman', 64),\n",
       " ('Holmes', 54),\n",
       " ('Dalloway', 51),\n",
       " ('Rezia', 51),\n",
       " ('Hugh', 46),\n",
       " ('William', 45),\n",
       " ('Lady Bruton', 44),\n",
       " ('Septimus', 32),\n",
       " ('Evans', 20),\n",
       " ('Shakespeare', 20),\n",
       " ('Filmer', 20),\n",
       " ('Richard Dalloway', 19),\n",
       " ('Parry', 18),\n",
       " ('Lucy', 17),\n",
       " ('Hugh Whitbread', 17),\n",
       " ('Clarissa Dalloway', 15),\n",
       " ('Ellie Henderson', 15),\n",
       " ('Sally Seton', 14),\n",
       " ('Peters', 14),\n",
       " ('Daisy', 12),\n",
       " ('Lady Bradshaw', 12),\n",
       " ('Bradshaw', 12),\n",
       " ('Aunt Helena', 11),\n",
       " ('Evelyn', 10),\n",
       " ('Brewer', 10),\n",
       " ('William Bradshaw', 9),\n",
       " ('Millicent Bruton', 8),\n",
       " ('Dempster', 7),\n",
       " ('Walker', 7),\n",
       " ('Smith', 7),\n",
       " ('Whittaker', 7),\n",
       " ('Queen', 6),\n",
       " (\"Lady Bruton's\", 6),\n",
       " ('Whitehall', 6),\n",
       " ('Brush', 6),\n",
       " ('Milly Brush', 6),\n",
       " ('Hilbery', 6),\n",
       " ('Lady Bexborough', 5),\n",
       " ('Whitbreads', 5),\n",
       " ('Septimus Warren Smith', 5),\n",
       " ('Maisie Johnson', 5),\n",
       " ('Morris', 5),\n",
       " ('Edith', 5),\n",
       " ('Marsham', 5)]"
      ]
     },
     "execution_count": 21,
     "metadata": {},
     "output_type": "execute_result"
    }
   ],
   "source": [
    "Counter([str(person).strip() for person in people]).most_common(50)"
   ]
  },
  {
   "cell_type": "code",
   "execution_count": 23,
   "metadata": {},
   "outputs": [
    {
     "data": {
      "text/plain": [
       "''"
      ]
     },
     "execution_count": 23,
     "metadata": {},
     "output_type": "execute_result"
    }
   ],
   "source": [
    "people[4].ent_id_"
   ]
  },
  {
   "cell_type": "code",
   "execution_count": 25,
   "metadata": {},
   "outputs": [
    {
     "data": {
      "text/plain": [
       "[('night', 13),\n",
       " ('the hour', 7),\n",
       " ('this morning', 5),\n",
       " ('morning', 5),\n",
       " ('hour', 5),\n",
       " ('evening', 5),\n",
       " ('hours', 5),\n",
       " ('this hour', 4),\n",
       " ('the night', 4),\n",
       " ('the early morning', 3)]"
      ]
     },
     "execution_count": 25,
     "metadata": {},
     "output_type": "execute_result"
    }
   ],
   "source": [
    "Counter([str(ent) for ent in doc.ents if ent.label_ == 'TIME']).most_common(10)"
   ]
  },
  {
   "cell_type": "code",
   "execution_count": null,
   "metadata": {},
   "outputs": [],
   "source": []
  }
 ],
 "metadata": {
  "kernelspec": {
   "display_name": "Python 3",
   "language": "python",
   "name": "python3"
  },
  "language_info": {
   "codemirror_mode": {
    "name": "ipython",
    "version": 3
   },
   "file_extension": ".py",
   "mimetype": "text/x-python",
   "name": "python",
   "nbconvert_exporter": "python",
   "pygments_lexer": "ipython3",
   "version": "3.7.7"
  }
 },
 "nbformat": 4,
 "nbformat_minor": 4
}
