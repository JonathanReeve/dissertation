{
 "cells": [
  {
   "cell_type": "markdown",
   "id": "plastic-berlin",
   "metadata": {},
   "source": [
    "# Do post-impressionist painters paint with brighter colors than their predecessors? \n",
    "\n",
    "Hypothesis: yes. But by how much, precisely? \n",
    "\n",
    "Import some necessary libraries: "
   ]
  },
  {
   "cell_type": "code",
   "execution_count": 154,
   "id": "republican-cedar",
   "metadata": {},
   "outputs": [],
   "source": [
    "import pandas as pd\n",
    "from urllib.request import urlretrieve \n",
    "from time import sleep\n",
    "import json\n",
    "import colorgram\n",
    "from urllib.parse import quote\n",
    "import numpy as np\n",
    "import matplotlib.pyplot as plt\n",
    "from glob import glob"
   ]
  },
  {
   "cell_type": "markdown",
   "id": "dedicated-diving",
   "metadata": {},
   "source": [
    "Load data gathered from Wikidata. \n",
    "\n",
    "Get post-impressionist paintings using [this query](https://query.wikidata.org/#%23defaultView%3AImageGrid%0ASELECT%20%3Fimg%20%0AWHERE%0A%7B%0A%20%20%3Fpainting%20wdt%3AP31%20wd%3AQ3305213.%0A%20%20%3Fpainting%20wdt%3AP135%20wd%3AQ166713.%0A%20%20%3Fpainting%20wdt%3AP18%20%3Fimg%20.%0A%20%20SERVICE%20wikibase%3Alabel%20%7B%20bd%3AserviceParam%20wikibase%3Alanguage%20%22en%22.%20%7D%0A%7D%0A%0A) in Wikidata: \n",
    "\n",
    "```sparql\n",
    "#defaultView:ImageGrid\n",
    "SELECT ?img \n",
    "WHERE\n",
    "{\n",
    "  ?painting wdt:P31 wd:Q3305213.\n",
    "  ?painting wdt:P135 wd:Q166713.\n",
    "  ?painting wdt:P18 ?img .\n",
    "  SERVICE wikibase:label { bd:serviceParam wikibase:language \"en\". }\n",
    "} LIMIT 500\n",
    "```\n",
    "\n",
    "And get early 19th Century paintings using [this query](https://query.wikidata.org/#%23defaultView%3AImageGrid%0ASELECT%20%3Fimg%20%3Fdate%0AWHERE%0A%7B%0A%20%20%3Fpainting%20wdt%3AP31%20wd%3AQ3305213.%0A%20%20%3Fpainting%20wdt%3AP571%20%3Fdate.%0A%20%20%3Fpainting%20wdt%3AP18%20%3Fimg%20.%0A%20%20FILTER%28YEAR%28%3Fdate%29%20%3E%201800%20%26%26%20YEAR%28%3Fdate%29%20%3C%201850%29.%0A%20%20SERVICE%20wikibase%3Alabel%20%7B%20bd%3AserviceParam%20wikibase%3Alanguage%20%22en%22.%20%7D%0A%7D%20LIMIT%20500): \n",
    "\n",
    "```sparql\n",
    "#defaultView:ImageGrid\n",
    "SELECT ?img ?date\n",
    "WHERE\n",
    "{\n",
    "  ?painting wdt:P31 wd:Q3305213.\n",
    "  ?painting wdt:P571 ?date.\n",
    "  ?painting wdt:P18 ?img .\n",
    "  FILTER(YEAR(?date) > 1800 && YEAR(?date) < 1850).\n",
    "  SERVICE wikibase:label { bd:serviceParam wikibase:language \"en\". }\n",
    "} LIMIT 500\n",
    "```\n",
    "\n",
    "Load the resulting files: "
   ]
  },
  {
   "cell_type": "code",
   "execution_count": 155,
   "id": "stock-rouge",
   "metadata": {},
   "outputs": [],
   "source": [
    "with open('early19thC.json') as f: \n",
    "    early = json.load(f)"
   ]
  },
  {
   "cell_type": "code",
   "execution_count": 156,
   "id": "bacterial-values",
   "metadata": {},
   "outputs": [],
   "source": [
    "with open('postimpressionism.json') as f:\n",
    "    late = json.load(f)"
   ]
  },
  {
   "cell_type": "markdown",
   "id": "split-commissioner",
   "metadata": {},
   "source": [
    "Truncate to the first 100, so that we're comparing equal amounts in each: "
   ]
  },
  {
   "cell_type": "code",
   "execution_count": 157,
   "id": "chronic-pottery",
   "metadata": {},
   "outputs": [],
   "source": [
    "urls = {\"early\": [item['img'] for item in early][:100], \n",
    "        \"late\": [item['img'] for item in late][:100]}"
   ]
  },
  {
   "cell_type": "markdown",
   "id": "removable-bunch",
   "metadata": {},
   "source": [
    "Download thumbnail images of them locally: "
   ]
  },
  {
   "cell_type": "code",
   "execution_count": 158,
   "id": "identified-bones",
   "metadata": {},
   "outputs": [],
   "source": [
    "def getThumbnailUrl(imageName, width=100):\n",
    "    \"\"\"Return the URL to the thumbnail of the file, at the given width.\"\"\"\n",
    "    imageName = imageName.split('/')[-1]\n",
    "    return f\"http://commons.wikimedia.org/w/index.php?title=Special:FilePath&file={imageName}&width={width}\""
   ]
  },
  {
   "cell_type": "code",
   "execution_count": 160,
   "id": "trying-sucking",
   "metadata": {},
   "outputs": [],
   "source": [
    "# Only run this once\n",
    "def downloadImages():\n",
    "    for label, urlList in urls.items(): \n",
    "        for i in range(len(urlList)): \n",
    "            url = getThumbnailUrl(urlList[i])\n",
    "            #print(f\"Getting {url}\")\n",
    "            dest = f\"img/{label}/{i:03d}.jpg\"\n",
    "            #print(f\"saving {url} to {dest}\")\n",
    "            urlretrieve(url, dest)\n",
    "            sleep(1)"
   ]
  },
  {
   "cell_type": "markdown",
   "id": "sexual-kuwait",
   "metadata": {},
   "source": [
    "Use [colorgram](https://github.com/obskyr/colorgram.py) to extract dominant colors from the images: "
   ]
  },
  {
   "cell_type": "code",
   "execution_count": 161,
   "id": "intended-berry",
   "metadata": {},
   "outputs": [],
   "source": [
    "def getDominantColor(img): \n",
    "    color = colorgram.extract(img, 1)[0]\n",
    "    return color.hsl"
   ]
  },
  {
   "cell_type": "code",
   "execution_count": 162,
   "id": "motivated-frequency",
   "metadata": {},
   "outputs": [],
   "source": [
    "colors = {label: [getDominantColor(img) for img in glob(f'img/{label}/*')] for label in urls} "
   ]
  },
  {
   "cell_type": "markdown",
   "id": "prerequisite-evaluation",
   "metadata": {},
   "source": [
    "Convert to HSL (hue, saturation, luminosity): "
   ]
  },
  {
   "cell_type": "code",
   "execution_count": 163,
   "id": "intermediate-waters",
   "metadata": {},
   "outputs": [],
   "source": [
    "saturation = {label: [c.s for c in colors[label]] for label in colors}\n",
    "luminosity = {label: [c.l for c in colors[label]] for label in colors}"
   ]
  },
  {
   "cell_type": "markdown",
   "id": "incorrect-pride",
   "metadata": {},
   "source": [
    "Calculate averages for each category: "
   ]
  },
  {
   "cell_type": "code",
   "execution_count": 164,
   "id": "forbidden-atmosphere",
   "metadata": {},
   "outputs": [],
   "source": [
    "meanSats = {label: np.mean(np.array(sats)) for label, sats in saturation.items()}"
   ]
  },
  {
   "cell_type": "code",
   "execution_count": 165,
   "id": "upper-brief",
   "metadata": {},
   "outputs": [],
   "source": [
    "meanLums = {label: np.mean(np.array(sats)) for label, sats in luminosity.items()}"
   ]
  },
  {
   "cell_type": "markdown",
   "id": "horizontal-stopping",
   "metadata": {},
   "source": [
    "Now calculate how much larger post-impressionist luminosity is, on average: "
   ]
  },
  {
   "cell_type": "code",
   "execution_count": 167,
   "id": "single-wright",
   "metadata": {},
   "outputs": [],
   "source": [
    "luminosityChangePercent = (meanLums['late'] - meanLums['early']) / meanLums['early'] * 100"
   ]
  },
  {
   "cell_type": "code",
   "execution_count": 173,
   "id": "saved-quantum",
   "metadata": {},
   "outputs": [
    {
     "name": "stdout",
     "output_type": "stream",
     "text": [
      "Post-impressionist painters are 37.4% more luminous than painters in the early 19th century!\n"
     ]
    }
   ],
   "source": [
    "print(f\"Post-impressionist painters are {luminosityChangePercent:.1f}% more luminous than painters in the early 19th century!\")"
   ]
  }
 ],
 "metadata": {
  "kernelspec": {
   "display_name": "Python 3",
   "language": "python",
   "name": "python3"
  },
  "language_info": {
   "codemirror_mode": {
    "name": "ipython",
    "version": 3
   },
   "file_extension": ".py",
   "mimetype": "text/x-python",
   "name": "python",
   "nbconvert_exporter": "python",
   "pygments_lexer": "ipython3",
   "version": "3.8.8"
  }
 },
 "nbformat": 4,
 "nbformat_minor": 5
}
