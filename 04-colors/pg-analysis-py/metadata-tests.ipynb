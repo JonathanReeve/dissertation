{
 "cells": [
  {
   "cell_type": "code",
   "execution_count": 1,
   "metadata": {},
   "outputs": [],
   "source": [
    "import sqlite3"
   ]
  },
  {
   "cell_type": "code",
   "execution_count": 2,
   "metadata": {},
   "outputs": [],
   "source": [
    "conn = sqlite3.connect('/home/jon/Corpora/pg-text-7.db')"
   ]
  },
  {
   "cell_type": "code",
   "execution_count": 3,
   "metadata": {},
   "outputs": [],
   "source": [
    "c = conn.cursor()"
   ]
  },
  {
   "cell_type": "code",
   "execution_count": 20,
   "metadata": {},
   "outputs": [
    {
     "data": {
      "text/plain": [
       "<sqlite3.Cursor at 0x7fd1472f7c00>"
      ]
     },
     "execution_count": 20,
     "metadata": {},
     "output_type": "execute_result"
    }
   ],
   "source": [
    "c.execute('select title, author from meta where lcsh like \"%Psychological fiction%\" and LCC like \"%PR%\" and languages like \"%EN%\" and authoryearofbirth > 1840 order by author')"
   ]
  },
  {
   "cell_type": "code",
   "execution_count": 21,
   "metadata": {},
   "outputs": [
    {
     "data": {
      "text/plain": [
       "[('Heart of Darkness', 'Conrad, Joseph'),\n",
       " ('The Secret Sharer', 'Conrad, Joseph'),\n",
       " ('Heart of Darkness', 'Conrad, Joseph'),\n",
       " ('An Outcast of the Islands', 'Conrad, Joseph'),\n",
       " (\"Almayer's Folly: A Story of an Eastern River\", 'Conrad, Joseph'),\n",
       " ('Chance: A Tale in Two Parts', 'Conrad, Joseph'),\n",
       " ('Lord Jim', 'Conrad, Joseph'),\n",
       " ('Victory: An Island Tale', 'Conrad, Joseph'),\n",
       " ('The Nigger Of The \"Narcissus\": A Tale Of The Forecastle', 'Conrad, Joseph'),\n",
       " ('Chance: A Tale in Two Parts', 'Conrad, Joseph'),\n",
       " ('New Grub Street', 'Gissing, George'),\n",
       " ('The Odd Women', 'Gissing, George'),\n",
       " ('Ulysses', 'Joyce, James'),\n",
       " ('Women in Love', 'Lawrence, D. H. (David Herbert)'),\n",
       " ('The Lost Girl', 'Lawrence, D. H. (David Herbert)'),\n",
       " ('A Voyage to Arcturus', 'Lindsay, David'),\n",
       " ('The History of Sir Richard Calmady: A Romance', 'Malet, Lucas'),\n",
       " ('The Moon and Sixpence', 'Maugham, W. Somerset (William Somerset)'),\n",
       " ('Bud: A Novel', 'Munro, Neil'),\n",
       " ('Life and Death of Harriett Frean', 'Sinclair, May'),\n",
       " ('The Three Sisters', 'Sinclair, May'),\n",
       " ('The Strange Case of Dr. Jekyll and Mr. Hyde', 'Stevenson, Robert Louis'),\n",
       " ('The Strange Case of Dr. Jekyll and Mr. Hyde', 'Stevenson, Robert Louis'),\n",
       " (\"The Master of Ballantrae: A Winter's Tale\", 'Stevenson, Robert Louis'),\n",
       " ('The Works of Robert Louis Stevenson - Swanston Edition, Vol. 12',\n",
       "  'Stevenson, Robert Louis'),\n",
       " ('The Secret Places of the Heart', 'Wells, H. G. (Herbert George)'),\n",
       " ('The Invisible Man: A Grotesque Romance', 'Wells, H. G. (Herbert George)'),\n",
       " ('The Return of the Soldier', 'West, Rebecca'),\n",
       " (\"Jacob's Room\", 'Woolf, Virginia')]"
      ]
     },
     "execution_count": 21,
     "metadata": {},
     "output_type": "execute_result"
    }
   ],
   "source": [
    "c.fetchall()"
   ]
  },
  {
   "cell_type": "code",
   "execution_count": 22,
   "metadata": {},
   "outputs": [
    {
     "data": {
      "text/plain": [
       "<sqlite3.Cursor at 0x7fd1472f7c00>"
      ]
     },
     "execution_count": 22,
     "metadata": {},
     "output_type": "execute_result"
    }
   ],
   "source": [
    "c.execute('select title, author from meta where lcsh like \"%Love stories%\" and LCC like \"%PR%\" and languages like \"%EN%\" and authoryearofbirth > 1840 order by author')"
   ]
  },
  {
   "cell_type": "code",
   "execution_count": 23,
   "metadata": {},
   "outputs": [
    {
     "data": {
      "text/plain": [
       "[('The London Venture', 'Arlen, Michael'),\n",
       " (\"The Young Visiters or, Mr. Salteena's Plan\", 'Ashford, Daisy'),\n",
       " ('A Bachelor Husband', 'Ayres, Ruby M. (Ruby Mildred)'),\n",
       " ('The Rosary', 'Barclay, Florence L. (Florence Louisa)'),\n",
       " ('Through the Postern Gate: A Romance in Seven Days',\n",
       "  'Barclay, Florence L. (Florence Louisa)'),\n",
       " ('Tommy and Grizel', 'Barrie, J. M. (James Matthew)'),\n",
       " ('The Little Minister', 'Barrie, J. M. (James Matthew)'),\n",
       " (\"When a Man's Single: A Tale of Literary Life\",\n",
       "  'Barrie, J. M. (James Matthew)'),\n",
       " ('Zuleika Dobson; Or, An Oxford Love Story', 'Beerbohm, Max, Sir'),\n",
       " ('The Happy Hypocrite: A Fairy Tale for Tired Men', 'Beerbohm, Max, Sir'),\n",
       " (\"Dodo's Daughter: A Sequel to Dodo\", 'Benson, E. F. (Edward Frederic)'),\n",
       " (\"Lister's Great Adventure\", 'Bindloss, Harold'),\n",
       " ('The Intriguers', 'Bindloss, Harold'),\n",
       " ('Thurston of Orchard Valley', 'Bindloss, Harold'),\n",
       " ('The Coast of Adventure', 'Bindloss, Harold'),\n",
       " ('A Damaged Reputation', 'Bindloss, Harold'),\n",
       " ('For Jacinta', 'Bindloss, Harold'),\n",
       " ('The Childerbridge Mystery', 'Boothby, Guy'),\n",
       " ('Sheilah McLeod: A Heroine of the Back Blocks', 'Boothby, Guy'),\n",
       " ('The Second Fiddle', 'Bottome, Phyllis'),\n",
       " ('Vayenne', 'Brebner, Percy James'),\n",
       " ('The Light of Scarthey: A Romance', 'Castle, Egerton'),\n",
       " ('Chance: A Tale in Two Parts', 'Conrad, Joseph'),\n",
       " ('The Rescue: A Romance of the Shallows', 'Conrad, Joseph'),\n",
       " ('Chance: A Tale in Two Parts', 'Conrad, Joseph'),\n",
       " (\"God's Good Man: A Simple Love Story\", 'Corelli, Marie'),\n",
       " ('Innocent : her fancy and his fact', 'Corelli, Marie'),\n",
       " ('The Lilac Sunbonnet: A Love Story', 'Crockett, S. R. (Samuel Rutherford)'),\n",
       " ('The Red Axe', 'Crockett, S. R. (Samuel Rutherford)'),\n",
       " ('Patsy', 'Crockett, S. R. (Samuel Rutherford)'),\n",
       " (\"Peter's Mother\", 'De La Pasture, Henry, Mrs.'),\n",
       " ('The Bars of Iron', 'Dell, Ethel M. (Ethel May)'),\n",
       " ('The Knave of Diamonds', 'Dell, Ethel M. (Ethel May)'),\n",
       " ('Greatheart', 'Dell, Ethel M. (Ethel May)'),\n",
       " ('The Lamp in the Desert', 'Dell, Ethel M. (Ethel May)'),\n",
       " ('Charles Rex', 'Dell, Ethel M. (Ethel May)'),\n",
       " ('The Hundredth Chance', 'Dell, Ethel M. (Ethel May)'),\n",
       " (\"Peregrine's Progress\", 'Farnol, Jeffery'),\n",
       " ('The Geste of Duke Jocelyn', 'Farnol, Jeffery'),\n",
       " ('The Money Moon: A Romance', 'Farnol, Jeffery'),\n",
       " ('The Farringdons', 'Fowler, Ellen Thorneycroft'),\n",
       " (\"Dead Man's Love\", 'Gallon, Tom'),\n",
       " ('The Cruise of the Make-Believes', 'Gallon, Tom'),\n",
       " (\"The Woman's Way\", 'Garvice, Charles'),\n",
       " ('The Point of View', 'Glyn, Elinor'),\n",
       " ('Three Weeks', 'Glyn, Elinor'),\n",
       " ('His Hour', 'Glyn, Elinor'),\n",
       " ('Beyond The Rocks: A Love Story', 'Glyn, Elinor'),\n",
       " ('Red Hair', 'Glyn, Elinor'),\n",
       " ('Man and Maid', 'Glyn, Elinor'),\n",
       " ('The Career of Katherine Bush', 'Glyn, Elinor'),\n",
       " ('She', 'Haggard, H. Rider (Henry Rider)'),\n",
       " ('Love Eternal', 'Haggard, H. Rider (Henry Rider)'),\n",
       " ('Katharine Frensham: A Novel', 'Harraden, Beatrice'),\n",
       " ('Pip : A Romance of Youth', 'Hay, Ian'),\n",
       " ('A Safety Match', 'Hay, Ian'),\n",
       " ('Happy-go-lucky', 'Hay, Ian'),\n",
       " (\"A Man's Man\", 'Hay, Ian'),\n",
       " ('The Forest Lovers', 'Hewlett, Maurice'),\n",
       " ('The Black Moth: A Romance of the XVIIIth Century', 'Heyer, Georgette'),\n",
       " ('The Garden of Allah', 'Hichens, Robert'),\n",
       " ('December Love', 'Hichens, Robert'),\n",
       " ('The Passion for Life', 'Hocking, Joseph'),\n",
       " (\"The Squire's Daughter\", 'Hocking, Silas K. (Silas Kitto)'),\n",
       " ('Comedies of Courtship', 'Hope, Anthony'),\n",
       " (\"Helena's Path\", 'Hope, Anthony'),\n",
       " ('The Chronicles of Count Antonio', 'Hope, Anthony'),\n",
       " ('Phroso: A Romance', 'Hope, Anthony'),\n",
       " ('At Large', 'Hornung, E. W. (Ernest William)'),\n",
       " ('The Boss of Taroomba', 'Hornung, E. W. (Ernest William)'),\n",
       " ('Young Blood', 'Hornung, E. W. (Ernest William)'),\n",
       " ('Green Mansions: A Romance of the Tropical Forest',\n",
       "  'Hudson, W. H. (William Henry)'),\n",
       " ('Salthaven', 'Jacobs, W. W. (William Wymark)'),\n",
       " ('Patricia Brent, Spinster', 'Jenkins, Herbert George'),\n",
       " ('Who?', 'Kent, Elizabeth'),\n",
       " ('Women in Love', 'Lawrence, D. H. (David Herbert)'),\n",
       " ('The Trespasser', 'Lawrence, D. H. (David Herbert)'),\n",
       " ('The Lost Girl', 'Lawrence, D. H. (David Herbert)'),\n",
       " ('The Quest of the Golden Girl: A Romance', 'Le Gallienne, Richard'),\n",
       " ('Old Love Stories Retold', 'Le Gallienne, Richard'),\n",
       " ('The Sign of the Stranger', 'Le Queux, William'),\n",
       " ('The Bond of Black', 'Le Queux, William'),\n",
       " ('Behind the Throne', 'Le Queux, William'),\n",
       " ('Studies in love and in terror', 'Lowndes, Marie Belloc'),\n",
       " ('Poor Relations', 'MacKenzie, Compton'),\n",
       " (\"A Lame Dog's Diary\", 'Macnaughtan, S. (Sarah)'),\n",
       " ('The Gateless Barrier', 'Malet, Lucas'),\n",
       " ('A Countess from Canada: A Story of Life in the Backwoods',\n",
       "  'Marchant, Bessie'),\n",
       " ('By Wit of Woman', 'Marchmont, Arthur W.'),\n",
       " ('An Imperial Marriage', 'Marchmont, Arthur W.'),\n",
       " ('The Four Feathers', 'Mason, A. E. W. (Alfred Edward Woodley)'),\n",
       " ('Lawrence Clavering', 'Mason, A. E. W. (Alfred Edward Woodley)'),\n",
       " ('Marjorie', 'McCarthy, Justin H. (Justin Huntly)'),\n",
       " ('The Lady of Loyalty House: A Novel', 'McCarthy, Justin H. (Justin Huntly)'),\n",
       " ('The Time of Roses', 'Meade, L. T.'),\n",
       " ('Wild Heather', 'Meade, L. T.'),\n",
       " ('The Isle of Unrest', 'Merriman, Henry Seton'),\n",
       " ('The Black Colonel', 'Milne, James'),\n",
       " ('The Red Derelict', 'Mitford, Bertram'),\n",
       " ('The Fire Trumpet: A Romance of the Cape Frontier', 'Mitford, Bertram'),\n",
       " ('Christina', 'Moberly, L. G. (Lucy Gertrude)'),\n",
       " ('King--of the Khyber Rifles: A Romance of Adventure', 'Mundy, Talbot'),\n",
       " ('The Incredible Honeymoon', 'Nesbit, E. (Edith)'),\n",
       " ('Petticoat Rule', 'Orczy, Emmuska Orczy, Baroness'),\n",
       " ('Maurice Guest', 'Richardson, Henry Handel'),\n",
       " (\"Miss Million's Maid: A Romance of Love and Fortune\", 'Ruck, Berta'),\n",
       " ('The Boy with Wings', 'Ruck, Berta'),\n",
       " ('The Disturbing Charm', 'Ruck, Berta'),\n",
       " ('My Danish Sweetheart: A Novel. Volume 1 of 3', 'Russell, William Clark'),\n",
       " ('My Danish Sweetheart: A Novel. Volume 2 of 3', 'Russell, William Clark'),\n",
       " ('My Danish Sweetheart: A Novel. Volume 3 of 3', 'Russell, William Clark'),\n",
       " ('Mistress Wilding', 'Sabatini, Rafael'),\n",
       " ('Scaramouche: A Romance of the French Revolution', 'Sabatini, Rafael'),\n",
       " ('The Suitors of Yvonne: being a portion of the memoirs of the Sieur Gaston de Luynes',\n",
       "  'Sabatini, Rafael'),\n",
       " ('The Blue Lagoon: A Romance', 'Stacpoole, H. De Vere (Henry De Vere)'),\n",
       " ('The Ghost Girl', 'Stacpoole, H. De Vere (Henry De Vere)'),\n",
       " (\"Harum Scarum's Fortune\", 'Stuart, Esmè'),\n",
       " ('Coquette', 'Swinnerton, Frank'),\n",
       " ('Max', 'Thurston, Katherine Cecil'),\n",
       " ('The Wings of the Morning', 'Tracy, Louis'),\n",
       " ('A Son of the Immortals', 'Tracy, Louis'),\n",
       " (\"Cynthia's Chauffeur\", 'Tracy, Louis'),\n",
       " ('His Unknown Wife', 'Tracy, Louis'),\n",
       " ('The Revellers', 'Tracy, Louis'),\n",
       " ('The Independence of Claire', 'Vaizey, George de Horne, Mrs.'),\n",
       " ('Big Game: A Story for Girls', 'Vaizey, George de Horne, Mrs.'),\n",
       " ('A College Girl', 'Vaizey, George de Horne, Mrs.'),\n",
       " ('The Fortunes of the Farrells', 'Vaizey, George de Horne, Mrs.'),\n",
       " ('The Heart of Una Sackville', 'Vaizey, George de Horne, Mrs.'),\n",
       " ('The Enchanted April', 'Von Arnim, Elizabeth'),\n",
       " ('Fräulein Schmidt and Mr. Anstruther', 'Von Arnim, Elizabeth'),\n",
       " ('Helena', 'Ward, Humphry, Mrs.'),\n",
       " ('The Testing of Diana Mallory', 'Ward, Humphry, Mrs.'),\n",
       " ('Lady Connie', 'Ward, Humphry, Mrs.'),\n",
       " ('Marcella', 'Ward, Humphry, Mrs.'),\n",
       " ('Hurricane Island', 'Watson, H. B. Marriott (Henry Brereton Marriott)'),\n",
       " ('Burning Sands', 'Weigall, Arthur E. P. Brome (Arthur Edward Pearse Brome)'),\n",
       " ('Ann Veronica: A Modern Love Story', 'Wells, H. G. (Herbert George)'),\n",
       " ('Love and Mr. Lewisham', 'Wells, H. G. (Herbert George)'),\n",
       " ('Marriage', 'Wells, H. G. (Herbert George)'),\n",
       " (\"Ovington's Bank\", 'Weyman, Stanley John'),\n",
       " ('Sophia: A Romance', 'Weyman, Stanley John'),\n",
       " ('The Five Knots', 'White, Fred M. (Fred Merrick)'),\n",
       " ('The Cardinal Moth', 'White, Fred M. (Fred Merrick)'),\n",
       " ('Lord John in New York', 'Williamson, A. M. (Alice Muriel)'),\n",
       " ('The Intrusion of Jimmy', 'Wodehouse, P. G. (Pelham Grenville)'),\n",
       " ('Uneasy Money', 'Wodehouse, P. G. (Pelham Grenville)'),\n",
       " ('The Little Warrior', 'Wodehouse, P. G. (Pelham Grenville)'),\n",
       " ('Jill the Reckless', 'Wodehouse, P. G. (Pelham Grenville)'),\n",
       " ('The Voyage Out', 'Woolf, Virginia'),\n",
       " ('Night and Day', 'Woolf, Virginia'),\n",
       " ('Jonah and Co.', 'Yates, Dornford'),\n",
       " ('Coelebs: The Love Story of a Bachelor',\n",
       "  'Young, F. E. Mills (Florence Ethel Mills)'),\n",
       " ('The Triumph of Jill', 'Young, F. E. Mills (Florence Ethel Mills)')]"
      ]
     },
     "execution_count": 23,
     "metadata": {},
     "output_type": "execute_result"
    }
   ],
   "source": [
    "c.fetchall()"
   ]
  },
  {
   "cell_type": "code",
   "execution_count": null,
   "metadata": {},
   "outputs": [],
   "source": []
  }
 ],
 "metadata": {
  "kernelspec": {
   "display_name": "Python 3",
   "language": "python",
   "name": "python3"
  },
  "language_info": {
   "codemirror_mode": {
    "name": "ipython",
    "version": 3
   },
   "file_extension": ".py",
   "mimetype": "text/x-python",
   "name": "python",
   "nbconvert_exporter": "python",
   "pygments_lexer": "ipython3",
   "version": "3.7.7"
  }
 },
 "nbformat": 4,
 "nbformat_minor": 4
}
