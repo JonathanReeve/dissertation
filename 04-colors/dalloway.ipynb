{
 "cells": [
  {
   "cell_type": "code",
   "execution_count": 1,
   "metadata": {},
   "outputs": [],
   "source": [
    "#import spacy\n",
    "import pandas as pd\n",
    "#from nltk.corpus import wordnet as wn\n",
    "#import nltk\n",
    "#import matplotlib.pyplot as plt\n",
    "import re\n",
    "#nlp = spacy.load('en_core_web_lg')\n",
    "#dalloway = open('dalloway.txt', errors=\"ignore\").read()\n",
    "import altair as alt\n",
    "%matplotlib inline"
   ]
  },
  {
   "cell_type": "code",
   "execution_count": 2,
   "metadata": {},
   "outputs": [],
   "source": [
    "dalloway = open('data/dalloway.txt', errors='ignore').read()\n",
    "xkcdMapRaw = open('data/xkcd/rgb.txt').readlines()[1:]\n",
    "xkcdMap = {}\n",
    "for line in xkcdMapRaw: \n",
    "    splitLine = line.split('\\t') \n",
    "    if len(splitLine) != 3:\n",
    "        print('error on: ', splitLine) \n",
    "    else:\n",
    "        name, val, _ = line.split('\\t')\n",
    "        xkcdMap[name] = val\n"
   ]
  },
  {
   "cell_type": "code",
   "execution_count": 148,
   "metadata": {},
   "outputs": [],
   "source": [
    "def annotateColors(text):\n",
    "    matchLocs = {}\n",
    "    for item in xkcdMap:\n",
    "        pattern = '[\\b\\s]+' + item.replace(' ', '[-\\s+]') + '[\\b\\s]+'\n",
    "        matches = re.finditer(pattern, text, flags=re.IGNORECASE)\n",
    "        matchStarts =  [match.start() for match in matches if matches is not None]\n",
    "        if matchStarts != []: \n",
    "            matchLocs[item] = len(matchStarts)\n",
    "        color = xkcdMap[item]\n",
    "        replacement = ' <span class=\"color\" style=\"color: {}\">{}</span> '.format(color, item)\n",
    "        text = re.sub(pattern, replacement, text, flags=re.IGNORECASE)\n",
    "    return text, matchLocs\n",
    "\n",
    "def chunk(text, n=10): \n",
    "    \"\"\" Split a text into N equal parts. \"\"\"\n",
    "    chunkSize = round(len(text)/n)\n",
    "    return [text[i:i + chunkSize] for i in range(0, len(text), chunkSize)][:-1]\n",
    "\n",
    "def count(text, nChunks=20):\n",
    "    chunks = chunk(text, nChunks)\n",
    "    df = pd.DataFrame([annotateColors(chunk)[1] for chunk in chunks])\n",
    "    return df.fillna(0)\n",
    "\n",
    "def melt(df): \n",
    "    df['chunk']=df.index\n",
    "    return df.melt(id_vars='chunk', var_name='color', value_name='count')\n",
    "\n",
    "def plotM(df, nColors=10):\n",
    "    \"\"\" Plots with matplotlib, via pandas. \"\"\"\n",
    "    topColors = list(df.sum().sort_values(ascending=False)[:nColors].index)\n",
    "    df[topColors].plot(kind='area', stacked=True, color=[\"xkcd:\"+color for color in topColors], figsize=(12,8))\n",
    "    \n",
    "def plotA(df): \n",
    "    selection = alt.selection_interval(bind='scales')\n",
    "    return alt.Chart(df, width=800, height=600).mark_area().encode(\n",
    "                     x='chunk:O', y='count:Q', color=alt.Color('hex', scale=None), tooltip='color').add_selection(selection)"
   ]
  },
  {
   "cell_type": "code",
   "execution_count": 98,
   "metadata": {},
   "outputs": [],
   "source": [
    "df = count(dalloway, nChunks=40)"
   ]
  },
  {
   "cell_type": "code",
   "execution_count": 114,
   "metadata": {},
   "outputs": [],
   "source": [
    "df2 = melt(df)"
   ]
  },
  {
   "cell_type": "code",
   "execution_count": 121,
   "metadata": {},
   "outputs": [],
   "source": [
    "df2sorted = df2.sort_values('hex')"
   ]
  },
  {
   "cell_type": "code",
   "execution_count": 116,
   "metadata": {},
   "outputs": [],
   "source": [
    "df2['hex'] = df2['color'].apply(lambda x: xkcdMap[x])"
   ]
  },
  {
   "cell_type": "code",
   "execution_count": 149,
   "metadata": {},
   "outputs": [
    {
     "data": {
      "application/vnd.vegalite.v3+json": {
       "$schema": "https://vega.github.io/schema/vega-lite/v3.4.0.json",
       "config": {
        "mark": {
         "tooltip": null
        },
        "view": {
         "height": 300,
         "width": 400
        }
       },
       "data": {
        "name": "data-b1cd6f055d353be973b2f36fe3480342"
       },
       "datasets": {
        "data-b1cd6f055d353be973b2f36fe3480342": [
         {
          "chunk": 0,
          "color": "royal",
          "count": 1,
          "hex": "#0c1793"
         },
         {
          "chunk": 1,
          "color": "royal",
          "count": 0,
          "hex": "#0c1793"
         },
         {
          "chunk": 2,
          "color": "royal",
          "count": 0,
          "hex": "#0c1793"
         },
         {
          "chunk": 3,
          "color": "royal",
          "count": 0,
          "hex": "#0c1793"
         },
         {
          "chunk": 4,
          "color": "royal",
          "count": 0,
          "hex": "#0c1793"
         },
         {
          "chunk": 5,
          "color": "royal",
          "count": 0,
          "hex": "#0c1793"
         },
         {
          "chunk": 6,
          "color": "royal",
          "count": 0,
          "hex": "#0c1793"
         },
         {
          "chunk": 7,
          "color": "royal",
          "count": 0,
          "hex": "#0c1793"
         },
         {
          "chunk": 8,
          "color": "royal",
          "count": 0,
          "hex": "#0c1793"
         },
         {
          "chunk": 9,
          "color": "royal",
          "count": 0,
          "hex": "#0c1793"
         },
         {
          "chunk": 10,
          "color": "royal",
          "count": 0,
          "hex": "#0c1793"
         },
         {
          "chunk": 11,
          "color": "royal",
          "count": 0,
          "hex": "#0c1793"
         },
         {
          "chunk": 12,
          "color": "royal",
          "count": 0,
          "hex": "#0c1793"
         },
         {
          "chunk": 13,
          "color": "royal",
          "count": 0,
          "hex": "#0c1793"
         },
         {
          "chunk": 14,
          "color": "royal",
          "count": 1,
          "hex": "#0c1793"
         },
         {
          "chunk": 15,
          "color": "royal",
          "count": 0,
          "hex": "#0c1793"
         },
         {
          "chunk": 16,
          "color": "royal",
          "count": 0,
          "hex": "#0c1793"
         },
         {
          "chunk": 17,
          "color": "royal",
          "count": 0,
          "hex": "#0c1793"
         },
         {
          "chunk": 18,
          "color": "royal",
          "count": 0,
          "hex": "#0c1793"
         },
         {
          "chunk": 19,
          "color": "royal",
          "count": 0,
          "hex": "#0c1793"
         },
         {
          "chunk": 20,
          "color": "royal",
          "count": 0,
          "hex": "#0c1793"
         },
         {
          "chunk": 21,
          "color": "royal",
          "count": 0,
          "hex": "#0c1793"
         },
         {
          "chunk": 22,
          "color": "royal",
          "count": 0,
          "hex": "#0c1793"
         },
         {
          "chunk": 23,
          "color": "royal",
          "count": 0,
          "hex": "#0c1793"
         },
         {
          "chunk": 24,
          "color": "royal",
          "count": 0,
          "hex": "#0c1793"
         },
         {
          "chunk": 25,
          "color": "royal",
          "count": 0,
          "hex": "#0c1793"
         },
         {
          "chunk": 26,
          "color": "royal",
          "count": 0,
          "hex": "#0c1793"
         },
         {
          "chunk": 27,
          "color": "royal",
          "count": 0,
          "hex": "#0c1793"
         },
         {
          "chunk": 28,
          "color": "royal",
          "count": 0,
          "hex": "#0c1793"
         },
         {
          "chunk": 29,
          "color": "royal",
          "count": 0,
          "hex": "#0c1793"
         },
         {
          "chunk": 30,
          "color": "royal",
          "count": 0,
          "hex": "#0c1793"
         },
         {
          "chunk": 31,
          "color": "royal",
          "count": 0,
          "hex": "#0c1793"
         },
         {
          "chunk": 32,
          "color": "royal",
          "count": 0,
          "hex": "#0c1793"
         },
         {
          "chunk": 33,
          "color": "royal",
          "count": 0,
          "hex": "#0c1793"
         },
         {
          "chunk": 34,
          "color": "royal",
          "count": 0,
          "hex": "#0c1793"
         },
         {
          "chunk": 35,
          "color": "royal",
          "count": 0,
          "hex": "#0c1793"
         },
         {
          "chunk": 36,
          "color": "royal",
          "count": 0,
          "hex": "#0c1793"
         },
         {
          "chunk": 37,
          "color": "royal",
          "count": 0,
          "hex": "#0c1793"
         },
         {
          "chunk": 38,
          "color": "royal",
          "count": 0,
          "hex": "#0c1793"
         },
         {
          "chunk": 39,
          "color": "royal",
          "count": 0,
          "hex": "#0c1793"
         },
         {
          "chunk": 0,
          "color": "leaf",
          "count": 1,
          "hex": "#71aa34"
         },
         {
          "chunk": 1,
          "color": "leaf",
          "count": 0,
          "hex": "#71aa34"
         },
         {
          "chunk": 2,
          "color": "leaf",
          "count": 0,
          "hex": "#71aa34"
         },
         {
          "chunk": 3,
          "color": "leaf",
          "count": 0,
          "hex": "#71aa34"
         },
         {
          "chunk": 4,
          "color": "leaf",
          "count": 0,
          "hex": "#71aa34"
         },
         {
          "chunk": 5,
          "color": "leaf",
          "count": 0,
          "hex": "#71aa34"
         },
         {
          "chunk": 6,
          "color": "leaf",
          "count": 0,
          "hex": "#71aa34"
         },
         {
          "chunk": 7,
          "color": "leaf",
          "count": 0,
          "hex": "#71aa34"
         },
         {
          "chunk": 8,
          "color": "leaf",
          "count": 0,
          "hex": "#71aa34"
         },
         {
          "chunk": 9,
          "color": "leaf",
          "count": 0,
          "hex": "#71aa34"
         },
         {
          "chunk": 10,
          "color": "leaf",
          "count": 0,
          "hex": "#71aa34"
         },
         {
          "chunk": 11,
          "color": "leaf",
          "count": 0,
          "hex": "#71aa34"
         },
         {
          "chunk": 12,
          "color": "leaf",
          "count": 0,
          "hex": "#71aa34"
         },
         {
          "chunk": 13,
          "color": "leaf",
          "count": 2,
          "hex": "#71aa34"
         },
         {
          "chunk": 14,
          "color": "leaf",
          "count": 0,
          "hex": "#71aa34"
         },
         {
          "chunk": 15,
          "color": "leaf",
          "count": 0,
          "hex": "#71aa34"
         },
         {
          "chunk": 16,
          "color": "leaf",
          "count": 0,
          "hex": "#71aa34"
         },
         {
          "chunk": 17,
          "color": "leaf",
          "count": 0,
          "hex": "#71aa34"
         },
         {
          "chunk": 18,
          "color": "leaf",
          "count": 0,
          "hex": "#71aa34"
         },
         {
          "chunk": 19,
          "color": "leaf",
          "count": 0,
          "hex": "#71aa34"
         },
         {
          "chunk": 20,
          "color": "leaf",
          "count": 0,
          "hex": "#71aa34"
         },
         {
          "chunk": 21,
          "color": "leaf",
          "count": 0,
          "hex": "#71aa34"
         },
         {
          "chunk": 22,
          "color": "leaf",
          "count": 0,
          "hex": "#71aa34"
         },
         {
          "chunk": 23,
          "color": "leaf",
          "count": 0,
          "hex": "#71aa34"
         },
         {
          "chunk": 24,
          "color": "leaf",
          "count": 0,
          "hex": "#71aa34"
         },
         {
          "chunk": 25,
          "color": "leaf",
          "count": 0,
          "hex": "#71aa34"
         },
         {
          "chunk": 26,
          "color": "leaf",
          "count": 0,
          "hex": "#71aa34"
         },
         {
          "chunk": 27,
          "color": "leaf",
          "count": 0,
          "hex": "#71aa34"
         },
         {
          "chunk": 28,
          "color": "leaf",
          "count": 0,
          "hex": "#71aa34"
         },
         {
          "chunk": 29,
          "color": "leaf",
          "count": 0,
          "hex": "#71aa34"
         },
         {
          "chunk": 30,
          "color": "leaf",
          "count": 0,
          "hex": "#71aa34"
         },
         {
          "chunk": 31,
          "color": "leaf",
          "count": 0,
          "hex": "#71aa34"
         },
         {
          "chunk": 32,
          "color": "leaf",
          "count": 0,
          "hex": "#71aa34"
         },
         {
          "chunk": 33,
          "color": "leaf",
          "count": 0,
          "hex": "#71aa34"
         },
         {
          "chunk": 34,
          "color": "leaf",
          "count": 0,
          "hex": "#71aa34"
         },
         {
          "chunk": 35,
          "color": "leaf",
          "count": 0,
          "hex": "#71aa34"
         },
         {
          "chunk": 36,
          "color": "leaf",
          "count": 0,
          "hex": "#71aa34"
         },
         {
          "chunk": 37,
          "color": "leaf",
          "count": 0,
          "hex": "#71aa34"
         },
         {
          "chunk": 38,
          "color": "leaf",
          "count": 0,
          "hex": "#71aa34"
         },
         {
          "chunk": 39,
          "color": "leaf",
          "count": 0,
          "hex": "#71aa34"
         },
         {
          "chunk": 0,
          "color": "white",
          "count": 1,
          "hex": "#ffffff"
         },
         {
          "chunk": 1,
          "color": "white",
          "count": 1,
          "hex": "#ffffff"
         },
         {
          "chunk": 2,
          "color": "white",
          "count": 0,
          "hex": "#ffffff"
         },
         {
          "chunk": 3,
          "color": "white",
          "count": 8,
          "hex": "#ffffff"
         },
         {
          "chunk": 4,
          "color": "white",
          "count": 4,
          "hex": "#ffffff"
         },
         {
          "chunk": 5,
          "color": "white",
          "count": 2,
          "hex": "#ffffff"
         },
         {
          "chunk": 6,
          "color": "white",
          "count": 1,
          "hex": "#ffffff"
         },
         {
          "chunk": 7,
          "color": "white",
          "count": 0,
          "hex": "#ffffff"
         },
         {
          "chunk": 8,
          "color": "white",
          "count": 0,
          "hex": "#ffffff"
         },
         {
          "chunk": 9,
          "color": "white",
          "count": 0,
          "hex": "#ffffff"
         },
         {
          "chunk": 10,
          "color": "white",
          "count": 4,
          "hex": "#ffffff"
         },
         {
          "chunk": 11,
          "color": "white",
          "count": 1,
          "hex": "#ffffff"
         },
         {
          "chunk": 12,
          "color": "white",
          "count": 1,
          "hex": "#ffffff"
         },
         {
          "chunk": 13,
          "color": "white",
          "count": 0,
          "hex": "#ffffff"
         },
         {
          "chunk": 14,
          "color": "white",
          "count": 0,
          "hex": "#ffffff"
         },
         {
          "chunk": 15,
          "color": "white",
          "count": 0,
          "hex": "#ffffff"
         },
         {
          "chunk": 16,
          "color": "white",
          "count": 0,
          "hex": "#ffffff"
         },
         {
          "chunk": 17,
          "color": "white",
          "count": 0,
          "hex": "#ffffff"
         },
         {
          "chunk": 18,
          "color": "white",
          "count": 1,
          "hex": "#ffffff"
         },
         {
          "chunk": 19,
          "color": "white",
          "count": 0,
          "hex": "#ffffff"
         },
         {
          "chunk": 20,
          "color": "white",
          "count": 1,
          "hex": "#ffffff"
         },
         {
          "chunk": 21,
          "color": "white",
          "count": 0,
          "hex": "#ffffff"
         },
         {
          "chunk": 22,
          "color": "white",
          "count": 0,
          "hex": "#ffffff"
         },
         {
          "chunk": 23,
          "color": "white",
          "count": 2,
          "hex": "#ffffff"
         },
         {
          "chunk": 24,
          "color": "white",
          "count": 1,
          "hex": "#ffffff"
         },
         {
          "chunk": 25,
          "color": "white",
          "count": 1,
          "hex": "#ffffff"
         },
         {
          "chunk": 26,
          "color": "white",
          "count": 1,
          "hex": "#ffffff"
         },
         {
          "chunk": 27,
          "color": "white",
          "count": 2,
          "hex": "#ffffff"
         },
         {
          "chunk": 28,
          "color": "white",
          "count": 1,
          "hex": "#ffffff"
         },
         {
          "chunk": 29,
          "color": "white",
          "count": 0,
          "hex": "#ffffff"
         },
         {
          "chunk": 30,
          "color": "white",
          "count": 0,
          "hex": "#ffffff"
         },
         {
          "chunk": 31,
          "color": "white",
          "count": 1,
          "hex": "#ffffff"
         },
         {
          "chunk": 32,
          "color": "white",
          "count": 0,
          "hex": "#ffffff"
         },
         {
          "chunk": 33,
          "color": "white",
          "count": 1,
          "hex": "#ffffff"
         },
         {
          "chunk": 34,
          "color": "white",
          "count": 1,
          "hex": "#ffffff"
         },
         {
          "chunk": 35,
          "color": "white",
          "count": 0,
          "hex": "#ffffff"
         },
         {
          "chunk": 36,
          "color": "white",
          "count": 1,
          "hex": "#ffffff"
         },
         {
          "chunk": 37,
          "color": "white",
          "count": 0,
          "hex": "#ffffff"
         },
         {
          "chunk": 38,
          "color": "white",
          "count": 2,
          "hex": "#ffffff"
         },
         {
          "chunk": 39,
          "color": "white",
          "count": 0,
          "hex": "#ffffff"
         },
         {
          "chunk": 0,
          "color": "grey blue",
          "count": 1,
          "hex": "#6b8ba4"
         },
         {
          "chunk": 1,
          "color": "grey blue",
          "count": 0,
          "hex": "#6b8ba4"
         },
         {
          "chunk": 2,
          "color": "grey blue",
          "count": 0,
          "hex": "#6b8ba4"
         },
         {
          "chunk": 3,
          "color": "grey blue",
          "count": 0,
          "hex": "#6b8ba4"
         },
         {
          "chunk": 4,
          "color": "grey blue",
          "count": 0,
          "hex": "#6b8ba4"
         },
         {
          "chunk": 5,
          "color": "grey blue",
          "count": 0,
          "hex": "#6b8ba4"
         },
         {
          "chunk": 6,
          "color": "grey blue",
          "count": 0,
          "hex": "#6b8ba4"
         },
         {
          "chunk": 7,
          "color": "grey blue",
          "count": 0,
          "hex": "#6b8ba4"
         },
         {
          "chunk": 8,
          "color": "grey blue",
          "count": 0,
          "hex": "#6b8ba4"
         },
         {
          "chunk": 9,
          "color": "grey blue",
          "count": 0,
          "hex": "#6b8ba4"
         },
         {
          "chunk": 10,
          "color": "grey blue",
          "count": 0,
          "hex": "#6b8ba4"
         },
         {
          "chunk": 11,
          "color": "grey blue",
          "count": 0,
          "hex": "#6b8ba4"
         },
         {
          "chunk": 12,
          "color": "grey blue",
          "count": 0,
          "hex": "#6b8ba4"
         },
         {
          "chunk": 13,
          "color": "grey blue",
          "count": 0,
          "hex": "#6b8ba4"
         },
         {
          "chunk": 14,
          "color": "grey blue",
          "count": 0,
          "hex": "#6b8ba4"
         },
         {
          "chunk": 15,
          "color": "grey blue",
          "count": 0,
          "hex": "#6b8ba4"
         },
         {
          "chunk": 16,
          "color": "grey blue",
          "count": 0,
          "hex": "#6b8ba4"
         },
         {
          "chunk": 17,
          "color": "grey blue",
          "count": 0,
          "hex": "#6b8ba4"
         },
         {
          "chunk": 18,
          "color": "grey blue",
          "count": 0,
          "hex": "#6b8ba4"
         },
         {
          "chunk": 19,
          "color": "grey blue",
          "count": 0,
          "hex": "#6b8ba4"
         },
         {
          "chunk": 20,
          "color": "grey blue",
          "count": 0,
          "hex": "#6b8ba4"
         },
         {
          "chunk": 21,
          "color": "grey blue",
          "count": 0,
          "hex": "#6b8ba4"
         },
         {
          "chunk": 22,
          "color": "grey blue",
          "count": 0,
          "hex": "#6b8ba4"
         },
         {
          "chunk": 23,
          "color": "grey blue",
          "count": 0,
          "hex": "#6b8ba4"
         },
         {
          "chunk": 24,
          "color": "grey blue",
          "count": 0,
          "hex": "#6b8ba4"
         },
         {
          "chunk": 25,
          "color": "grey blue",
          "count": 0,
          "hex": "#6b8ba4"
         },
         {
          "chunk": 26,
          "color": "grey blue",
          "count": 0,
          "hex": "#6b8ba4"
         },
         {
          "chunk": 27,
          "color": "grey blue",
          "count": 0,
          "hex": "#6b8ba4"
         },
         {
          "chunk": 28,
          "color": "grey blue",
          "count": 0,
          "hex": "#6b8ba4"
         },
         {
          "chunk": 29,
          "color": "grey blue",
          "count": 0,
          "hex": "#6b8ba4"
         },
         {
          "chunk": 30,
          "color": "grey blue",
          "count": 0,
          "hex": "#6b8ba4"
         },
         {
          "chunk": 31,
          "color": "grey blue",
          "count": 0,
          "hex": "#6b8ba4"
         },
         {
          "chunk": 32,
          "color": "grey blue",
          "count": 0,
          "hex": "#6b8ba4"
         },
         {
          "chunk": 33,
          "color": "grey blue",
          "count": 0,
          "hex": "#6b8ba4"
         },
         {
          "chunk": 34,
          "color": "grey blue",
          "count": 0,
          "hex": "#6b8ba4"
         },
         {
          "chunk": 35,
          "color": "grey blue",
          "count": 0,
          "hex": "#6b8ba4"
         },
         {
          "chunk": 36,
          "color": "grey blue",
          "count": 0,
          "hex": "#6b8ba4"
         },
         {
          "chunk": 37,
          "color": "grey blue",
          "count": 0,
          "hex": "#6b8ba4"
         },
         {
          "chunk": 38,
          "color": "grey blue",
          "count": 0,
          "hex": "#6b8ba4"
         },
         {
          "chunk": 39,
          "color": "grey blue",
          "count": 0,
          "hex": "#6b8ba4"
         },
         {
          "chunk": 0,
          "color": "green",
          "count": 1,
          "hex": "#15b01a"
         },
         {
          "chunk": 1,
          "color": "green",
          "count": 1,
          "hex": "#15b01a"
         },
         {
          "chunk": 2,
          "color": "green",
          "count": 0,
          "hex": "#15b01a"
         },
         {
          "chunk": 3,
          "color": "green",
          "count": 1,
          "hex": "#15b01a"
         },
         {
          "chunk": 4,
          "color": "green",
          "count": 2,
          "hex": "#15b01a"
         },
         {
          "chunk": 5,
          "color": "green",
          "count": 2,
          "hex": "#15b01a"
         },
         {
          "chunk": 6,
          "color": "green",
          "count": 0,
          "hex": "#15b01a"
         },
         {
          "chunk": 7,
          "color": "green",
          "count": 4,
          "hex": "#15b01a"
         },
         {
          "chunk": 8,
          "color": "green",
          "count": 1,
          "hex": "#15b01a"
         },
         {
          "chunk": 9,
          "color": "green",
          "count": 0,
          "hex": "#15b01a"
         },
         {
          "chunk": 10,
          "color": "green",
          "count": 0,
          "hex": "#15b01a"
         },
         {
          "chunk": 11,
          "color": "green",
          "count": 1,
          "hex": "#15b01a"
         },
         {
          "chunk": 12,
          "color": "green",
          "count": 0,
          "hex": "#15b01a"
         },
         {
          "chunk": 13,
          "color": "green",
          "count": 1,
          "hex": "#15b01a"
         },
         {
          "chunk": 14,
          "color": "green",
          "count": 0,
          "hex": "#15b01a"
         },
         {
          "chunk": 15,
          "color": "green",
          "count": 0,
          "hex": "#15b01a"
         },
         {
          "chunk": 16,
          "color": "green",
          "count": 1,
          "hex": "#15b01a"
         },
         {
          "chunk": 17,
          "color": "green",
          "count": 2,
          "hex": "#15b01a"
         },
         {
          "chunk": 18,
          "color": "green",
          "count": 0,
          "hex": "#15b01a"
         },
         {
          "chunk": 19,
          "color": "green",
          "count": 1,
          "hex": "#15b01a"
         },
         {
          "chunk": 20,
          "color": "green",
          "count": 0,
          "hex": "#15b01a"
         },
         {
          "chunk": 21,
          "color": "green",
          "count": 0,
          "hex": "#15b01a"
         },
         {
          "chunk": 22,
          "color": "green",
          "count": 1,
          "hex": "#15b01a"
         },
         {
          "chunk": 23,
          "color": "green",
          "count": 1,
          "hex": "#15b01a"
         },
         {
          "chunk": 24,
          "color": "green",
          "count": 0,
          "hex": "#15b01a"
         },
         {
          "chunk": 25,
          "color": "green",
          "count": 0,
          "hex": "#15b01a"
         },
         {
          "chunk": 26,
          "color": "green",
          "count": 0,
          "hex": "#15b01a"
         },
         {
          "chunk": 27,
          "color": "green",
          "count": 0,
          "hex": "#15b01a"
         },
         {
          "chunk": 28,
          "color": "green",
          "count": 1,
          "hex": "#15b01a"
         },
         {
          "chunk": 29,
          "color": "green",
          "count": 0,
          "hex": "#15b01a"
         },
         {
          "chunk": 30,
          "color": "green",
          "count": 0,
          "hex": "#15b01a"
         },
         {
          "chunk": 31,
          "color": "green",
          "count": 0,
          "hex": "#15b01a"
         },
         {
          "chunk": 32,
          "color": "green",
          "count": 0,
          "hex": "#15b01a"
         },
         {
          "chunk": 33,
          "color": "green",
          "count": 0,
          "hex": "#15b01a"
         },
         {
          "chunk": 34,
          "color": "green",
          "count": 0,
          "hex": "#15b01a"
         },
         {
          "chunk": 35,
          "color": "green",
          "count": 0,
          "hex": "#15b01a"
         },
         {
          "chunk": 36,
          "color": "green",
          "count": 1,
          "hex": "#15b01a"
         },
         {
          "chunk": 37,
          "color": "green",
          "count": 1,
          "hex": "#15b01a"
         },
         {
          "chunk": 38,
          "color": "green",
          "count": 0,
          "hex": "#15b01a"
         },
         {
          "chunk": 39,
          "color": "green",
          "count": 0,
          "hex": "#15b01a"
         },
         {
          "chunk": 0,
          "color": "straw",
          "count": 0,
          "hex": "#fcf679"
         },
         {
          "chunk": 1,
          "color": "straw",
          "count": 1,
          "hex": "#fcf679"
         },
         {
          "chunk": 2,
          "color": "straw",
          "count": 0,
          "hex": "#fcf679"
         },
         {
          "chunk": 3,
          "color": "straw",
          "count": 0,
          "hex": "#fcf679"
         },
         {
          "chunk": 4,
          "color": "straw",
          "count": 0,
          "hex": "#fcf679"
         },
         {
          "chunk": 5,
          "color": "straw",
          "count": 0,
          "hex": "#fcf679"
         },
         {
          "chunk": 6,
          "color": "straw",
          "count": 0,
          "hex": "#fcf679"
         },
         {
          "chunk": 7,
          "color": "straw",
          "count": 0,
          "hex": "#fcf679"
         },
         {
          "chunk": 8,
          "color": "straw",
          "count": 0,
          "hex": "#fcf679"
         },
         {
          "chunk": 9,
          "color": "straw",
          "count": 1,
          "hex": "#fcf679"
         },
         {
          "chunk": 10,
          "color": "straw",
          "count": 0,
          "hex": "#fcf679"
         },
         {
          "chunk": 11,
          "color": "straw",
          "count": 0,
          "hex": "#fcf679"
         },
         {
          "chunk": 12,
          "color": "straw",
          "count": 0,
          "hex": "#fcf679"
         },
         {
          "chunk": 13,
          "color": "straw",
          "count": 0,
          "hex": "#fcf679"
         },
         {
          "chunk": 14,
          "color": "straw",
          "count": 0,
          "hex": "#fcf679"
         },
         {
          "chunk": 15,
          "color": "straw",
          "count": 0,
          "hex": "#fcf679"
         },
         {
          "chunk": 16,
          "color": "straw",
          "count": 1,
          "hex": "#fcf679"
         },
         {
          "chunk": 17,
          "color": "straw",
          "count": 0,
          "hex": "#fcf679"
         },
         {
          "chunk": 18,
          "color": "straw",
          "count": 0,
          "hex": "#fcf679"
         },
         {
          "chunk": 19,
          "color": "straw",
          "count": 0,
          "hex": "#fcf679"
         },
         {
          "chunk": 20,
          "color": "straw",
          "count": 0,
          "hex": "#fcf679"
         },
         {
          "chunk": 21,
          "color": "straw",
          "count": 0,
          "hex": "#fcf679"
         },
         {
          "chunk": 22,
          "color": "straw",
          "count": 0,
          "hex": "#fcf679"
         },
         {
          "chunk": 23,
          "color": "straw",
          "count": 1,
          "hex": "#fcf679"
         },
         {
          "chunk": 24,
          "color": "straw",
          "count": 0,
          "hex": "#fcf679"
         },
         {
          "chunk": 25,
          "color": "straw",
          "count": 0,
          "hex": "#fcf679"
         },
         {
          "chunk": 26,
          "color": "straw",
          "count": 0,
          "hex": "#fcf679"
         },
         {
          "chunk": 27,
          "color": "straw",
          "count": 0,
          "hex": "#fcf679"
         },
         {
          "chunk": 28,
          "color": "straw",
          "count": 0,
          "hex": "#fcf679"
         },
         {
          "chunk": 29,
          "color": "straw",
          "count": 1,
          "hex": "#fcf679"
         },
         {
          "chunk": 30,
          "color": "straw",
          "count": 0,
          "hex": "#fcf679"
         },
         {
          "chunk": 31,
          "color": "straw",
          "count": 0,
          "hex": "#fcf679"
         },
         {
          "chunk": 32,
          "color": "straw",
          "count": 1,
          "hex": "#fcf679"
         },
         {
          "chunk": 33,
          "color": "straw",
          "count": 0,
          "hex": "#fcf679"
         },
         {
          "chunk": 34,
          "color": "straw",
          "count": 0,
          "hex": "#fcf679"
         },
         {
          "chunk": 35,
          "color": "straw",
          "count": 0,
          "hex": "#fcf679"
         },
         {
          "chunk": 36,
          "color": "straw",
          "count": 0,
          "hex": "#fcf679"
         },
         {
          "chunk": 37,
          "color": "straw",
          "count": 0,
          "hex": "#fcf679"
         },
         {
          "chunk": 38,
          "color": "straw",
          "count": 0,
          "hex": "#fcf679"
         },
         {
          "chunk": 39,
          "color": "straw",
          "count": 0,
          "hex": "#fcf679"
         },
         {
          "chunk": 0,
          "color": "leather",
          "count": 0,
          "hex": "#ac7434"
         },
         {
          "chunk": 1,
          "color": "leather",
          "count": 1,
          "hex": "#ac7434"
         },
         {
          "chunk": 2,
          "color": "leather",
          "count": 0,
          "hex": "#ac7434"
         },
         {
          "chunk": 3,
          "color": "leather",
          "count": 0,
          "hex": "#ac7434"
         },
         {
          "chunk": 4,
          "color": "leather",
          "count": 0,
          "hex": "#ac7434"
         },
         {
          "chunk": 5,
          "color": "leather",
          "count": 2,
          "hex": "#ac7434"
         },
         {
          "chunk": 6,
          "color": "leather",
          "count": 0,
          "hex": "#ac7434"
         },
         {
          "chunk": 7,
          "color": "leather",
          "count": 0,
          "hex": "#ac7434"
         },
         {
          "chunk": 8,
          "color": "leather",
          "count": 0,
          "hex": "#ac7434"
         },
         {
          "chunk": 9,
          "color": "leather",
          "count": 0,
          "hex": "#ac7434"
         },
         {
          "chunk": 10,
          "color": "leather",
          "count": 0,
          "hex": "#ac7434"
         },
         {
          "chunk": 11,
          "color": "leather",
          "count": 0,
          "hex": "#ac7434"
         },
         {
          "chunk": 12,
          "color": "leather",
          "count": 0,
          "hex": "#ac7434"
         },
         {
          "chunk": 13,
          "color": "leather",
          "count": 0,
          "hex": "#ac7434"
         },
         {
          "chunk": 14,
          "color": "leather",
          "count": 0,
          "hex": "#ac7434"
         },
         {
          "chunk": 15,
          "color": "leather",
          "count": 0,
          "hex": "#ac7434"
         },
         {
          "chunk": 16,
          "color": "leather",
          "count": 0,
          "hex": "#ac7434"
         },
         {
          "chunk": 17,
          "color": "leather",
          "count": 1,
          "hex": "#ac7434"
         },
         {
          "chunk": 18,
          "color": "leather",
          "count": 1,
          "hex": "#ac7434"
         },
         {
          "chunk": 19,
          "color": "leather",
          "count": 0,
          "hex": "#ac7434"
         },
         {
          "chunk": 20,
          "color": "leather",
          "count": 0,
          "hex": "#ac7434"
         },
         {
          "chunk": 21,
          "color": "leather",
          "count": 0,
          "hex": "#ac7434"
         },
         {
          "chunk": 22,
          "color": "leather",
          "count": 0,
          "hex": "#ac7434"
         },
         {
          "chunk": 23,
          "color": "leather",
          "count": 0,
          "hex": "#ac7434"
         },
         {
          "chunk": 24,
          "color": "leather",
          "count": 0,
          "hex": "#ac7434"
         },
         {
          "chunk": 25,
          "color": "leather",
          "count": 0,
          "hex": "#ac7434"
         },
         {
          "chunk": 26,
          "color": "leather",
          "count": 0,
          "hex": "#ac7434"
         },
         {
          "chunk": 27,
          "color": "leather",
          "count": 0,
          "hex": "#ac7434"
         },
         {
          "chunk": 28,
          "color": "leather",
          "count": 0,
          "hex": "#ac7434"
         },
         {
          "chunk": 29,
          "color": "leather",
          "count": 0,
          "hex": "#ac7434"
         },
         {
          "chunk": 30,
          "color": "leather",
          "count": 0,
          "hex": "#ac7434"
         },
         {
          "chunk": 31,
          "color": "leather",
          "count": 0,
          "hex": "#ac7434"
         },
         {
          "chunk": 32,
          "color": "leather",
          "count": 0,
          "hex": "#ac7434"
         },
         {
          "chunk": 33,
          "color": "leather",
          "count": 0,
          "hex": "#ac7434"
         },
         {
          "chunk": 34,
          "color": "leather",
          "count": 0,
          "hex": "#ac7434"
         },
         {
          "chunk": 35,
          "color": "leather",
          "count": 0,
          "hex": "#ac7434"
         },
         {
          "chunk": 36,
          "color": "leather",
          "count": 0,
          "hex": "#ac7434"
         },
         {
          "chunk": 37,
          "color": "leather",
          "count": 0,
          "hex": "#ac7434"
         },
         {
          "chunk": 38,
          "color": "leather",
          "count": 0,
          "hex": "#ac7434"
         },
         {
          "chunk": 39,
          "color": "leather",
          "count": 0,
          "hex": "#ac7434"
         },
         {
          "chunk": 0,
          "color": "dark",
          "count": 0,
          "hex": "#1b2431"
         },
         {
          "chunk": 1,
          "color": "dark",
          "count": 1,
          "hex": "#1b2431"
         },
         {
          "chunk": 2,
          "color": "dark",
          "count": 2,
          "hex": "#1b2431"
         },
         {
          "chunk": 3,
          "color": "dark",
          "count": 0,
          "hex": "#1b2431"
         },
         {
          "chunk": 4,
          "color": "dark",
          "count": 1,
          "hex": "#1b2431"
         },
         {
          "chunk": 5,
          "color": "dark",
          "count": 1,
          "hex": "#1b2431"
         },
         {
          "chunk": 6,
          "color": "dark",
          "count": 0,
          "hex": "#1b2431"
         },
         {
          "chunk": 7,
          "color": "dark",
          "count": 0,
          "hex": "#1b2431"
         },
         {
          "chunk": 8,
          "color": "dark",
          "count": 1,
          "hex": "#1b2431"
         },
         {
          "chunk": 9,
          "color": "dark",
          "count": 1,
          "hex": "#1b2431"
         },
         {
          "chunk": 10,
          "color": "dark",
          "count": 0,
          "hex": "#1b2431"
         },
         {
          "chunk": 11,
          "color": "dark",
          "count": 1,
          "hex": "#1b2431"
         },
         {
          "chunk": 12,
          "color": "dark",
          "count": 0,
          "hex": "#1b2431"
         },
         {
          "chunk": 13,
          "color": "dark",
          "count": 0,
          "hex": "#1b2431"
         },
         {
          "chunk": 14,
          "color": "dark",
          "count": 0,
          "hex": "#1b2431"
         },
         {
          "chunk": 15,
          "color": "dark",
          "count": 0,
          "hex": "#1b2431"
         },
         {
          "chunk": 16,
          "color": "dark",
          "count": 0,
          "hex": "#1b2431"
         },
         {
          "chunk": 17,
          "color": "dark",
          "count": 0,
          "hex": "#1b2431"
         },
         {
          "chunk": 18,
          "color": "dark",
          "count": 0,
          "hex": "#1b2431"
         },
         {
          "chunk": 19,
          "color": "dark",
          "count": 0,
          "hex": "#1b2431"
         },
         {
          "chunk": 20,
          "color": "dark",
          "count": 0,
          "hex": "#1b2431"
         },
         {
          "chunk": 21,
          "color": "dark",
          "count": 0,
          "hex": "#1b2431"
         },
         {
          "chunk": 22,
          "color": "dark",
          "count": 0,
          "hex": "#1b2431"
         },
         {
          "chunk": 23,
          "color": "dark",
          "count": 0,
          "hex": "#1b2431"
         },
         {
          "chunk": 24,
          "color": "dark",
          "count": 0,
          "hex": "#1b2431"
         },
         {
          "chunk": 25,
          "color": "dark",
          "count": 0,
          "hex": "#1b2431"
         },
         {
          "chunk": 26,
          "color": "dark",
          "count": 0,
          "hex": "#1b2431"
         },
         {
          "chunk": 27,
          "color": "dark",
          "count": 0,
          "hex": "#1b2431"
         },
         {
          "chunk": 28,
          "color": "dark",
          "count": 0,
          "hex": "#1b2431"
         },
         {
          "chunk": 29,
          "color": "dark",
          "count": 0,
          "hex": "#1b2431"
         },
         {
          "chunk": 30,
          "color": "dark",
          "count": 1,
          "hex": "#1b2431"
         },
         {
          "chunk": 31,
          "color": "dark",
          "count": 0,
          "hex": "#1b2431"
         },
         {
          "chunk": 32,
          "color": "dark",
          "count": 0,
          "hex": "#1b2431"
         },
         {
          "chunk": 33,
          "color": "dark",
          "count": 0,
          "hex": "#1b2431"
         },
         {
          "chunk": 34,
          "color": "dark",
          "count": 0,
          "hex": "#1b2431"
         },
         {
          "chunk": 35,
          "color": "dark",
          "count": 0,
          "hex": "#1b2431"
         },
         {
          "chunk": 36,
          "color": "dark",
          "count": 0,
          "hex": "#1b2431"
         },
         {
          "chunk": 37,
          "color": "dark",
          "count": 0,
          "hex": "#1b2431"
         },
         {
          "chunk": 38,
          "color": "dark",
          "count": 1,
          "hex": "#1b2431"
         },
         {
          "chunk": 39,
          "color": "dark",
          "count": 0,
          "hex": "#1b2431"
         },
         {
          "chunk": 0,
          "color": "sea",
          "count": 0,
          "hex": "#3c9992"
         },
         {
          "chunk": 1,
          "color": "sea",
          "count": 1,
          "hex": "#3c9992"
         },
         {
          "chunk": 2,
          "color": "sea",
          "count": 0,
          "hex": "#3c9992"
         },
         {
          "chunk": 3,
          "color": "sea",
          "count": 0,
          "hex": "#3c9992"
         },
         {
          "chunk": 4,
          "color": "sea",
          "count": 0,
          "hex": "#3c9992"
         },
         {
          "chunk": 5,
          "color": "sea",
          "count": 2,
          "hex": "#3c9992"
         },
         {
          "chunk": 6,
          "color": "sea",
          "count": 0,
          "hex": "#3c9992"
         },
         {
          "chunk": 7,
          "color": "sea",
          "count": 0,
          "hex": "#3c9992"
         },
         {
          "chunk": 8,
          "color": "sea",
          "count": 0,
          "hex": "#3c9992"
         },
         {
          "chunk": 9,
          "color": "sea",
          "count": 0,
          "hex": "#3c9992"
         },
         {
          "chunk": 10,
          "color": "sea",
          "count": 0,
          "hex": "#3c9992"
         },
         {
          "chunk": 11,
          "color": "sea",
          "count": 2,
          "hex": "#3c9992"
         },
         {
          "chunk": 12,
          "color": "sea",
          "count": 0,
          "hex": "#3c9992"
         },
         {
          "chunk": 13,
          "color": "sea",
          "count": 0,
          "hex": "#3c9992"
         },
         {
          "chunk": 14,
          "color": "sea",
          "count": 0,
          "hex": "#3c9992"
         },
         {
          "chunk": 15,
          "color": "sea",
          "count": 0,
          "hex": "#3c9992"
         },
         {
          "chunk": 16,
          "color": "sea",
          "count": 1,
          "hex": "#3c9992"
         },
         {
          "chunk": 17,
          "color": "sea",
          "count": 0,
          "hex": "#3c9992"
         },
         {
          "chunk": 18,
          "color": "sea",
          "count": 0,
          "hex": "#3c9992"
         },
         {
          "chunk": 19,
          "color": "sea",
          "count": 0,
          "hex": "#3c9992"
         },
         {
          "chunk": 20,
          "color": "sea",
          "count": 0,
          "hex": "#3c9992"
         },
         {
          "chunk": 21,
          "color": "sea",
          "count": 0,
          "hex": "#3c9992"
         },
         {
          "chunk": 22,
          "color": "sea",
          "count": 0,
          "hex": "#3c9992"
         },
         {
          "chunk": 23,
          "color": "sea",
          "count": 0,
          "hex": "#3c9992"
         },
         {
          "chunk": 24,
          "color": "sea",
          "count": 0,
          "hex": "#3c9992"
         },
         {
          "chunk": 25,
          "color": "sea",
          "count": 0,
          "hex": "#3c9992"
         },
         {
          "chunk": 26,
          "color": "sea",
          "count": 0,
          "hex": "#3c9992"
         },
         {
          "chunk": 27,
          "color": "sea",
          "count": 0,
          "hex": "#3c9992"
         },
         {
          "chunk": 28,
          "color": "sea",
          "count": 0,
          "hex": "#3c9992"
         },
         {
          "chunk": 29,
          "color": "sea",
          "count": 0,
          "hex": "#3c9992"
         },
         {
          "chunk": 30,
          "color": "sea",
          "count": 1,
          "hex": "#3c9992"
         },
         {
          "chunk": 31,
          "color": "sea",
          "count": 0,
          "hex": "#3c9992"
         },
         {
          "chunk": 32,
          "color": "sea",
          "count": 0,
          "hex": "#3c9992"
         },
         {
          "chunk": 33,
          "color": "sea",
          "count": 1,
          "hex": "#3c9992"
         },
         {
          "chunk": 34,
          "color": "sea",
          "count": 0,
          "hex": "#3c9992"
         },
         {
          "chunk": 35,
          "color": "sea",
          "count": 1,
          "hex": "#3c9992"
         },
         {
          "chunk": 36,
          "color": "sea",
          "count": 0,
          "hex": "#3c9992"
         },
         {
          "chunk": 37,
          "color": "sea",
          "count": 0,
          "hex": "#3c9992"
         },
         {
          "chunk": 38,
          "color": "sea",
          "count": 0,
          "hex": "#3c9992"
         },
         {
          "chunk": 39,
          "color": "sea",
          "count": 0,
          "hex": "#3c9992"
         },
         {
          "chunk": 0,
          "color": "black",
          "count": 0,
          "hex": "#000000"
         },
         {
          "chunk": 1,
          "color": "black",
          "count": 1,
          "hex": "#000000"
         },
         {
          "chunk": 2,
          "color": "black",
          "count": 1,
          "hex": "#000000"
         },
         {
          "chunk": 3,
          "color": "black",
          "count": 0,
          "hex": "#000000"
         },
         {
          "chunk": 4,
          "color": "black",
          "count": 1,
          "hex": "#000000"
         },
         {
          "chunk": 5,
          "color": "black",
          "count": 0,
          "hex": "#000000"
         },
         {
          "chunk": 6,
          "color": "black",
          "count": 0,
          "hex": "#000000"
         },
         {
          "chunk": 7,
          "color": "black",
          "count": 0,
          "hex": "#000000"
         },
         {
          "chunk": 8,
          "color": "black",
          "count": 0,
          "hex": "#000000"
         },
         {
          "chunk": 9,
          "color": "black",
          "count": 0,
          "hex": "#000000"
         },
         {
          "chunk": 10,
          "color": "black",
          "count": 1,
          "hex": "#000000"
         },
         {
          "chunk": 11,
          "color": "black",
          "count": 0,
          "hex": "#000000"
         },
         {
          "chunk": 12,
          "color": "black",
          "count": 1,
          "hex": "#000000"
         },
         {
          "chunk": 13,
          "color": "black",
          "count": 0,
          "hex": "#000000"
         },
         {
          "chunk": 14,
          "color": "black",
          "count": 1,
          "hex": "#000000"
         },
         {
          "chunk": 15,
          "color": "black",
          "count": 0,
          "hex": "#000000"
         },
         {
          "chunk": 16,
          "color": "black",
          "count": 1,
          "hex": "#000000"
         },
         {
          "chunk": 17,
          "color": "black",
          "count": 0,
          "hex": "#000000"
         },
         {
          "chunk": 18,
          "color": "black",
          "count": 0,
          "hex": "#000000"
         },
         {
          "chunk": 19,
          "color": "black",
          "count": 0,
          "hex": "#000000"
         },
         {
          "chunk": 20,
          "color": "black",
          "count": 0,
          "hex": "#000000"
         },
         {
          "chunk": 21,
          "color": "black",
          "count": 0,
          "hex": "#000000"
         },
         {
          "chunk": 22,
          "color": "black",
          "count": 0,
          "hex": "#000000"
         },
         {
          "chunk": 23,
          "color": "black",
          "count": 0,
          "hex": "#000000"
         },
         {
          "chunk": 24,
          "color": "black",
          "count": 0,
          "hex": "#000000"
         },
         {
          "chunk": 25,
          "color": "black",
          "count": 0,
          "hex": "#000000"
         },
         {
          "chunk": 26,
          "color": "black",
          "count": 0,
          "hex": "#000000"
         },
         {
          "chunk": 27,
          "color": "black",
          "count": 0,
          "hex": "#000000"
         },
         {
          "chunk": 28,
          "color": "black",
          "count": 2,
          "hex": "#000000"
         },
         {
          "chunk": 29,
          "color": "black",
          "count": 1,
          "hex": "#000000"
         },
         {
          "chunk": 30,
          "color": "black",
          "count": 0,
          "hex": "#000000"
         },
         {
          "chunk": 31,
          "color": "black",
          "count": 0,
          "hex": "#000000"
         },
         {
          "chunk": 32,
          "color": "black",
          "count": 0,
          "hex": "#000000"
         },
         {
          "chunk": 33,
          "color": "black",
          "count": 0,
          "hex": "#000000"
         },
         {
          "chunk": 34,
          "color": "black",
          "count": 1,
          "hex": "#000000"
         },
         {
          "chunk": 35,
          "color": "black",
          "count": 0,
          "hex": "#000000"
         },
         {
          "chunk": 36,
          "color": "black",
          "count": 1,
          "hex": "#000000"
         },
         {
          "chunk": 37,
          "color": "black",
          "count": 0,
          "hex": "#000000"
         },
         {
          "chunk": 38,
          "color": "black",
          "count": 0,
          "hex": "#000000"
         },
         {
          "chunk": 39,
          "color": "black",
          "count": 0,
          "hex": "#000000"
         },
         {
          "chunk": 0,
          "color": "salmon",
          "count": 0,
          "hex": "#ff796c"
         },
         {
          "chunk": 1,
          "color": "salmon",
          "count": 1,
          "hex": "#ff796c"
         },
         {
          "chunk": 2,
          "color": "salmon",
          "count": 0,
          "hex": "#ff796c"
         },
         {
          "chunk": 3,
          "color": "salmon",
          "count": 0,
          "hex": "#ff796c"
         },
         {
          "chunk": 4,
          "color": "salmon",
          "count": 0,
          "hex": "#ff796c"
         },
         {
          "chunk": 5,
          "color": "salmon",
          "count": 0,
          "hex": "#ff796c"
         },
         {
          "chunk": 6,
          "color": "salmon",
          "count": 0,
          "hex": "#ff796c"
         },
         {
          "chunk": 7,
          "color": "salmon",
          "count": 0,
          "hex": "#ff796c"
         },
         {
          "chunk": 8,
          "color": "salmon",
          "count": 0,
          "hex": "#ff796c"
         },
         {
          "chunk": 9,
          "color": "salmon",
          "count": 0,
          "hex": "#ff796c"
         },
         {
          "chunk": 10,
          "color": "salmon",
          "count": 0,
          "hex": "#ff796c"
         },
         {
          "chunk": 11,
          "color": "salmon",
          "count": 0,
          "hex": "#ff796c"
         },
         {
          "chunk": 12,
          "color": "salmon",
          "count": 0,
          "hex": "#ff796c"
         },
         {
          "chunk": 13,
          "color": "salmon",
          "count": 0,
          "hex": "#ff796c"
         },
         {
          "chunk": 14,
          "color": "salmon",
          "count": 0,
          "hex": "#ff796c"
         },
         {
          "chunk": 15,
          "color": "salmon",
          "count": 0,
          "hex": "#ff796c"
         },
         {
          "chunk": 16,
          "color": "salmon",
          "count": 0,
          "hex": "#ff796c"
         },
         {
          "chunk": 17,
          "color": "salmon",
          "count": 0,
          "hex": "#ff796c"
         },
         {
          "chunk": 18,
          "color": "salmon",
          "count": 0,
          "hex": "#ff796c"
         },
         {
          "chunk": 19,
          "color": "salmon",
          "count": 0,
          "hex": "#ff796c"
         },
         {
          "chunk": 20,
          "color": "salmon",
          "count": 2,
          "hex": "#ff796c"
         },
         {
          "chunk": 21,
          "color": "salmon",
          "count": 0,
          "hex": "#ff796c"
         },
         {
          "chunk": 22,
          "color": "salmon",
          "count": 0,
          "hex": "#ff796c"
         },
         {
          "chunk": 23,
          "color": "salmon",
          "count": 0,
          "hex": "#ff796c"
         },
         {
          "chunk": 24,
          "color": "salmon",
          "count": 0,
          "hex": "#ff796c"
         },
         {
          "chunk": 25,
          "color": "salmon",
          "count": 0,
          "hex": "#ff796c"
         },
         {
          "chunk": 26,
          "color": "salmon",
          "count": 0,
          "hex": "#ff796c"
         },
         {
          "chunk": 27,
          "color": "salmon",
          "count": 0,
          "hex": "#ff796c"
         },
         {
          "chunk": 28,
          "color": "salmon",
          "count": 0,
          "hex": "#ff796c"
         },
         {
          "chunk": 29,
          "color": "salmon",
          "count": 0,
          "hex": "#ff796c"
         },
         {
          "chunk": 30,
          "color": "salmon",
          "count": 0,
          "hex": "#ff796c"
         },
         {
          "chunk": 31,
          "color": "salmon",
          "count": 0,
          "hex": "#ff796c"
         },
         {
          "chunk": 32,
          "color": "salmon",
          "count": 0,
          "hex": "#ff796c"
         },
         {
          "chunk": 33,
          "color": "salmon",
          "count": 2,
          "hex": "#ff796c"
         },
         {
          "chunk": 34,
          "color": "salmon",
          "count": 0,
          "hex": "#ff796c"
         },
         {
          "chunk": 35,
          "color": "salmon",
          "count": 0,
          "hex": "#ff796c"
         },
         {
          "chunk": 36,
          "color": "salmon",
          "count": 0,
          "hex": "#ff796c"
         },
         {
          "chunk": 37,
          "color": "salmon",
          "count": 0,
          "hex": "#ff796c"
         },
         {
          "chunk": 38,
          "color": "salmon",
          "count": 0,
          "hex": "#ff796c"
         },
         {
          "chunk": 39,
          "color": "salmon",
          "count": 0,
          "hex": "#ff796c"
         },
         {
          "chunk": 0,
          "color": "dust",
          "count": 0,
          "hex": "#b2996e"
         },
         {
          "chunk": 1,
          "color": "dust",
          "count": 0,
          "hex": "#b2996e"
         },
         {
          "chunk": 2,
          "color": "dust",
          "count": 1,
          "hex": "#b2996e"
         },
         {
          "chunk": 3,
          "color": "dust",
          "count": 0,
          "hex": "#b2996e"
         },
         {
          "chunk": 4,
          "color": "dust",
          "count": 0,
          "hex": "#b2996e"
         },
         {
          "chunk": 5,
          "color": "dust",
          "count": 0,
          "hex": "#b2996e"
         },
         {
          "chunk": 6,
          "color": "dust",
          "count": 0,
          "hex": "#b2996e"
         },
         {
          "chunk": 7,
          "color": "dust",
          "count": 0,
          "hex": "#b2996e"
         },
         {
          "chunk": 8,
          "color": "dust",
          "count": 0,
          "hex": "#b2996e"
         },
         {
          "chunk": 9,
          "color": "dust",
          "count": 1,
          "hex": "#b2996e"
         },
         {
          "chunk": 10,
          "color": "dust",
          "count": 0,
          "hex": "#b2996e"
         },
         {
          "chunk": 11,
          "color": "dust",
          "count": 0,
          "hex": "#b2996e"
         },
         {
          "chunk": 12,
          "color": "dust",
          "count": 0,
          "hex": "#b2996e"
         },
         {
          "chunk": 13,
          "color": "dust",
          "count": 0,
          "hex": "#b2996e"
         },
         {
          "chunk": 14,
          "color": "dust",
          "count": 0,
          "hex": "#b2996e"
         },
         {
          "chunk": 15,
          "color": "dust",
          "count": 0,
          "hex": "#b2996e"
         },
         {
          "chunk": 16,
          "color": "dust",
          "count": 0,
          "hex": "#b2996e"
         },
         {
          "chunk": 17,
          "color": "dust",
          "count": 0,
          "hex": "#b2996e"
         },
         {
          "chunk": 18,
          "color": "dust",
          "count": 0,
          "hex": "#b2996e"
         },
         {
          "chunk": 19,
          "color": "dust",
          "count": 0,
          "hex": "#b2996e"
         },
         {
          "chunk": 20,
          "color": "dust",
          "count": 0,
          "hex": "#b2996e"
         },
         {
          "chunk": 21,
          "color": "dust",
          "count": 0,
          "hex": "#b2996e"
         },
         {
          "chunk": 22,
          "color": "dust",
          "count": 0,
          "hex": "#b2996e"
         },
         {
          "chunk": 23,
          "color": "dust",
          "count": 0,
          "hex": "#b2996e"
         },
         {
          "chunk": 24,
          "color": "dust",
          "count": 0,
          "hex": "#b2996e"
         },
         {
          "chunk": 25,
          "color": "dust",
          "count": 0,
          "hex": "#b2996e"
         },
         {
          "chunk": 26,
          "color": "dust",
          "count": 0,
          "hex": "#b2996e"
         },
         {
          "chunk": 27,
          "color": "dust",
          "count": 0,
          "hex": "#b2996e"
         },
         {
          "chunk": 28,
          "color": "dust",
          "count": 0,
          "hex": "#b2996e"
         },
         {
          "chunk": 29,
          "color": "dust",
          "count": 0,
          "hex": "#b2996e"
         },
         {
          "chunk": 30,
          "color": "dust",
          "count": 0,
          "hex": "#b2996e"
         },
         {
          "chunk": 31,
          "color": "dust",
          "count": 0,
          "hex": "#b2996e"
         },
         {
          "chunk": 32,
          "color": "dust",
          "count": 0,
          "hex": "#b2996e"
         },
         {
          "chunk": 33,
          "color": "dust",
          "count": 0,
          "hex": "#b2996e"
         },
         {
          "chunk": 34,
          "color": "dust",
          "count": 0,
          "hex": "#b2996e"
         },
         {
          "chunk": 35,
          "color": "dust",
          "count": 0,
          "hex": "#b2996e"
         },
         {
          "chunk": 36,
          "color": "dust",
          "count": 0,
          "hex": "#b2996e"
         },
         {
          "chunk": 37,
          "color": "dust",
          "count": 0,
          "hex": "#b2996e"
         },
         {
          "chunk": 38,
          "color": "dust",
          "count": 0,
          "hex": "#b2996e"
         },
         {
          "chunk": 39,
          "color": "dust",
          "count": 0,
          "hex": "#b2996e"
         },
         {
          "chunk": 0,
          "color": "hazel",
          "count": 0,
          "hex": "#8e7618"
         },
         {
          "chunk": 1,
          "color": "hazel",
          "count": 0,
          "hex": "#8e7618"
         },
         {
          "chunk": 2,
          "color": "hazel",
          "count": 1,
          "hex": "#8e7618"
         },
         {
          "chunk": 3,
          "color": "hazel",
          "count": 0,
          "hex": "#8e7618"
         },
         {
          "chunk": 4,
          "color": "hazel",
          "count": 0,
          "hex": "#8e7618"
         },
         {
          "chunk": 5,
          "color": "hazel",
          "count": 0,
          "hex": "#8e7618"
         },
         {
          "chunk": 6,
          "color": "hazel",
          "count": 0,
          "hex": "#8e7618"
         },
         {
          "chunk": 7,
          "color": "hazel",
          "count": 0,
          "hex": "#8e7618"
         },
         {
          "chunk": 8,
          "color": "hazel",
          "count": 0,
          "hex": "#8e7618"
         },
         {
          "chunk": 9,
          "color": "hazel",
          "count": 0,
          "hex": "#8e7618"
         },
         {
          "chunk": 10,
          "color": "hazel",
          "count": 0,
          "hex": "#8e7618"
         },
         {
          "chunk": 11,
          "color": "hazel",
          "count": 0,
          "hex": "#8e7618"
         },
         {
          "chunk": 12,
          "color": "hazel",
          "count": 0,
          "hex": "#8e7618"
         },
         {
          "chunk": 13,
          "color": "hazel",
          "count": 0,
          "hex": "#8e7618"
         },
         {
          "chunk": 14,
          "color": "hazel",
          "count": 0,
          "hex": "#8e7618"
         },
         {
          "chunk": 15,
          "color": "hazel",
          "count": 0,
          "hex": "#8e7618"
         },
         {
          "chunk": 16,
          "color": "hazel",
          "count": 0,
          "hex": "#8e7618"
         },
         {
          "chunk": 17,
          "color": "hazel",
          "count": 0,
          "hex": "#8e7618"
         },
         {
          "chunk": 18,
          "color": "hazel",
          "count": 0,
          "hex": "#8e7618"
         },
         {
          "chunk": 19,
          "color": "hazel",
          "count": 0,
          "hex": "#8e7618"
         },
         {
          "chunk": 20,
          "color": "hazel",
          "count": 0,
          "hex": "#8e7618"
         },
         {
          "chunk": 21,
          "color": "hazel",
          "count": 0,
          "hex": "#8e7618"
         },
         {
          "chunk": 22,
          "color": "hazel",
          "count": 0,
          "hex": "#8e7618"
         },
         {
          "chunk": 23,
          "color": "hazel",
          "count": 0,
          "hex": "#8e7618"
         },
         {
          "chunk": 24,
          "color": "hazel",
          "count": 0,
          "hex": "#8e7618"
         },
         {
          "chunk": 25,
          "color": "hazel",
          "count": 0,
          "hex": "#8e7618"
         },
         {
          "chunk": 26,
          "color": "hazel",
          "count": 0,
          "hex": "#8e7618"
         },
         {
          "chunk": 27,
          "color": "hazel",
          "count": 0,
          "hex": "#8e7618"
         },
         {
          "chunk": 28,
          "color": "hazel",
          "count": 0,
          "hex": "#8e7618"
         },
         {
          "chunk": 29,
          "color": "hazel",
          "count": 0,
          "hex": "#8e7618"
         },
         {
          "chunk": 30,
          "color": "hazel",
          "count": 0,
          "hex": "#8e7618"
         },
         {
          "chunk": 31,
          "color": "hazel",
          "count": 0,
          "hex": "#8e7618"
         },
         {
          "chunk": 32,
          "color": "hazel",
          "count": 0,
          "hex": "#8e7618"
         },
         {
          "chunk": 33,
          "color": "hazel",
          "count": 0,
          "hex": "#8e7618"
         },
         {
          "chunk": 34,
          "color": "hazel",
          "count": 0,
          "hex": "#8e7618"
         },
         {
          "chunk": 35,
          "color": "hazel",
          "count": 0,
          "hex": "#8e7618"
         },
         {
          "chunk": 36,
          "color": "hazel",
          "count": 0,
          "hex": "#8e7618"
         },
         {
          "chunk": 37,
          "color": "hazel",
          "count": 0,
          "hex": "#8e7618"
         },
         {
          "chunk": 38,
          "color": "hazel",
          "count": 0,
          "hex": "#8e7618"
         },
         {
          "chunk": 39,
          "color": "hazel",
          "count": 0,
          "hex": "#8e7618"
         },
         {
          "chunk": 0,
          "color": "cherry",
          "count": 0,
          "hex": "#cf0234"
         },
         {
          "chunk": 1,
          "color": "cherry",
          "count": 0,
          "hex": "#cf0234"
         },
         {
          "chunk": 2,
          "color": "cherry",
          "count": 1,
          "hex": "#cf0234"
         },
         {
          "chunk": 3,
          "color": "cherry",
          "count": 0,
          "hex": "#cf0234"
         },
         {
          "chunk": 4,
          "color": "cherry",
          "count": 0,
          "hex": "#cf0234"
         },
         {
          "chunk": 5,
          "color": "cherry",
          "count": 0,
          "hex": "#cf0234"
         },
         {
          "chunk": 6,
          "color": "cherry",
          "count": 0,
          "hex": "#cf0234"
         },
         {
          "chunk": 7,
          "color": "cherry",
          "count": 0,
          "hex": "#cf0234"
         },
         {
          "chunk": 8,
          "color": "cherry",
          "count": 0,
          "hex": "#cf0234"
         },
         {
          "chunk": 9,
          "color": "cherry",
          "count": 0,
          "hex": "#cf0234"
         },
         {
          "chunk": 10,
          "color": "cherry",
          "count": 0,
          "hex": "#cf0234"
         },
         {
          "chunk": 11,
          "color": "cherry",
          "count": 0,
          "hex": "#cf0234"
         },
         {
          "chunk": 12,
          "color": "cherry",
          "count": 0,
          "hex": "#cf0234"
         },
         {
          "chunk": 13,
          "color": "cherry",
          "count": 0,
          "hex": "#cf0234"
         },
         {
          "chunk": 14,
          "color": "cherry",
          "count": 0,
          "hex": "#cf0234"
         },
         {
          "chunk": 15,
          "color": "cherry",
          "count": 0,
          "hex": "#cf0234"
         },
         {
          "chunk": 16,
          "color": "cherry",
          "count": 0,
          "hex": "#cf0234"
         },
         {
          "chunk": 17,
          "color": "cherry",
          "count": 0,
          "hex": "#cf0234"
         },
         {
          "chunk": 18,
          "color": "cherry",
          "count": 0,
          "hex": "#cf0234"
         },
         {
          "chunk": 19,
          "color": "cherry",
          "count": 0,
          "hex": "#cf0234"
         },
         {
          "chunk": 20,
          "color": "cherry",
          "count": 0,
          "hex": "#cf0234"
         },
         {
          "chunk": 21,
          "color": "cherry",
          "count": 0,
          "hex": "#cf0234"
         },
         {
          "chunk": 22,
          "color": "cherry",
          "count": 0,
          "hex": "#cf0234"
         },
         {
          "chunk": 23,
          "color": "cherry",
          "count": 0,
          "hex": "#cf0234"
         },
         {
          "chunk": 24,
          "color": "cherry",
          "count": 0,
          "hex": "#cf0234"
         },
         {
          "chunk": 25,
          "color": "cherry",
          "count": 0,
          "hex": "#cf0234"
         },
         {
          "chunk": 26,
          "color": "cherry",
          "count": 0,
          "hex": "#cf0234"
         },
         {
          "chunk": 27,
          "color": "cherry",
          "count": 0,
          "hex": "#cf0234"
         },
         {
          "chunk": 28,
          "color": "cherry",
          "count": 0,
          "hex": "#cf0234"
         },
         {
          "chunk": 29,
          "color": "cherry",
          "count": 0,
          "hex": "#cf0234"
         },
         {
          "chunk": 30,
          "color": "cherry",
          "count": 0,
          "hex": "#cf0234"
         },
         {
          "chunk": 31,
          "color": "cherry",
          "count": 0,
          "hex": "#cf0234"
         },
         {
          "chunk": 32,
          "color": "cherry",
          "count": 0,
          "hex": "#cf0234"
         },
         {
          "chunk": 33,
          "color": "cherry",
          "count": 0,
          "hex": "#cf0234"
         },
         {
          "chunk": 34,
          "color": "cherry",
          "count": 0,
          "hex": "#cf0234"
         },
         {
          "chunk": 35,
          "color": "cherry",
          "count": 0,
          "hex": "#cf0234"
         },
         {
          "chunk": 36,
          "color": "cherry",
          "count": 0,
          "hex": "#cf0234"
         },
         {
          "chunk": 37,
          "color": "cherry",
          "count": 0,
          "hex": "#cf0234"
         },
         {
          "chunk": 38,
          "color": "cherry",
          "count": 0,
          "hex": "#cf0234"
         },
         {
          "chunk": 39,
          "color": "cherry",
          "count": 0,
          "hex": "#cf0234"
         },
         {
          "chunk": 0,
          "color": "gold",
          "count": 0,
          "hex": "#dbb40c"
         },
         {
          "chunk": 1,
          "color": "gold",
          "count": 0,
          "hex": "#dbb40c"
         },
         {
          "chunk": 2,
          "color": "gold",
          "count": 1,
          "hex": "#dbb40c"
         },
         {
          "chunk": 3,
          "color": "gold",
          "count": 0,
          "hex": "#dbb40c"
         },
         {
          "chunk": 4,
          "color": "gold",
          "count": 0,
          "hex": "#dbb40c"
         },
         {
          "chunk": 5,
          "color": "gold",
          "count": 0,
          "hex": "#dbb40c"
         },
         {
          "chunk": 6,
          "color": "gold",
          "count": 0,
          "hex": "#dbb40c"
         },
         {
          "chunk": 7,
          "color": "gold",
          "count": 0,
          "hex": "#dbb40c"
         },
         {
          "chunk": 8,
          "color": "gold",
          "count": 0,
          "hex": "#dbb40c"
         },
         {
          "chunk": 9,
          "color": "gold",
          "count": 0,
          "hex": "#dbb40c"
         },
         {
          "chunk": 10,
          "color": "gold",
          "count": 0,
          "hex": "#dbb40c"
         },
         {
          "chunk": 11,
          "color": "gold",
          "count": 0,
          "hex": "#dbb40c"
         },
         {
          "chunk": 12,
          "color": "gold",
          "count": 0,
          "hex": "#dbb40c"
         },
         {
          "chunk": 13,
          "color": "gold",
          "count": 1,
          "hex": "#dbb40c"
         },
         {
          "chunk": 14,
          "color": "gold",
          "count": 0,
          "hex": "#dbb40c"
         },
         {
          "chunk": 15,
          "color": "gold",
          "count": 0,
          "hex": "#dbb40c"
         },
         {
          "chunk": 16,
          "color": "gold",
          "count": 0,
          "hex": "#dbb40c"
         },
         {
          "chunk": 17,
          "color": "gold",
          "count": 1,
          "hex": "#dbb40c"
         },
         {
          "chunk": 18,
          "color": "gold",
          "count": 0,
          "hex": "#dbb40c"
         },
         {
          "chunk": 19,
          "color": "gold",
          "count": 1,
          "hex": "#dbb40c"
         },
         {
          "chunk": 20,
          "color": "gold",
          "count": 0,
          "hex": "#dbb40c"
         },
         {
          "chunk": 21,
          "color": "gold",
          "count": 0,
          "hex": "#dbb40c"
         },
         {
          "chunk": 22,
          "color": "gold",
          "count": 0,
          "hex": "#dbb40c"
         },
         {
          "chunk": 23,
          "color": "gold",
          "count": 0,
          "hex": "#dbb40c"
         },
         {
          "chunk": 24,
          "color": "gold",
          "count": 0,
          "hex": "#dbb40c"
         },
         {
          "chunk": 25,
          "color": "gold",
          "count": 0,
          "hex": "#dbb40c"
         },
         {
          "chunk": 26,
          "color": "gold",
          "count": 1,
          "hex": "#dbb40c"
         },
         {
          "chunk": 27,
          "color": "gold",
          "count": 0,
          "hex": "#dbb40c"
         },
         {
          "chunk": 28,
          "color": "gold",
          "count": 2,
          "hex": "#dbb40c"
         },
         {
          "chunk": 29,
          "color": "gold",
          "count": 0,
          "hex": "#dbb40c"
         },
         {
          "chunk": 30,
          "color": "gold",
          "count": 0,
          "hex": "#dbb40c"
         },
         {
          "chunk": 31,
          "color": "gold",
          "count": 0,
          "hex": "#dbb40c"
         },
         {
          "chunk": 32,
          "color": "gold",
          "count": 0,
          "hex": "#dbb40c"
         },
         {
          "chunk": 33,
          "color": "gold",
          "count": 0,
          "hex": "#dbb40c"
         },
         {
          "chunk": 34,
          "color": "gold",
          "count": 0,
          "hex": "#dbb40c"
         },
         {
          "chunk": 35,
          "color": "gold",
          "count": 2,
          "hex": "#dbb40c"
         },
         {
          "chunk": 36,
          "color": "gold",
          "count": 0,
          "hex": "#dbb40c"
         },
         {
          "chunk": 37,
          "color": "gold",
          "count": 0,
          "hex": "#dbb40c"
         },
         {
          "chunk": 38,
          "color": "gold",
          "count": 0,
          "hex": "#dbb40c"
         },
         {
          "chunk": 39,
          "color": "gold",
          "count": 0,
          "hex": "#dbb40c"
         },
         {
          "chunk": 0,
          "color": "lilac",
          "count": 0,
          "hex": "#cea2fd"
         },
         {
          "chunk": 1,
          "color": "lilac",
          "count": 0,
          "hex": "#cea2fd"
         },
         {
          "chunk": 2,
          "color": "lilac",
          "count": 1,
          "hex": "#cea2fd"
         },
         {
          "chunk": 3,
          "color": "lilac",
          "count": 0,
          "hex": "#cea2fd"
         },
         {
          "chunk": 4,
          "color": "lilac",
          "count": 0,
          "hex": "#cea2fd"
         },
         {
          "chunk": 5,
          "color": "lilac",
          "count": 0,
          "hex": "#cea2fd"
         },
         {
          "chunk": 6,
          "color": "lilac",
          "count": 0,
          "hex": "#cea2fd"
         },
         {
          "chunk": 7,
          "color": "lilac",
          "count": 0,
          "hex": "#cea2fd"
         },
         {
          "chunk": 8,
          "color": "lilac",
          "count": 0,
          "hex": "#cea2fd"
         },
         {
          "chunk": 9,
          "color": "lilac",
          "count": 0,
          "hex": "#cea2fd"
         },
         {
          "chunk": 10,
          "color": "lilac",
          "count": 0,
          "hex": "#cea2fd"
         },
         {
          "chunk": 11,
          "color": "lilac",
          "count": 0,
          "hex": "#cea2fd"
         },
         {
          "chunk": 12,
          "color": "lilac",
          "count": 0,
          "hex": "#cea2fd"
         },
         {
          "chunk": 13,
          "color": "lilac",
          "count": 0,
          "hex": "#cea2fd"
         },
         {
          "chunk": 14,
          "color": "lilac",
          "count": 0,
          "hex": "#cea2fd"
         },
         {
          "chunk": 15,
          "color": "lilac",
          "count": 0,
          "hex": "#cea2fd"
         },
         {
          "chunk": 16,
          "color": "lilac",
          "count": 0,
          "hex": "#cea2fd"
         },
         {
          "chunk": 17,
          "color": "lilac",
          "count": 0,
          "hex": "#cea2fd"
         },
         {
          "chunk": 18,
          "color": "lilac",
          "count": 0,
          "hex": "#cea2fd"
         },
         {
          "chunk": 19,
          "color": "lilac",
          "count": 0,
          "hex": "#cea2fd"
         },
         {
          "chunk": 20,
          "color": "lilac",
          "count": 0,
          "hex": "#cea2fd"
         },
         {
          "chunk": 21,
          "color": "lilac",
          "count": 0,
          "hex": "#cea2fd"
         },
         {
          "chunk": 22,
          "color": "lilac",
          "count": 0,
          "hex": "#cea2fd"
         },
         {
          "chunk": 23,
          "color": "lilac",
          "count": 0,
          "hex": "#cea2fd"
         },
         {
          "chunk": 24,
          "color": "lilac",
          "count": 0,
          "hex": "#cea2fd"
         },
         {
          "chunk": 25,
          "color": "lilac",
          "count": 0,
          "hex": "#cea2fd"
         },
         {
          "chunk": 26,
          "color": "lilac",
          "count": 0,
          "hex": "#cea2fd"
         },
         {
          "chunk": 27,
          "color": "lilac",
          "count": 0,
          "hex": "#cea2fd"
         },
         {
          "chunk": 28,
          "color": "lilac",
          "count": 0,
          "hex": "#cea2fd"
         },
         {
          "chunk": 29,
          "color": "lilac",
          "count": 0,
          "hex": "#cea2fd"
         },
         {
          "chunk": 30,
          "color": "lilac",
          "count": 0,
          "hex": "#cea2fd"
         },
         {
          "chunk": 31,
          "color": "lilac",
          "count": 0,
          "hex": "#cea2fd"
         },
         {
          "chunk": 32,
          "color": "lilac",
          "count": 0,
          "hex": "#cea2fd"
         },
         {
          "chunk": 33,
          "color": "lilac",
          "count": 0,
          "hex": "#cea2fd"
         },
         {
          "chunk": 34,
          "color": "lilac",
          "count": 0,
          "hex": "#cea2fd"
         },
         {
          "chunk": 35,
          "color": "lilac",
          "count": 0,
          "hex": "#cea2fd"
         },
         {
          "chunk": 36,
          "color": "lilac",
          "count": 0,
          "hex": "#cea2fd"
         },
         {
          "chunk": 37,
          "color": "lilac",
          "count": 0,
          "hex": "#cea2fd"
         },
         {
          "chunk": 38,
          "color": "lilac",
          "count": 0,
          "hex": "#cea2fd"
         },
         {
          "chunk": 39,
          "color": "lilac",
          "count": 0,
          "hex": "#cea2fd"
         },
         {
          "chunk": 0,
          "color": "red",
          "count": 0,
          "hex": "#e50000"
         },
         {
          "chunk": 1,
          "color": "red",
          "count": 0,
          "hex": "#e50000"
         },
         {
          "chunk": 2,
          "color": "red",
          "count": 2,
          "hex": "#e50000"
         },
         {
          "chunk": 3,
          "color": "red",
          "count": 0,
          "hex": "#e50000"
         },
         {
          "chunk": 4,
          "color": "red",
          "count": 0,
          "hex": "#e50000"
         },
         {
          "chunk": 5,
          "color": "red",
          "count": 0,
          "hex": "#e50000"
         },
         {
          "chunk": 6,
          "color": "red",
          "count": 0,
          "hex": "#e50000"
         },
         {
          "chunk": 7,
          "color": "red",
          "count": 0,
          "hex": "#e50000"
         },
         {
          "chunk": 8,
          "color": "red",
          "count": 0,
          "hex": "#e50000"
         },
         {
          "chunk": 9,
          "color": "red",
          "count": 0,
          "hex": "#e50000"
         },
         {
          "chunk": 10,
          "color": "red",
          "count": 2,
          "hex": "#e50000"
         },
         {
          "chunk": 11,
          "color": "red",
          "count": 0,
          "hex": "#e50000"
         },
         {
          "chunk": 12,
          "color": "red",
          "count": 0,
          "hex": "#e50000"
         },
         {
          "chunk": 13,
          "color": "red",
          "count": 3,
          "hex": "#e50000"
         },
         {
          "chunk": 14,
          "color": "red",
          "count": 0,
          "hex": "#e50000"
         },
         {
          "chunk": 15,
          "color": "red",
          "count": 0,
          "hex": "#e50000"
         },
         {
          "chunk": 16,
          "color": "red",
          "count": 1,
          "hex": "#e50000"
         },
         {
          "chunk": 17,
          "color": "red",
          "count": 2,
          "hex": "#e50000"
         },
         {
          "chunk": 18,
          "color": "red",
          "count": 1,
          "hex": "#e50000"
         },
         {
          "chunk": 19,
          "color": "red",
          "count": 0,
          "hex": "#e50000"
         },
         {
          "chunk": 20,
          "color": "red",
          "count": 0,
          "hex": "#e50000"
         },
         {
          "chunk": 21,
          "color": "red",
          "count": 2,
          "hex": "#e50000"
         },
         {
          "chunk": 22,
          "color": "red",
          "count": 0,
          "hex": "#e50000"
         },
         {
          "chunk": 23,
          "color": "red",
          "count": 1,
          "hex": "#e50000"
         },
         {
          "chunk": 24,
          "color": "red",
          "count": 1,
          "hex": "#e50000"
         },
         {
          "chunk": 25,
          "color": "red",
          "count": 0,
          "hex": "#e50000"
         },
         {
          "chunk": 26,
          "color": "red",
          "count": 0,
          "hex": "#e50000"
         },
         {
          "chunk": 27,
          "color": "red",
          "count": 2,
          "hex": "#e50000"
         },
         {
          "chunk": 28,
          "color": "red",
          "count": 0,
          "hex": "#e50000"
         },
         {
          "chunk": 29,
          "color": "red",
          "count": 0,
          "hex": "#e50000"
         },
         {
          "chunk": 30,
          "color": "red",
          "count": 1,
          "hex": "#e50000"
         },
         {
          "chunk": 31,
          "color": "red",
          "count": 0,
          "hex": "#e50000"
         },
         {
          "chunk": 32,
          "color": "red",
          "count": 1,
          "hex": "#e50000"
         },
         {
          "chunk": 33,
          "color": "red",
          "count": 1,
          "hex": "#e50000"
         },
         {
          "chunk": 34,
          "color": "red",
          "count": 0,
          "hex": "#e50000"
         },
         {
          "chunk": 35,
          "color": "red",
          "count": 0,
          "hex": "#e50000"
         },
         {
          "chunk": 36,
          "color": "red",
          "count": 1,
          "hex": "#e50000"
         },
         {
          "chunk": 37,
          "color": "red",
          "count": 1,
          "hex": "#e50000"
         },
         {
          "chunk": 38,
          "color": "red",
          "count": 0,
          "hex": "#e50000"
         },
         {
          "chunk": 39,
          "color": "red",
          "count": 0,
          "hex": "#e50000"
         },
         {
          "chunk": 0,
          "color": "brown",
          "count": 0,
          "hex": "#653700"
         },
         {
          "chunk": 1,
          "color": "brown",
          "count": 0,
          "hex": "#653700"
         },
         {
          "chunk": 2,
          "color": "brown",
          "count": 1,
          "hex": "#653700"
         },
         {
          "chunk": 3,
          "color": "brown",
          "count": 0,
          "hex": "#653700"
         },
         {
          "chunk": 4,
          "color": "brown",
          "count": 0,
          "hex": "#653700"
         },
         {
          "chunk": 5,
          "color": "brown",
          "count": 1,
          "hex": "#653700"
         },
         {
          "chunk": 6,
          "color": "brown",
          "count": 1,
          "hex": "#653700"
         },
         {
          "chunk": 7,
          "color": "brown",
          "count": 0,
          "hex": "#653700"
         },
         {
          "chunk": 8,
          "color": "brown",
          "count": 0,
          "hex": "#653700"
         },
         {
          "chunk": 9,
          "color": "brown",
          "count": 0,
          "hex": "#653700"
         },
         {
          "chunk": 10,
          "color": "brown",
          "count": 0,
          "hex": "#653700"
         },
         {
          "chunk": 11,
          "color": "brown",
          "count": 0,
          "hex": "#653700"
         },
         {
          "chunk": 12,
          "color": "brown",
          "count": 0,
          "hex": "#653700"
         },
         {
          "chunk": 13,
          "color": "brown",
          "count": 0,
          "hex": "#653700"
         },
         {
          "chunk": 14,
          "color": "brown",
          "count": 0,
          "hex": "#653700"
         },
         {
          "chunk": 15,
          "color": "brown",
          "count": 0,
          "hex": "#653700"
         },
         {
          "chunk": 16,
          "color": "brown",
          "count": 2,
          "hex": "#653700"
         },
         {
          "chunk": 17,
          "color": "brown",
          "count": 0,
          "hex": "#653700"
         },
         {
          "chunk": 18,
          "color": "brown",
          "count": 0,
          "hex": "#653700"
         },
         {
          "chunk": 19,
          "color": "brown",
          "count": 0,
          "hex": "#653700"
         },
         {
          "chunk": 20,
          "color": "brown",
          "count": 0,
          "hex": "#653700"
         },
         {
          "chunk": 21,
          "color": "brown",
          "count": 2,
          "hex": "#653700"
         },
         {
          "chunk": 22,
          "color": "brown",
          "count": 0,
          "hex": "#653700"
         },
         {
          "chunk": 23,
          "color": "brown",
          "count": 0,
          "hex": "#653700"
         },
         {
          "chunk": 24,
          "color": "brown",
          "count": 0,
          "hex": "#653700"
         },
         {
          "chunk": 25,
          "color": "brown",
          "count": 0,
          "hex": "#653700"
         },
         {
          "chunk": 26,
          "color": "brown",
          "count": 1,
          "hex": "#653700"
         },
         {
          "chunk": 27,
          "color": "brown",
          "count": 0,
          "hex": "#653700"
         },
         {
          "chunk": 28,
          "color": "brown",
          "count": 0,
          "hex": "#653700"
         },
         {
          "chunk": 29,
          "color": "brown",
          "count": 0,
          "hex": "#653700"
         },
         {
          "chunk": 30,
          "color": "brown",
          "count": 0,
          "hex": "#653700"
         },
         {
          "chunk": 31,
          "color": "brown",
          "count": 0,
          "hex": "#653700"
         },
         {
          "chunk": 32,
          "color": "brown",
          "count": 0,
          "hex": "#653700"
         },
         {
          "chunk": 33,
          "color": "brown",
          "count": 0,
          "hex": "#653700"
         },
         {
          "chunk": 34,
          "color": "brown",
          "count": 0,
          "hex": "#653700"
         },
         {
          "chunk": 35,
          "color": "brown",
          "count": 0,
          "hex": "#653700"
         },
         {
          "chunk": 36,
          "color": "brown",
          "count": 0,
          "hex": "#653700"
         },
         {
          "chunk": 37,
          "color": "brown",
          "count": 0,
          "hex": "#653700"
         },
         {
          "chunk": 38,
          "color": "brown",
          "count": 0,
          "hex": "#653700"
         },
         {
          "chunk": 39,
          "color": "brown",
          "count": 0,
          "hex": "#653700"
         },
         {
          "chunk": 0,
          "color": "pink",
          "count": 0,
          "hex": "#ff81c0"
         },
         {
          "chunk": 1,
          "color": "pink",
          "count": 0,
          "hex": "#ff81c0"
         },
         {
          "chunk": 2,
          "color": "pink",
          "count": 1,
          "hex": "#ff81c0"
         },
         {
          "chunk": 3,
          "color": "pink",
          "count": 0,
          "hex": "#ff81c0"
         },
         {
          "chunk": 4,
          "color": "pink",
          "count": 1,
          "hex": "#ff81c0"
         },
         {
          "chunk": 5,
          "color": "pink",
          "count": 0,
          "hex": "#ff81c0"
         },
         {
          "chunk": 6,
          "color": "pink",
          "count": 2,
          "hex": "#ff81c0"
         },
         {
          "chunk": 7,
          "color": "pink",
          "count": 1,
          "hex": "#ff81c0"
         },
         {
          "chunk": 8,
          "color": "pink",
          "count": 0,
          "hex": "#ff81c0"
         },
         {
          "chunk": 9,
          "color": "pink",
          "count": 0,
          "hex": "#ff81c0"
         },
         {
          "chunk": 10,
          "color": "pink",
          "count": 0,
          "hex": "#ff81c0"
         },
         {
          "chunk": 11,
          "color": "pink",
          "count": 0,
          "hex": "#ff81c0"
         },
         {
          "chunk": 12,
          "color": "pink",
          "count": 0,
          "hex": "#ff81c0"
         },
         {
          "chunk": 13,
          "color": "pink",
          "count": 0,
          "hex": "#ff81c0"
         },
         {
          "chunk": 14,
          "color": "pink",
          "count": 0,
          "hex": "#ff81c0"
         },
         {
          "chunk": 15,
          "color": "pink",
          "count": 0,
          "hex": "#ff81c0"
         },
         {
          "chunk": 16,
          "color": "pink",
          "count": 0,
          "hex": "#ff81c0"
         },
         {
          "chunk": 17,
          "color": "pink",
          "count": 1,
          "hex": "#ff81c0"
         },
         {
          "chunk": 18,
          "color": "pink",
          "count": 0,
          "hex": "#ff81c0"
         },
         {
          "chunk": 19,
          "color": "pink",
          "count": 2,
          "hex": "#ff81c0"
         },
         {
          "chunk": 20,
          "color": "pink",
          "count": 0,
          "hex": "#ff81c0"
         },
         {
          "chunk": 21,
          "color": "pink",
          "count": 1,
          "hex": "#ff81c0"
         },
         {
          "chunk": 22,
          "color": "pink",
          "count": 0,
          "hex": "#ff81c0"
         },
         {
          "chunk": 23,
          "color": "pink",
          "count": 0,
          "hex": "#ff81c0"
         },
         {
          "chunk": 24,
          "color": "pink",
          "count": 0,
          "hex": "#ff81c0"
         },
         {
          "chunk": 25,
          "color": "pink",
          "count": 1,
          "hex": "#ff81c0"
         },
         {
          "chunk": 26,
          "color": "pink",
          "count": 1,
          "hex": "#ff81c0"
         },
         {
          "chunk": 27,
          "color": "pink",
          "count": 0,
          "hex": "#ff81c0"
         },
         {
          "chunk": 28,
          "color": "pink",
          "count": 0,
          "hex": "#ff81c0"
         },
         {
          "chunk": 29,
          "color": "pink",
          "count": 0,
          "hex": "#ff81c0"
         },
         {
          "chunk": 30,
          "color": "pink",
          "count": 0,
          "hex": "#ff81c0"
         },
         {
          "chunk": 31,
          "color": "pink",
          "count": 1,
          "hex": "#ff81c0"
         },
         {
          "chunk": 32,
          "color": "pink",
          "count": 0,
          "hex": "#ff81c0"
         },
         {
          "chunk": 33,
          "color": "pink",
          "count": 1,
          "hex": "#ff81c0"
         },
         {
          "chunk": 34,
          "color": "pink",
          "count": 3,
          "hex": "#ff81c0"
         },
         {
          "chunk": 35,
          "color": "pink",
          "count": 0,
          "hex": "#ff81c0"
         },
         {
          "chunk": 36,
          "color": "pink",
          "count": 0,
          "hex": "#ff81c0"
         },
         {
          "chunk": 37,
          "color": "pink",
          "count": 0,
          "hex": "#ff81c0"
         },
         {
          "chunk": 38,
          "color": "pink",
          "count": 0,
          "hex": "#ff81c0"
         },
         {
          "chunk": 39,
          "color": "pink",
          "count": 1,
          "hex": "#ff81c0"
         },
         {
          "chunk": 0,
          "color": "pale",
          "count": 0,
          "hex": "#fff9d0"
         },
         {
          "chunk": 1,
          "color": "pale",
          "count": 0,
          "hex": "#fff9d0"
         },
         {
          "chunk": 2,
          "color": "pale",
          "count": 0,
          "hex": "#fff9d0"
         },
         {
          "chunk": 3,
          "color": "pale",
          "count": 2,
          "hex": "#fff9d0"
         },
         {
          "chunk": 4,
          "color": "pale",
          "count": 0,
          "hex": "#fff9d0"
         },
         {
          "chunk": 5,
          "color": "pale",
          "count": 0,
          "hex": "#fff9d0"
         },
         {
          "chunk": 6,
          "color": "pale",
          "count": 0,
          "hex": "#fff9d0"
         },
         {
          "chunk": 7,
          "color": "pale",
          "count": 0,
          "hex": "#fff9d0"
         },
         {
          "chunk": 8,
          "color": "pale",
          "count": 0,
          "hex": "#fff9d0"
         },
         {
          "chunk": 9,
          "color": "pale",
          "count": 0,
          "hex": "#fff9d0"
         },
         {
          "chunk": 10,
          "color": "pale",
          "count": 1,
          "hex": "#fff9d0"
         },
         {
          "chunk": 11,
          "color": "pale",
          "count": 1,
          "hex": "#fff9d0"
         },
         {
          "chunk": 12,
          "color": "pale",
          "count": 0,
          "hex": "#fff9d0"
         },
         {
          "chunk": 13,
          "color": "pale",
          "count": 0,
          "hex": "#fff9d0"
         },
         {
          "chunk": 14,
          "color": "pale",
          "count": 0,
          "hex": "#fff9d0"
         },
         {
          "chunk": 15,
          "color": "pale",
          "count": 0,
          "hex": "#fff9d0"
         },
         {
          "chunk": 16,
          "color": "pale",
          "count": 0,
          "hex": "#fff9d0"
         },
         {
          "chunk": 17,
          "color": "pale",
          "count": 0,
          "hex": "#fff9d0"
         },
         {
          "chunk": 18,
          "color": "pale",
          "count": 0,
          "hex": "#fff9d0"
         },
         {
          "chunk": 19,
          "color": "pale",
          "count": 0,
          "hex": "#fff9d0"
         },
         {
          "chunk": 20,
          "color": "pale",
          "count": 0,
          "hex": "#fff9d0"
         },
         {
          "chunk": 21,
          "color": "pale",
          "count": 0,
          "hex": "#fff9d0"
         },
         {
          "chunk": 22,
          "color": "pale",
          "count": 0,
          "hex": "#fff9d0"
         },
         {
          "chunk": 23,
          "color": "pale",
          "count": 0,
          "hex": "#fff9d0"
         },
         {
          "chunk": 24,
          "color": "pale",
          "count": 1,
          "hex": "#fff9d0"
         },
         {
          "chunk": 25,
          "color": "pale",
          "count": 0,
          "hex": "#fff9d0"
         },
         {
          "chunk": 26,
          "color": "pale",
          "count": 0,
          "hex": "#fff9d0"
         },
         {
          "chunk": 27,
          "color": "pale",
          "count": 0,
          "hex": "#fff9d0"
         },
         {
          "chunk": 28,
          "color": "pale",
          "count": 0,
          "hex": "#fff9d0"
         },
         {
          "chunk": 29,
          "color": "pale",
          "count": 0,
          "hex": "#fff9d0"
         },
         {
          "chunk": 30,
          "color": "pale",
          "count": 0,
          "hex": "#fff9d0"
         },
         {
          "chunk": 31,
          "color": "pale",
          "count": 0,
          "hex": "#fff9d0"
         },
         {
          "chunk": 32,
          "color": "pale",
          "count": 0,
          "hex": "#fff9d0"
         },
         {
          "chunk": 33,
          "color": "pale",
          "count": 0,
          "hex": "#fff9d0"
         },
         {
          "chunk": 34,
          "color": "pale",
          "count": 0,
          "hex": "#fff9d0"
         },
         {
          "chunk": 35,
          "color": "pale",
          "count": 0,
          "hex": "#fff9d0"
         },
         {
          "chunk": 36,
          "color": "pale",
          "count": 0,
          "hex": "#fff9d0"
         },
         {
          "chunk": 37,
          "color": "pale",
          "count": 0,
          "hex": "#fff9d0"
         },
         {
          "chunk": 38,
          "color": "pale",
          "count": 0,
          "hex": "#fff9d0"
         },
         {
          "chunk": 39,
          "color": "pale",
          "count": 0,
          "hex": "#fff9d0"
         },
         {
          "chunk": 0,
          "color": "bronze",
          "count": 0,
          "hex": "#a87900"
         },
         {
          "chunk": 1,
          "color": "bronze",
          "count": 0,
          "hex": "#a87900"
         },
         {
          "chunk": 2,
          "color": "bronze",
          "count": 0,
          "hex": "#a87900"
         },
         {
          "chunk": 3,
          "color": "bronze",
          "count": 1,
          "hex": "#a87900"
         },
         {
          "chunk": 4,
          "color": "bronze",
          "count": 0,
          "hex": "#a87900"
         },
         {
          "chunk": 5,
          "color": "bronze",
          "count": 0,
          "hex": "#a87900"
         },
         {
          "chunk": 6,
          "color": "bronze",
          "count": 0,
          "hex": "#a87900"
         },
         {
          "chunk": 7,
          "color": "bronze",
          "count": 0,
          "hex": "#a87900"
         },
         {
          "chunk": 8,
          "color": "bronze",
          "count": 0,
          "hex": "#a87900"
         },
         {
          "chunk": 9,
          "color": "bronze",
          "count": 0,
          "hex": "#a87900"
         },
         {
          "chunk": 10,
          "color": "bronze",
          "count": 0,
          "hex": "#a87900"
         },
         {
          "chunk": 11,
          "color": "bronze",
          "count": 0,
          "hex": "#a87900"
         },
         {
          "chunk": 12,
          "color": "bronze",
          "count": 0,
          "hex": "#a87900"
         },
         {
          "chunk": 13,
          "color": "bronze",
          "count": 0,
          "hex": "#a87900"
         },
         {
          "chunk": 14,
          "color": "bronze",
          "count": 0,
          "hex": "#a87900"
         },
         {
          "chunk": 15,
          "color": "bronze",
          "count": 0,
          "hex": "#a87900"
         },
         {
          "chunk": 16,
          "color": "bronze",
          "count": 0,
          "hex": "#a87900"
         },
         {
          "chunk": 17,
          "color": "bronze",
          "count": 0,
          "hex": "#a87900"
         },
         {
          "chunk": 18,
          "color": "bronze",
          "count": 0,
          "hex": "#a87900"
         },
         {
          "chunk": 19,
          "color": "bronze",
          "count": 0,
          "hex": "#a87900"
         },
         {
          "chunk": 20,
          "color": "bronze",
          "count": 0,
          "hex": "#a87900"
         },
         {
          "chunk": 21,
          "color": "bronze",
          "count": 0,
          "hex": "#a87900"
         },
         {
          "chunk": 22,
          "color": "bronze",
          "count": 0,
          "hex": "#a87900"
         },
         {
          "chunk": 23,
          "color": "bronze",
          "count": 0,
          "hex": "#a87900"
         },
         {
          "chunk": 24,
          "color": "bronze",
          "count": 0,
          "hex": "#a87900"
         },
         {
          "chunk": 25,
          "color": "bronze",
          "count": 0,
          "hex": "#a87900"
         },
         {
          "chunk": 26,
          "color": "bronze",
          "count": 0,
          "hex": "#a87900"
         },
         {
          "chunk": 27,
          "color": "bronze",
          "count": 0,
          "hex": "#a87900"
         },
         {
          "chunk": 28,
          "color": "bronze",
          "count": 0,
          "hex": "#a87900"
         },
         {
          "chunk": 29,
          "color": "bronze",
          "count": 0,
          "hex": "#a87900"
         },
         {
          "chunk": 30,
          "color": "bronze",
          "count": 0,
          "hex": "#a87900"
         },
         {
          "chunk": 31,
          "color": "bronze",
          "count": 0,
          "hex": "#a87900"
         },
         {
          "chunk": 32,
          "color": "bronze",
          "count": 0,
          "hex": "#a87900"
         },
         {
          "chunk": 33,
          "color": "bronze",
          "count": 0,
          "hex": "#a87900"
         },
         {
          "chunk": 34,
          "color": "bronze",
          "count": 0,
          "hex": "#a87900"
         },
         {
          "chunk": 35,
          "color": "bronze",
          "count": 0,
          "hex": "#a87900"
         },
         {
          "chunk": 36,
          "color": "bronze",
          "count": 0,
          "hex": "#a87900"
         },
         {
          "chunk": 37,
          "color": "bronze",
          "count": 0,
          "hex": "#a87900"
         },
         {
          "chunk": 38,
          "color": "bronze",
          "count": 0,
          "hex": "#a87900"
         },
         {
          "chunk": 39,
          "color": "bronze",
          "count": 0,
          "hex": "#a87900"
         },
         {
          "chunk": 0,
          "color": "lemon",
          "count": 0,
          "hex": "#fdff52"
         },
         {
          "chunk": 1,
          "color": "lemon",
          "count": 0,
          "hex": "#fdff52"
         },
         {
          "chunk": 2,
          "color": "lemon",
          "count": 0,
          "hex": "#fdff52"
         },
         {
          "chunk": 3,
          "color": "lemon",
          "count": 1,
          "hex": "#fdff52"
         },
         {
          "chunk": 4,
          "color": "lemon",
          "count": 0,
          "hex": "#fdff52"
         },
         {
          "chunk": 5,
          "color": "lemon",
          "count": 0,
          "hex": "#fdff52"
         },
         {
          "chunk": 6,
          "color": "lemon",
          "count": 0,
          "hex": "#fdff52"
         },
         {
          "chunk": 7,
          "color": "lemon",
          "count": 0,
          "hex": "#fdff52"
         },
         {
          "chunk": 8,
          "color": "lemon",
          "count": 0,
          "hex": "#fdff52"
         },
         {
          "chunk": 9,
          "color": "lemon",
          "count": 0,
          "hex": "#fdff52"
         },
         {
          "chunk": 10,
          "color": "lemon",
          "count": 0,
          "hex": "#fdff52"
         },
         {
          "chunk": 11,
          "color": "lemon",
          "count": 0,
          "hex": "#fdff52"
         },
         {
          "chunk": 12,
          "color": "lemon",
          "count": 0,
          "hex": "#fdff52"
         },
         {
          "chunk": 13,
          "color": "lemon",
          "count": 0,
          "hex": "#fdff52"
         },
         {
          "chunk": 14,
          "color": "lemon",
          "count": 0,
          "hex": "#fdff52"
         },
         {
          "chunk": 15,
          "color": "lemon",
          "count": 0,
          "hex": "#fdff52"
         },
         {
          "chunk": 16,
          "color": "lemon",
          "count": 0,
          "hex": "#fdff52"
         },
         {
          "chunk": 17,
          "color": "lemon",
          "count": 0,
          "hex": "#fdff52"
         },
         {
          "chunk": 18,
          "color": "lemon",
          "count": 0,
          "hex": "#fdff52"
         },
         {
          "chunk": 19,
          "color": "lemon",
          "count": 0,
          "hex": "#fdff52"
         },
         {
          "chunk": 20,
          "color": "lemon",
          "count": 0,
          "hex": "#fdff52"
         },
         {
          "chunk": 21,
          "color": "lemon",
          "count": 0,
          "hex": "#fdff52"
         },
         {
          "chunk": 22,
          "color": "lemon",
          "count": 0,
          "hex": "#fdff52"
         },
         {
          "chunk": 23,
          "color": "lemon",
          "count": 0,
          "hex": "#fdff52"
         },
         {
          "chunk": 24,
          "color": "lemon",
          "count": 0,
          "hex": "#fdff52"
         },
         {
          "chunk": 25,
          "color": "lemon",
          "count": 0,
          "hex": "#fdff52"
         },
         {
          "chunk": 26,
          "color": "lemon",
          "count": 0,
          "hex": "#fdff52"
         },
         {
          "chunk": 27,
          "color": "lemon",
          "count": 0,
          "hex": "#fdff52"
         },
         {
          "chunk": 28,
          "color": "lemon",
          "count": 0,
          "hex": "#fdff52"
         },
         {
          "chunk": 29,
          "color": "lemon",
          "count": 0,
          "hex": "#fdff52"
         },
         {
          "chunk": 30,
          "color": "lemon",
          "count": 0,
          "hex": "#fdff52"
         },
         {
          "chunk": 31,
          "color": "lemon",
          "count": 0,
          "hex": "#fdff52"
         },
         {
          "chunk": 32,
          "color": "lemon",
          "count": 0,
          "hex": "#fdff52"
         },
         {
          "chunk": 33,
          "color": "lemon",
          "count": 0,
          "hex": "#fdff52"
         },
         {
          "chunk": 34,
          "color": "lemon",
          "count": 0,
          "hex": "#fdff52"
         },
         {
          "chunk": 35,
          "color": "lemon",
          "count": 0,
          "hex": "#fdff52"
         },
         {
          "chunk": 36,
          "color": "lemon",
          "count": 0,
          "hex": "#fdff52"
         },
         {
          "chunk": 37,
          "color": "lemon",
          "count": 0,
          "hex": "#fdff52"
         },
         {
          "chunk": 38,
          "color": "lemon",
          "count": 0,
          "hex": "#fdff52"
         },
         {
          "chunk": 39,
          "color": "lemon",
          "count": 0,
          "hex": "#fdff52"
         },
         {
          "chunk": 0,
          "color": "sky",
          "count": 0,
          "hex": "#82cafc"
         },
         {
          "chunk": 1,
          "color": "sky",
          "count": 0,
          "hex": "#82cafc"
         },
         {
          "chunk": 2,
          "color": "sky",
          "count": 0,
          "hex": "#82cafc"
         },
         {
          "chunk": 3,
          "color": "sky",
          "count": 2,
          "hex": "#82cafc"
         },
         {
          "chunk": 4,
          "color": "sky",
          "count": 1,
          "hex": "#82cafc"
         },
         {
          "chunk": 5,
          "color": "sky",
          "count": 0,
          "hex": "#82cafc"
         },
         {
          "chunk": 6,
          "color": "sky",
          "count": 0,
          "hex": "#82cafc"
         },
         {
          "chunk": 7,
          "color": "sky",
          "count": 0,
          "hex": "#82cafc"
         },
         {
          "chunk": 8,
          "color": "sky",
          "count": 0,
          "hex": "#82cafc"
         },
         {
          "chunk": 9,
          "color": "sky",
          "count": 0,
          "hex": "#82cafc"
         },
         {
          "chunk": 10,
          "color": "sky",
          "count": 0,
          "hex": "#82cafc"
         },
         {
          "chunk": 11,
          "color": "sky",
          "count": 3,
          "hex": "#82cafc"
         },
         {
          "chunk": 12,
          "color": "sky",
          "count": 0,
          "hex": "#82cafc"
         },
         {
          "chunk": 13,
          "color": "sky",
          "count": 1,
          "hex": "#82cafc"
         },
         {
          "chunk": 14,
          "color": "sky",
          "count": 0,
          "hex": "#82cafc"
         },
         {
          "chunk": 15,
          "color": "sky",
          "count": 0,
          "hex": "#82cafc"
         },
         {
          "chunk": 16,
          "color": "sky",
          "count": 0,
          "hex": "#82cafc"
         },
         {
          "chunk": 17,
          "color": "sky",
          "count": 0,
          "hex": "#82cafc"
         },
         {
          "chunk": 18,
          "color": "sky",
          "count": 0,
          "hex": "#82cafc"
         },
         {
          "chunk": 19,
          "color": "sky",
          "count": 0,
          "hex": "#82cafc"
         },
         {
          "chunk": 20,
          "color": "sky",
          "count": 0,
          "hex": "#82cafc"
         },
         {
          "chunk": 21,
          "color": "sky",
          "count": 0,
          "hex": "#82cafc"
         },
         {
          "chunk": 22,
          "color": "sky",
          "count": 0,
          "hex": "#82cafc"
         },
         {
          "chunk": 23,
          "color": "sky",
          "count": 0,
          "hex": "#82cafc"
         },
         {
          "chunk": 24,
          "color": "sky",
          "count": 0,
          "hex": "#82cafc"
         },
         {
          "chunk": 25,
          "color": "sky",
          "count": 0,
          "hex": "#82cafc"
         },
         {
          "chunk": 26,
          "color": "sky",
          "count": 0,
          "hex": "#82cafc"
         },
         {
          "chunk": 27,
          "color": "sky",
          "count": 0,
          "hex": "#82cafc"
         },
         {
          "chunk": 28,
          "color": "sky",
          "count": 0,
          "hex": "#82cafc"
         },
         {
          "chunk": 29,
          "color": "sky",
          "count": 0,
          "hex": "#82cafc"
         },
         {
          "chunk": 30,
          "color": "sky",
          "count": 0,
          "hex": "#82cafc"
         },
         {
          "chunk": 31,
          "color": "sky",
          "count": 0,
          "hex": "#82cafc"
         },
         {
          "chunk": 32,
          "color": "sky",
          "count": 0,
          "hex": "#82cafc"
         },
         {
          "chunk": 33,
          "color": "sky",
          "count": 0,
          "hex": "#82cafc"
         },
         {
          "chunk": 34,
          "color": "sky",
          "count": 0,
          "hex": "#82cafc"
         },
         {
          "chunk": 35,
          "color": "sky",
          "count": 0,
          "hex": "#82cafc"
         },
         {
          "chunk": 36,
          "color": "sky",
          "count": 0,
          "hex": "#82cafc"
         },
         {
          "chunk": 37,
          "color": "sky",
          "count": 0,
          "hex": "#82cafc"
         },
         {
          "chunk": 38,
          "color": "sky",
          "count": 1,
          "hex": "#82cafc"
         },
         {
          "chunk": 39,
          "color": "sky",
          "count": 0,
          "hex": "#82cafc"
         },
         {
          "chunk": 0,
          "color": "stone",
          "count": 0,
          "hex": "#ada587"
         },
         {
          "chunk": 1,
          "color": "stone",
          "count": 0,
          "hex": "#ada587"
         },
         {
          "chunk": 2,
          "color": "stone",
          "count": 0,
          "hex": "#ada587"
         },
         {
          "chunk": 3,
          "color": "stone",
          "count": 0,
          "hex": "#ada587"
         },
         {
          "chunk": 4,
          "color": "stone",
          "count": 1,
          "hex": "#ada587"
         },
         {
          "chunk": 5,
          "color": "stone",
          "count": 0,
          "hex": "#ada587"
         },
         {
          "chunk": 6,
          "color": "stone",
          "count": 1,
          "hex": "#ada587"
         },
         {
          "chunk": 7,
          "color": "stone",
          "count": 0,
          "hex": "#ada587"
         },
         {
          "chunk": 8,
          "color": "stone",
          "count": 0,
          "hex": "#ada587"
         },
         {
          "chunk": 9,
          "color": "stone",
          "count": 0,
          "hex": "#ada587"
         },
         {
          "chunk": 10,
          "color": "stone",
          "count": 0,
          "hex": "#ada587"
         },
         {
          "chunk": 11,
          "color": "stone",
          "count": 0,
          "hex": "#ada587"
         },
         {
          "chunk": 12,
          "color": "stone",
          "count": 0,
          "hex": "#ada587"
         },
         {
          "chunk": 13,
          "color": "stone",
          "count": 0,
          "hex": "#ada587"
         },
         {
          "chunk": 14,
          "color": "stone",
          "count": 0,
          "hex": "#ada587"
         },
         {
          "chunk": 15,
          "color": "stone",
          "count": 0,
          "hex": "#ada587"
         },
         {
          "chunk": 16,
          "color": "stone",
          "count": 0,
          "hex": "#ada587"
         },
         {
          "chunk": 17,
          "color": "stone",
          "count": 0,
          "hex": "#ada587"
         },
         {
          "chunk": 18,
          "color": "stone",
          "count": 1,
          "hex": "#ada587"
         },
         {
          "chunk": 19,
          "color": "stone",
          "count": 0,
          "hex": "#ada587"
         },
         {
          "chunk": 20,
          "color": "stone",
          "count": 1,
          "hex": "#ada587"
         },
         {
          "chunk": 21,
          "color": "stone",
          "count": 0,
          "hex": "#ada587"
         },
         {
          "chunk": 22,
          "color": "stone",
          "count": 0,
          "hex": "#ada587"
         },
         {
          "chunk": 23,
          "color": "stone",
          "count": 0,
          "hex": "#ada587"
         },
         {
          "chunk": 24,
          "color": "stone",
          "count": 0,
          "hex": "#ada587"
         },
         {
          "chunk": 25,
          "color": "stone",
          "count": 0,
          "hex": "#ada587"
         },
         {
          "chunk": 26,
          "color": "stone",
          "count": 0,
          "hex": "#ada587"
         },
         {
          "chunk": 27,
          "color": "stone",
          "count": 1,
          "hex": "#ada587"
         },
         {
          "chunk": 28,
          "color": "stone",
          "count": 0,
          "hex": "#ada587"
         },
         {
          "chunk": 29,
          "color": "stone",
          "count": 0,
          "hex": "#ada587"
         },
         {
          "chunk": 30,
          "color": "stone",
          "count": 1,
          "hex": "#ada587"
         },
         {
          "chunk": 31,
          "color": "stone",
          "count": 0,
          "hex": "#ada587"
         },
         {
          "chunk": 32,
          "color": "stone",
          "count": 0,
          "hex": "#ada587"
         },
         {
          "chunk": 33,
          "color": "stone",
          "count": 0,
          "hex": "#ada587"
         },
         {
          "chunk": 34,
          "color": "stone",
          "count": 0,
          "hex": "#ada587"
         },
         {
          "chunk": 35,
          "color": "stone",
          "count": 0,
          "hex": "#ada587"
         },
         {
          "chunk": 36,
          "color": "stone",
          "count": 0,
          "hex": "#ada587"
         },
         {
          "chunk": 37,
          "color": "stone",
          "count": 0,
          "hex": "#ada587"
         },
         {
          "chunk": 38,
          "color": "stone",
          "count": 0,
          "hex": "#ada587"
         },
         {
          "chunk": 39,
          "color": "stone",
          "count": 0,
          "hex": "#ada587"
         },
         {
          "chunk": 0,
          "color": "red brown",
          "count": 0,
          "hex": "#8b2e16"
         },
         {
          "chunk": 1,
          "color": "red brown",
          "count": 0,
          "hex": "#8b2e16"
         },
         {
          "chunk": 2,
          "color": "red brown",
          "count": 0,
          "hex": "#8b2e16"
         },
         {
          "chunk": 3,
          "color": "red brown",
          "count": 0,
          "hex": "#8b2e16"
         },
         {
          "chunk": 4,
          "color": "red brown",
          "count": 1,
          "hex": "#8b2e16"
         },
         {
          "chunk": 5,
          "color": "red brown",
          "count": 0,
          "hex": "#8b2e16"
         },
         {
          "chunk": 6,
          "color": "red brown",
          "count": 0,
          "hex": "#8b2e16"
         },
         {
          "chunk": 7,
          "color": "red brown",
          "count": 0,
          "hex": "#8b2e16"
         },
         {
          "chunk": 8,
          "color": "red brown",
          "count": 0,
          "hex": "#8b2e16"
         },
         {
          "chunk": 9,
          "color": "red brown",
          "count": 0,
          "hex": "#8b2e16"
         },
         {
          "chunk": 10,
          "color": "red brown",
          "count": 0,
          "hex": "#8b2e16"
         },
         {
          "chunk": 11,
          "color": "red brown",
          "count": 0,
          "hex": "#8b2e16"
         },
         {
          "chunk": 12,
          "color": "red brown",
          "count": 0,
          "hex": "#8b2e16"
         },
         {
          "chunk": 13,
          "color": "red brown",
          "count": 0,
          "hex": "#8b2e16"
         },
         {
          "chunk": 14,
          "color": "red brown",
          "count": 0,
          "hex": "#8b2e16"
         },
         {
          "chunk": 15,
          "color": "red brown",
          "count": 0,
          "hex": "#8b2e16"
         },
         {
          "chunk": 16,
          "color": "red brown",
          "count": 0,
          "hex": "#8b2e16"
         },
         {
          "chunk": 17,
          "color": "red brown",
          "count": 0,
          "hex": "#8b2e16"
         },
         {
          "chunk": 18,
          "color": "red brown",
          "count": 0,
          "hex": "#8b2e16"
         },
         {
          "chunk": 19,
          "color": "red brown",
          "count": 0,
          "hex": "#8b2e16"
         },
         {
          "chunk": 20,
          "color": "red brown",
          "count": 0,
          "hex": "#8b2e16"
         },
         {
          "chunk": 21,
          "color": "red brown",
          "count": 0,
          "hex": "#8b2e16"
         },
         {
          "chunk": 22,
          "color": "red brown",
          "count": 0,
          "hex": "#8b2e16"
         },
         {
          "chunk": 23,
          "color": "red brown",
          "count": 0,
          "hex": "#8b2e16"
         },
         {
          "chunk": 24,
          "color": "red brown",
          "count": 0,
          "hex": "#8b2e16"
         },
         {
          "chunk": 25,
          "color": "red brown",
          "count": 0,
          "hex": "#8b2e16"
         },
         {
          "chunk": 26,
          "color": "red brown",
          "count": 0,
          "hex": "#8b2e16"
         },
         {
          "chunk": 27,
          "color": "red brown",
          "count": 0,
          "hex": "#8b2e16"
         },
         {
          "chunk": 28,
          "color": "red brown",
          "count": 0,
          "hex": "#8b2e16"
         },
         {
          "chunk": 29,
          "color": "red brown",
          "count": 0,
          "hex": "#8b2e16"
         },
         {
          "chunk": 30,
          "color": "red brown",
          "count": 0,
          "hex": "#8b2e16"
         },
         {
          "chunk": 31,
          "color": "red brown",
          "count": 0,
          "hex": "#8b2e16"
         },
         {
          "chunk": 32,
          "color": "red brown",
          "count": 0,
          "hex": "#8b2e16"
         },
         {
          "chunk": 33,
          "color": "red brown",
          "count": 0,
          "hex": "#8b2e16"
         },
         {
          "chunk": 34,
          "color": "red brown",
          "count": 0,
          "hex": "#8b2e16"
         },
         {
          "chunk": 35,
          "color": "red brown",
          "count": 0,
          "hex": "#8b2e16"
         },
         {
          "chunk": 36,
          "color": "red brown",
          "count": 0,
          "hex": "#8b2e16"
         },
         {
          "chunk": 37,
          "color": "red brown",
          "count": 0,
          "hex": "#8b2e16"
         },
         {
          "chunk": 38,
          "color": "red brown",
          "count": 0,
          "hex": "#8b2e16"
         },
         {
          "chunk": 39,
          "color": "red brown",
          "count": 0,
          "hex": "#8b2e16"
         },
         {
          "chunk": 0,
          "color": "rose",
          "count": 0,
          "hex": "#cf6275"
         },
         {
          "chunk": 1,
          "color": "rose",
          "count": 0,
          "hex": "#cf6275"
         },
         {
          "chunk": 2,
          "color": "rose",
          "count": 0,
          "hex": "#cf6275"
         },
         {
          "chunk": 3,
          "color": "rose",
          "count": 0,
          "hex": "#cf6275"
         },
         {
          "chunk": 4,
          "color": "rose",
          "count": 1,
          "hex": "#cf6275"
         },
         {
          "chunk": 5,
          "color": "rose",
          "count": 2,
          "hex": "#cf6275"
         },
         {
          "chunk": 6,
          "color": "rose",
          "count": 0,
          "hex": "#cf6275"
         },
         {
          "chunk": 7,
          "color": "rose",
          "count": 1,
          "hex": "#cf6275"
         },
         {
          "chunk": 8,
          "color": "rose",
          "count": 2,
          "hex": "#cf6275"
         },
         {
          "chunk": 9,
          "color": "rose",
          "count": 1,
          "hex": "#cf6275"
         },
         {
          "chunk": 10,
          "color": "rose",
          "count": 0,
          "hex": "#cf6275"
         },
         {
          "chunk": 11,
          "color": "rose",
          "count": 0,
          "hex": "#cf6275"
         },
         {
          "chunk": 12,
          "color": "rose",
          "count": 0,
          "hex": "#cf6275"
         },
         {
          "chunk": 13,
          "color": "rose",
          "count": 2,
          "hex": "#cf6275"
         },
         {
          "chunk": 14,
          "color": "rose",
          "count": 1,
          "hex": "#cf6275"
         },
         {
          "chunk": 15,
          "color": "rose",
          "count": 0,
          "hex": "#cf6275"
         },
         {
          "chunk": 16,
          "color": "rose",
          "count": 0,
          "hex": "#cf6275"
         },
         {
          "chunk": 17,
          "color": "rose",
          "count": 0,
          "hex": "#cf6275"
         },
         {
          "chunk": 18,
          "color": "rose",
          "count": 0,
          "hex": "#cf6275"
         },
         {
          "chunk": 19,
          "color": "rose",
          "count": 0,
          "hex": "#cf6275"
         },
         {
          "chunk": 20,
          "color": "rose",
          "count": 0,
          "hex": "#cf6275"
         },
         {
          "chunk": 21,
          "color": "rose",
          "count": 0,
          "hex": "#cf6275"
         },
         {
          "chunk": 22,
          "color": "rose",
          "count": 0,
          "hex": "#cf6275"
         },
         {
          "chunk": 23,
          "color": "rose",
          "count": 0,
          "hex": "#cf6275"
         },
         {
          "chunk": 24,
          "color": "rose",
          "count": 0,
          "hex": "#cf6275"
         },
         {
          "chunk": 25,
          "color": "rose",
          "count": 1,
          "hex": "#cf6275"
         },
         {
          "chunk": 26,
          "color": "rose",
          "count": 0,
          "hex": "#cf6275"
         },
         {
          "chunk": 27,
          "color": "rose",
          "count": 1,
          "hex": "#cf6275"
         },
         {
          "chunk": 28,
          "color": "rose",
          "count": 0,
          "hex": "#cf6275"
         },
         {
          "chunk": 29,
          "color": "rose",
          "count": 2,
          "hex": "#cf6275"
         },
         {
          "chunk": 30,
          "color": "rose",
          "count": 0,
          "hex": "#cf6275"
         },
         {
          "chunk": 31,
          "color": "rose",
          "count": 0,
          "hex": "#cf6275"
         },
         {
          "chunk": 32,
          "color": "rose",
          "count": 0,
          "hex": "#cf6275"
         },
         {
          "chunk": 33,
          "color": "rose",
          "count": 0,
          "hex": "#cf6275"
         },
         {
          "chunk": 34,
          "color": "rose",
          "count": 0,
          "hex": "#cf6275"
         },
         {
          "chunk": 35,
          "color": "rose",
          "count": 0,
          "hex": "#cf6275"
         },
         {
          "chunk": 36,
          "color": "rose",
          "count": 0,
          "hex": "#cf6275"
         },
         {
          "chunk": 37,
          "color": "rose",
          "count": 0,
          "hex": "#cf6275"
         },
         {
          "chunk": 38,
          "color": "rose",
          "count": 0,
          "hex": "#cf6275"
         },
         {
          "chunk": 39,
          "color": "rose",
          "count": 0,
          "hex": "#cf6275"
         },
         {
          "chunk": 0,
          "color": "blue",
          "count": 0,
          "hex": "#0343df"
         },
         {
          "chunk": 1,
          "color": "blue",
          "count": 0,
          "hex": "#0343df"
         },
         {
          "chunk": 2,
          "color": "blue",
          "count": 0,
          "hex": "#0343df"
         },
         {
          "chunk": 3,
          "color": "blue",
          "count": 0,
          "hex": "#0343df"
         },
         {
          "chunk": 4,
          "color": "blue",
          "count": 2,
          "hex": "#0343df"
         },
         {
          "chunk": 5,
          "color": "blue",
          "count": 0,
          "hex": "#0343df"
         },
         {
          "chunk": 6,
          "color": "blue",
          "count": 0,
          "hex": "#0343df"
         },
         {
          "chunk": 7,
          "color": "blue",
          "count": 0,
          "hex": "#0343df"
         },
         {
          "chunk": 8,
          "color": "blue",
          "count": 1,
          "hex": "#0343df"
         },
         {
          "chunk": 9,
          "color": "blue",
          "count": 0,
          "hex": "#0343df"
         },
         {
          "chunk": 10,
          "color": "blue",
          "count": 0,
          "hex": "#0343df"
         },
         {
          "chunk": 11,
          "color": "blue",
          "count": 0,
          "hex": "#0343df"
         },
         {
          "chunk": 12,
          "color": "blue",
          "count": 0,
          "hex": "#0343df"
         },
         {
          "chunk": 13,
          "color": "blue",
          "count": 0,
          "hex": "#0343df"
         },
         {
          "chunk": 14,
          "color": "blue",
          "count": 1,
          "hex": "#0343df"
         },
         {
          "chunk": 15,
          "color": "blue",
          "count": 0,
          "hex": "#0343df"
         },
         {
          "chunk": 16,
          "color": "blue",
          "count": 1,
          "hex": "#0343df"
         },
         {
          "chunk": 17,
          "color": "blue",
          "count": 0,
          "hex": "#0343df"
         },
         {
          "chunk": 18,
          "color": "blue",
          "count": 0,
          "hex": "#0343df"
         },
         {
          "chunk": 19,
          "color": "blue",
          "count": 0,
          "hex": "#0343df"
         },
         {
          "chunk": 20,
          "color": "blue",
          "count": 0,
          "hex": "#0343df"
         },
         {
          "chunk": 21,
          "color": "blue",
          "count": 0,
          "hex": "#0343df"
         },
         {
          "chunk": 22,
          "color": "blue",
          "count": 0,
          "hex": "#0343df"
         },
         {
          "chunk": 23,
          "color": "blue",
          "count": 0,
          "hex": "#0343df"
         },
         {
          "chunk": 24,
          "color": "blue",
          "count": 0,
          "hex": "#0343df"
         },
         {
          "chunk": 25,
          "color": "blue",
          "count": 0,
          "hex": "#0343df"
         },
         {
          "chunk": 26,
          "color": "blue",
          "count": 0,
          "hex": "#0343df"
         },
         {
          "chunk": 27,
          "color": "blue",
          "count": 0,
          "hex": "#0343df"
         },
         {
          "chunk": 28,
          "color": "blue",
          "count": 1,
          "hex": "#0343df"
         },
         {
          "chunk": 29,
          "color": "blue",
          "count": 1,
          "hex": "#0343df"
         },
         {
          "chunk": 30,
          "color": "blue",
          "count": 0,
          "hex": "#0343df"
         },
         {
          "chunk": 31,
          "color": "blue",
          "count": 2,
          "hex": "#0343df"
         },
         {
          "chunk": 32,
          "color": "blue",
          "count": 0,
          "hex": "#0343df"
         },
         {
          "chunk": 33,
          "color": "blue",
          "count": 1,
          "hex": "#0343df"
         },
         {
          "chunk": 34,
          "color": "blue",
          "count": 0,
          "hex": "#0343df"
         },
         {
          "chunk": 35,
          "color": "blue",
          "count": 0,
          "hex": "#0343df"
         },
         {
          "chunk": 36,
          "color": "blue",
          "count": 0,
          "hex": "#0343df"
         },
         {
          "chunk": 37,
          "color": "blue",
          "count": 1,
          "hex": "#0343df"
         },
         {
          "chunk": 38,
          "color": "blue",
          "count": 0,
          "hex": "#0343df"
         },
         {
          "chunk": 39,
          "color": "blue",
          "count": 0,
          "hex": "#0343df"
         },
         {
          "chunk": 0,
          "color": "grey",
          "count": 0,
          "hex": "#929591"
         },
         {
          "chunk": 1,
          "color": "grey",
          "count": 0,
          "hex": "#929591"
         },
         {
          "chunk": 2,
          "color": "grey",
          "count": 0,
          "hex": "#929591"
         },
         {
          "chunk": 3,
          "color": "grey",
          "count": 0,
          "hex": "#929591"
         },
         {
          "chunk": 4,
          "color": "grey",
          "count": 0,
          "hex": "#929591"
         },
         {
          "chunk": 5,
          "color": "grey",
          "count": 1,
          "hex": "#929591"
         },
         {
          "chunk": 6,
          "color": "grey",
          "count": 0,
          "hex": "#929591"
         },
         {
          "chunk": 7,
          "color": "grey",
          "count": 0,
          "hex": "#929591"
         },
         {
          "chunk": 8,
          "color": "grey",
          "count": 1,
          "hex": "#929591"
         },
         {
          "chunk": 9,
          "color": "grey",
          "count": 0,
          "hex": "#929591"
         },
         {
          "chunk": 10,
          "color": "grey",
          "count": 0,
          "hex": "#929591"
         },
         {
          "chunk": 11,
          "color": "grey",
          "count": 3,
          "hex": "#929591"
         },
         {
          "chunk": 12,
          "color": "grey",
          "count": 0,
          "hex": "#929591"
         },
         {
          "chunk": 13,
          "color": "grey",
          "count": 1,
          "hex": "#929591"
         },
         {
          "chunk": 14,
          "color": "grey",
          "count": 2,
          "hex": "#929591"
         },
         {
          "chunk": 15,
          "color": "grey",
          "count": 0,
          "hex": "#929591"
         },
         {
          "chunk": 16,
          "color": "grey",
          "count": 1,
          "hex": "#929591"
         },
         {
          "chunk": 17,
          "color": "grey",
          "count": 0,
          "hex": "#929591"
         },
         {
          "chunk": 18,
          "color": "grey",
          "count": 0,
          "hex": "#929591"
         },
         {
          "chunk": 19,
          "color": "grey",
          "count": 5,
          "hex": "#929591"
         },
         {
          "chunk": 20,
          "color": "grey",
          "count": 1,
          "hex": "#929591"
         },
         {
          "chunk": 21,
          "color": "grey",
          "count": 1,
          "hex": "#929591"
         },
         {
          "chunk": 22,
          "color": "grey",
          "count": 0,
          "hex": "#929591"
         },
         {
          "chunk": 23,
          "color": "grey",
          "count": 0,
          "hex": "#929591"
         },
         {
          "chunk": 24,
          "color": "grey",
          "count": 0,
          "hex": "#929591"
         },
         {
          "chunk": 25,
          "color": "grey",
          "count": 0,
          "hex": "#929591"
         },
         {
          "chunk": 26,
          "color": "grey",
          "count": 0,
          "hex": "#929591"
         },
         {
          "chunk": 27,
          "color": "grey",
          "count": 3,
          "hex": "#929591"
         },
         {
          "chunk": 28,
          "color": "grey",
          "count": 0,
          "hex": "#929591"
         },
         {
          "chunk": 29,
          "color": "grey",
          "count": 0,
          "hex": "#929591"
         },
         {
          "chunk": 30,
          "color": "grey",
          "count": 0,
          "hex": "#929591"
         },
         {
          "chunk": 31,
          "color": "grey",
          "count": 0,
          "hex": "#929591"
         },
         {
          "chunk": 32,
          "color": "grey",
          "count": 0,
          "hex": "#929591"
         },
         {
          "chunk": 33,
          "color": "grey",
          "count": 1,
          "hex": "#929591"
         },
         {
          "chunk": 34,
          "color": "grey",
          "count": 0,
          "hex": "#929591"
         },
         {
          "chunk": 35,
          "color": "grey",
          "count": 1,
          "hex": "#929591"
         },
         {
          "chunk": 36,
          "color": "grey",
          "count": 1,
          "hex": "#929591"
         },
         {
          "chunk": 37,
          "color": "grey",
          "count": 2,
          "hex": "#929591"
         },
         {
          "chunk": 38,
          "color": "grey",
          "count": 0,
          "hex": "#929591"
         },
         {
          "chunk": 39,
          "color": "grey",
          "count": 0,
          "hex": "#929591"
         },
         {
          "chunk": 0,
          "color": "yellow",
          "count": 0,
          "hex": "#ffff14"
         },
         {
          "chunk": 1,
          "color": "yellow",
          "count": 0,
          "hex": "#ffff14"
         },
         {
          "chunk": 2,
          "color": "yellow",
          "count": 0,
          "hex": "#ffff14"
         },
         {
          "chunk": 3,
          "color": "yellow",
          "count": 0,
          "hex": "#ffff14"
         },
         {
          "chunk": 4,
          "color": "yellow",
          "count": 0,
          "hex": "#ffff14"
         },
         {
          "chunk": 5,
          "color": "yellow",
          "count": 1,
          "hex": "#ffff14"
         },
         {
          "chunk": 6,
          "color": "yellow",
          "count": 0,
          "hex": "#ffff14"
         },
         {
          "chunk": 7,
          "color": "yellow",
          "count": 0,
          "hex": "#ffff14"
         },
         {
          "chunk": 8,
          "color": "yellow",
          "count": 0,
          "hex": "#ffff14"
         },
         {
          "chunk": 9,
          "color": "yellow",
          "count": 0,
          "hex": "#ffff14"
         },
         {
          "chunk": 10,
          "color": "yellow",
          "count": 1,
          "hex": "#ffff14"
         },
         {
          "chunk": 11,
          "color": "yellow",
          "count": 1,
          "hex": "#ffff14"
         },
         {
          "chunk": 12,
          "color": "yellow",
          "count": 0,
          "hex": "#ffff14"
         },
         {
          "chunk": 13,
          "color": "yellow",
          "count": 1,
          "hex": "#ffff14"
         },
         {
          "chunk": 14,
          "color": "yellow",
          "count": 0,
          "hex": "#ffff14"
         },
         {
          "chunk": 15,
          "color": "yellow",
          "count": 0,
          "hex": "#ffff14"
         },
         {
          "chunk": 16,
          "color": "yellow",
          "count": 0,
          "hex": "#ffff14"
         },
         {
          "chunk": 17,
          "color": "yellow",
          "count": 0,
          "hex": "#ffff14"
         },
         {
          "chunk": 18,
          "color": "yellow",
          "count": 0,
          "hex": "#ffff14"
         },
         {
          "chunk": 19,
          "color": "yellow",
          "count": 0,
          "hex": "#ffff14"
         },
         {
          "chunk": 20,
          "color": "yellow",
          "count": 0,
          "hex": "#ffff14"
         },
         {
          "chunk": 21,
          "color": "yellow",
          "count": 0,
          "hex": "#ffff14"
         },
         {
          "chunk": 22,
          "color": "yellow",
          "count": 3,
          "hex": "#ffff14"
         },
         {
          "chunk": 23,
          "color": "yellow",
          "count": 1,
          "hex": "#ffff14"
         },
         {
          "chunk": 24,
          "color": "yellow",
          "count": 0,
          "hex": "#ffff14"
         },
         {
          "chunk": 25,
          "color": "yellow",
          "count": 0,
          "hex": "#ffff14"
         },
         {
          "chunk": 26,
          "color": "yellow",
          "count": 0,
          "hex": "#ffff14"
         },
         {
          "chunk": 27,
          "color": "yellow",
          "count": 1,
          "hex": "#ffff14"
         },
         {
          "chunk": 28,
          "color": "yellow",
          "count": 0,
          "hex": "#ffff14"
         },
         {
          "chunk": 29,
          "color": "yellow",
          "count": 0,
          "hex": "#ffff14"
         },
         {
          "chunk": 30,
          "color": "yellow",
          "count": 0,
          "hex": "#ffff14"
         },
         {
          "chunk": 31,
          "color": "yellow",
          "count": 0,
          "hex": "#ffff14"
         },
         {
          "chunk": 32,
          "color": "yellow",
          "count": 0,
          "hex": "#ffff14"
         },
         {
          "chunk": 33,
          "color": "yellow",
          "count": 1,
          "hex": "#ffff14"
         },
         {
          "chunk": 34,
          "color": "yellow",
          "count": 1,
          "hex": "#ffff14"
         },
         {
          "chunk": 35,
          "color": "yellow",
          "count": 0,
          "hex": "#ffff14"
         },
         {
          "chunk": 36,
          "color": "yellow",
          "count": 1,
          "hex": "#ffff14"
         },
         {
          "chunk": 37,
          "color": "yellow",
          "count": 0,
          "hex": "#ffff14"
         },
         {
          "chunk": 38,
          "color": "yellow",
          "count": 0,
          "hex": "#ffff14"
         },
         {
          "chunk": 39,
          "color": "yellow",
          "count": 0,
          "hex": "#ffff14"
         },
         {
          "chunk": 0,
          "color": "ruby",
          "count": 0,
          "hex": "#ca0147"
         },
         {
          "chunk": 1,
          "color": "ruby",
          "count": 0,
          "hex": "#ca0147"
         },
         {
          "chunk": 2,
          "color": "ruby",
          "count": 0,
          "hex": "#ca0147"
         },
         {
          "chunk": 3,
          "color": "ruby",
          "count": 0,
          "hex": "#ca0147"
         },
         {
          "chunk": 4,
          "color": "ruby",
          "count": 0,
          "hex": "#ca0147"
         },
         {
          "chunk": 5,
          "color": "ruby",
          "count": 0,
          "hex": "#ca0147"
         },
         {
          "chunk": 6,
          "color": "ruby",
          "count": 1,
          "hex": "#ca0147"
         },
         {
          "chunk": 7,
          "color": "ruby",
          "count": 0,
          "hex": "#ca0147"
         },
         {
          "chunk": 8,
          "color": "ruby",
          "count": 0,
          "hex": "#ca0147"
         },
         {
          "chunk": 9,
          "color": "ruby",
          "count": 0,
          "hex": "#ca0147"
         },
         {
          "chunk": 10,
          "color": "ruby",
          "count": 0,
          "hex": "#ca0147"
         },
         {
          "chunk": 11,
          "color": "ruby",
          "count": 0,
          "hex": "#ca0147"
         },
         {
          "chunk": 12,
          "color": "ruby",
          "count": 0,
          "hex": "#ca0147"
         },
         {
          "chunk": 13,
          "color": "ruby",
          "count": 0,
          "hex": "#ca0147"
         },
         {
          "chunk": 14,
          "color": "ruby",
          "count": 0,
          "hex": "#ca0147"
         },
         {
          "chunk": 15,
          "color": "ruby",
          "count": 0,
          "hex": "#ca0147"
         },
         {
          "chunk": 16,
          "color": "ruby",
          "count": 0,
          "hex": "#ca0147"
         },
         {
          "chunk": 17,
          "color": "ruby",
          "count": 0,
          "hex": "#ca0147"
         },
         {
          "chunk": 18,
          "color": "ruby",
          "count": 0,
          "hex": "#ca0147"
         },
         {
          "chunk": 19,
          "color": "ruby",
          "count": 0,
          "hex": "#ca0147"
         },
         {
          "chunk": 20,
          "color": "ruby",
          "count": 0,
          "hex": "#ca0147"
         },
         {
          "chunk": 21,
          "color": "ruby",
          "count": 0,
          "hex": "#ca0147"
         },
         {
          "chunk": 22,
          "color": "ruby",
          "count": 0,
          "hex": "#ca0147"
         },
         {
          "chunk": 23,
          "color": "ruby",
          "count": 0,
          "hex": "#ca0147"
         },
         {
          "chunk": 24,
          "color": "ruby",
          "count": 0,
          "hex": "#ca0147"
         },
         {
          "chunk": 25,
          "color": "ruby",
          "count": 0,
          "hex": "#ca0147"
         },
         {
          "chunk": 26,
          "color": "ruby",
          "count": 0,
          "hex": "#ca0147"
         },
         {
          "chunk": 27,
          "color": "ruby",
          "count": 0,
          "hex": "#ca0147"
         },
         {
          "chunk": 28,
          "color": "ruby",
          "count": 0,
          "hex": "#ca0147"
         },
         {
          "chunk": 29,
          "color": "ruby",
          "count": 0,
          "hex": "#ca0147"
         },
         {
          "chunk": 30,
          "color": "ruby",
          "count": 0,
          "hex": "#ca0147"
         },
         {
          "chunk": 31,
          "color": "ruby",
          "count": 0,
          "hex": "#ca0147"
         },
         {
          "chunk": 32,
          "color": "ruby",
          "count": 0,
          "hex": "#ca0147"
         },
         {
          "chunk": 33,
          "color": "ruby",
          "count": 0,
          "hex": "#ca0147"
         },
         {
          "chunk": 34,
          "color": "ruby",
          "count": 0,
          "hex": "#ca0147"
         },
         {
          "chunk": 35,
          "color": "ruby",
          "count": 0,
          "hex": "#ca0147"
         },
         {
          "chunk": 36,
          "color": "ruby",
          "count": 0,
          "hex": "#ca0147"
         },
         {
          "chunk": 37,
          "color": "ruby",
          "count": 0,
          "hex": "#ca0147"
         },
         {
          "chunk": 38,
          "color": "ruby",
          "count": 1,
          "hex": "#ca0147"
         },
         {
          "chunk": 39,
          "color": "ruby",
          "count": 0,
          "hex": "#ca0147"
         },
         {
          "chunk": 0,
          "color": "blood",
          "count": 0,
          "hex": "#770001"
         },
         {
          "chunk": 1,
          "color": "blood",
          "count": 0,
          "hex": "#770001"
         },
         {
          "chunk": 2,
          "color": "blood",
          "count": 0,
          "hex": "#770001"
         },
         {
          "chunk": 3,
          "color": "blood",
          "count": 0,
          "hex": "#770001"
         },
         {
          "chunk": 4,
          "color": "blood",
          "count": 0,
          "hex": "#770001"
         },
         {
          "chunk": 5,
          "color": "blood",
          "count": 0,
          "hex": "#770001"
         },
         {
          "chunk": 6,
          "color": "blood",
          "count": 1,
          "hex": "#770001"
         },
         {
          "chunk": 7,
          "color": "blood",
          "count": 0,
          "hex": "#770001"
         },
         {
          "chunk": 8,
          "color": "blood",
          "count": 0,
          "hex": "#770001"
         },
         {
          "chunk": 9,
          "color": "blood",
          "count": 0,
          "hex": "#770001"
         },
         {
          "chunk": 10,
          "color": "blood",
          "count": 0,
          "hex": "#770001"
         },
         {
          "chunk": 11,
          "color": "blood",
          "count": 0,
          "hex": "#770001"
         },
         {
          "chunk": 12,
          "color": "blood",
          "count": 0,
          "hex": "#770001"
         },
         {
          "chunk": 13,
          "color": "blood",
          "count": 0,
          "hex": "#770001"
         },
         {
          "chunk": 14,
          "color": "blood",
          "count": 0,
          "hex": "#770001"
         },
         {
          "chunk": 15,
          "color": "blood",
          "count": 0,
          "hex": "#770001"
         },
         {
          "chunk": 16,
          "color": "blood",
          "count": 0,
          "hex": "#770001"
         },
         {
          "chunk": 17,
          "color": "blood",
          "count": 0,
          "hex": "#770001"
         },
         {
          "chunk": 18,
          "color": "blood",
          "count": 0,
          "hex": "#770001"
         },
         {
          "chunk": 19,
          "color": "blood",
          "count": 0,
          "hex": "#770001"
         },
         {
          "chunk": 20,
          "color": "blood",
          "count": 1,
          "hex": "#770001"
         },
         {
          "chunk": 21,
          "color": "blood",
          "count": 0,
          "hex": "#770001"
         },
         {
          "chunk": 22,
          "color": "blood",
          "count": 0,
          "hex": "#770001"
         },
         {
          "chunk": 23,
          "color": "blood",
          "count": 1,
          "hex": "#770001"
         },
         {
          "chunk": 24,
          "color": "blood",
          "count": 0,
          "hex": "#770001"
         },
         {
          "chunk": 25,
          "color": "blood",
          "count": 0,
          "hex": "#770001"
         },
         {
          "chunk": 26,
          "color": "blood",
          "count": 0,
          "hex": "#770001"
         },
         {
          "chunk": 27,
          "color": "blood",
          "count": 0,
          "hex": "#770001"
         },
         {
          "chunk": 28,
          "color": "blood",
          "count": 0,
          "hex": "#770001"
         },
         {
          "chunk": 29,
          "color": "blood",
          "count": 0,
          "hex": "#770001"
         },
         {
          "chunk": 30,
          "color": "blood",
          "count": 0,
          "hex": "#770001"
         },
         {
          "chunk": 31,
          "color": "blood",
          "count": 0,
          "hex": "#770001"
         },
         {
          "chunk": 32,
          "color": "blood",
          "count": 0,
          "hex": "#770001"
         },
         {
          "chunk": 33,
          "color": "blood",
          "count": 0,
          "hex": "#770001"
         },
         {
          "chunk": 34,
          "color": "blood",
          "count": 0,
          "hex": "#770001"
         },
         {
          "chunk": 35,
          "color": "blood",
          "count": 0,
          "hex": "#770001"
         },
         {
          "chunk": 36,
          "color": "blood",
          "count": 0,
          "hex": "#770001"
         },
         {
          "chunk": 37,
          "color": "blood",
          "count": 1,
          "hex": "#770001"
         },
         {
          "chunk": 38,
          "color": "blood",
          "count": 0,
          "hex": "#770001"
         },
         {
          "chunk": 39,
          "color": "blood",
          "count": 0,
          "hex": "#770001"
         },
         {
          "chunk": 0,
          "color": "blush",
          "count": 0,
          "hex": "#f29e8e"
         },
         {
          "chunk": 1,
          "color": "blush",
          "count": 0,
          "hex": "#f29e8e"
         },
         {
          "chunk": 2,
          "color": "blush",
          "count": 0,
          "hex": "#f29e8e"
         },
         {
          "chunk": 3,
          "color": "blush",
          "count": 0,
          "hex": "#f29e8e"
         },
         {
          "chunk": 4,
          "color": "blush",
          "count": 0,
          "hex": "#f29e8e"
         },
         {
          "chunk": 5,
          "color": "blush",
          "count": 0,
          "hex": "#f29e8e"
         },
         {
          "chunk": 6,
          "color": "blush",
          "count": 1,
          "hex": "#f29e8e"
         },
         {
          "chunk": 7,
          "color": "blush",
          "count": 0,
          "hex": "#f29e8e"
         },
         {
          "chunk": 8,
          "color": "blush",
          "count": 0,
          "hex": "#f29e8e"
         },
         {
          "chunk": 9,
          "color": "blush",
          "count": 0,
          "hex": "#f29e8e"
         },
         {
          "chunk": 10,
          "color": "blush",
          "count": 0,
          "hex": "#f29e8e"
         },
         {
          "chunk": 11,
          "color": "blush",
          "count": 0,
          "hex": "#f29e8e"
         },
         {
          "chunk": 12,
          "color": "blush",
          "count": 0,
          "hex": "#f29e8e"
         },
         {
          "chunk": 13,
          "color": "blush",
          "count": 0,
          "hex": "#f29e8e"
         },
         {
          "chunk": 14,
          "color": "blush",
          "count": 0,
          "hex": "#f29e8e"
         },
         {
          "chunk": 15,
          "color": "blush",
          "count": 0,
          "hex": "#f29e8e"
         },
         {
          "chunk": 16,
          "color": "blush",
          "count": 0,
          "hex": "#f29e8e"
         },
         {
          "chunk": 17,
          "color": "blush",
          "count": 0,
          "hex": "#f29e8e"
         },
         {
          "chunk": 18,
          "color": "blush",
          "count": 0,
          "hex": "#f29e8e"
         },
         {
          "chunk": 19,
          "color": "blush",
          "count": 0,
          "hex": "#f29e8e"
         },
         {
          "chunk": 20,
          "color": "blush",
          "count": 0,
          "hex": "#f29e8e"
         },
         {
          "chunk": 21,
          "color": "blush",
          "count": 0,
          "hex": "#f29e8e"
         },
         {
          "chunk": 22,
          "color": "blush",
          "count": 0,
          "hex": "#f29e8e"
         },
         {
          "chunk": 23,
          "color": "blush",
          "count": 0,
          "hex": "#f29e8e"
         },
         {
          "chunk": 24,
          "color": "blush",
          "count": 0,
          "hex": "#f29e8e"
         },
         {
          "chunk": 25,
          "color": "blush",
          "count": 0,
          "hex": "#f29e8e"
         },
         {
          "chunk": 26,
          "color": "blush",
          "count": 0,
          "hex": "#f29e8e"
         },
         {
          "chunk": 27,
          "color": "blush",
          "count": 0,
          "hex": "#f29e8e"
         },
         {
          "chunk": 28,
          "color": "blush",
          "count": 0,
          "hex": "#f29e8e"
         },
         {
          "chunk": 29,
          "color": "blush",
          "count": 0,
          "hex": "#f29e8e"
         },
         {
          "chunk": 30,
          "color": "blush",
          "count": 0,
          "hex": "#f29e8e"
         },
         {
          "chunk": 31,
          "color": "blush",
          "count": 0,
          "hex": "#f29e8e"
         },
         {
          "chunk": 32,
          "color": "blush",
          "count": 0,
          "hex": "#f29e8e"
         },
         {
          "chunk": 33,
          "color": "blush",
          "count": 0,
          "hex": "#f29e8e"
         },
         {
          "chunk": 34,
          "color": "blush",
          "count": 0,
          "hex": "#f29e8e"
         },
         {
          "chunk": 35,
          "color": "blush",
          "count": 0,
          "hex": "#f29e8e"
         },
         {
          "chunk": 36,
          "color": "blush",
          "count": 0,
          "hex": "#f29e8e"
         },
         {
          "chunk": 37,
          "color": "blush",
          "count": 0,
          "hex": "#f29e8e"
         },
         {
          "chunk": 38,
          "color": "blush",
          "count": 0,
          "hex": "#f29e8e"
         },
         {
          "chunk": 39,
          "color": "blush",
          "count": 0,
          "hex": "#f29e8e"
         },
         {
          "chunk": 0,
          "color": "silver",
          "count": 0,
          "hex": "#c5c9c7"
         },
         {
          "chunk": 1,
          "color": "silver",
          "count": 0,
          "hex": "#c5c9c7"
         },
         {
          "chunk": 2,
          "color": "silver",
          "count": 0,
          "hex": "#c5c9c7"
         },
         {
          "chunk": 3,
          "color": "silver",
          "count": 0,
          "hex": "#c5c9c7"
         },
         {
          "chunk": 4,
          "color": "silver",
          "count": 0,
          "hex": "#c5c9c7"
         },
         {
          "chunk": 5,
          "color": "silver",
          "count": 0,
          "hex": "#c5c9c7"
         },
         {
          "chunk": 6,
          "color": "silver",
          "count": 0,
          "hex": "#c5c9c7"
         },
         {
          "chunk": 7,
          "color": "silver",
          "count": 4,
          "hex": "#c5c9c7"
         },
         {
          "chunk": 8,
          "color": "silver",
          "count": 0,
          "hex": "#c5c9c7"
         },
         {
          "chunk": 9,
          "color": "silver",
          "count": 1,
          "hex": "#c5c9c7"
         },
         {
          "chunk": 10,
          "color": "silver",
          "count": 0,
          "hex": "#c5c9c7"
         },
         {
          "chunk": 11,
          "color": "silver",
          "count": 0,
          "hex": "#c5c9c7"
         },
         {
          "chunk": 12,
          "color": "silver",
          "count": 0,
          "hex": "#c5c9c7"
         },
         {
          "chunk": 13,
          "color": "silver",
          "count": 0,
          "hex": "#c5c9c7"
         },
         {
          "chunk": 14,
          "color": "silver",
          "count": 0,
          "hex": "#c5c9c7"
         },
         {
          "chunk": 15,
          "color": "silver",
          "count": 0,
          "hex": "#c5c9c7"
         },
         {
          "chunk": 16,
          "color": "silver",
          "count": 1,
          "hex": "#c5c9c7"
         },
         {
          "chunk": 17,
          "color": "silver",
          "count": 0,
          "hex": "#c5c9c7"
         },
         {
          "chunk": 18,
          "color": "silver",
          "count": 0,
          "hex": "#c5c9c7"
         },
         {
          "chunk": 19,
          "color": "silver",
          "count": 1,
          "hex": "#c5c9c7"
         },
         {
          "chunk": 20,
          "color": "silver",
          "count": 0,
          "hex": "#c5c9c7"
         },
         {
          "chunk": 21,
          "color": "silver",
          "count": 0,
          "hex": "#c5c9c7"
         },
         {
          "chunk": 22,
          "color": "silver",
          "count": 2,
          "hex": "#c5c9c7"
         },
         {
          "chunk": 23,
          "color": "silver",
          "count": 0,
          "hex": "#c5c9c7"
         },
         {
          "chunk": 24,
          "color": "silver",
          "count": 0,
          "hex": "#c5c9c7"
         },
         {
          "chunk": 25,
          "color": "silver",
          "count": 0,
          "hex": "#c5c9c7"
         },
         {
          "chunk": 26,
          "color": "silver",
          "count": 0,
          "hex": "#c5c9c7"
         },
         {
          "chunk": 27,
          "color": "silver",
          "count": 0,
          "hex": "#c5c9c7"
         },
         {
          "chunk": 28,
          "color": "silver",
          "count": 0,
          "hex": "#c5c9c7"
         },
         {
          "chunk": 29,
          "color": "silver",
          "count": 0,
          "hex": "#c5c9c7"
         },
         {
          "chunk": 30,
          "color": "silver",
          "count": 0,
          "hex": "#c5c9c7"
         },
         {
          "chunk": 31,
          "color": "silver",
          "count": 0,
          "hex": "#c5c9c7"
         },
         {
          "chunk": 32,
          "color": "silver",
          "count": 0,
          "hex": "#c5c9c7"
         },
         {
          "chunk": 33,
          "color": "silver",
          "count": 2,
          "hex": "#c5c9c7"
         },
         {
          "chunk": 34,
          "color": "silver",
          "count": 0,
          "hex": "#c5c9c7"
         },
         {
          "chunk": 35,
          "color": "silver",
          "count": 0,
          "hex": "#c5c9c7"
         },
         {
          "chunk": 36,
          "color": "silver",
          "count": 0,
          "hex": "#c5c9c7"
         },
         {
          "chunk": 37,
          "color": "silver",
          "count": 0,
          "hex": "#c5c9c7"
         },
         {
          "chunk": 38,
          "color": "silver",
          "count": 0,
          "hex": "#c5c9c7"
         },
         {
          "chunk": 39,
          "color": "silver",
          "count": 0,
          "hex": "#c5c9c7"
         },
         {
          "chunk": 0,
          "color": "grass",
          "count": 0,
          "hex": "#5cac2d"
         },
         {
          "chunk": 1,
          "color": "grass",
          "count": 0,
          "hex": "#5cac2d"
         },
         {
          "chunk": 2,
          "color": "grass",
          "count": 0,
          "hex": "#5cac2d"
         },
         {
          "chunk": 3,
          "color": "grass",
          "count": 0,
          "hex": "#5cac2d"
         },
         {
          "chunk": 4,
          "color": "grass",
          "count": 0,
          "hex": "#5cac2d"
         },
         {
          "chunk": 5,
          "color": "grass",
          "count": 0,
          "hex": "#5cac2d"
         },
         {
          "chunk": 6,
          "color": "grass",
          "count": 0,
          "hex": "#5cac2d"
         },
         {
          "chunk": 7,
          "color": "grass",
          "count": 0,
          "hex": "#5cac2d"
         },
         {
          "chunk": 8,
          "color": "grass",
          "count": 1,
          "hex": "#5cac2d"
         },
         {
          "chunk": 9,
          "color": "grass",
          "count": 1,
          "hex": "#5cac2d"
         },
         {
          "chunk": 10,
          "color": "grass",
          "count": 0,
          "hex": "#5cac2d"
         },
         {
          "chunk": 11,
          "color": "grass",
          "count": 0,
          "hex": "#5cac2d"
         },
         {
          "chunk": 12,
          "color": "grass",
          "count": 0,
          "hex": "#5cac2d"
         },
         {
          "chunk": 13,
          "color": "grass",
          "count": 1,
          "hex": "#5cac2d"
         },
         {
          "chunk": 14,
          "color": "grass",
          "count": 0,
          "hex": "#5cac2d"
         },
         {
          "chunk": 15,
          "color": "grass",
          "count": 0,
          "hex": "#5cac2d"
         },
         {
          "chunk": 16,
          "color": "grass",
          "count": 0,
          "hex": "#5cac2d"
         },
         {
          "chunk": 17,
          "color": "grass",
          "count": 0,
          "hex": "#5cac2d"
         },
         {
          "chunk": 18,
          "color": "grass",
          "count": 0,
          "hex": "#5cac2d"
         },
         {
          "chunk": 19,
          "color": "grass",
          "count": 0,
          "hex": "#5cac2d"
         },
         {
          "chunk": 20,
          "color": "grass",
          "count": 0,
          "hex": "#5cac2d"
         },
         {
          "chunk": 21,
          "color": "grass",
          "count": 0,
          "hex": "#5cac2d"
         },
         {
          "chunk": 22,
          "color": "grass",
          "count": 0,
          "hex": "#5cac2d"
         },
         {
          "chunk": 23,
          "color": "grass",
          "count": 1,
          "hex": "#5cac2d"
         },
         {
          "chunk": 24,
          "color": "grass",
          "count": 1,
          "hex": "#5cac2d"
         },
         {
          "chunk": 25,
          "color": "grass",
          "count": 0,
          "hex": "#5cac2d"
         },
         {
          "chunk": 26,
          "color": "grass",
          "count": 0,
          "hex": "#5cac2d"
         },
         {
          "chunk": 27,
          "color": "grass",
          "count": 0,
          "hex": "#5cac2d"
         },
         {
          "chunk": 28,
          "color": "grass",
          "count": 0,
          "hex": "#5cac2d"
         },
         {
          "chunk": 29,
          "color": "grass",
          "count": 0,
          "hex": "#5cac2d"
         },
         {
          "chunk": 30,
          "color": "grass",
          "count": 0,
          "hex": "#5cac2d"
         },
         {
          "chunk": 31,
          "color": "grass",
          "count": 0,
          "hex": "#5cac2d"
         },
         {
          "chunk": 32,
          "color": "grass",
          "count": 0,
          "hex": "#5cac2d"
         },
         {
          "chunk": 33,
          "color": "grass",
          "count": 0,
          "hex": "#5cac2d"
         },
         {
          "chunk": 34,
          "color": "grass",
          "count": 0,
          "hex": "#5cac2d"
         },
         {
          "chunk": 35,
          "color": "grass",
          "count": 0,
          "hex": "#5cac2d"
         },
         {
          "chunk": 36,
          "color": "grass",
          "count": 0,
          "hex": "#5cac2d"
         },
         {
          "chunk": 37,
          "color": "grass",
          "count": 1,
          "hex": "#5cac2d"
         },
         {
          "chunk": 38,
          "color": "grass",
          "count": 0,
          "hex": "#5cac2d"
         },
         {
          "chunk": 39,
          "color": "grass",
          "count": 0,
          "hex": "#5cac2d"
         },
         {
          "chunk": 0,
          "color": "carnation",
          "count": 0,
          "hex": "#fd798f"
         },
         {
          "chunk": 1,
          "color": "carnation",
          "count": 0,
          "hex": "#fd798f"
         },
         {
          "chunk": 2,
          "color": "carnation",
          "count": 0,
          "hex": "#fd798f"
         },
         {
          "chunk": 3,
          "color": "carnation",
          "count": 0,
          "hex": "#fd798f"
         },
         {
          "chunk": 4,
          "color": "carnation",
          "count": 0,
          "hex": "#fd798f"
         },
         {
          "chunk": 5,
          "color": "carnation",
          "count": 0,
          "hex": "#fd798f"
         },
         {
          "chunk": 6,
          "color": "carnation",
          "count": 0,
          "hex": "#fd798f"
         },
         {
          "chunk": 7,
          "color": "carnation",
          "count": 0,
          "hex": "#fd798f"
         },
         {
          "chunk": 8,
          "color": "carnation",
          "count": 0,
          "hex": "#fd798f"
         },
         {
          "chunk": 9,
          "color": "carnation",
          "count": 1,
          "hex": "#fd798f"
         },
         {
          "chunk": 10,
          "color": "carnation",
          "count": 1,
          "hex": "#fd798f"
         },
         {
          "chunk": 11,
          "color": "carnation",
          "count": 0,
          "hex": "#fd798f"
         },
         {
          "chunk": 12,
          "color": "carnation",
          "count": 0,
          "hex": "#fd798f"
         },
         {
          "chunk": 13,
          "color": "carnation",
          "count": 0,
          "hex": "#fd798f"
         },
         {
          "chunk": 14,
          "color": "carnation",
          "count": 0,
          "hex": "#fd798f"
         },
         {
          "chunk": 15,
          "color": "carnation",
          "count": 0,
          "hex": "#fd798f"
         },
         {
          "chunk": 16,
          "color": "carnation",
          "count": 0,
          "hex": "#fd798f"
         },
         {
          "chunk": 17,
          "color": "carnation",
          "count": 0,
          "hex": "#fd798f"
         },
         {
          "chunk": 18,
          "color": "carnation",
          "count": 0,
          "hex": "#fd798f"
         },
         {
          "chunk": 19,
          "color": "carnation",
          "count": 0,
          "hex": "#fd798f"
         },
         {
          "chunk": 20,
          "color": "carnation",
          "count": 0,
          "hex": "#fd798f"
         },
         {
          "chunk": 21,
          "color": "carnation",
          "count": 0,
          "hex": "#fd798f"
         },
         {
          "chunk": 22,
          "color": "carnation",
          "count": 0,
          "hex": "#fd798f"
         },
         {
          "chunk": 23,
          "color": "carnation",
          "count": 0,
          "hex": "#fd798f"
         },
         {
          "chunk": 24,
          "color": "carnation",
          "count": 0,
          "hex": "#fd798f"
         },
         {
          "chunk": 25,
          "color": "carnation",
          "count": 0,
          "hex": "#fd798f"
         },
         {
          "chunk": 26,
          "color": "carnation",
          "count": 0,
          "hex": "#fd798f"
         },
         {
          "chunk": 27,
          "color": "carnation",
          "count": 0,
          "hex": "#fd798f"
         },
         {
          "chunk": 28,
          "color": "carnation",
          "count": 0,
          "hex": "#fd798f"
         },
         {
          "chunk": 29,
          "color": "carnation",
          "count": 0,
          "hex": "#fd798f"
         },
         {
          "chunk": 30,
          "color": "carnation",
          "count": 0,
          "hex": "#fd798f"
         },
         {
          "chunk": 31,
          "color": "carnation",
          "count": 0,
          "hex": "#fd798f"
         },
         {
          "chunk": 32,
          "color": "carnation",
          "count": 0,
          "hex": "#fd798f"
         },
         {
          "chunk": 33,
          "color": "carnation",
          "count": 0,
          "hex": "#fd798f"
         },
         {
          "chunk": 34,
          "color": "carnation",
          "count": 0,
          "hex": "#fd798f"
         },
         {
          "chunk": 35,
          "color": "carnation",
          "count": 0,
          "hex": "#fd798f"
         },
         {
          "chunk": 36,
          "color": "carnation",
          "count": 0,
          "hex": "#fd798f"
         },
         {
          "chunk": 37,
          "color": "carnation",
          "count": 0,
          "hex": "#fd798f"
         },
         {
          "chunk": 38,
          "color": "carnation",
          "count": 0,
          "hex": "#fd798f"
         },
         {
          "chunk": 39,
          "color": "carnation",
          "count": 0,
          "hex": "#fd798f"
         },
         {
          "chunk": 0,
          "color": "spruce",
          "count": 0,
          "hex": "#0a5f38"
         },
         {
          "chunk": 1,
          "color": "spruce",
          "count": 0,
          "hex": "#0a5f38"
         },
         {
          "chunk": 2,
          "color": "spruce",
          "count": 0,
          "hex": "#0a5f38"
         },
         {
          "chunk": 3,
          "color": "spruce",
          "count": 0,
          "hex": "#0a5f38"
         },
         {
          "chunk": 4,
          "color": "spruce",
          "count": 0,
          "hex": "#0a5f38"
         },
         {
          "chunk": 5,
          "color": "spruce",
          "count": 0,
          "hex": "#0a5f38"
         },
         {
          "chunk": 6,
          "color": "spruce",
          "count": 0,
          "hex": "#0a5f38"
         },
         {
          "chunk": 7,
          "color": "spruce",
          "count": 0,
          "hex": "#0a5f38"
         },
         {
          "chunk": 8,
          "color": "spruce",
          "count": 0,
          "hex": "#0a5f38"
         },
         {
          "chunk": 9,
          "color": "spruce",
          "count": 0,
          "hex": "#0a5f38"
         },
         {
          "chunk": 10,
          "color": "spruce",
          "count": 1,
          "hex": "#0a5f38"
         },
         {
          "chunk": 11,
          "color": "spruce",
          "count": 0,
          "hex": "#0a5f38"
         },
         {
          "chunk": 12,
          "color": "spruce",
          "count": 0,
          "hex": "#0a5f38"
         },
         {
          "chunk": 13,
          "color": "spruce",
          "count": 0,
          "hex": "#0a5f38"
         },
         {
          "chunk": 14,
          "color": "spruce",
          "count": 0,
          "hex": "#0a5f38"
         },
         {
          "chunk": 15,
          "color": "spruce",
          "count": 0,
          "hex": "#0a5f38"
         },
         {
          "chunk": 16,
          "color": "spruce",
          "count": 0,
          "hex": "#0a5f38"
         },
         {
          "chunk": 17,
          "color": "spruce",
          "count": 0,
          "hex": "#0a5f38"
         },
         {
          "chunk": 18,
          "color": "spruce",
          "count": 0,
          "hex": "#0a5f38"
         },
         {
          "chunk": 19,
          "color": "spruce",
          "count": 0,
          "hex": "#0a5f38"
         },
         {
          "chunk": 20,
          "color": "spruce",
          "count": 0,
          "hex": "#0a5f38"
         },
         {
          "chunk": 21,
          "color": "spruce",
          "count": 0,
          "hex": "#0a5f38"
         },
         {
          "chunk": 22,
          "color": "spruce",
          "count": 0,
          "hex": "#0a5f38"
         },
         {
          "chunk": 23,
          "color": "spruce",
          "count": 0,
          "hex": "#0a5f38"
         },
         {
          "chunk": 24,
          "color": "spruce",
          "count": 0,
          "hex": "#0a5f38"
         },
         {
          "chunk": 25,
          "color": "spruce",
          "count": 0,
          "hex": "#0a5f38"
         },
         {
          "chunk": 26,
          "color": "spruce",
          "count": 0,
          "hex": "#0a5f38"
         },
         {
          "chunk": 27,
          "color": "spruce",
          "count": 0,
          "hex": "#0a5f38"
         },
         {
          "chunk": 28,
          "color": "spruce",
          "count": 0,
          "hex": "#0a5f38"
         },
         {
          "chunk": 29,
          "color": "spruce",
          "count": 0,
          "hex": "#0a5f38"
         },
         {
          "chunk": 30,
          "color": "spruce",
          "count": 0,
          "hex": "#0a5f38"
         },
         {
          "chunk": 31,
          "color": "spruce",
          "count": 0,
          "hex": "#0a5f38"
         },
         {
          "chunk": 32,
          "color": "spruce",
          "count": 0,
          "hex": "#0a5f38"
         },
         {
          "chunk": 33,
          "color": "spruce",
          "count": 0,
          "hex": "#0a5f38"
         },
         {
          "chunk": 34,
          "color": "spruce",
          "count": 0,
          "hex": "#0a5f38"
         },
         {
          "chunk": 35,
          "color": "spruce",
          "count": 0,
          "hex": "#0a5f38"
         },
         {
          "chunk": 36,
          "color": "spruce",
          "count": 0,
          "hex": "#0a5f38"
         },
         {
          "chunk": 37,
          "color": "spruce",
          "count": 0,
          "hex": "#0a5f38"
         },
         {
          "chunk": 38,
          "color": "spruce",
          "count": 0,
          "hex": "#0a5f38"
         },
         {
          "chunk": 39,
          "color": "spruce",
          "count": 0,
          "hex": "#0a5f38"
         },
         {
          "chunk": 0,
          "color": "tea",
          "count": 0,
          "hex": "#65ab7c"
         },
         {
          "chunk": 1,
          "color": "tea",
          "count": 0,
          "hex": "#65ab7c"
         },
         {
          "chunk": 2,
          "color": "tea",
          "count": 0,
          "hex": "#65ab7c"
         },
         {
          "chunk": 3,
          "color": "tea",
          "count": 0,
          "hex": "#65ab7c"
         },
         {
          "chunk": 4,
          "color": "tea",
          "count": 0,
          "hex": "#65ab7c"
         },
         {
          "chunk": 5,
          "color": "tea",
          "count": 0,
          "hex": "#65ab7c"
         },
         {
          "chunk": 6,
          "color": "tea",
          "count": 0,
          "hex": "#65ab7c"
         },
         {
          "chunk": 7,
          "color": "tea",
          "count": 0,
          "hex": "#65ab7c"
         },
         {
          "chunk": 8,
          "color": "tea",
          "count": 0,
          "hex": "#65ab7c"
         },
         {
          "chunk": 9,
          "color": "tea",
          "count": 0,
          "hex": "#65ab7c"
         },
         {
          "chunk": 10,
          "color": "tea",
          "count": 0,
          "hex": "#65ab7c"
         },
         {
          "chunk": 11,
          "color": "tea",
          "count": 1,
          "hex": "#65ab7c"
         },
         {
          "chunk": 12,
          "color": "tea",
          "count": 0,
          "hex": "#65ab7c"
         },
         {
          "chunk": 13,
          "color": "tea",
          "count": 0,
          "hex": "#65ab7c"
         },
         {
          "chunk": 14,
          "color": "tea",
          "count": 0,
          "hex": "#65ab7c"
         },
         {
          "chunk": 15,
          "color": "tea",
          "count": 0,
          "hex": "#65ab7c"
         },
         {
          "chunk": 16,
          "color": "tea",
          "count": 1,
          "hex": "#65ab7c"
         },
         {
          "chunk": 17,
          "color": "tea",
          "count": 0,
          "hex": "#65ab7c"
         },
         {
          "chunk": 18,
          "color": "tea",
          "count": 2,
          "hex": "#65ab7c"
         },
         {
          "chunk": 19,
          "color": "tea",
          "count": 0,
          "hex": "#65ab7c"
         },
         {
          "chunk": 20,
          "color": "tea",
          "count": 0,
          "hex": "#65ab7c"
         },
         {
          "chunk": 21,
          "color": "tea",
          "count": 0,
          "hex": "#65ab7c"
         },
         {
          "chunk": 22,
          "color": "tea",
          "count": 0,
          "hex": "#65ab7c"
         },
         {
          "chunk": 23,
          "color": "tea",
          "count": 0,
          "hex": "#65ab7c"
         },
         {
          "chunk": 24,
          "color": "tea",
          "count": 0,
          "hex": "#65ab7c"
         },
         {
          "chunk": 25,
          "color": "tea",
          "count": 0,
          "hex": "#65ab7c"
         },
         {
          "chunk": 26,
          "color": "tea",
          "count": 2,
          "hex": "#65ab7c"
         },
         {
          "chunk": 27,
          "color": "tea",
          "count": 0,
          "hex": "#65ab7c"
         },
         {
          "chunk": 28,
          "color": "tea",
          "count": 0,
          "hex": "#65ab7c"
         },
         {
          "chunk": 29,
          "color": "tea",
          "count": 0,
          "hex": "#65ab7c"
         },
         {
          "chunk": 30,
          "color": "tea",
          "count": 0,
          "hex": "#65ab7c"
         },
         {
          "chunk": 31,
          "color": "tea",
          "count": 0,
          "hex": "#65ab7c"
         },
         {
          "chunk": 32,
          "color": "tea",
          "count": 0,
          "hex": "#65ab7c"
         },
         {
          "chunk": 33,
          "color": "tea",
          "count": 0,
          "hex": "#65ab7c"
         },
         {
          "chunk": 34,
          "color": "tea",
          "count": 0,
          "hex": "#65ab7c"
         },
         {
          "chunk": 35,
          "color": "tea",
          "count": 0,
          "hex": "#65ab7c"
         },
         {
          "chunk": 36,
          "color": "tea",
          "count": 0,
          "hex": "#65ab7c"
         },
         {
          "chunk": 37,
          "color": "tea",
          "count": 0,
          "hex": "#65ab7c"
         },
         {
          "chunk": 38,
          "color": "tea",
          "count": 0,
          "hex": "#65ab7c"
         },
         {
          "chunk": 39,
          "color": "tea",
          "count": 0,
          "hex": "#65ab7c"
         },
         {
          "chunk": 0,
          "color": "twilight",
          "count": 0,
          "hex": "#4e518b"
         },
         {
          "chunk": 1,
          "color": "twilight",
          "count": 0,
          "hex": "#4e518b"
         },
         {
          "chunk": 2,
          "color": "twilight",
          "count": 0,
          "hex": "#4e518b"
         },
         {
          "chunk": 3,
          "color": "twilight",
          "count": 0,
          "hex": "#4e518b"
         },
         {
          "chunk": 4,
          "color": "twilight",
          "count": 0,
          "hex": "#4e518b"
         },
         {
          "chunk": 5,
          "color": "twilight",
          "count": 0,
          "hex": "#4e518b"
         },
         {
          "chunk": 6,
          "color": "twilight",
          "count": 0,
          "hex": "#4e518b"
         },
         {
          "chunk": 7,
          "color": "twilight",
          "count": 0,
          "hex": "#4e518b"
         },
         {
          "chunk": 8,
          "color": "twilight",
          "count": 0,
          "hex": "#4e518b"
         },
         {
          "chunk": 9,
          "color": "twilight",
          "count": 0,
          "hex": "#4e518b"
         },
         {
          "chunk": 10,
          "color": "twilight",
          "count": 0,
          "hex": "#4e518b"
         },
         {
          "chunk": 11,
          "color": "twilight",
          "count": 1,
          "hex": "#4e518b"
         },
         {
          "chunk": 12,
          "color": "twilight",
          "count": 0,
          "hex": "#4e518b"
         },
         {
          "chunk": 13,
          "color": "twilight",
          "count": 0,
          "hex": "#4e518b"
         },
         {
          "chunk": 14,
          "color": "twilight",
          "count": 0,
          "hex": "#4e518b"
         },
         {
          "chunk": 15,
          "color": "twilight",
          "count": 0,
          "hex": "#4e518b"
         },
         {
          "chunk": 16,
          "color": "twilight",
          "count": 0,
          "hex": "#4e518b"
         },
         {
          "chunk": 17,
          "color": "twilight",
          "count": 0,
          "hex": "#4e518b"
         },
         {
          "chunk": 18,
          "color": "twilight",
          "count": 0,
          "hex": "#4e518b"
         },
         {
          "chunk": 19,
          "color": "twilight",
          "count": 0,
          "hex": "#4e518b"
         },
         {
          "chunk": 20,
          "color": "twilight",
          "count": 0,
          "hex": "#4e518b"
         },
         {
          "chunk": 21,
          "color": "twilight",
          "count": 0,
          "hex": "#4e518b"
         },
         {
          "chunk": 22,
          "color": "twilight",
          "count": 0,
          "hex": "#4e518b"
         },
         {
          "chunk": 23,
          "color": "twilight",
          "count": 0,
          "hex": "#4e518b"
         },
         {
          "chunk": 24,
          "color": "twilight",
          "count": 0,
          "hex": "#4e518b"
         },
         {
          "chunk": 25,
          "color": "twilight",
          "count": 0,
          "hex": "#4e518b"
         },
         {
          "chunk": 26,
          "color": "twilight",
          "count": 0,
          "hex": "#4e518b"
         },
         {
          "chunk": 27,
          "color": "twilight",
          "count": 0,
          "hex": "#4e518b"
         },
         {
          "chunk": 28,
          "color": "twilight",
          "count": 0,
          "hex": "#4e518b"
         },
         {
          "chunk": 29,
          "color": "twilight",
          "count": 0,
          "hex": "#4e518b"
         },
         {
          "chunk": 30,
          "color": "twilight",
          "count": 0,
          "hex": "#4e518b"
         },
         {
          "chunk": 31,
          "color": "twilight",
          "count": 0,
          "hex": "#4e518b"
         },
         {
          "chunk": 32,
          "color": "twilight",
          "count": 0,
          "hex": "#4e518b"
         },
         {
          "chunk": 33,
          "color": "twilight",
          "count": 0,
          "hex": "#4e518b"
         },
         {
          "chunk": 34,
          "color": "twilight",
          "count": 0,
          "hex": "#4e518b"
         },
         {
          "chunk": 35,
          "color": "twilight",
          "count": 0,
          "hex": "#4e518b"
         },
         {
          "chunk": 36,
          "color": "twilight",
          "count": 0,
          "hex": "#4e518b"
         },
         {
          "chunk": 37,
          "color": "twilight",
          "count": 0,
          "hex": "#4e518b"
         },
         {
          "chunk": 38,
          "color": "twilight",
          "count": 0,
          "hex": "#4e518b"
         },
         {
          "chunk": 39,
          "color": "twilight",
          "count": 0,
          "hex": "#4e518b"
         },
         {
          "chunk": 0,
          "color": "forest",
          "count": 0,
          "hex": "#0b5509"
         },
         {
          "chunk": 1,
          "color": "forest",
          "count": 0,
          "hex": "#0b5509"
         },
         {
          "chunk": 2,
          "color": "forest",
          "count": 0,
          "hex": "#0b5509"
         },
         {
          "chunk": 3,
          "color": "forest",
          "count": 0,
          "hex": "#0b5509"
         },
         {
          "chunk": 4,
          "color": "forest",
          "count": 0,
          "hex": "#0b5509"
         },
         {
          "chunk": 5,
          "color": "forest",
          "count": 0,
          "hex": "#0b5509"
         },
         {
          "chunk": 6,
          "color": "forest",
          "count": 0,
          "hex": "#0b5509"
         },
         {
          "chunk": 7,
          "color": "forest",
          "count": 0,
          "hex": "#0b5509"
         },
         {
          "chunk": 8,
          "color": "forest",
          "count": 0,
          "hex": "#0b5509"
         },
         {
          "chunk": 9,
          "color": "forest",
          "count": 0,
          "hex": "#0b5509"
         },
         {
          "chunk": 10,
          "color": "forest",
          "count": 0,
          "hex": "#0b5509"
         },
         {
          "chunk": 11,
          "color": "forest",
          "count": 1,
          "hex": "#0b5509"
         },
         {
          "chunk": 12,
          "color": "forest",
          "count": 0,
          "hex": "#0b5509"
         },
         {
          "chunk": 13,
          "color": "forest",
          "count": 0,
          "hex": "#0b5509"
         },
         {
          "chunk": 14,
          "color": "forest",
          "count": 0,
          "hex": "#0b5509"
         },
         {
          "chunk": 15,
          "color": "forest",
          "count": 0,
          "hex": "#0b5509"
         },
         {
          "chunk": 16,
          "color": "forest",
          "count": 0,
          "hex": "#0b5509"
         },
         {
          "chunk": 17,
          "color": "forest",
          "count": 0,
          "hex": "#0b5509"
         },
         {
          "chunk": 18,
          "color": "forest",
          "count": 0,
          "hex": "#0b5509"
         },
         {
          "chunk": 19,
          "color": "forest",
          "count": 0,
          "hex": "#0b5509"
         },
         {
          "chunk": 20,
          "color": "forest",
          "count": 0,
          "hex": "#0b5509"
         },
         {
          "chunk": 21,
          "color": "forest",
          "count": 0,
          "hex": "#0b5509"
         },
         {
          "chunk": 22,
          "color": "forest",
          "count": 0,
          "hex": "#0b5509"
         },
         {
          "chunk": 23,
          "color": "forest",
          "count": 0,
          "hex": "#0b5509"
         },
         {
          "chunk": 24,
          "color": "forest",
          "count": 0,
          "hex": "#0b5509"
         },
         {
          "chunk": 25,
          "color": "forest",
          "count": 0,
          "hex": "#0b5509"
         },
         {
          "chunk": 26,
          "color": "forest",
          "count": 0,
          "hex": "#0b5509"
         },
         {
          "chunk": 27,
          "color": "forest",
          "count": 0,
          "hex": "#0b5509"
         },
         {
          "chunk": 28,
          "color": "forest",
          "count": 0,
          "hex": "#0b5509"
         },
         {
          "chunk": 29,
          "color": "forest",
          "count": 0,
          "hex": "#0b5509"
         },
         {
          "chunk": 30,
          "color": "forest",
          "count": 0,
          "hex": "#0b5509"
         },
         {
          "chunk": 31,
          "color": "forest",
          "count": 0,
          "hex": "#0b5509"
         },
         {
          "chunk": 32,
          "color": "forest",
          "count": 0,
          "hex": "#0b5509"
         },
         {
          "chunk": 33,
          "color": "forest",
          "count": 0,
          "hex": "#0b5509"
         },
         {
          "chunk": 34,
          "color": "forest",
          "count": 0,
          "hex": "#0b5509"
         },
         {
          "chunk": 35,
          "color": "forest",
          "count": 0,
          "hex": "#0b5509"
         },
         {
          "chunk": 36,
          "color": "forest",
          "count": 0,
          "hex": "#0b5509"
         },
         {
          "chunk": 37,
          "color": "forest",
          "count": 0,
          "hex": "#0b5509"
         },
         {
          "chunk": 38,
          "color": "forest",
          "count": 0,
          "hex": "#0b5509"
         },
         {
          "chunk": 39,
          "color": "forest",
          "count": 0,
          "hex": "#0b5509"
         },
         {
          "chunk": 0,
          "color": "vivid green",
          "count": 0,
          "hex": "#2fef10"
         },
         {
          "chunk": 1,
          "color": "vivid green",
          "count": 0,
          "hex": "#2fef10"
         },
         {
          "chunk": 2,
          "color": "vivid green",
          "count": 0,
          "hex": "#2fef10"
         },
         {
          "chunk": 3,
          "color": "vivid green",
          "count": 0,
          "hex": "#2fef10"
         },
         {
          "chunk": 4,
          "color": "vivid green",
          "count": 0,
          "hex": "#2fef10"
         },
         {
          "chunk": 5,
          "color": "vivid green",
          "count": 0,
          "hex": "#2fef10"
         },
         {
          "chunk": 6,
          "color": "vivid green",
          "count": 0,
          "hex": "#2fef10"
         },
         {
          "chunk": 7,
          "color": "vivid green",
          "count": 0,
          "hex": "#2fef10"
         },
         {
          "chunk": 8,
          "color": "vivid green",
          "count": 0,
          "hex": "#2fef10"
         },
         {
          "chunk": 9,
          "color": "vivid green",
          "count": 0,
          "hex": "#2fef10"
         },
         {
          "chunk": 10,
          "color": "vivid green",
          "count": 0,
          "hex": "#2fef10"
         },
         {
          "chunk": 11,
          "color": "vivid green",
          "count": 0,
          "hex": "#2fef10"
         },
         {
          "chunk": 12,
          "color": "vivid green",
          "count": 1,
          "hex": "#2fef10"
         },
         {
          "chunk": 13,
          "color": "vivid green",
          "count": 0,
          "hex": "#2fef10"
         },
         {
          "chunk": 14,
          "color": "vivid green",
          "count": 0,
          "hex": "#2fef10"
         },
         {
          "chunk": 15,
          "color": "vivid green",
          "count": 0,
          "hex": "#2fef10"
         },
         {
          "chunk": 16,
          "color": "vivid green",
          "count": 0,
          "hex": "#2fef10"
         },
         {
          "chunk": 17,
          "color": "vivid green",
          "count": 0,
          "hex": "#2fef10"
         },
         {
          "chunk": 18,
          "color": "vivid green",
          "count": 0,
          "hex": "#2fef10"
         },
         {
          "chunk": 19,
          "color": "vivid green",
          "count": 0,
          "hex": "#2fef10"
         },
         {
          "chunk": 20,
          "color": "vivid green",
          "count": 0,
          "hex": "#2fef10"
         },
         {
          "chunk": 21,
          "color": "vivid green",
          "count": 0,
          "hex": "#2fef10"
         },
         {
          "chunk": 22,
          "color": "vivid green",
          "count": 0,
          "hex": "#2fef10"
         },
         {
          "chunk": 23,
          "color": "vivid green",
          "count": 0,
          "hex": "#2fef10"
         },
         {
          "chunk": 24,
          "color": "vivid green",
          "count": 0,
          "hex": "#2fef10"
         },
         {
          "chunk": 25,
          "color": "vivid green",
          "count": 0,
          "hex": "#2fef10"
         },
         {
          "chunk": 26,
          "color": "vivid green",
          "count": 0,
          "hex": "#2fef10"
         },
         {
          "chunk": 27,
          "color": "vivid green",
          "count": 0,
          "hex": "#2fef10"
         },
         {
          "chunk": 28,
          "color": "vivid green",
          "count": 0,
          "hex": "#2fef10"
         },
         {
          "chunk": 29,
          "color": "vivid green",
          "count": 0,
          "hex": "#2fef10"
         },
         {
          "chunk": 30,
          "color": "vivid green",
          "count": 0,
          "hex": "#2fef10"
         },
         {
          "chunk": 31,
          "color": "vivid green",
          "count": 0,
          "hex": "#2fef10"
         },
         {
          "chunk": 32,
          "color": "vivid green",
          "count": 0,
          "hex": "#2fef10"
         },
         {
          "chunk": 33,
          "color": "vivid green",
          "count": 0,
          "hex": "#2fef10"
         },
         {
          "chunk": 34,
          "color": "vivid green",
          "count": 0,
          "hex": "#2fef10"
         },
         {
          "chunk": 35,
          "color": "vivid green",
          "count": 0,
          "hex": "#2fef10"
         },
         {
          "chunk": 36,
          "color": "vivid green",
          "count": 0,
          "hex": "#2fef10"
         },
         {
          "chunk": 37,
          "color": "vivid green",
          "count": 0,
          "hex": "#2fef10"
         },
         {
          "chunk": 38,
          "color": "vivid green",
          "count": 0,
          "hex": "#2fef10"
         },
         {
          "chunk": 39,
          "color": "vivid green",
          "count": 0,
          "hex": "#2fef10"
         },
         {
          "chunk": 0,
          "color": "earth",
          "count": 0,
          "hex": "#a2653e"
         },
         {
          "chunk": 1,
          "color": "earth",
          "count": 0,
          "hex": "#a2653e"
         },
         {
          "chunk": 2,
          "color": "earth",
          "count": 0,
          "hex": "#a2653e"
         },
         {
          "chunk": 3,
          "color": "earth",
          "count": 0,
          "hex": "#a2653e"
         },
         {
          "chunk": 4,
          "color": "earth",
          "count": 0,
          "hex": "#a2653e"
         },
         {
          "chunk": 5,
          "color": "earth",
          "count": 0,
          "hex": "#a2653e"
         },
         {
          "chunk": 6,
          "color": "earth",
          "count": 0,
          "hex": "#a2653e"
         },
         {
          "chunk": 7,
          "color": "earth",
          "count": 0,
          "hex": "#a2653e"
         },
         {
          "chunk": 8,
          "color": "earth",
          "count": 0,
          "hex": "#a2653e"
         },
         {
          "chunk": 9,
          "color": "earth",
          "count": 0,
          "hex": "#a2653e"
         },
         {
          "chunk": 10,
          "color": "earth",
          "count": 0,
          "hex": "#a2653e"
         },
         {
          "chunk": 11,
          "color": "earth",
          "count": 0,
          "hex": "#a2653e"
         },
         {
          "chunk": 12,
          "color": "earth",
          "count": 0,
          "hex": "#a2653e"
         },
         {
          "chunk": 13,
          "color": "earth",
          "count": 1,
          "hex": "#a2653e"
         },
         {
          "chunk": 14,
          "color": "earth",
          "count": 0,
          "hex": "#a2653e"
         },
         {
          "chunk": 15,
          "color": "earth",
          "count": 0,
          "hex": "#a2653e"
         },
         {
          "chunk": 16,
          "color": "earth",
          "count": 1,
          "hex": "#a2653e"
         },
         {
          "chunk": 17,
          "color": "earth",
          "count": 0,
          "hex": "#a2653e"
         },
         {
          "chunk": 18,
          "color": "earth",
          "count": 0,
          "hex": "#a2653e"
         },
         {
          "chunk": 19,
          "color": "earth",
          "count": 0,
          "hex": "#a2653e"
         },
         {
          "chunk": 20,
          "color": "earth",
          "count": 0,
          "hex": "#a2653e"
         },
         {
          "chunk": 21,
          "color": "earth",
          "count": 0,
          "hex": "#a2653e"
         },
         {
          "chunk": 22,
          "color": "earth",
          "count": 0,
          "hex": "#a2653e"
         },
         {
          "chunk": 23,
          "color": "earth",
          "count": 0,
          "hex": "#a2653e"
         },
         {
          "chunk": 24,
          "color": "earth",
          "count": 0,
          "hex": "#a2653e"
         },
         {
          "chunk": 25,
          "color": "earth",
          "count": 0,
          "hex": "#a2653e"
         },
         {
          "chunk": 26,
          "color": "earth",
          "count": 0,
          "hex": "#a2653e"
         },
         {
          "chunk": 27,
          "color": "earth",
          "count": 0,
          "hex": "#a2653e"
         },
         {
          "chunk": 28,
          "color": "earth",
          "count": 0,
          "hex": "#a2653e"
         },
         {
          "chunk": 29,
          "color": "earth",
          "count": 0,
          "hex": "#a2653e"
         },
         {
          "chunk": 30,
          "color": "earth",
          "count": 0,
          "hex": "#a2653e"
         },
         {
          "chunk": 31,
          "color": "earth",
          "count": 0,
          "hex": "#a2653e"
         },
         {
          "chunk": 32,
          "color": "earth",
          "count": 0,
          "hex": "#a2653e"
         },
         {
          "chunk": 33,
          "color": "earth",
          "count": 0,
          "hex": "#a2653e"
         },
         {
          "chunk": 34,
          "color": "earth",
          "count": 1,
          "hex": "#a2653e"
         },
         {
          "chunk": 35,
          "color": "earth",
          "count": 1,
          "hex": "#a2653e"
         },
         {
          "chunk": 36,
          "color": "earth",
          "count": 0,
          "hex": "#a2653e"
         },
         {
          "chunk": 37,
          "color": "earth",
          "count": 1,
          "hex": "#a2653e"
         },
         {
          "chunk": 38,
          "color": "earth",
          "count": 0,
          "hex": "#a2653e"
         },
         {
          "chunk": 39,
          "color": "earth",
          "count": 0,
          "hex": "#a2653e"
         },
         {
          "chunk": 0,
          "color": "desert",
          "count": 0,
          "hex": "#ccad60"
         },
         {
          "chunk": 1,
          "color": "desert",
          "count": 0,
          "hex": "#ccad60"
         },
         {
          "chunk": 2,
          "color": "desert",
          "count": 0,
          "hex": "#ccad60"
         },
         {
          "chunk": 3,
          "color": "desert",
          "count": 0,
          "hex": "#ccad60"
         },
         {
          "chunk": 4,
          "color": "desert",
          "count": 0,
          "hex": "#ccad60"
         },
         {
          "chunk": 5,
          "color": "desert",
          "count": 0,
          "hex": "#ccad60"
         },
         {
          "chunk": 6,
          "color": "desert",
          "count": 0,
          "hex": "#ccad60"
         },
         {
          "chunk": 7,
          "color": "desert",
          "count": 0,
          "hex": "#ccad60"
         },
         {
          "chunk": 8,
          "color": "desert",
          "count": 0,
          "hex": "#ccad60"
         },
         {
          "chunk": 9,
          "color": "desert",
          "count": 0,
          "hex": "#ccad60"
         },
         {
          "chunk": 10,
          "color": "desert",
          "count": 0,
          "hex": "#ccad60"
         },
         {
          "chunk": 11,
          "color": "desert",
          "count": 0,
          "hex": "#ccad60"
         },
         {
          "chunk": 12,
          "color": "desert",
          "count": 0,
          "hex": "#ccad60"
         },
         {
          "chunk": 13,
          "color": "desert",
          "count": 0,
          "hex": "#ccad60"
         },
         {
          "chunk": 14,
          "color": "desert",
          "count": 1,
          "hex": "#ccad60"
         },
         {
          "chunk": 15,
          "color": "desert",
          "count": 0,
          "hex": "#ccad60"
         },
         {
          "chunk": 16,
          "color": "desert",
          "count": 0,
          "hex": "#ccad60"
         },
         {
          "chunk": 17,
          "color": "desert",
          "count": 0,
          "hex": "#ccad60"
         },
         {
          "chunk": 18,
          "color": "desert",
          "count": 2,
          "hex": "#ccad60"
         },
         {
          "chunk": 19,
          "color": "desert",
          "count": 0,
          "hex": "#ccad60"
         },
         {
          "chunk": 20,
          "color": "desert",
          "count": 0,
          "hex": "#ccad60"
         },
         {
          "chunk": 21,
          "color": "desert",
          "count": 0,
          "hex": "#ccad60"
         },
         {
          "chunk": 22,
          "color": "desert",
          "count": 0,
          "hex": "#ccad60"
         },
         {
          "chunk": 23,
          "color": "desert",
          "count": 0,
          "hex": "#ccad60"
         },
         {
          "chunk": 24,
          "color": "desert",
          "count": 0,
          "hex": "#ccad60"
         },
         {
          "chunk": 25,
          "color": "desert",
          "count": 0,
          "hex": "#ccad60"
         },
         {
          "chunk": 26,
          "color": "desert",
          "count": 0,
          "hex": "#ccad60"
         },
         {
          "chunk": 27,
          "color": "desert",
          "count": 0,
          "hex": "#ccad60"
         },
         {
          "chunk": 28,
          "color": "desert",
          "count": 0,
          "hex": "#ccad60"
         },
         {
          "chunk": 29,
          "color": "desert",
          "count": 0,
          "hex": "#ccad60"
         },
         {
          "chunk": 30,
          "color": "desert",
          "count": 0,
          "hex": "#ccad60"
         },
         {
          "chunk": 31,
          "color": "desert",
          "count": 0,
          "hex": "#ccad60"
         },
         {
          "chunk": 32,
          "color": "desert",
          "count": 0,
          "hex": "#ccad60"
         },
         {
          "chunk": 33,
          "color": "desert",
          "count": 0,
          "hex": "#ccad60"
         },
         {
          "chunk": 34,
          "color": "desert",
          "count": 0,
          "hex": "#ccad60"
         },
         {
          "chunk": 35,
          "color": "desert",
          "count": 0,
          "hex": "#ccad60"
         },
         {
          "chunk": 36,
          "color": "desert",
          "count": 0,
          "hex": "#ccad60"
         },
         {
          "chunk": 37,
          "color": "desert",
          "count": 0,
          "hex": "#ccad60"
         },
         {
          "chunk": 38,
          "color": "desert",
          "count": 0,
          "hex": "#ccad60"
         },
         {
          "chunk": 39,
          "color": "desert",
          "count": 0,
          "hex": "#ccad60"
         },
         {
          "chunk": 0,
          "color": "mud",
          "count": 0,
          "hex": "#735c12"
         },
         {
          "chunk": 1,
          "color": "mud",
          "count": 0,
          "hex": "#735c12"
         },
         {
          "chunk": 2,
          "color": "mud",
          "count": 0,
          "hex": "#735c12"
         },
         {
          "chunk": 3,
          "color": "mud",
          "count": 0,
          "hex": "#735c12"
         },
         {
          "chunk": 4,
          "color": "mud",
          "count": 0,
          "hex": "#735c12"
         },
         {
          "chunk": 5,
          "color": "mud",
          "count": 0,
          "hex": "#735c12"
         },
         {
          "chunk": 6,
          "color": "mud",
          "count": 0,
          "hex": "#735c12"
         },
         {
          "chunk": 7,
          "color": "mud",
          "count": 0,
          "hex": "#735c12"
         },
         {
          "chunk": 8,
          "color": "mud",
          "count": 0,
          "hex": "#735c12"
         },
         {
          "chunk": 9,
          "color": "mud",
          "count": 0,
          "hex": "#735c12"
         },
         {
          "chunk": 10,
          "color": "mud",
          "count": 0,
          "hex": "#735c12"
         },
         {
          "chunk": 11,
          "color": "mud",
          "count": 0,
          "hex": "#735c12"
         },
         {
          "chunk": 12,
          "color": "mud",
          "count": 0,
          "hex": "#735c12"
         },
         {
          "chunk": 13,
          "color": "mud",
          "count": 0,
          "hex": "#735c12"
         },
         {
          "chunk": 14,
          "color": "mud",
          "count": 1,
          "hex": "#735c12"
         },
         {
          "chunk": 15,
          "color": "mud",
          "count": 0,
          "hex": "#735c12"
         },
         {
          "chunk": 16,
          "color": "mud",
          "count": 0,
          "hex": "#735c12"
         },
         {
          "chunk": 17,
          "color": "mud",
          "count": 0,
          "hex": "#735c12"
         },
         {
          "chunk": 18,
          "color": "mud",
          "count": 0,
          "hex": "#735c12"
         },
         {
          "chunk": 19,
          "color": "mud",
          "count": 0,
          "hex": "#735c12"
         },
         {
          "chunk": 20,
          "color": "mud",
          "count": 1,
          "hex": "#735c12"
         },
         {
          "chunk": 21,
          "color": "mud",
          "count": 0,
          "hex": "#735c12"
         },
         {
          "chunk": 22,
          "color": "mud",
          "count": 0,
          "hex": "#735c12"
         },
         {
          "chunk": 23,
          "color": "mud",
          "count": 0,
          "hex": "#735c12"
         },
         {
          "chunk": 24,
          "color": "mud",
          "count": 0,
          "hex": "#735c12"
         },
         {
          "chunk": 25,
          "color": "mud",
          "count": 0,
          "hex": "#735c12"
         },
         {
          "chunk": 26,
          "color": "mud",
          "count": 0,
          "hex": "#735c12"
         },
         {
          "chunk": 27,
          "color": "mud",
          "count": 0,
          "hex": "#735c12"
         },
         {
          "chunk": 28,
          "color": "mud",
          "count": 0,
          "hex": "#735c12"
         },
         {
          "chunk": 29,
          "color": "mud",
          "count": 0,
          "hex": "#735c12"
         },
         {
          "chunk": 30,
          "color": "mud",
          "count": 0,
          "hex": "#735c12"
         },
         {
          "chunk": 31,
          "color": "mud",
          "count": 0,
          "hex": "#735c12"
         },
         {
          "chunk": 32,
          "color": "mud",
          "count": 0,
          "hex": "#735c12"
         },
         {
          "chunk": 33,
          "color": "mud",
          "count": 0,
          "hex": "#735c12"
         },
         {
          "chunk": 34,
          "color": "mud",
          "count": 0,
          "hex": "#735c12"
         },
         {
          "chunk": 35,
          "color": "mud",
          "count": 0,
          "hex": "#735c12"
         },
         {
          "chunk": 36,
          "color": "mud",
          "count": 0,
          "hex": "#735c12"
         },
         {
          "chunk": 37,
          "color": "mud",
          "count": 0,
          "hex": "#735c12"
         },
         {
          "chunk": 38,
          "color": "mud",
          "count": 0,
          "hex": "#735c12"
         },
         {
          "chunk": 39,
          "color": "mud",
          "count": 0,
          "hex": "#735c12"
         },
         {
          "chunk": 0,
          "color": "blood red",
          "count": 0,
          "hex": "#980002"
         },
         {
          "chunk": 1,
          "color": "blood red",
          "count": 0,
          "hex": "#980002"
         },
         {
          "chunk": 2,
          "color": "blood red",
          "count": 0,
          "hex": "#980002"
         },
         {
          "chunk": 3,
          "color": "blood red",
          "count": 0,
          "hex": "#980002"
         },
         {
          "chunk": 4,
          "color": "blood red",
          "count": 0,
          "hex": "#980002"
         },
         {
          "chunk": 5,
          "color": "blood red",
          "count": 0,
          "hex": "#980002"
         },
         {
          "chunk": 6,
          "color": "blood red",
          "count": 0,
          "hex": "#980002"
         },
         {
          "chunk": 7,
          "color": "blood red",
          "count": 0,
          "hex": "#980002"
         },
         {
          "chunk": 8,
          "color": "blood red",
          "count": 0,
          "hex": "#980002"
         },
         {
          "chunk": 9,
          "color": "blood red",
          "count": 0,
          "hex": "#980002"
         },
         {
          "chunk": 10,
          "color": "blood red",
          "count": 0,
          "hex": "#980002"
         },
         {
          "chunk": 11,
          "color": "blood red",
          "count": 0,
          "hex": "#980002"
         },
         {
          "chunk": 12,
          "color": "blood red",
          "count": 0,
          "hex": "#980002"
         },
         {
          "chunk": 13,
          "color": "blood red",
          "count": 0,
          "hex": "#980002"
         },
         {
          "chunk": 14,
          "color": "blood red",
          "count": 0,
          "hex": "#980002"
         },
         {
          "chunk": 15,
          "color": "blood red",
          "count": 0,
          "hex": "#980002"
         },
         {
          "chunk": 16,
          "color": "blood red",
          "count": 0,
          "hex": "#980002"
         },
         {
          "chunk": 17,
          "color": "blood red",
          "count": 0,
          "hex": "#980002"
         },
         {
          "chunk": 18,
          "color": "blood red",
          "count": 1,
          "hex": "#980002"
         },
         {
          "chunk": 19,
          "color": "blood red",
          "count": 0,
          "hex": "#980002"
         },
         {
          "chunk": 20,
          "color": "blood red",
          "count": 0,
          "hex": "#980002"
         },
         {
          "chunk": 21,
          "color": "blood red",
          "count": 0,
          "hex": "#980002"
         },
         {
          "chunk": 22,
          "color": "blood red",
          "count": 0,
          "hex": "#980002"
         },
         {
          "chunk": 23,
          "color": "blood red",
          "count": 0,
          "hex": "#980002"
         },
         {
          "chunk": 24,
          "color": "blood red",
          "count": 0,
          "hex": "#980002"
         },
         {
          "chunk": 25,
          "color": "blood red",
          "count": 0,
          "hex": "#980002"
         },
         {
          "chunk": 26,
          "color": "blood red",
          "count": 0,
          "hex": "#980002"
         },
         {
          "chunk": 27,
          "color": "blood red",
          "count": 0,
          "hex": "#980002"
         },
         {
          "chunk": 28,
          "color": "blood red",
          "count": 0,
          "hex": "#980002"
         },
         {
          "chunk": 29,
          "color": "blood red",
          "count": 0,
          "hex": "#980002"
         },
         {
          "chunk": 30,
          "color": "blood red",
          "count": 0,
          "hex": "#980002"
         },
         {
          "chunk": 31,
          "color": "blood red",
          "count": 0,
          "hex": "#980002"
         },
         {
          "chunk": 32,
          "color": "blood red",
          "count": 0,
          "hex": "#980002"
         },
         {
          "chunk": 33,
          "color": "blood red",
          "count": 0,
          "hex": "#980002"
         },
         {
          "chunk": 34,
          "color": "blood red",
          "count": 0,
          "hex": "#980002"
         },
         {
          "chunk": 35,
          "color": "blood red",
          "count": 0,
          "hex": "#980002"
         },
         {
          "chunk": 36,
          "color": "blood red",
          "count": 0,
          "hex": "#980002"
         },
         {
          "chunk": 37,
          "color": "blood red",
          "count": 0,
          "hex": "#980002"
         },
         {
          "chunk": 38,
          "color": "blood red",
          "count": 0,
          "hex": "#980002"
         },
         {
          "chunk": 39,
          "color": "blood red",
          "count": 0,
          "hex": "#980002"
         },
         {
          "chunk": 0,
          "color": "coral",
          "count": 0,
          "hex": "#fc5a50"
         },
         {
          "chunk": 1,
          "color": "coral",
          "count": 0,
          "hex": "#fc5a50"
         },
         {
          "chunk": 2,
          "color": "coral",
          "count": 0,
          "hex": "#fc5a50"
         },
         {
          "chunk": 3,
          "color": "coral",
          "count": 0,
          "hex": "#fc5a50"
         },
         {
          "chunk": 4,
          "color": "coral",
          "count": 0,
          "hex": "#fc5a50"
         },
         {
          "chunk": 5,
          "color": "coral",
          "count": 0,
          "hex": "#fc5a50"
         },
         {
          "chunk": 6,
          "color": "coral",
          "count": 0,
          "hex": "#fc5a50"
         },
         {
          "chunk": 7,
          "color": "coral",
          "count": 0,
          "hex": "#fc5a50"
         },
         {
          "chunk": 8,
          "color": "coral",
          "count": 0,
          "hex": "#fc5a50"
         },
         {
          "chunk": 9,
          "color": "coral",
          "count": 0,
          "hex": "#fc5a50"
         },
         {
          "chunk": 10,
          "color": "coral",
          "count": 0,
          "hex": "#fc5a50"
         },
         {
          "chunk": 11,
          "color": "coral",
          "count": 0,
          "hex": "#fc5a50"
         },
         {
          "chunk": 12,
          "color": "coral",
          "count": 0,
          "hex": "#fc5a50"
         },
         {
          "chunk": 13,
          "color": "coral",
          "count": 0,
          "hex": "#fc5a50"
         },
         {
          "chunk": 14,
          "color": "coral",
          "count": 0,
          "hex": "#fc5a50"
         },
         {
          "chunk": 15,
          "color": "coral",
          "count": 0,
          "hex": "#fc5a50"
         },
         {
          "chunk": 16,
          "color": "coral",
          "count": 0,
          "hex": "#fc5a50"
         },
         {
          "chunk": 17,
          "color": "coral",
          "count": 0,
          "hex": "#fc5a50"
         },
         {
          "chunk": 18,
          "color": "coral",
          "count": 1,
          "hex": "#fc5a50"
         },
         {
          "chunk": 19,
          "color": "coral",
          "count": 0,
          "hex": "#fc5a50"
         },
         {
          "chunk": 20,
          "color": "coral",
          "count": 0,
          "hex": "#fc5a50"
         },
         {
          "chunk": 21,
          "color": "coral",
          "count": 0,
          "hex": "#fc5a50"
         },
         {
          "chunk": 22,
          "color": "coral",
          "count": 0,
          "hex": "#fc5a50"
         },
         {
          "chunk": 23,
          "color": "coral",
          "count": 0,
          "hex": "#fc5a50"
         },
         {
          "chunk": 24,
          "color": "coral",
          "count": 0,
          "hex": "#fc5a50"
         },
         {
          "chunk": 25,
          "color": "coral",
          "count": 0,
          "hex": "#fc5a50"
         },
         {
          "chunk": 26,
          "color": "coral",
          "count": 0,
          "hex": "#fc5a50"
         },
         {
          "chunk": 27,
          "color": "coral",
          "count": 0,
          "hex": "#fc5a50"
         },
         {
          "chunk": 28,
          "color": "coral",
          "count": 0,
          "hex": "#fc5a50"
         },
         {
          "chunk": 29,
          "color": "coral",
          "count": 0,
          "hex": "#fc5a50"
         },
         {
          "chunk": 30,
          "color": "coral",
          "count": 0,
          "hex": "#fc5a50"
         },
         {
          "chunk": 31,
          "color": "coral",
          "count": 0,
          "hex": "#fc5a50"
         },
         {
          "chunk": 32,
          "color": "coral",
          "count": 0,
          "hex": "#fc5a50"
         },
         {
          "chunk": 33,
          "color": "coral",
          "count": 0,
          "hex": "#fc5a50"
         },
         {
          "chunk": 34,
          "color": "coral",
          "count": 0,
          "hex": "#fc5a50"
         },
         {
          "chunk": 35,
          "color": "coral",
          "count": 0,
          "hex": "#fc5a50"
         },
         {
          "chunk": 36,
          "color": "coral",
          "count": 0,
          "hex": "#fc5a50"
         },
         {
          "chunk": 37,
          "color": "coral",
          "count": 0,
          "hex": "#fc5a50"
         },
         {
          "chunk": 38,
          "color": "coral",
          "count": 0,
          "hex": "#fc5a50"
         },
         {
          "chunk": 39,
          "color": "coral",
          "count": 0,
          "hex": "#fc5a50"
         },
         {
          "chunk": 0,
          "color": "swamp",
          "count": 0,
          "hex": "#698339"
         },
         {
          "chunk": 1,
          "color": "swamp",
          "count": 0,
          "hex": "#698339"
         },
         {
          "chunk": 2,
          "color": "swamp",
          "count": 0,
          "hex": "#698339"
         },
         {
          "chunk": 3,
          "color": "swamp",
          "count": 0,
          "hex": "#698339"
         },
         {
          "chunk": 4,
          "color": "swamp",
          "count": 0,
          "hex": "#698339"
         },
         {
          "chunk": 5,
          "color": "swamp",
          "count": 0,
          "hex": "#698339"
         },
         {
          "chunk": 6,
          "color": "swamp",
          "count": 0,
          "hex": "#698339"
         },
         {
          "chunk": 7,
          "color": "swamp",
          "count": 0,
          "hex": "#698339"
         },
         {
          "chunk": 8,
          "color": "swamp",
          "count": 0,
          "hex": "#698339"
         },
         {
          "chunk": 9,
          "color": "swamp",
          "count": 0,
          "hex": "#698339"
         },
         {
          "chunk": 10,
          "color": "swamp",
          "count": 0,
          "hex": "#698339"
         },
         {
          "chunk": 11,
          "color": "swamp",
          "count": 0,
          "hex": "#698339"
         },
         {
          "chunk": 12,
          "color": "swamp",
          "count": 0,
          "hex": "#698339"
         },
         {
          "chunk": 13,
          "color": "swamp",
          "count": 0,
          "hex": "#698339"
         },
         {
          "chunk": 14,
          "color": "swamp",
          "count": 0,
          "hex": "#698339"
         },
         {
          "chunk": 15,
          "color": "swamp",
          "count": 0,
          "hex": "#698339"
         },
         {
          "chunk": 16,
          "color": "swamp",
          "count": 0,
          "hex": "#698339"
         },
         {
          "chunk": 17,
          "color": "swamp",
          "count": 0,
          "hex": "#698339"
         },
         {
          "chunk": 18,
          "color": "swamp",
          "count": 0,
          "hex": "#698339"
         },
         {
          "chunk": 19,
          "color": "swamp",
          "count": 0,
          "hex": "#698339"
         },
         {
          "chunk": 20,
          "color": "swamp",
          "count": 1,
          "hex": "#698339"
         },
         {
          "chunk": 21,
          "color": "swamp",
          "count": 0,
          "hex": "#698339"
         },
         {
          "chunk": 22,
          "color": "swamp",
          "count": 0,
          "hex": "#698339"
         },
         {
          "chunk": 23,
          "color": "swamp",
          "count": 0,
          "hex": "#698339"
         },
         {
          "chunk": 24,
          "color": "swamp",
          "count": 0,
          "hex": "#698339"
         },
         {
          "chunk": 25,
          "color": "swamp",
          "count": 0,
          "hex": "#698339"
         },
         {
          "chunk": 26,
          "color": "swamp",
          "count": 0,
          "hex": "#698339"
         },
         {
          "chunk": 27,
          "color": "swamp",
          "count": 0,
          "hex": "#698339"
         },
         {
          "chunk": 28,
          "color": "swamp",
          "count": 0,
          "hex": "#698339"
         },
         {
          "chunk": 29,
          "color": "swamp",
          "count": 0,
          "hex": "#698339"
         },
         {
          "chunk": 30,
          "color": "swamp",
          "count": 0,
          "hex": "#698339"
         },
         {
          "chunk": 31,
          "color": "swamp",
          "count": 0,
          "hex": "#698339"
         },
         {
          "chunk": 32,
          "color": "swamp",
          "count": 0,
          "hex": "#698339"
         },
         {
          "chunk": 33,
          "color": "swamp",
          "count": 0,
          "hex": "#698339"
         },
         {
          "chunk": 34,
          "color": "swamp",
          "count": 0,
          "hex": "#698339"
         },
         {
          "chunk": 35,
          "color": "swamp",
          "count": 0,
          "hex": "#698339"
         },
         {
          "chunk": 36,
          "color": "swamp",
          "count": 0,
          "hex": "#698339"
         },
         {
          "chunk": 37,
          "color": "swamp",
          "count": 0,
          "hex": "#698339"
         },
         {
          "chunk": 38,
          "color": "swamp",
          "count": 0,
          "hex": "#698339"
         },
         {
          "chunk": 39,
          "color": "swamp",
          "count": 0,
          "hex": "#698339"
         },
         {
          "chunk": 0,
          "color": "cream",
          "count": 0,
          "hex": "#ffffc2"
         },
         {
          "chunk": 1,
          "color": "cream",
          "count": 0,
          "hex": "#ffffc2"
         },
         {
          "chunk": 2,
          "color": "cream",
          "count": 0,
          "hex": "#ffffc2"
         },
         {
          "chunk": 3,
          "color": "cream",
          "count": 0,
          "hex": "#ffffc2"
         },
         {
          "chunk": 4,
          "color": "cream",
          "count": 0,
          "hex": "#ffffc2"
         },
         {
          "chunk": 5,
          "color": "cream",
          "count": 0,
          "hex": "#ffffc2"
         },
         {
          "chunk": 6,
          "color": "cream",
          "count": 0,
          "hex": "#ffffc2"
         },
         {
          "chunk": 7,
          "color": "cream",
          "count": 0,
          "hex": "#ffffc2"
         },
         {
          "chunk": 8,
          "color": "cream",
          "count": 0,
          "hex": "#ffffc2"
         },
         {
          "chunk": 9,
          "color": "cream",
          "count": 0,
          "hex": "#ffffc2"
         },
         {
          "chunk": 10,
          "color": "cream",
          "count": 0,
          "hex": "#ffffc2"
         },
         {
          "chunk": 11,
          "color": "cream",
          "count": 0,
          "hex": "#ffffc2"
         },
         {
          "chunk": 12,
          "color": "cream",
          "count": 0,
          "hex": "#ffffc2"
         },
         {
          "chunk": 13,
          "color": "cream",
          "count": 0,
          "hex": "#ffffc2"
         },
         {
          "chunk": 14,
          "color": "cream",
          "count": 0,
          "hex": "#ffffc2"
         },
         {
          "chunk": 15,
          "color": "cream",
          "count": 0,
          "hex": "#ffffc2"
         },
         {
          "chunk": 16,
          "color": "cream",
          "count": 0,
          "hex": "#ffffc2"
         },
         {
          "chunk": 17,
          "color": "cream",
          "count": 0,
          "hex": "#ffffc2"
         },
         {
          "chunk": 18,
          "color": "cream",
          "count": 0,
          "hex": "#ffffc2"
         },
         {
          "chunk": 19,
          "color": "cream",
          "count": 0,
          "hex": "#ffffc2"
         },
         {
          "chunk": 20,
          "color": "cream",
          "count": 1,
          "hex": "#ffffc2"
         },
         {
          "chunk": 21,
          "color": "cream",
          "count": 1,
          "hex": "#ffffc2"
         },
         {
          "chunk": 22,
          "color": "cream",
          "count": 0,
          "hex": "#ffffc2"
         },
         {
          "chunk": 23,
          "color": "cream",
          "count": 0,
          "hex": "#ffffc2"
         },
         {
          "chunk": 24,
          "color": "cream",
          "count": 0,
          "hex": "#ffffc2"
         },
         {
          "chunk": 25,
          "color": "cream",
          "count": 0,
          "hex": "#ffffc2"
         },
         {
          "chunk": 26,
          "color": "cream",
          "count": 0,
          "hex": "#ffffc2"
         },
         {
          "chunk": 27,
          "color": "cream",
          "count": 0,
          "hex": "#ffffc2"
         },
         {
          "chunk": 28,
          "color": "cream",
          "count": 0,
          "hex": "#ffffc2"
         },
         {
          "chunk": 29,
          "color": "cream",
          "count": 0,
          "hex": "#ffffc2"
         },
         {
          "chunk": 30,
          "color": "cream",
          "count": 0,
          "hex": "#ffffc2"
         },
         {
          "chunk": 31,
          "color": "cream",
          "count": 0,
          "hex": "#ffffc2"
         },
         {
          "chunk": 32,
          "color": "cream",
          "count": 0,
          "hex": "#ffffc2"
         },
         {
          "chunk": 33,
          "color": "cream",
          "count": 0,
          "hex": "#ffffc2"
         },
         {
          "chunk": 34,
          "color": "cream",
          "count": 0,
          "hex": "#ffffc2"
         },
         {
          "chunk": 35,
          "color": "cream",
          "count": 0,
          "hex": "#ffffc2"
         },
         {
          "chunk": 36,
          "color": "cream",
          "count": 0,
          "hex": "#ffffc2"
         },
         {
          "chunk": 37,
          "color": "cream",
          "count": 0,
          "hex": "#ffffc2"
         },
         {
          "chunk": 38,
          "color": "cream",
          "count": 0,
          "hex": "#ffffc2"
         },
         {
          "chunk": 39,
          "color": "cream",
          "count": 0,
          "hex": "#ffffc2"
         },
         {
          "chunk": 0,
          "color": "coffee",
          "count": 0,
          "hex": "#a6814c"
         },
         {
          "chunk": 1,
          "color": "coffee",
          "count": 0,
          "hex": "#a6814c"
         },
         {
          "chunk": 2,
          "color": "coffee",
          "count": 0,
          "hex": "#a6814c"
         },
         {
          "chunk": 3,
          "color": "coffee",
          "count": 0,
          "hex": "#a6814c"
         },
         {
          "chunk": 4,
          "color": "coffee",
          "count": 0,
          "hex": "#a6814c"
         },
         {
          "chunk": 5,
          "color": "coffee",
          "count": 0,
          "hex": "#a6814c"
         },
         {
          "chunk": 6,
          "color": "coffee",
          "count": 0,
          "hex": "#a6814c"
         },
         {
          "chunk": 7,
          "color": "coffee",
          "count": 0,
          "hex": "#a6814c"
         },
         {
          "chunk": 8,
          "color": "coffee",
          "count": 0,
          "hex": "#a6814c"
         },
         {
          "chunk": 9,
          "color": "coffee",
          "count": 0,
          "hex": "#a6814c"
         },
         {
          "chunk": 10,
          "color": "coffee",
          "count": 0,
          "hex": "#a6814c"
         },
         {
          "chunk": 11,
          "color": "coffee",
          "count": 0,
          "hex": "#a6814c"
         },
         {
          "chunk": 12,
          "color": "coffee",
          "count": 0,
          "hex": "#a6814c"
         },
         {
          "chunk": 13,
          "color": "coffee",
          "count": 0,
          "hex": "#a6814c"
         },
         {
          "chunk": 14,
          "color": "coffee",
          "count": 0,
          "hex": "#a6814c"
         },
         {
          "chunk": 15,
          "color": "coffee",
          "count": 0,
          "hex": "#a6814c"
         },
         {
          "chunk": 16,
          "color": "coffee",
          "count": 0,
          "hex": "#a6814c"
         },
         {
          "chunk": 17,
          "color": "coffee",
          "count": 0,
          "hex": "#a6814c"
         },
         {
          "chunk": 18,
          "color": "coffee",
          "count": 0,
          "hex": "#a6814c"
         },
         {
          "chunk": 19,
          "color": "coffee",
          "count": 0,
          "hex": "#a6814c"
         },
         {
          "chunk": 20,
          "color": "coffee",
          "count": 0,
          "hex": "#a6814c"
         },
         {
          "chunk": 21,
          "color": "coffee",
          "count": 3,
          "hex": "#a6814c"
         },
         {
          "chunk": 22,
          "color": "coffee",
          "count": 0,
          "hex": "#a6814c"
         },
         {
          "chunk": 23,
          "color": "coffee",
          "count": 0,
          "hex": "#a6814c"
         },
         {
          "chunk": 24,
          "color": "coffee",
          "count": 0,
          "hex": "#a6814c"
         },
         {
          "chunk": 25,
          "color": "coffee",
          "count": 0,
          "hex": "#a6814c"
         },
         {
          "chunk": 26,
          "color": "coffee",
          "count": 0,
          "hex": "#a6814c"
         },
         {
          "chunk": 27,
          "color": "coffee",
          "count": 0,
          "hex": "#a6814c"
         },
         {
          "chunk": 28,
          "color": "coffee",
          "count": 0,
          "hex": "#a6814c"
         },
         {
          "chunk": 29,
          "color": "coffee",
          "count": 0,
          "hex": "#a6814c"
         },
         {
          "chunk": 30,
          "color": "coffee",
          "count": 0,
          "hex": "#a6814c"
         },
         {
          "chunk": 31,
          "color": "coffee",
          "count": 0,
          "hex": "#a6814c"
         },
         {
          "chunk": 32,
          "color": "coffee",
          "count": 0,
          "hex": "#a6814c"
         },
         {
          "chunk": 33,
          "color": "coffee",
          "count": 0,
          "hex": "#a6814c"
         },
         {
          "chunk": 34,
          "color": "coffee",
          "count": 0,
          "hex": "#a6814c"
         },
         {
          "chunk": 35,
          "color": "coffee",
          "count": 0,
          "hex": "#a6814c"
         },
         {
          "chunk": 36,
          "color": "coffee",
          "count": 0,
          "hex": "#a6814c"
         },
         {
          "chunk": 37,
          "color": "coffee",
          "count": 0,
          "hex": "#a6814c"
         },
         {
          "chunk": 38,
          "color": "coffee",
          "count": 0,
          "hex": "#a6814c"
         },
         {
          "chunk": 39,
          "color": "coffee",
          "count": 0,
          "hex": "#a6814c"
         },
         {
          "chunk": 0,
          "color": "wine",
          "count": 0,
          "hex": "#80013f"
         },
         {
          "chunk": 1,
          "color": "wine",
          "count": 0,
          "hex": "#80013f"
         },
         {
          "chunk": 2,
          "color": "wine",
          "count": 0,
          "hex": "#80013f"
         },
         {
          "chunk": 3,
          "color": "wine",
          "count": 0,
          "hex": "#80013f"
         },
         {
          "chunk": 4,
          "color": "wine",
          "count": 0,
          "hex": "#80013f"
         },
         {
          "chunk": 5,
          "color": "wine",
          "count": 0,
          "hex": "#80013f"
         },
         {
          "chunk": 6,
          "color": "wine",
          "count": 0,
          "hex": "#80013f"
         },
         {
          "chunk": 7,
          "color": "wine",
          "count": 0,
          "hex": "#80013f"
         },
         {
          "chunk": 8,
          "color": "wine",
          "count": 0,
          "hex": "#80013f"
         },
         {
          "chunk": 9,
          "color": "wine",
          "count": 0,
          "hex": "#80013f"
         },
         {
          "chunk": 10,
          "color": "wine",
          "count": 0,
          "hex": "#80013f"
         },
         {
          "chunk": 11,
          "color": "wine",
          "count": 0,
          "hex": "#80013f"
         },
         {
          "chunk": 12,
          "color": "wine",
          "count": 0,
          "hex": "#80013f"
         },
         {
          "chunk": 13,
          "color": "wine",
          "count": 0,
          "hex": "#80013f"
         },
         {
          "chunk": 14,
          "color": "wine",
          "count": 0,
          "hex": "#80013f"
         },
         {
          "chunk": 15,
          "color": "wine",
          "count": 0,
          "hex": "#80013f"
         },
         {
          "chunk": 16,
          "color": "wine",
          "count": 0,
          "hex": "#80013f"
         },
         {
          "chunk": 17,
          "color": "wine",
          "count": 0,
          "hex": "#80013f"
         },
         {
          "chunk": 18,
          "color": "wine",
          "count": 0,
          "hex": "#80013f"
         },
         {
          "chunk": 19,
          "color": "wine",
          "count": 0,
          "hex": "#80013f"
         },
         {
          "chunk": 20,
          "color": "wine",
          "count": 0,
          "hex": "#80013f"
         },
         {
          "chunk": 21,
          "color": "wine",
          "count": 1,
          "hex": "#80013f"
         },
         {
          "chunk": 22,
          "color": "wine",
          "count": 0,
          "hex": "#80013f"
         },
         {
          "chunk": 23,
          "color": "wine",
          "count": 0,
          "hex": "#80013f"
         },
         {
          "chunk": 24,
          "color": "wine",
          "count": 0,
          "hex": "#80013f"
         },
         {
          "chunk": 25,
          "color": "wine",
          "count": 0,
          "hex": "#80013f"
         },
         {
          "chunk": 26,
          "color": "wine",
          "count": 0,
          "hex": "#80013f"
         },
         {
          "chunk": 27,
          "color": "wine",
          "count": 0,
          "hex": "#80013f"
         },
         {
          "chunk": 28,
          "color": "wine",
          "count": 0,
          "hex": "#80013f"
         },
         {
          "chunk": 29,
          "color": "wine",
          "count": 0,
          "hex": "#80013f"
         },
         {
          "chunk": 30,
          "color": "wine",
          "count": 0,
          "hex": "#80013f"
         },
         {
          "chunk": 31,
          "color": "wine",
          "count": 0,
          "hex": "#80013f"
         },
         {
          "chunk": 32,
          "color": "wine",
          "count": 0,
          "hex": "#80013f"
         },
         {
          "chunk": 33,
          "color": "wine",
          "count": 0,
          "hex": "#80013f"
         },
         {
          "chunk": 34,
          "color": "wine",
          "count": 0,
          "hex": "#80013f"
         },
         {
          "chunk": 35,
          "color": "wine",
          "count": 0,
          "hex": "#80013f"
         },
         {
          "chunk": 36,
          "color": "wine",
          "count": 0,
          "hex": "#80013f"
         },
         {
          "chunk": 37,
          "color": "wine",
          "count": 0,
          "hex": "#80013f"
         },
         {
          "chunk": 38,
          "color": "wine",
          "count": 0,
          "hex": "#80013f"
         },
         {
          "chunk": 39,
          "color": "wine",
          "count": 0,
          "hex": "#80013f"
         },
         {
          "chunk": 0,
          "color": "brick",
          "count": 0,
          "hex": "#a03623"
         },
         {
          "chunk": 1,
          "color": "brick",
          "count": 0,
          "hex": "#a03623"
         },
         {
          "chunk": 2,
          "color": "brick",
          "count": 0,
          "hex": "#a03623"
         },
         {
          "chunk": 3,
          "color": "brick",
          "count": 0,
          "hex": "#a03623"
         },
         {
          "chunk": 4,
          "color": "brick",
          "count": 0,
          "hex": "#a03623"
         },
         {
          "chunk": 5,
          "color": "brick",
          "count": 0,
          "hex": "#a03623"
         },
         {
          "chunk": 6,
          "color": "brick",
          "count": 0,
          "hex": "#a03623"
         },
         {
          "chunk": 7,
          "color": "brick",
          "count": 0,
          "hex": "#a03623"
         },
         {
          "chunk": 8,
          "color": "brick",
          "count": 0,
          "hex": "#a03623"
         },
         {
          "chunk": 9,
          "color": "brick",
          "count": 0,
          "hex": "#a03623"
         },
         {
          "chunk": 10,
          "color": "brick",
          "count": 0,
          "hex": "#a03623"
         },
         {
          "chunk": 11,
          "color": "brick",
          "count": 0,
          "hex": "#a03623"
         },
         {
          "chunk": 12,
          "color": "brick",
          "count": 0,
          "hex": "#a03623"
         },
         {
          "chunk": 13,
          "color": "brick",
          "count": 0,
          "hex": "#a03623"
         },
         {
          "chunk": 14,
          "color": "brick",
          "count": 0,
          "hex": "#a03623"
         },
         {
          "chunk": 15,
          "color": "brick",
          "count": 0,
          "hex": "#a03623"
         },
         {
          "chunk": 16,
          "color": "brick",
          "count": 0,
          "hex": "#a03623"
         },
         {
          "chunk": 17,
          "color": "brick",
          "count": 0,
          "hex": "#a03623"
         },
         {
          "chunk": 18,
          "color": "brick",
          "count": 0,
          "hex": "#a03623"
         },
         {
          "chunk": 19,
          "color": "brick",
          "count": 0,
          "hex": "#a03623"
         },
         {
          "chunk": 20,
          "color": "brick",
          "count": 0,
          "hex": "#a03623"
         },
         {
          "chunk": 21,
          "color": "brick",
          "count": 0,
          "hex": "#a03623"
         },
         {
          "chunk": 22,
          "color": "brick",
          "count": 1,
          "hex": "#a03623"
         },
         {
          "chunk": 23,
          "color": "brick",
          "count": 0,
          "hex": "#a03623"
         },
         {
          "chunk": 24,
          "color": "brick",
          "count": 0,
          "hex": "#a03623"
         },
         {
          "chunk": 25,
          "color": "brick",
          "count": 0,
          "hex": "#a03623"
         },
         {
          "chunk": 26,
          "color": "brick",
          "count": 0,
          "hex": "#a03623"
         },
         {
          "chunk": 27,
          "color": "brick",
          "count": 0,
          "hex": "#a03623"
         },
         {
          "chunk": 28,
          "color": "brick",
          "count": 0,
          "hex": "#a03623"
         },
         {
          "chunk": 29,
          "color": "brick",
          "count": 0,
          "hex": "#a03623"
         },
         {
          "chunk": 30,
          "color": "brick",
          "count": 0,
          "hex": "#a03623"
         },
         {
          "chunk": 31,
          "color": "brick",
          "count": 0,
          "hex": "#a03623"
         },
         {
          "chunk": 32,
          "color": "brick",
          "count": 0,
          "hex": "#a03623"
         },
         {
          "chunk": 33,
          "color": "brick",
          "count": 0,
          "hex": "#a03623"
         },
         {
          "chunk": 34,
          "color": "brick",
          "count": 0,
          "hex": "#a03623"
         },
         {
          "chunk": 35,
          "color": "brick",
          "count": 0,
          "hex": "#a03623"
         },
         {
          "chunk": 36,
          "color": "brick",
          "count": 0,
          "hex": "#a03623"
         },
         {
          "chunk": 37,
          "color": "brick",
          "count": 0,
          "hex": "#a03623"
         },
         {
          "chunk": 38,
          "color": "brick",
          "count": 0,
          "hex": "#a03623"
         },
         {
          "chunk": 39,
          "color": "brick",
          "count": 0,
          "hex": "#a03623"
         },
         {
          "chunk": 0,
          "color": "navy",
          "count": 0,
          "hex": "#01153e"
         },
         {
          "chunk": 1,
          "color": "navy",
          "count": 0,
          "hex": "#01153e"
         },
         {
          "chunk": 2,
          "color": "navy",
          "count": 0,
          "hex": "#01153e"
         },
         {
          "chunk": 3,
          "color": "navy",
          "count": 0,
          "hex": "#01153e"
         },
         {
          "chunk": 4,
          "color": "navy",
          "count": 0,
          "hex": "#01153e"
         },
         {
          "chunk": 5,
          "color": "navy",
          "count": 0,
          "hex": "#01153e"
         },
         {
          "chunk": 6,
          "color": "navy",
          "count": 0,
          "hex": "#01153e"
         },
         {
          "chunk": 7,
          "color": "navy",
          "count": 0,
          "hex": "#01153e"
         },
         {
          "chunk": 8,
          "color": "navy",
          "count": 0,
          "hex": "#01153e"
         },
         {
          "chunk": 9,
          "color": "navy",
          "count": 0,
          "hex": "#01153e"
         },
         {
          "chunk": 10,
          "color": "navy",
          "count": 0,
          "hex": "#01153e"
         },
         {
          "chunk": 11,
          "color": "navy",
          "count": 0,
          "hex": "#01153e"
         },
         {
          "chunk": 12,
          "color": "navy",
          "count": 0,
          "hex": "#01153e"
         },
         {
          "chunk": 13,
          "color": "navy",
          "count": 0,
          "hex": "#01153e"
         },
         {
          "chunk": 14,
          "color": "navy",
          "count": 0,
          "hex": "#01153e"
         },
         {
          "chunk": 15,
          "color": "navy",
          "count": 0,
          "hex": "#01153e"
         },
         {
          "chunk": 16,
          "color": "navy",
          "count": 0,
          "hex": "#01153e"
         },
         {
          "chunk": 17,
          "color": "navy",
          "count": 0,
          "hex": "#01153e"
         },
         {
          "chunk": 18,
          "color": "navy",
          "count": 0,
          "hex": "#01153e"
         },
         {
          "chunk": 19,
          "color": "navy",
          "count": 0,
          "hex": "#01153e"
         },
         {
          "chunk": 20,
          "color": "navy",
          "count": 0,
          "hex": "#01153e"
         },
         {
          "chunk": 21,
          "color": "navy",
          "count": 0,
          "hex": "#01153e"
         },
         {
          "chunk": 22,
          "color": "navy",
          "count": 0,
          "hex": "#01153e"
         },
         {
          "chunk": 23,
          "color": "navy",
          "count": 0,
          "hex": "#01153e"
         },
         {
          "chunk": 24,
          "color": "navy",
          "count": 0,
          "hex": "#01153e"
         },
         {
          "chunk": 25,
          "color": "navy",
          "count": 1,
          "hex": "#01153e"
         },
         {
          "chunk": 26,
          "color": "navy",
          "count": 1,
          "hex": "#01153e"
         },
         {
          "chunk": 27,
          "color": "navy",
          "count": 1,
          "hex": "#01153e"
         },
         {
          "chunk": 28,
          "color": "navy",
          "count": 0,
          "hex": "#01153e"
         },
         {
          "chunk": 29,
          "color": "navy",
          "count": 0,
          "hex": "#01153e"
         },
         {
          "chunk": 30,
          "color": "navy",
          "count": 0,
          "hex": "#01153e"
         },
         {
          "chunk": 31,
          "color": "navy",
          "count": 0,
          "hex": "#01153e"
         },
         {
          "chunk": 32,
          "color": "navy",
          "count": 0,
          "hex": "#01153e"
         },
         {
          "chunk": 33,
          "color": "navy",
          "count": 0,
          "hex": "#01153e"
         },
         {
          "chunk": 34,
          "color": "navy",
          "count": 0,
          "hex": "#01153e"
         },
         {
          "chunk": 35,
          "color": "navy",
          "count": 0,
          "hex": "#01153e"
         },
         {
          "chunk": 36,
          "color": "navy",
          "count": 0,
          "hex": "#01153e"
         },
         {
          "chunk": 37,
          "color": "navy",
          "count": 0,
          "hex": "#01153e"
         },
         {
          "chunk": 38,
          "color": "navy",
          "count": 0,
          "hex": "#01153e"
         },
         {
          "chunk": 39,
          "color": "navy",
          "count": 0,
          "hex": "#01153e"
         },
         {
          "chunk": 0,
          "color": "chocolate",
          "count": 0,
          "hex": "#3d1c02"
         },
         {
          "chunk": 1,
          "color": "chocolate",
          "count": 0,
          "hex": "#3d1c02"
         },
         {
          "chunk": 2,
          "color": "chocolate",
          "count": 0,
          "hex": "#3d1c02"
         },
         {
          "chunk": 3,
          "color": "chocolate",
          "count": 0,
          "hex": "#3d1c02"
         },
         {
          "chunk": 4,
          "color": "chocolate",
          "count": 0,
          "hex": "#3d1c02"
         },
         {
          "chunk": 5,
          "color": "chocolate",
          "count": 0,
          "hex": "#3d1c02"
         },
         {
          "chunk": 6,
          "color": "chocolate",
          "count": 0,
          "hex": "#3d1c02"
         },
         {
          "chunk": 7,
          "color": "chocolate",
          "count": 0,
          "hex": "#3d1c02"
         },
         {
          "chunk": 8,
          "color": "chocolate",
          "count": 0,
          "hex": "#3d1c02"
         },
         {
          "chunk": 9,
          "color": "chocolate",
          "count": 0,
          "hex": "#3d1c02"
         },
         {
          "chunk": 10,
          "color": "chocolate",
          "count": 0,
          "hex": "#3d1c02"
         },
         {
          "chunk": 11,
          "color": "chocolate",
          "count": 0,
          "hex": "#3d1c02"
         },
         {
          "chunk": 12,
          "color": "chocolate",
          "count": 0,
          "hex": "#3d1c02"
         },
         {
          "chunk": 13,
          "color": "chocolate",
          "count": 0,
          "hex": "#3d1c02"
         },
         {
          "chunk": 14,
          "color": "chocolate",
          "count": 0,
          "hex": "#3d1c02"
         },
         {
          "chunk": 15,
          "color": "chocolate",
          "count": 0,
          "hex": "#3d1c02"
         },
         {
          "chunk": 16,
          "color": "chocolate",
          "count": 0,
          "hex": "#3d1c02"
         },
         {
          "chunk": 17,
          "color": "chocolate",
          "count": 0,
          "hex": "#3d1c02"
         },
         {
          "chunk": 18,
          "color": "chocolate",
          "count": 0,
          "hex": "#3d1c02"
         },
         {
          "chunk": 19,
          "color": "chocolate",
          "count": 0,
          "hex": "#3d1c02"
         },
         {
          "chunk": 20,
          "color": "chocolate",
          "count": 0,
          "hex": "#3d1c02"
         },
         {
          "chunk": 21,
          "color": "chocolate",
          "count": 0,
          "hex": "#3d1c02"
         },
         {
          "chunk": 22,
          "color": "chocolate",
          "count": 0,
          "hex": "#3d1c02"
         },
         {
          "chunk": 23,
          "color": "chocolate",
          "count": 0,
          "hex": "#3d1c02"
         },
         {
          "chunk": 24,
          "color": "chocolate",
          "count": 0,
          "hex": "#3d1c02"
         },
         {
          "chunk": 25,
          "color": "chocolate",
          "count": 0,
          "hex": "#3d1c02"
         },
         {
          "chunk": 26,
          "color": "chocolate",
          "count": 2,
          "hex": "#3d1c02"
         },
         {
          "chunk": 27,
          "color": "chocolate",
          "count": 0,
          "hex": "#3d1c02"
         },
         {
          "chunk": 28,
          "color": "chocolate",
          "count": 0,
          "hex": "#3d1c02"
         },
         {
          "chunk": 29,
          "color": "chocolate",
          "count": 0,
          "hex": "#3d1c02"
         },
         {
          "chunk": 30,
          "color": "chocolate",
          "count": 0,
          "hex": "#3d1c02"
         },
         {
          "chunk": 31,
          "color": "chocolate",
          "count": 0,
          "hex": "#3d1c02"
         },
         {
          "chunk": 32,
          "color": "chocolate",
          "count": 0,
          "hex": "#3d1c02"
         },
         {
          "chunk": 33,
          "color": "chocolate",
          "count": 0,
          "hex": "#3d1c02"
         },
         {
          "chunk": 34,
          "color": "chocolate",
          "count": 0,
          "hex": "#3d1c02"
         },
         {
          "chunk": 35,
          "color": "chocolate",
          "count": 0,
          "hex": "#3d1c02"
         },
         {
          "chunk": 36,
          "color": "chocolate",
          "count": 0,
          "hex": "#3d1c02"
         },
         {
          "chunk": 37,
          "color": "chocolate",
          "count": 0,
          "hex": "#3d1c02"
         },
         {
          "chunk": 38,
          "color": "chocolate",
          "count": 0,
          "hex": "#3d1c02"
         },
         {
          "chunk": 39,
          "color": "chocolate",
          "count": 0,
          "hex": "#3d1c02"
         },
         {
          "chunk": 0,
          "color": "sandy",
          "count": 0,
          "hex": "#f1da7a"
         },
         {
          "chunk": 1,
          "color": "sandy",
          "count": 0,
          "hex": "#f1da7a"
         },
         {
          "chunk": 2,
          "color": "sandy",
          "count": 0,
          "hex": "#f1da7a"
         },
         {
          "chunk": 3,
          "color": "sandy",
          "count": 0,
          "hex": "#f1da7a"
         },
         {
          "chunk": 4,
          "color": "sandy",
          "count": 0,
          "hex": "#f1da7a"
         },
         {
          "chunk": 5,
          "color": "sandy",
          "count": 0,
          "hex": "#f1da7a"
         },
         {
          "chunk": 6,
          "color": "sandy",
          "count": 0,
          "hex": "#f1da7a"
         },
         {
          "chunk": 7,
          "color": "sandy",
          "count": 0,
          "hex": "#f1da7a"
         },
         {
          "chunk": 8,
          "color": "sandy",
          "count": 0,
          "hex": "#f1da7a"
         },
         {
          "chunk": 9,
          "color": "sandy",
          "count": 0,
          "hex": "#f1da7a"
         },
         {
          "chunk": 10,
          "color": "sandy",
          "count": 0,
          "hex": "#f1da7a"
         },
         {
          "chunk": 11,
          "color": "sandy",
          "count": 0,
          "hex": "#f1da7a"
         },
         {
          "chunk": 12,
          "color": "sandy",
          "count": 0,
          "hex": "#f1da7a"
         },
         {
          "chunk": 13,
          "color": "sandy",
          "count": 0,
          "hex": "#f1da7a"
         },
         {
          "chunk": 14,
          "color": "sandy",
          "count": 0,
          "hex": "#f1da7a"
         },
         {
          "chunk": 15,
          "color": "sandy",
          "count": 0,
          "hex": "#f1da7a"
         },
         {
          "chunk": 16,
          "color": "sandy",
          "count": 0,
          "hex": "#f1da7a"
         },
         {
          "chunk": 17,
          "color": "sandy",
          "count": 0,
          "hex": "#f1da7a"
         },
         {
          "chunk": 18,
          "color": "sandy",
          "count": 0,
          "hex": "#f1da7a"
         },
         {
          "chunk": 19,
          "color": "sandy",
          "count": 0,
          "hex": "#f1da7a"
         },
         {
          "chunk": 20,
          "color": "sandy",
          "count": 0,
          "hex": "#f1da7a"
         },
         {
          "chunk": 21,
          "color": "sandy",
          "count": 0,
          "hex": "#f1da7a"
         },
         {
          "chunk": 22,
          "color": "sandy",
          "count": 0,
          "hex": "#f1da7a"
         },
         {
          "chunk": 23,
          "color": "sandy",
          "count": 0,
          "hex": "#f1da7a"
         },
         {
          "chunk": 24,
          "color": "sandy",
          "count": 0,
          "hex": "#f1da7a"
         },
         {
          "chunk": 25,
          "color": "sandy",
          "count": 0,
          "hex": "#f1da7a"
         },
         {
          "chunk": 26,
          "color": "sandy",
          "count": 0,
          "hex": "#f1da7a"
         },
         {
          "chunk": 27,
          "color": "sandy",
          "count": 1,
          "hex": "#f1da7a"
         },
         {
          "chunk": 28,
          "color": "sandy",
          "count": 1,
          "hex": "#f1da7a"
         },
         {
          "chunk": 29,
          "color": "sandy",
          "count": 0,
          "hex": "#f1da7a"
         },
         {
          "chunk": 30,
          "color": "sandy",
          "count": 0,
          "hex": "#f1da7a"
         },
         {
          "chunk": 31,
          "color": "sandy",
          "count": 0,
          "hex": "#f1da7a"
         },
         {
          "chunk": 32,
          "color": "sandy",
          "count": 0,
          "hex": "#f1da7a"
         },
         {
          "chunk": 33,
          "color": "sandy",
          "count": 0,
          "hex": "#f1da7a"
         },
         {
          "chunk": 34,
          "color": "sandy",
          "count": 0,
          "hex": "#f1da7a"
         },
         {
          "chunk": 35,
          "color": "sandy",
          "count": 0,
          "hex": "#f1da7a"
         },
         {
          "chunk": 36,
          "color": "sandy",
          "count": 0,
          "hex": "#f1da7a"
         },
         {
          "chunk": 37,
          "color": "sandy",
          "count": 0,
          "hex": "#f1da7a"
         },
         {
          "chunk": 38,
          "color": "sandy",
          "count": 0,
          "hex": "#f1da7a"
         },
         {
          "chunk": 39,
          "color": "sandy",
          "count": 0,
          "hex": "#f1da7a"
         },
         {
          "chunk": 0,
          "color": "fawn",
          "count": 0,
          "hex": "#cfaf7b"
         },
         {
          "chunk": 1,
          "color": "fawn",
          "count": 0,
          "hex": "#cfaf7b"
         },
         {
          "chunk": 2,
          "color": "fawn",
          "count": 0,
          "hex": "#cfaf7b"
         },
         {
          "chunk": 3,
          "color": "fawn",
          "count": 0,
          "hex": "#cfaf7b"
         },
         {
          "chunk": 4,
          "color": "fawn",
          "count": 0,
          "hex": "#cfaf7b"
         },
         {
          "chunk": 5,
          "color": "fawn",
          "count": 0,
          "hex": "#cfaf7b"
         },
         {
          "chunk": 6,
          "color": "fawn",
          "count": 0,
          "hex": "#cfaf7b"
         },
         {
          "chunk": 7,
          "color": "fawn",
          "count": 0,
          "hex": "#cfaf7b"
         },
         {
          "chunk": 8,
          "color": "fawn",
          "count": 0,
          "hex": "#cfaf7b"
         },
         {
          "chunk": 9,
          "color": "fawn",
          "count": 0,
          "hex": "#cfaf7b"
         },
         {
          "chunk": 10,
          "color": "fawn",
          "count": 0,
          "hex": "#cfaf7b"
         },
         {
          "chunk": 11,
          "color": "fawn",
          "count": 0,
          "hex": "#cfaf7b"
         },
         {
          "chunk": 12,
          "color": "fawn",
          "count": 0,
          "hex": "#cfaf7b"
         },
         {
          "chunk": 13,
          "color": "fawn",
          "count": 0,
          "hex": "#cfaf7b"
         },
         {
          "chunk": 14,
          "color": "fawn",
          "count": 0,
          "hex": "#cfaf7b"
         },
         {
          "chunk": 15,
          "color": "fawn",
          "count": 0,
          "hex": "#cfaf7b"
         },
         {
          "chunk": 16,
          "color": "fawn",
          "count": 0,
          "hex": "#cfaf7b"
         },
         {
          "chunk": 17,
          "color": "fawn",
          "count": 0,
          "hex": "#cfaf7b"
         },
         {
          "chunk": 18,
          "color": "fawn",
          "count": 0,
          "hex": "#cfaf7b"
         },
         {
          "chunk": 19,
          "color": "fawn",
          "count": 0,
          "hex": "#cfaf7b"
         },
         {
          "chunk": 20,
          "color": "fawn",
          "count": 0,
          "hex": "#cfaf7b"
         },
         {
          "chunk": 21,
          "color": "fawn",
          "count": 0,
          "hex": "#cfaf7b"
         },
         {
          "chunk": 22,
          "color": "fawn",
          "count": 0,
          "hex": "#cfaf7b"
         },
         {
          "chunk": 23,
          "color": "fawn",
          "count": 0,
          "hex": "#cfaf7b"
         },
         {
          "chunk": 24,
          "color": "fawn",
          "count": 0,
          "hex": "#cfaf7b"
         },
         {
          "chunk": 25,
          "color": "fawn",
          "count": 0,
          "hex": "#cfaf7b"
         },
         {
          "chunk": 26,
          "color": "fawn",
          "count": 0,
          "hex": "#cfaf7b"
         },
         {
          "chunk": 27,
          "color": "fawn",
          "count": 1,
          "hex": "#cfaf7b"
         },
         {
          "chunk": 28,
          "color": "fawn",
          "count": 0,
          "hex": "#cfaf7b"
         },
         {
          "chunk": 29,
          "color": "fawn",
          "count": 0,
          "hex": "#cfaf7b"
         },
         {
          "chunk": 30,
          "color": "fawn",
          "count": 0,
          "hex": "#cfaf7b"
         },
         {
          "chunk": 31,
          "color": "fawn",
          "count": 0,
          "hex": "#cfaf7b"
         },
         {
          "chunk": 32,
          "color": "fawn",
          "count": 0,
          "hex": "#cfaf7b"
         },
         {
          "chunk": 33,
          "color": "fawn",
          "count": 0,
          "hex": "#cfaf7b"
         },
         {
          "chunk": 34,
          "color": "fawn",
          "count": 0,
          "hex": "#cfaf7b"
         },
         {
          "chunk": 35,
          "color": "fawn",
          "count": 0,
          "hex": "#cfaf7b"
         },
         {
          "chunk": 36,
          "color": "fawn",
          "count": 0,
          "hex": "#cfaf7b"
         },
         {
          "chunk": 37,
          "color": "fawn",
          "count": 0,
          "hex": "#cfaf7b"
         },
         {
          "chunk": 38,
          "color": "fawn",
          "count": 0,
          "hex": "#cfaf7b"
         },
         {
          "chunk": 39,
          "color": "fawn",
          "count": 0,
          "hex": "#cfaf7b"
         },
         {
          "chunk": 0,
          "color": "ice",
          "count": 0,
          "hex": "#d6fffa"
         },
         {
          "chunk": 1,
          "color": "ice",
          "count": 0,
          "hex": "#d6fffa"
         },
         {
          "chunk": 2,
          "color": "ice",
          "count": 0,
          "hex": "#d6fffa"
         },
         {
          "chunk": 3,
          "color": "ice",
          "count": 0,
          "hex": "#d6fffa"
         },
         {
          "chunk": 4,
          "color": "ice",
          "count": 0,
          "hex": "#d6fffa"
         },
         {
          "chunk": 5,
          "color": "ice",
          "count": 0,
          "hex": "#d6fffa"
         },
         {
          "chunk": 6,
          "color": "ice",
          "count": 0,
          "hex": "#d6fffa"
         },
         {
          "chunk": 7,
          "color": "ice",
          "count": 0,
          "hex": "#d6fffa"
         },
         {
          "chunk": 8,
          "color": "ice",
          "count": 0,
          "hex": "#d6fffa"
         },
         {
          "chunk": 9,
          "color": "ice",
          "count": 0,
          "hex": "#d6fffa"
         },
         {
          "chunk": 10,
          "color": "ice",
          "count": 0,
          "hex": "#d6fffa"
         },
         {
          "chunk": 11,
          "color": "ice",
          "count": 0,
          "hex": "#d6fffa"
         },
         {
          "chunk": 12,
          "color": "ice",
          "count": 0,
          "hex": "#d6fffa"
         },
         {
          "chunk": 13,
          "color": "ice",
          "count": 0,
          "hex": "#d6fffa"
         },
         {
          "chunk": 14,
          "color": "ice",
          "count": 0,
          "hex": "#d6fffa"
         },
         {
          "chunk": 15,
          "color": "ice",
          "count": 0,
          "hex": "#d6fffa"
         },
         {
          "chunk": 16,
          "color": "ice",
          "count": 0,
          "hex": "#d6fffa"
         },
         {
          "chunk": 17,
          "color": "ice",
          "count": 0,
          "hex": "#d6fffa"
         },
         {
          "chunk": 18,
          "color": "ice",
          "count": 0,
          "hex": "#d6fffa"
         },
         {
          "chunk": 19,
          "color": "ice",
          "count": 0,
          "hex": "#d6fffa"
         },
         {
          "chunk": 20,
          "color": "ice",
          "count": 0,
          "hex": "#d6fffa"
         },
         {
          "chunk": 21,
          "color": "ice",
          "count": 0,
          "hex": "#d6fffa"
         },
         {
          "chunk": 22,
          "color": "ice",
          "count": 0,
          "hex": "#d6fffa"
         },
         {
          "chunk": 23,
          "color": "ice",
          "count": 0,
          "hex": "#d6fffa"
         },
         {
          "chunk": 24,
          "color": "ice",
          "count": 0,
          "hex": "#d6fffa"
         },
         {
          "chunk": 25,
          "color": "ice",
          "count": 0,
          "hex": "#d6fffa"
         },
         {
          "chunk": 26,
          "color": "ice",
          "count": 0,
          "hex": "#d6fffa"
         },
         {
          "chunk": 27,
          "color": "ice",
          "count": 0,
          "hex": "#d6fffa"
         },
         {
          "chunk": 28,
          "color": "ice",
          "count": 1,
          "hex": "#d6fffa"
         },
         {
          "chunk": 29,
          "color": "ice",
          "count": 0,
          "hex": "#d6fffa"
         },
         {
          "chunk": 30,
          "color": "ice",
          "count": 0,
          "hex": "#d6fffa"
         },
         {
          "chunk": 31,
          "color": "ice",
          "count": 0,
          "hex": "#d6fffa"
         },
         {
          "chunk": 32,
          "color": "ice",
          "count": 0,
          "hex": "#d6fffa"
         },
         {
          "chunk": 33,
          "color": "ice",
          "count": 0,
          "hex": "#d6fffa"
         },
         {
          "chunk": 34,
          "color": "ice",
          "count": 0,
          "hex": "#d6fffa"
         },
         {
          "chunk": 35,
          "color": "ice",
          "count": 0,
          "hex": "#d6fffa"
         },
         {
          "chunk": 36,
          "color": "ice",
          "count": 0,
          "hex": "#d6fffa"
         },
         {
          "chunk": 37,
          "color": "ice",
          "count": 0,
          "hex": "#d6fffa"
         },
         {
          "chunk": 38,
          "color": "ice",
          "count": 0,
          "hex": "#d6fffa"
         },
         {
          "chunk": 39,
          "color": "ice",
          "count": 0,
          "hex": "#d6fffa"
         },
         {
          "chunk": 0,
          "color": "golden",
          "count": 0,
          "hex": "#f5bf03"
         },
         {
          "chunk": 1,
          "color": "golden",
          "count": 0,
          "hex": "#f5bf03"
         },
         {
          "chunk": 2,
          "color": "golden",
          "count": 0,
          "hex": "#f5bf03"
         },
         {
          "chunk": 3,
          "color": "golden",
          "count": 0,
          "hex": "#f5bf03"
         },
         {
          "chunk": 4,
          "color": "golden",
          "count": 0,
          "hex": "#f5bf03"
         },
         {
          "chunk": 5,
          "color": "golden",
          "count": 0,
          "hex": "#f5bf03"
         },
         {
          "chunk": 6,
          "color": "golden",
          "count": 0,
          "hex": "#f5bf03"
         },
         {
          "chunk": 7,
          "color": "golden",
          "count": 0,
          "hex": "#f5bf03"
         },
         {
          "chunk": 8,
          "color": "golden",
          "count": 0,
          "hex": "#f5bf03"
         },
         {
          "chunk": 9,
          "color": "golden",
          "count": 0,
          "hex": "#f5bf03"
         },
         {
          "chunk": 10,
          "color": "golden",
          "count": 0,
          "hex": "#f5bf03"
         },
         {
          "chunk": 11,
          "color": "golden",
          "count": 0,
          "hex": "#f5bf03"
         },
         {
          "chunk": 12,
          "color": "golden",
          "count": 0,
          "hex": "#f5bf03"
         },
         {
          "chunk": 13,
          "color": "golden",
          "count": 0,
          "hex": "#f5bf03"
         },
         {
          "chunk": 14,
          "color": "golden",
          "count": 0,
          "hex": "#f5bf03"
         },
         {
          "chunk": 15,
          "color": "golden",
          "count": 0,
          "hex": "#f5bf03"
         },
         {
          "chunk": 16,
          "color": "golden",
          "count": 0,
          "hex": "#f5bf03"
         },
         {
          "chunk": 17,
          "color": "golden",
          "count": 0,
          "hex": "#f5bf03"
         },
         {
          "chunk": 18,
          "color": "golden",
          "count": 0,
          "hex": "#f5bf03"
         },
         {
          "chunk": 19,
          "color": "golden",
          "count": 0,
          "hex": "#f5bf03"
         },
         {
          "chunk": 20,
          "color": "golden",
          "count": 0,
          "hex": "#f5bf03"
         },
         {
          "chunk": 21,
          "color": "golden",
          "count": 0,
          "hex": "#f5bf03"
         },
         {
          "chunk": 22,
          "color": "golden",
          "count": 0,
          "hex": "#f5bf03"
         },
         {
          "chunk": 23,
          "color": "golden",
          "count": 0,
          "hex": "#f5bf03"
         },
         {
          "chunk": 24,
          "color": "golden",
          "count": 0,
          "hex": "#f5bf03"
         },
         {
          "chunk": 25,
          "color": "golden",
          "count": 0,
          "hex": "#f5bf03"
         },
         {
          "chunk": 26,
          "color": "golden",
          "count": 0,
          "hex": "#f5bf03"
         },
         {
          "chunk": 27,
          "color": "golden",
          "count": 0,
          "hex": "#f5bf03"
         },
         {
          "chunk": 28,
          "color": "golden",
          "count": 1,
          "hex": "#f5bf03"
         },
         {
          "chunk": 29,
          "color": "golden",
          "count": 0,
          "hex": "#f5bf03"
         },
         {
          "chunk": 30,
          "color": "golden",
          "count": 0,
          "hex": "#f5bf03"
         },
         {
          "chunk": 31,
          "color": "golden",
          "count": 0,
          "hex": "#f5bf03"
         },
         {
          "chunk": 32,
          "color": "golden",
          "count": 0,
          "hex": "#f5bf03"
         },
         {
          "chunk": 33,
          "color": "golden",
          "count": 0,
          "hex": "#f5bf03"
         },
         {
          "chunk": 34,
          "color": "golden",
          "count": 0,
          "hex": "#f5bf03"
         },
         {
          "chunk": 35,
          "color": "golden",
          "count": 0,
          "hex": "#f5bf03"
         },
         {
          "chunk": 36,
          "color": "golden",
          "count": 0,
          "hex": "#f5bf03"
         },
         {
          "chunk": 37,
          "color": "golden",
          "count": 0,
          "hex": "#f5bf03"
         },
         {
          "chunk": 38,
          "color": "golden",
          "count": 0,
          "hex": "#f5bf03"
         },
         {
          "chunk": 39,
          "color": "golden",
          "count": 0,
          "hex": "#f5bf03"
         },
         {
          "chunk": 0,
          "color": "light blue",
          "count": 0,
          "hex": "#95d0fc"
         },
         {
          "chunk": 1,
          "color": "light blue",
          "count": 0,
          "hex": "#95d0fc"
         },
         {
          "chunk": 2,
          "color": "light blue",
          "count": 0,
          "hex": "#95d0fc"
         },
         {
          "chunk": 3,
          "color": "light blue",
          "count": 0,
          "hex": "#95d0fc"
         },
         {
          "chunk": 4,
          "color": "light blue",
          "count": 0,
          "hex": "#95d0fc"
         },
         {
          "chunk": 5,
          "color": "light blue",
          "count": 0,
          "hex": "#95d0fc"
         },
         {
          "chunk": 6,
          "color": "light blue",
          "count": 0,
          "hex": "#95d0fc"
         },
         {
          "chunk": 7,
          "color": "light blue",
          "count": 0,
          "hex": "#95d0fc"
         },
         {
          "chunk": 8,
          "color": "light blue",
          "count": 0,
          "hex": "#95d0fc"
         },
         {
          "chunk": 9,
          "color": "light blue",
          "count": 0,
          "hex": "#95d0fc"
         },
         {
          "chunk": 10,
          "color": "light blue",
          "count": 0,
          "hex": "#95d0fc"
         },
         {
          "chunk": 11,
          "color": "light blue",
          "count": 0,
          "hex": "#95d0fc"
         },
         {
          "chunk": 12,
          "color": "light blue",
          "count": 0,
          "hex": "#95d0fc"
         },
         {
          "chunk": 13,
          "color": "light blue",
          "count": 0,
          "hex": "#95d0fc"
         },
         {
          "chunk": 14,
          "color": "light blue",
          "count": 0,
          "hex": "#95d0fc"
         },
         {
          "chunk": 15,
          "color": "light blue",
          "count": 0,
          "hex": "#95d0fc"
         },
         {
          "chunk": 16,
          "color": "light blue",
          "count": 0,
          "hex": "#95d0fc"
         },
         {
          "chunk": 17,
          "color": "light blue",
          "count": 0,
          "hex": "#95d0fc"
         },
         {
          "chunk": 18,
          "color": "light blue",
          "count": 0,
          "hex": "#95d0fc"
         },
         {
          "chunk": 19,
          "color": "light blue",
          "count": 0,
          "hex": "#95d0fc"
         },
         {
          "chunk": 20,
          "color": "light blue",
          "count": 0,
          "hex": "#95d0fc"
         },
         {
          "chunk": 21,
          "color": "light blue",
          "count": 0,
          "hex": "#95d0fc"
         },
         {
          "chunk": 22,
          "color": "light blue",
          "count": 0,
          "hex": "#95d0fc"
         },
         {
          "chunk": 23,
          "color": "light blue",
          "count": 0,
          "hex": "#95d0fc"
         },
         {
          "chunk": 24,
          "color": "light blue",
          "count": 0,
          "hex": "#95d0fc"
         },
         {
          "chunk": 25,
          "color": "light blue",
          "count": 0,
          "hex": "#95d0fc"
         },
         {
          "chunk": 26,
          "color": "light blue",
          "count": 0,
          "hex": "#95d0fc"
         },
         {
          "chunk": 27,
          "color": "light blue",
          "count": 0,
          "hex": "#95d0fc"
         },
         {
          "chunk": 28,
          "color": "light blue",
          "count": 0,
          "hex": "#95d0fc"
         },
         {
          "chunk": 29,
          "color": "light blue",
          "count": 0,
          "hex": "#95d0fc"
         },
         {
          "chunk": 30,
          "color": "light blue",
          "count": 1,
          "hex": "#95d0fc"
         },
         {
          "chunk": 31,
          "color": "light blue",
          "count": 0,
          "hex": "#95d0fc"
         },
         {
          "chunk": 32,
          "color": "light blue",
          "count": 0,
          "hex": "#95d0fc"
         },
         {
          "chunk": 33,
          "color": "light blue",
          "count": 0,
          "hex": "#95d0fc"
         },
         {
          "chunk": 34,
          "color": "light blue",
          "count": 0,
          "hex": "#95d0fc"
         },
         {
          "chunk": 35,
          "color": "light blue",
          "count": 0,
          "hex": "#95d0fc"
         },
         {
          "chunk": 36,
          "color": "light blue",
          "count": 0,
          "hex": "#95d0fc"
         },
         {
          "chunk": 37,
          "color": "light blue",
          "count": 0,
          "hex": "#95d0fc"
         },
         {
          "chunk": 38,
          "color": "light blue",
          "count": 0,
          "hex": "#95d0fc"
         },
         {
          "chunk": 39,
          "color": "light blue",
          "count": 0,
          "hex": "#95d0fc"
         },
         {
          "chunk": 0,
          "color": "reddish",
          "count": 0,
          "hex": "#c44240"
         },
         {
          "chunk": 1,
          "color": "reddish",
          "count": 0,
          "hex": "#c44240"
         },
         {
          "chunk": 2,
          "color": "reddish",
          "count": 0,
          "hex": "#c44240"
         },
         {
          "chunk": 3,
          "color": "reddish",
          "count": 0,
          "hex": "#c44240"
         },
         {
          "chunk": 4,
          "color": "reddish",
          "count": 0,
          "hex": "#c44240"
         },
         {
          "chunk": 5,
          "color": "reddish",
          "count": 0,
          "hex": "#c44240"
         },
         {
          "chunk": 6,
          "color": "reddish",
          "count": 0,
          "hex": "#c44240"
         },
         {
          "chunk": 7,
          "color": "reddish",
          "count": 0,
          "hex": "#c44240"
         },
         {
          "chunk": 8,
          "color": "reddish",
          "count": 0,
          "hex": "#c44240"
         },
         {
          "chunk": 9,
          "color": "reddish",
          "count": 0,
          "hex": "#c44240"
         },
         {
          "chunk": 10,
          "color": "reddish",
          "count": 0,
          "hex": "#c44240"
         },
         {
          "chunk": 11,
          "color": "reddish",
          "count": 0,
          "hex": "#c44240"
         },
         {
          "chunk": 12,
          "color": "reddish",
          "count": 0,
          "hex": "#c44240"
         },
         {
          "chunk": 13,
          "color": "reddish",
          "count": 0,
          "hex": "#c44240"
         },
         {
          "chunk": 14,
          "color": "reddish",
          "count": 0,
          "hex": "#c44240"
         },
         {
          "chunk": 15,
          "color": "reddish",
          "count": 0,
          "hex": "#c44240"
         },
         {
          "chunk": 16,
          "color": "reddish",
          "count": 0,
          "hex": "#c44240"
         },
         {
          "chunk": 17,
          "color": "reddish",
          "count": 0,
          "hex": "#c44240"
         },
         {
          "chunk": 18,
          "color": "reddish",
          "count": 0,
          "hex": "#c44240"
         },
         {
          "chunk": 19,
          "color": "reddish",
          "count": 0,
          "hex": "#c44240"
         },
         {
          "chunk": 20,
          "color": "reddish",
          "count": 0,
          "hex": "#c44240"
         },
         {
          "chunk": 21,
          "color": "reddish",
          "count": 0,
          "hex": "#c44240"
         },
         {
          "chunk": 22,
          "color": "reddish",
          "count": 0,
          "hex": "#c44240"
         },
         {
          "chunk": 23,
          "color": "reddish",
          "count": 0,
          "hex": "#c44240"
         },
         {
          "chunk": 24,
          "color": "reddish",
          "count": 0,
          "hex": "#c44240"
         },
         {
          "chunk": 25,
          "color": "reddish",
          "count": 0,
          "hex": "#c44240"
         },
         {
          "chunk": 26,
          "color": "reddish",
          "count": 0,
          "hex": "#c44240"
         },
         {
          "chunk": 27,
          "color": "reddish",
          "count": 0,
          "hex": "#c44240"
         },
         {
          "chunk": 28,
          "color": "reddish",
          "count": 0,
          "hex": "#c44240"
         },
         {
          "chunk": 29,
          "color": "reddish",
          "count": 0,
          "hex": "#c44240"
         },
         {
          "chunk": 30,
          "color": "reddish",
          "count": 0,
          "hex": "#c44240"
         },
         {
          "chunk": 31,
          "color": "reddish",
          "count": 1,
          "hex": "#c44240"
         },
         {
          "chunk": 32,
          "color": "reddish",
          "count": 0,
          "hex": "#c44240"
         },
         {
          "chunk": 33,
          "color": "reddish",
          "count": 0,
          "hex": "#c44240"
         },
         {
          "chunk": 34,
          "color": "reddish",
          "count": 0,
          "hex": "#c44240"
         },
         {
          "chunk": 35,
          "color": "reddish",
          "count": 0,
          "hex": "#c44240"
         },
         {
          "chunk": 36,
          "color": "reddish",
          "count": 0,
          "hex": "#c44240"
         },
         {
          "chunk": 37,
          "color": "reddish",
          "count": 0,
          "hex": "#c44240"
         },
         {
          "chunk": 38,
          "color": "reddish",
          "count": 0,
          "hex": "#c44240"
         },
         {
          "chunk": 39,
          "color": "reddish",
          "count": 0,
          "hex": "#c44240"
         },
         {
          "chunk": 0,
          "color": "copper",
          "count": 0,
          "hex": "#b66325"
         },
         {
          "chunk": 1,
          "color": "copper",
          "count": 0,
          "hex": "#b66325"
         },
         {
          "chunk": 2,
          "color": "copper",
          "count": 0,
          "hex": "#b66325"
         },
         {
          "chunk": 3,
          "color": "copper",
          "count": 0,
          "hex": "#b66325"
         },
         {
          "chunk": 4,
          "color": "copper",
          "count": 0,
          "hex": "#b66325"
         },
         {
          "chunk": 5,
          "color": "copper",
          "count": 0,
          "hex": "#b66325"
         },
         {
          "chunk": 6,
          "color": "copper",
          "count": 0,
          "hex": "#b66325"
         },
         {
          "chunk": 7,
          "color": "copper",
          "count": 0,
          "hex": "#b66325"
         },
         {
          "chunk": 8,
          "color": "copper",
          "count": 0,
          "hex": "#b66325"
         },
         {
          "chunk": 9,
          "color": "copper",
          "count": 0,
          "hex": "#b66325"
         },
         {
          "chunk": 10,
          "color": "copper",
          "count": 0,
          "hex": "#b66325"
         },
         {
          "chunk": 11,
          "color": "copper",
          "count": 0,
          "hex": "#b66325"
         },
         {
          "chunk": 12,
          "color": "copper",
          "count": 0,
          "hex": "#b66325"
         },
         {
          "chunk": 13,
          "color": "copper",
          "count": 0,
          "hex": "#b66325"
         },
         {
          "chunk": 14,
          "color": "copper",
          "count": 0,
          "hex": "#b66325"
         },
         {
          "chunk": 15,
          "color": "copper",
          "count": 0,
          "hex": "#b66325"
         },
         {
          "chunk": 16,
          "color": "copper",
          "count": 0,
          "hex": "#b66325"
         },
         {
          "chunk": 17,
          "color": "copper",
          "count": 0,
          "hex": "#b66325"
         },
         {
          "chunk": 18,
          "color": "copper",
          "count": 0,
          "hex": "#b66325"
         },
         {
          "chunk": 19,
          "color": "copper",
          "count": 0,
          "hex": "#b66325"
         },
         {
          "chunk": 20,
          "color": "copper",
          "count": 0,
          "hex": "#b66325"
         },
         {
          "chunk": 21,
          "color": "copper",
          "count": 0,
          "hex": "#b66325"
         },
         {
          "chunk": 22,
          "color": "copper",
          "count": 0,
          "hex": "#b66325"
         },
         {
          "chunk": 23,
          "color": "copper",
          "count": 0,
          "hex": "#b66325"
         },
         {
          "chunk": 24,
          "color": "copper",
          "count": 0,
          "hex": "#b66325"
         },
         {
          "chunk": 25,
          "color": "copper",
          "count": 0,
          "hex": "#b66325"
         },
         {
          "chunk": 26,
          "color": "copper",
          "count": 0,
          "hex": "#b66325"
         },
         {
          "chunk": 27,
          "color": "copper",
          "count": 0,
          "hex": "#b66325"
         },
         {
          "chunk": 28,
          "color": "copper",
          "count": 0,
          "hex": "#b66325"
         },
         {
          "chunk": 29,
          "color": "copper",
          "count": 0,
          "hex": "#b66325"
         },
         {
          "chunk": 30,
          "color": "copper",
          "count": 0,
          "hex": "#b66325"
         },
         {
          "chunk": 31,
          "color": "copper",
          "count": 0,
          "hex": "#b66325"
         },
         {
          "chunk": 32,
          "color": "copper",
          "count": 0,
          "hex": "#b66325"
         },
         {
          "chunk": 33,
          "color": "copper",
          "count": 2,
          "hex": "#b66325"
         },
         {
          "chunk": 34,
          "color": "copper",
          "count": 0,
          "hex": "#b66325"
         },
         {
          "chunk": 35,
          "color": "copper",
          "count": 0,
          "hex": "#b66325"
         },
         {
          "chunk": 36,
          "color": "copper",
          "count": 0,
          "hex": "#b66325"
         },
         {
          "chunk": 37,
          "color": "copper",
          "count": 0,
          "hex": "#b66325"
         },
         {
          "chunk": 38,
          "color": "copper",
          "count": 0,
          "hex": "#b66325"
         },
         {
          "chunk": 39,
          "color": "copper",
          "count": 0,
          "hex": "#b66325"
         },
         {
          "chunk": 0,
          "color": "purple",
          "count": 0,
          "hex": "#7e1e9c"
         },
         {
          "chunk": 1,
          "color": "purple",
          "count": 0,
          "hex": "#7e1e9c"
         },
         {
          "chunk": 2,
          "color": "purple",
          "count": 0,
          "hex": "#7e1e9c"
         },
         {
          "chunk": 3,
          "color": "purple",
          "count": 0,
          "hex": "#7e1e9c"
         },
         {
          "chunk": 4,
          "color": "purple",
          "count": 0,
          "hex": "#7e1e9c"
         },
         {
          "chunk": 5,
          "color": "purple",
          "count": 0,
          "hex": "#7e1e9c"
         },
         {
          "chunk": 6,
          "color": "purple",
          "count": 0,
          "hex": "#7e1e9c"
         },
         {
          "chunk": 7,
          "color": "purple",
          "count": 0,
          "hex": "#7e1e9c"
         },
         {
          "chunk": 8,
          "color": "purple",
          "count": 0,
          "hex": "#7e1e9c"
         },
         {
          "chunk": 9,
          "color": "purple",
          "count": 0,
          "hex": "#7e1e9c"
         },
         {
          "chunk": 10,
          "color": "purple",
          "count": 0,
          "hex": "#7e1e9c"
         },
         {
          "chunk": 11,
          "color": "purple",
          "count": 0,
          "hex": "#7e1e9c"
         },
         {
          "chunk": 12,
          "color": "purple",
          "count": 0,
          "hex": "#7e1e9c"
         },
         {
          "chunk": 13,
          "color": "purple",
          "count": 0,
          "hex": "#7e1e9c"
         },
         {
          "chunk": 14,
          "color": "purple",
          "count": 0,
          "hex": "#7e1e9c"
         },
         {
          "chunk": 15,
          "color": "purple",
          "count": 0,
          "hex": "#7e1e9c"
         },
         {
          "chunk": 16,
          "color": "purple",
          "count": 0,
          "hex": "#7e1e9c"
         },
         {
          "chunk": 17,
          "color": "purple",
          "count": 0,
          "hex": "#7e1e9c"
         },
         {
          "chunk": 18,
          "color": "purple",
          "count": 0,
          "hex": "#7e1e9c"
         },
         {
          "chunk": 19,
          "color": "purple",
          "count": 0,
          "hex": "#7e1e9c"
         },
         {
          "chunk": 20,
          "color": "purple",
          "count": 0,
          "hex": "#7e1e9c"
         },
         {
          "chunk": 21,
          "color": "purple",
          "count": 0,
          "hex": "#7e1e9c"
         },
         {
          "chunk": 22,
          "color": "purple",
          "count": 0,
          "hex": "#7e1e9c"
         },
         {
          "chunk": 23,
          "color": "purple",
          "count": 0,
          "hex": "#7e1e9c"
         },
         {
          "chunk": 24,
          "color": "purple",
          "count": 0,
          "hex": "#7e1e9c"
         },
         {
          "chunk": 25,
          "color": "purple",
          "count": 0,
          "hex": "#7e1e9c"
         },
         {
          "chunk": 26,
          "color": "purple",
          "count": 0,
          "hex": "#7e1e9c"
         },
         {
          "chunk": 27,
          "color": "purple",
          "count": 0,
          "hex": "#7e1e9c"
         },
         {
          "chunk": 28,
          "color": "purple",
          "count": 0,
          "hex": "#7e1e9c"
         },
         {
          "chunk": 29,
          "color": "purple",
          "count": 0,
          "hex": "#7e1e9c"
         },
         {
          "chunk": 30,
          "color": "purple",
          "count": 0,
          "hex": "#7e1e9c"
         },
         {
          "chunk": 31,
          "color": "purple",
          "count": 0,
          "hex": "#7e1e9c"
         },
         {
          "chunk": 32,
          "color": "purple",
          "count": 0,
          "hex": "#7e1e9c"
         },
         {
          "chunk": 33,
          "color": "purple",
          "count": 1,
          "hex": "#7e1e9c"
         },
         {
          "chunk": 34,
          "color": "purple",
          "count": 0,
          "hex": "#7e1e9c"
         },
         {
          "chunk": 35,
          "color": "purple",
          "count": 0,
          "hex": "#7e1e9c"
         },
         {
          "chunk": 36,
          "color": "purple",
          "count": 0,
          "hex": "#7e1e9c"
         },
         {
          "chunk": 37,
          "color": "purple",
          "count": 0,
          "hex": "#7e1e9c"
         },
         {
          "chunk": 38,
          "color": "purple",
          "count": 0,
          "hex": "#7e1e9c"
         },
         {
          "chunk": 39,
          "color": "purple",
          "count": 0,
          "hex": "#7e1e9c"
         },
         {
          "chunk": 0,
          "color": "greenish",
          "count": 0,
          "hex": "#40a368"
         },
         {
          "chunk": 1,
          "color": "greenish",
          "count": 0,
          "hex": "#40a368"
         },
         {
          "chunk": 2,
          "color": "greenish",
          "count": 0,
          "hex": "#40a368"
         },
         {
          "chunk": 3,
          "color": "greenish",
          "count": 0,
          "hex": "#40a368"
         },
         {
          "chunk": 4,
          "color": "greenish",
          "count": 0,
          "hex": "#40a368"
         },
         {
          "chunk": 5,
          "color": "greenish",
          "count": 0,
          "hex": "#40a368"
         },
         {
          "chunk": 6,
          "color": "greenish",
          "count": 0,
          "hex": "#40a368"
         },
         {
          "chunk": 7,
          "color": "greenish",
          "count": 0,
          "hex": "#40a368"
         },
         {
          "chunk": 8,
          "color": "greenish",
          "count": 0,
          "hex": "#40a368"
         },
         {
          "chunk": 9,
          "color": "greenish",
          "count": 0,
          "hex": "#40a368"
         },
         {
          "chunk": 10,
          "color": "greenish",
          "count": 0,
          "hex": "#40a368"
         },
         {
          "chunk": 11,
          "color": "greenish",
          "count": 0,
          "hex": "#40a368"
         },
         {
          "chunk": 12,
          "color": "greenish",
          "count": 0,
          "hex": "#40a368"
         },
         {
          "chunk": 13,
          "color": "greenish",
          "count": 0,
          "hex": "#40a368"
         },
         {
          "chunk": 14,
          "color": "greenish",
          "count": 0,
          "hex": "#40a368"
         },
         {
          "chunk": 15,
          "color": "greenish",
          "count": 0,
          "hex": "#40a368"
         },
         {
          "chunk": 16,
          "color": "greenish",
          "count": 0,
          "hex": "#40a368"
         },
         {
          "chunk": 17,
          "color": "greenish",
          "count": 0,
          "hex": "#40a368"
         },
         {
          "chunk": 18,
          "color": "greenish",
          "count": 0,
          "hex": "#40a368"
         },
         {
          "chunk": 19,
          "color": "greenish",
          "count": 0,
          "hex": "#40a368"
         },
         {
          "chunk": 20,
          "color": "greenish",
          "count": 0,
          "hex": "#40a368"
         },
         {
          "chunk": 21,
          "color": "greenish",
          "count": 0,
          "hex": "#40a368"
         },
         {
          "chunk": 22,
          "color": "greenish",
          "count": 0,
          "hex": "#40a368"
         },
         {
          "chunk": 23,
          "color": "greenish",
          "count": 0,
          "hex": "#40a368"
         },
         {
          "chunk": 24,
          "color": "greenish",
          "count": 0,
          "hex": "#40a368"
         },
         {
          "chunk": 25,
          "color": "greenish",
          "count": 0,
          "hex": "#40a368"
         },
         {
          "chunk": 26,
          "color": "greenish",
          "count": 0,
          "hex": "#40a368"
         },
         {
          "chunk": 27,
          "color": "greenish",
          "count": 0,
          "hex": "#40a368"
         },
         {
          "chunk": 28,
          "color": "greenish",
          "count": 0,
          "hex": "#40a368"
         },
         {
          "chunk": 29,
          "color": "greenish",
          "count": 0,
          "hex": "#40a368"
         },
         {
          "chunk": 30,
          "color": "greenish",
          "count": 0,
          "hex": "#40a368"
         },
         {
          "chunk": 31,
          "color": "greenish",
          "count": 0,
          "hex": "#40a368"
         },
         {
          "chunk": 32,
          "color": "greenish",
          "count": 0,
          "hex": "#40a368"
         },
         {
          "chunk": 33,
          "color": "greenish",
          "count": 0,
          "hex": "#40a368"
         },
         {
          "chunk": 34,
          "color": "greenish",
          "count": 1,
          "hex": "#40a368"
         },
         {
          "chunk": 35,
          "color": "greenish",
          "count": 0,
          "hex": "#40a368"
         },
         {
          "chunk": 36,
          "color": "greenish",
          "count": 0,
          "hex": "#40a368"
         },
         {
          "chunk": 37,
          "color": "greenish",
          "count": 0,
          "hex": "#40a368"
         },
         {
          "chunk": 38,
          "color": "greenish",
          "count": 0,
          "hex": "#40a368"
         },
         {
          "chunk": 39,
          "color": "greenish",
          "count": 0,
          "hex": "#40a368"
         },
         {
          "chunk": 0,
          "color": "apricot",
          "count": 0,
          "hex": "#ffb16d"
         },
         {
          "chunk": 1,
          "color": "apricot",
          "count": 0,
          "hex": "#ffb16d"
         },
         {
          "chunk": 2,
          "color": "apricot",
          "count": 0,
          "hex": "#ffb16d"
         },
         {
          "chunk": 3,
          "color": "apricot",
          "count": 0,
          "hex": "#ffb16d"
         },
         {
          "chunk": 4,
          "color": "apricot",
          "count": 0,
          "hex": "#ffb16d"
         },
         {
          "chunk": 5,
          "color": "apricot",
          "count": 0,
          "hex": "#ffb16d"
         },
         {
          "chunk": 6,
          "color": "apricot",
          "count": 0,
          "hex": "#ffb16d"
         },
         {
          "chunk": 7,
          "color": "apricot",
          "count": 0,
          "hex": "#ffb16d"
         },
         {
          "chunk": 8,
          "color": "apricot",
          "count": 0,
          "hex": "#ffb16d"
         },
         {
          "chunk": 9,
          "color": "apricot",
          "count": 0,
          "hex": "#ffb16d"
         },
         {
          "chunk": 10,
          "color": "apricot",
          "count": 0,
          "hex": "#ffb16d"
         },
         {
          "chunk": 11,
          "color": "apricot",
          "count": 0,
          "hex": "#ffb16d"
         },
         {
          "chunk": 12,
          "color": "apricot",
          "count": 0,
          "hex": "#ffb16d"
         },
         {
          "chunk": 13,
          "color": "apricot",
          "count": 0,
          "hex": "#ffb16d"
         },
         {
          "chunk": 14,
          "color": "apricot",
          "count": 0,
          "hex": "#ffb16d"
         },
         {
          "chunk": 15,
          "color": "apricot",
          "count": 0,
          "hex": "#ffb16d"
         },
         {
          "chunk": 16,
          "color": "apricot",
          "count": 0,
          "hex": "#ffb16d"
         },
         {
          "chunk": 17,
          "color": "apricot",
          "count": 0,
          "hex": "#ffb16d"
         },
         {
          "chunk": 18,
          "color": "apricot",
          "count": 0,
          "hex": "#ffb16d"
         },
         {
          "chunk": 19,
          "color": "apricot",
          "count": 0,
          "hex": "#ffb16d"
         },
         {
          "chunk": 20,
          "color": "apricot",
          "count": 0,
          "hex": "#ffb16d"
         },
         {
          "chunk": 21,
          "color": "apricot",
          "count": 0,
          "hex": "#ffb16d"
         },
         {
          "chunk": 22,
          "color": "apricot",
          "count": 0,
          "hex": "#ffb16d"
         },
         {
          "chunk": 23,
          "color": "apricot",
          "count": 0,
          "hex": "#ffb16d"
         },
         {
          "chunk": 24,
          "color": "apricot",
          "count": 0,
          "hex": "#ffb16d"
         },
         {
          "chunk": 25,
          "color": "apricot",
          "count": 0,
          "hex": "#ffb16d"
         },
         {
          "chunk": 26,
          "color": "apricot",
          "count": 0,
          "hex": "#ffb16d"
         },
         {
          "chunk": 27,
          "color": "apricot",
          "count": 0,
          "hex": "#ffb16d"
         },
         {
          "chunk": 28,
          "color": "apricot",
          "count": 0,
          "hex": "#ffb16d"
         },
         {
          "chunk": 29,
          "color": "apricot",
          "count": 0,
          "hex": "#ffb16d"
         },
         {
          "chunk": 30,
          "color": "apricot",
          "count": 0,
          "hex": "#ffb16d"
         },
         {
          "chunk": 31,
          "color": "apricot",
          "count": 0,
          "hex": "#ffb16d"
         },
         {
          "chunk": 32,
          "color": "apricot",
          "count": 0,
          "hex": "#ffb16d"
         },
         {
          "chunk": 33,
          "color": "apricot",
          "count": 0,
          "hex": "#ffb16d"
         },
         {
          "chunk": 34,
          "color": "apricot",
          "count": 0,
          "hex": "#ffb16d"
         },
         {
          "chunk": 35,
          "color": "apricot",
          "count": 0,
          "hex": "#ffb16d"
         },
         {
          "chunk": 36,
          "color": "apricot",
          "count": 1,
          "hex": "#ffb16d"
         },
         {
          "chunk": 37,
          "color": "apricot",
          "count": 0,
          "hex": "#ffb16d"
         },
         {
          "chunk": 38,
          "color": "apricot",
          "count": 0,
          "hex": "#ffb16d"
         },
         {
          "chunk": 39,
          "color": "apricot",
          "count": 0,
          "hex": "#ffb16d"
         },
         {
          "chunk": 0,
          "color": "midnight",
          "count": 0,
          "hex": "#03012d"
         },
         {
          "chunk": 1,
          "color": "midnight",
          "count": 0,
          "hex": "#03012d"
         },
         {
          "chunk": 2,
          "color": "midnight",
          "count": 0,
          "hex": "#03012d"
         },
         {
          "chunk": 3,
          "color": "midnight",
          "count": 0,
          "hex": "#03012d"
         },
         {
          "chunk": 4,
          "color": "midnight",
          "count": 0,
          "hex": "#03012d"
         },
         {
          "chunk": 5,
          "color": "midnight",
          "count": 0,
          "hex": "#03012d"
         },
         {
          "chunk": 6,
          "color": "midnight",
          "count": 0,
          "hex": "#03012d"
         },
         {
          "chunk": 7,
          "color": "midnight",
          "count": 0,
          "hex": "#03012d"
         },
         {
          "chunk": 8,
          "color": "midnight",
          "count": 0,
          "hex": "#03012d"
         },
         {
          "chunk": 9,
          "color": "midnight",
          "count": 0,
          "hex": "#03012d"
         },
         {
          "chunk": 10,
          "color": "midnight",
          "count": 0,
          "hex": "#03012d"
         },
         {
          "chunk": 11,
          "color": "midnight",
          "count": 0,
          "hex": "#03012d"
         },
         {
          "chunk": 12,
          "color": "midnight",
          "count": 0,
          "hex": "#03012d"
         },
         {
          "chunk": 13,
          "color": "midnight",
          "count": 0,
          "hex": "#03012d"
         },
         {
          "chunk": 14,
          "color": "midnight",
          "count": 0,
          "hex": "#03012d"
         },
         {
          "chunk": 15,
          "color": "midnight",
          "count": 0,
          "hex": "#03012d"
         },
         {
          "chunk": 16,
          "color": "midnight",
          "count": 0,
          "hex": "#03012d"
         },
         {
          "chunk": 17,
          "color": "midnight",
          "count": 0,
          "hex": "#03012d"
         },
         {
          "chunk": 18,
          "color": "midnight",
          "count": 0,
          "hex": "#03012d"
         },
         {
          "chunk": 19,
          "color": "midnight",
          "count": 0,
          "hex": "#03012d"
         },
         {
          "chunk": 20,
          "color": "midnight",
          "count": 0,
          "hex": "#03012d"
         },
         {
          "chunk": 21,
          "color": "midnight",
          "count": 0,
          "hex": "#03012d"
         },
         {
          "chunk": 22,
          "color": "midnight",
          "count": 0,
          "hex": "#03012d"
         },
         {
          "chunk": 23,
          "color": "midnight",
          "count": 0,
          "hex": "#03012d"
         },
         {
          "chunk": 24,
          "color": "midnight",
          "count": 0,
          "hex": "#03012d"
         },
         {
          "chunk": 25,
          "color": "midnight",
          "count": 0,
          "hex": "#03012d"
         },
         {
          "chunk": 26,
          "color": "midnight",
          "count": 0,
          "hex": "#03012d"
         },
         {
          "chunk": 27,
          "color": "midnight",
          "count": 0,
          "hex": "#03012d"
         },
         {
          "chunk": 28,
          "color": "midnight",
          "count": 0,
          "hex": "#03012d"
         },
         {
          "chunk": 29,
          "color": "midnight",
          "count": 0,
          "hex": "#03012d"
         },
         {
          "chunk": 30,
          "color": "midnight",
          "count": 0,
          "hex": "#03012d"
         },
         {
          "chunk": 31,
          "color": "midnight",
          "count": 0,
          "hex": "#03012d"
         },
         {
          "chunk": 32,
          "color": "midnight",
          "count": 0,
          "hex": "#03012d"
         },
         {
          "chunk": 33,
          "color": "midnight",
          "count": 0,
          "hex": "#03012d"
         },
         {
          "chunk": 34,
          "color": "midnight",
          "count": 0,
          "hex": "#03012d"
         },
         {
          "chunk": 35,
          "color": "midnight",
          "count": 0,
          "hex": "#03012d"
         },
         {
          "chunk": 36,
          "color": "midnight",
          "count": 0,
          "hex": "#03012d"
         },
         {
          "chunk": 37,
          "color": "midnight",
          "count": 0,
          "hex": "#03012d"
         },
         {
          "chunk": 38,
          "color": "midnight",
          "count": 1,
          "hex": "#03012d"
         },
         {
          "chunk": 39,
          "color": "midnight",
          "count": 0,
          "hex": "#03012d"
         }
        ]
       },
       "encoding": {
        "color": {
         "field": "hex",
         "scale": null,
         "type": "nominal"
        },
        "tooltip": {
         "field": "color",
         "type": "nominal"
        },
        "x": {
         "field": "chunk",
         "type": "ordinal"
        },
        "y": {
         "field": "count",
         "type": "quantitative"
        }
       },
       "height": 600,
       "mark": "area",
       "selection": {
        "selector020": {
         "bind": "scales",
         "type": "interval"
        }
       },
       "width": 800
      },
      "image/png": "[encoded data removed]",
      "text/plain": [
       "<VegaLite 3 object>\n",
       "\n",
       "If you see this message, it means the renderer has not been properly enabled\n",
       "for the frontend that you are using. For more information, see\n",
       "https://altair-viz.github.io/user_guide/troubleshooting.html\n"
      ]
     },
     "execution_count": 149,
     "metadata": {},
     "output_type": "execute_result"
    }
   ],
   "source": [
    "plotA(df2)"
   ]
  },
  {
   "cell_type": "code",
   "execution_count": null,
   "metadata": {},
   "outputs": [],
   "source": []
  }
 ],
 "metadata": {
  "kernelspec": {
   "display_name": "Python 3",
   "language": "python",
   "name": "python3"
  },
  "language_info": {
   "codemirror_mode": {
    "name": "ipython",
    "version": 3
   },
   "file_extension": ".py",
   "mimetype": "text/x-python",
   "name": "python",
   "nbconvert_exporter": "python",
   "pygments_lexer": "ipython3",
   "version": "3.7.4"
  }
 },
 "nbformat": 4,
 "nbformat_minor": 4
}
